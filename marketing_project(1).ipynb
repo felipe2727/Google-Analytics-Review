{
 "cells": [
  {
   "cell_type": "code",
   "execution_count": 1,
   "id": "a9855657",
   "metadata": {},
   "outputs": [
    {
     "data": {
      "text/html": [
       "        <script type=\"text/javascript\">\n",
       "        window.PlotlyConfig = {MathJaxConfig: 'local'};\n",
       "        if (window.MathJax && window.MathJax.Hub && window.MathJax.Hub.Config) {window.MathJax.Hub.Config({SVG: {font: \"STIX-Web\"}});}\n",
       "        if (typeof require !== 'undefined') {\n",
       "        require.undef(\"plotly\");\n",
       "        requirejs.config({\n",
       "            paths: {\n",
       "                'plotly': ['https://cdn.plot.ly/plotly-2.14.0.min']\n",
       "            }\n",
       "        });\n",
       "        require(['plotly'], function(Plotly) {\n",
       "            window._Plotly = Plotly;\n",
       "        });\n",
       "        }\n",
       "        </script>\n",
       "        "
      ]
     },
     "metadata": {},
     "output_type": "display_data"
    }
   ],
   "source": [
    "import pandas as pd\n",
    "import matplotlib.pyplot as plt\n",
    "%matplotlib inline\n",
    "from pandas_profiling import ProfileReport\n",
    "import plotly.offline as py\n",
    "import plotly.graph_objs as go\n",
    "import plotly.express as px\n",
    "import seaborn as sns\n",
    "from matplotlib.ticker import PercentFormatter\n",
    "py.init_notebook_mode(connected=True) # this allows to display plotly graphs in Jupyter\n",
    "pd.options.display.max_columns = None"
   ]
  },
  {
   "cell_type": "code",
   "execution_count": 2,
   "id": "0940608f",
   "metadata": {},
   "outputs": [],
   "source": [
    "df = pd.read_excel(\"./mkt_data_cleaned.xlsx\", header = 0, index_col = False)\n",
    "df2 = pd.read_excel(\"./products.xlsx\", header = 0, index_col = False)"
   ]
  },
  {
   "cell_type": "code",
   "execution_count": 3,
   "id": "34230353",
   "metadata": {},
   "outputs": [
    {
     "data": {
      "text/html": [
       "<div>\n",
       "<style scoped>\n",
       "    .dataframe tbody tr th:only-of-type {\n",
       "        vertical-align: middle;\n",
       "    }\n",
       "\n",
       "    .dataframe tbody tr th {\n",
       "        vertical-align: top;\n",
       "    }\n",
       "\n",
       "    .dataframe thead th {\n",
       "        text-align: right;\n",
       "    }\n",
       "</style>\n",
       "<table border=\"1\" class=\"dataframe\">\n",
       "  <thead>\n",
       "    <tr style=\"text-align: right;\">\n",
       "      <th></th>\n",
       "      <th>City</th>\n",
       "      <th>Users</th>\n",
       "      <th>Bounce Rate</th>\n",
       "      <th>% New Sessions</th>\n",
       "      <th>Sessions</th>\n",
       "      <th>Avg. Session Duration</th>\n",
       "      <th>Avg. Time on Page</th>\n",
       "      <th>Hits</th>\n",
       "      <th>Pageviews</th>\n",
       "      <th>Number of Sessions per User</th>\n",
       "      <th>Exits</th>\n",
       "      <th>Avg. Price</th>\n",
       "      <th>Avg. QTY</th>\n",
       "      <th>Purchase Completed (Goal 1 Completions)</th>\n",
       "      <th>Product Revenue</th>\n",
       "      <th>Revenue per User</th>\n",
       "      <th>Revenue</th>\n",
       "      <th>Transactions</th>\n",
       "      <th>Transactions per User</th>\n",
       "      <th>Unique Purchases</th>\n",
       "    </tr>\n",
       "  </thead>\n",
       "  <tbody>\n",
       "    <tr>\n",
       "      <th>0</th>\n",
       "      <td>Paris</td>\n",
       "      <td>6965</td>\n",
       "      <td>0.5903</td>\n",
       "      <td>0.7191</td>\n",
       "      <td>9187</td>\n",
       "      <td>193.39</td>\n",
       "      <td>101.35</td>\n",
       "      <td>31226</td>\n",
       "      <td>26717</td>\n",
       "      <td>1.32</td>\n",
       "      <td>9187</td>\n",
       "      <td>21.78</td>\n",
       "      <td>1.0</td>\n",
       "      <td>3</td>\n",
       "      <td>65.34</td>\n",
       "      <td>0.01</td>\n",
       "      <td>65.34</td>\n",
       "      <td>3</td>\n",
       "      <td>0.00</td>\n",
       "      <td>3</td>\n",
       "    </tr>\n",
       "    <tr>\n",
       "      <th>1</th>\n",
       "      <td>Dublin</td>\n",
       "      <td>5776</td>\n",
       "      <td>0.5500</td>\n",
       "      <td>0.7136</td>\n",
       "      <td>7805</td>\n",
       "      <td>136.33</td>\n",
       "      <td>57.22</td>\n",
       "      <td>31553</td>\n",
       "      <td>26401</td>\n",
       "      <td>1.35</td>\n",
       "      <td>7805</td>\n",
       "      <td>26.00</td>\n",
       "      <td>1.0</td>\n",
       "      <td>23</td>\n",
       "      <td>1949.74</td>\n",
       "      <td>0.34</td>\n",
       "      <td>1949.74</td>\n",
       "      <td>33</td>\n",
       "      <td>0.01</td>\n",
       "      <td>75</td>\n",
       "    </tr>\n",
       "    <tr>\n",
       "      <th>2</th>\n",
       "      <td>Madrid</td>\n",
       "      <td>4953</td>\n",
       "      <td>0.5715</td>\n",
       "      <td>0.7000</td>\n",
       "      <td>6609</td>\n",
       "      <td>174.39</td>\n",
       "      <td>100.56</td>\n",
       "      <td>20151</td>\n",
       "      <td>18070</td>\n",
       "      <td>1.33</td>\n",
       "      <td>6609</td>\n",
       "      <td>0.00</td>\n",
       "      <td>0.0</td>\n",
       "      <td>0</td>\n",
       "      <td>0.00</td>\n",
       "      <td>0.00</td>\n",
       "      <td>0.00</td>\n",
       "      <td>0</td>\n",
       "      <td>0.00</td>\n",
       "      <td>0</td>\n",
       "    </tr>\n",
       "    <tr>\n",
       "      <th>3</th>\n",
       "      <td>Barcelona</td>\n",
       "      <td>3603</td>\n",
       "      <td>0.5613</td>\n",
       "      <td>0.7075</td>\n",
       "      <td>4848</td>\n",
       "      <td>221.52</td>\n",
       "      <td>96.31</td>\n",
       "      <td>18994</td>\n",
       "      <td>15998</td>\n",
       "      <td>1.35</td>\n",
       "      <td>4848</td>\n",
       "      <td>48.07</td>\n",
       "      <td>1.0</td>\n",
       "      <td>3</td>\n",
       "      <td>769.18</td>\n",
       "      <td>0.21</td>\n",
       "      <td>769.18</td>\n",
       "      <td>3</td>\n",
       "      <td>0.00</td>\n",
       "      <td>16</td>\n",
       "    </tr>\n",
       "    <tr>\n",
       "      <th>4</th>\n",
       "      <td>Warsaw</td>\n",
       "      <td>3012</td>\n",
       "      <td>0.5531</td>\n",
       "      <td>0.7979</td>\n",
       "      <td>3656</td>\n",
       "      <td>124.19</td>\n",
       "      <td>50.11</td>\n",
       "      <td>15848</td>\n",
       "      <td>12715</td>\n",
       "      <td>1.21</td>\n",
       "      <td>3656</td>\n",
       "      <td>17.09</td>\n",
       "      <td>1.0</td>\n",
       "      <td>3</td>\n",
       "      <td>222.16</td>\n",
       "      <td>0.07</td>\n",
       "      <td>222.16</td>\n",
       "      <td>3</td>\n",
       "      <td>0.00</td>\n",
       "      <td>13</td>\n",
       "    </tr>\n",
       "    <tr>\n",
       "      <th>...</th>\n",
       "      <td>...</td>\n",
       "      <td>...</td>\n",
       "      <td>...</td>\n",
       "      <td>...</td>\n",
       "      <td>...</td>\n",
       "      <td>...</td>\n",
       "      <td>...</td>\n",
       "      <td>...</td>\n",
       "      <td>...</td>\n",
       "      <td>...</td>\n",
       "      <td>...</td>\n",
       "      <td>...</td>\n",
       "      <td>...</td>\n",
       "      <td>...</td>\n",
       "      <td>...</td>\n",
       "      <td>...</td>\n",
       "      <td>...</td>\n",
       "      <td>...</td>\n",
       "      <td>...</td>\n",
       "      <td>...</td>\n",
       "    </tr>\n",
       "    <tr>\n",
       "      <th>995</th>\n",
       "      <td>Aubervilliers</td>\n",
       "      <td>26</td>\n",
       "      <td>0.6667</td>\n",
       "      <td>0.6667</td>\n",
       "      <td>39</td>\n",
       "      <td>41.64</td>\n",
       "      <td>16.08</td>\n",
       "      <td>186</td>\n",
       "      <td>140</td>\n",
       "      <td>1.50</td>\n",
       "      <td>39</td>\n",
       "      <td>0.00</td>\n",
       "      <td>0.0</td>\n",
       "      <td>0</td>\n",
       "      <td>0.00</td>\n",
       "      <td>0.00</td>\n",
       "      <td>0.00</td>\n",
       "      <td>0</td>\n",
       "      <td>0.00</td>\n",
       "      <td>0</td>\n",
       "    </tr>\n",
       "    <tr>\n",
       "      <th>996</th>\n",
       "      <td>Bagneux</td>\n",
       "      <td>26</td>\n",
       "      <td>0.7931</td>\n",
       "      <td>0.7931</td>\n",
       "      <td>29</td>\n",
       "      <td>21.17</td>\n",
       "      <td>9.90</td>\n",
       "      <td>150</td>\n",
       "      <td>91</td>\n",
       "      <td>1.12</td>\n",
       "      <td>29</td>\n",
       "      <td>0.00</td>\n",
       "      <td>0.0</td>\n",
       "      <td>0</td>\n",
       "      <td>0.00</td>\n",
       "      <td>0.00</td>\n",
       "      <td>0.00</td>\n",
       "      <td>0</td>\n",
       "      <td>0.00</td>\n",
       "      <td>0</td>\n",
       "    </tr>\n",
       "    <tr>\n",
       "      <th>997</th>\n",
       "      <td>Bobigny</td>\n",
       "      <td>26</td>\n",
       "      <td>0.6897</td>\n",
       "      <td>0.8966</td>\n",
       "      <td>29</td>\n",
       "      <td>30.86</td>\n",
       "      <td>20.88</td>\n",
       "      <td>95</td>\n",
       "      <td>72</td>\n",
       "      <td>1.12</td>\n",
       "      <td>29</td>\n",
       "      <td>0.00</td>\n",
       "      <td>0.0</td>\n",
       "      <td>0</td>\n",
       "      <td>0.00</td>\n",
       "      <td>0.00</td>\n",
       "      <td>0.00</td>\n",
       "      <td>0</td>\n",
       "      <td>0.00</td>\n",
       "      <td>0</td>\n",
       "    </tr>\n",
       "    <tr>\n",
       "      <th>998</th>\n",
       "      <td>Neuilly-sur-Seine</td>\n",
       "      <td>26</td>\n",
       "      <td>0.6154</td>\n",
       "      <td>1.0000</td>\n",
       "      <td>26</td>\n",
       "      <td>63.08</td>\n",
       "      <td>11.00</td>\n",
       "      <td>284</td>\n",
       "      <td>176</td>\n",
       "      <td>1.00</td>\n",
       "      <td>26</td>\n",
       "      <td>0.00</td>\n",
       "      <td>0.0</td>\n",
       "      <td>0</td>\n",
       "      <td>0.00</td>\n",
       "      <td>0.00</td>\n",
       "      <td>0.00</td>\n",
       "      <td>0</td>\n",
       "      <td>0.00</td>\n",
       "      <td>0</td>\n",
       "    </tr>\n",
       "    <tr>\n",
       "      <th>999</th>\n",
       "      <td>Palaiseau</td>\n",
       "      <td>26</td>\n",
       "      <td>0.4483</td>\n",
       "      <td>0.8966</td>\n",
       "      <td>29</td>\n",
       "      <td>165.59</td>\n",
       "      <td>31.74</td>\n",
       "      <td>199</td>\n",
       "      <td>180</td>\n",
       "      <td>1.12</td>\n",
       "      <td>29</td>\n",
       "      <td>0.00</td>\n",
       "      <td>0.0</td>\n",
       "      <td>0</td>\n",
       "      <td>0.00</td>\n",
       "      <td>0.00</td>\n",
       "      <td>0.00</td>\n",
       "      <td>0</td>\n",
       "      <td>0.00</td>\n",
       "      <td>0</td>\n",
       "    </tr>\n",
       "  </tbody>\n",
       "</table>\n",
       "<p>1000 rows × 20 columns</p>\n",
       "</div>"
      ],
      "text/plain": [
       "                  City  Users  Bounce Rate  % New Sessions  Sessions  \\\n",
       "0                Paris   6965       0.5903          0.7191      9187   \n",
       "1               Dublin   5776       0.5500          0.7136      7805   \n",
       "2               Madrid   4953       0.5715          0.7000      6609   \n",
       "3            Barcelona   3603       0.5613          0.7075      4848   \n",
       "4               Warsaw   3012       0.5531          0.7979      3656   \n",
       "..                 ...    ...          ...             ...       ...   \n",
       "995      Aubervilliers     26       0.6667          0.6667        39   \n",
       "996            Bagneux     26       0.7931          0.7931        29   \n",
       "997            Bobigny     26       0.6897          0.8966        29   \n",
       "998  Neuilly-sur-Seine     26       0.6154          1.0000        26   \n",
       "999          Palaiseau     26       0.4483          0.8966        29   \n",
       "\n",
       "     Avg. Session Duration  Avg. Time on Page   Hits  Pageviews  \\\n",
       "0                   193.39             101.35  31226      26717   \n",
       "1                   136.33              57.22  31553      26401   \n",
       "2                   174.39             100.56  20151      18070   \n",
       "3                   221.52              96.31  18994      15998   \n",
       "4                   124.19              50.11  15848      12715   \n",
       "..                     ...                ...    ...        ...   \n",
       "995                  41.64              16.08    186        140   \n",
       "996                  21.17               9.90    150         91   \n",
       "997                  30.86              20.88     95         72   \n",
       "998                  63.08              11.00    284        176   \n",
       "999                 165.59              31.74    199        180   \n",
       "\n",
       "     Number of Sessions per User  Exits  Avg. Price  Avg. QTY  \\\n",
       "0                           1.32   9187       21.78       1.0   \n",
       "1                           1.35   7805       26.00       1.0   \n",
       "2                           1.33   6609        0.00       0.0   \n",
       "3                           1.35   4848       48.07       1.0   \n",
       "4                           1.21   3656       17.09       1.0   \n",
       "..                           ...    ...         ...       ...   \n",
       "995                         1.50     39        0.00       0.0   \n",
       "996                         1.12     29        0.00       0.0   \n",
       "997                         1.12     29        0.00       0.0   \n",
       "998                         1.00     26        0.00       0.0   \n",
       "999                         1.12     29        0.00       0.0   \n",
       "\n",
       "     Purchase Completed (Goal 1 Completions)  Product Revenue  \\\n",
       "0                                          3            65.34   \n",
       "1                                         23          1949.74   \n",
       "2                                          0             0.00   \n",
       "3                                          3           769.18   \n",
       "4                                          3           222.16   \n",
       "..                                       ...              ...   \n",
       "995                                        0             0.00   \n",
       "996                                        0             0.00   \n",
       "997                                        0             0.00   \n",
       "998                                        0             0.00   \n",
       "999                                        0             0.00   \n",
       "\n",
       "     Revenue per User  Revenue  Transactions  Transactions per User  \\\n",
       "0                0.01    65.34             3                   0.00   \n",
       "1                0.34  1949.74            33                   0.01   \n",
       "2                0.00     0.00             0                   0.00   \n",
       "3                0.21   769.18             3                   0.00   \n",
       "4                0.07   222.16             3                   0.00   \n",
       "..                ...      ...           ...                    ...   \n",
       "995              0.00     0.00             0                   0.00   \n",
       "996              0.00     0.00             0                   0.00   \n",
       "997              0.00     0.00             0                   0.00   \n",
       "998              0.00     0.00             0                   0.00   \n",
       "999              0.00     0.00             0                   0.00   \n",
       "\n",
       "     Unique Purchases  \n",
       "0                   3  \n",
       "1                  75  \n",
       "2                   0  \n",
       "3                  16  \n",
       "4                  13  \n",
       "..                ...  \n",
       "995                 0  \n",
       "996                 0  \n",
       "997                 0  \n",
       "998                 0  \n",
       "999                 0  \n",
       "\n",
       "[1000 rows x 20 columns]"
      ]
     },
     "execution_count": 3,
     "metadata": {},
     "output_type": "execute_result"
    }
   ],
   "source": [
    "df"
   ]
  },
  {
   "cell_type": "code",
   "execution_count": 4,
   "id": "5e10c1df",
   "metadata": {},
   "outputs": [
    {
     "name": "stdout",
     "output_type": "stream",
     "text": [
      "<class 'pandas.core.frame.DataFrame'>\n",
      "RangeIndex: 1000 entries, 0 to 999\n",
      "Data columns (total 20 columns):\n",
      " #   Column                                   Non-Null Count  Dtype  \n",
      "---  ------                                   --------------  -----  \n",
      " 0   City                                     1000 non-null   object \n",
      " 1   Users                                    1000 non-null   int64  \n",
      " 2   Bounce Rate                              1000 non-null   float64\n",
      " 3   % New Sessions                           1000 non-null   float64\n",
      " 4   Sessions                                 1000 non-null   int64  \n",
      " 5   Avg. Session Duration                    1000 non-null   float64\n",
      " 6   Avg. Time on Page                        1000 non-null   float64\n",
      " 7   Hits                                     1000 non-null   int64  \n",
      " 8   Pageviews                                1000 non-null   int64  \n",
      " 9   Number of Sessions per User              1000 non-null   float64\n",
      " 10  Exits                                    1000 non-null   int64  \n",
      " 11  Avg. Price                               1000 non-null   float64\n",
      " 12  Avg. QTY                                 1000 non-null   float64\n",
      " 13  Purchase Completed (Goal 1 Completions)  1000 non-null   int64  \n",
      " 14  Product Revenue                          1000 non-null   float64\n",
      " 15  Revenue per User                         1000 non-null   float64\n",
      " 16  Revenue                                  1000 non-null   float64\n",
      " 17  Transactions                             1000 non-null   int64  \n",
      " 18  Transactions per User                    1000 non-null   float64\n",
      " 19  Unique Purchases                         1000 non-null   int64  \n",
      "dtypes: float64(11), int64(8), object(1)\n",
      "memory usage: 156.4+ KB\n"
     ]
    }
   ],
   "source": [
    "df.info()"
   ]
  },
  {
   "cell_type": "code",
   "execution_count": 5,
   "id": "c1d0a3c7",
   "metadata": {},
   "outputs": [
    {
     "data": {
      "text/html": [
       "<div>\n",
       "<style scoped>\n",
       "    .dataframe tbody tr th:only-of-type {\n",
       "        vertical-align: middle;\n",
       "    }\n",
       "\n",
       "    .dataframe tbody tr th {\n",
       "        vertical-align: top;\n",
       "    }\n",
       "\n",
       "    .dataframe thead th {\n",
       "        text-align: right;\n",
       "    }\n",
       "</style>\n",
       "<table border=\"1\" class=\"dataframe\">\n",
       "  <thead>\n",
       "    <tr style=\"text-align: right;\">\n",
       "      <th></th>\n",
       "      <th>Users</th>\n",
       "      <th>Bounce Rate</th>\n",
       "      <th>% New Sessions</th>\n",
       "      <th>Sessions</th>\n",
       "      <th>Avg. Session Duration</th>\n",
       "      <th>Avg. Time on Page</th>\n",
       "      <th>Hits</th>\n",
       "      <th>Pageviews</th>\n",
       "      <th>Number of Sessions per User</th>\n",
       "      <th>Exits</th>\n",
       "      <th>Avg. Price</th>\n",
       "      <th>Avg. QTY</th>\n",
       "      <th>Purchase Completed (Goal 1 Completions)</th>\n",
       "      <th>Product Revenue</th>\n",
       "      <th>Revenue per User</th>\n",
       "      <th>Revenue</th>\n",
       "      <th>Transactions</th>\n",
       "      <th>Transactions per User</th>\n",
       "      <th>Unique Purchases</th>\n",
       "    </tr>\n",
       "  </thead>\n",
       "  <tbody>\n",
       "    <tr>\n",
       "      <th>count</th>\n",
       "      <td>1000.000000</td>\n",
       "      <td>1000.000000</td>\n",
       "      <td>1000.000000</td>\n",
       "      <td>1000.000000</td>\n",
       "      <td>1000.000000</td>\n",
       "      <td>1000.000000</td>\n",
       "      <td>1000.000000</td>\n",
       "      <td>1000.000000</td>\n",
       "      <td>1000.000000</td>\n",
       "      <td>1000.000000</td>\n",
       "      <td>1000.000000</td>\n",
       "      <td>1000.000000</td>\n",
       "      <td>1000.000000</td>\n",
       "      <td>1000.000000</td>\n",
       "      <td>1000.000000</td>\n",
       "      <td>1000.000000</td>\n",
       "      <td>1000.000000</td>\n",
       "      <td>1000.000000</td>\n",
       "      <td>1000.00000</td>\n",
       "    </tr>\n",
       "    <tr>\n",
       "      <th>mean</th>\n",
       "      <td>158.474000</td>\n",
       "      <td>0.568647</td>\n",
       "      <td>0.791730</td>\n",
       "      <td>200.519000</td>\n",
       "      <td>142.322250</td>\n",
       "      <td>75.427380</td>\n",
       "      <td>730.796000</td>\n",
       "      <td>624.390000</td>\n",
       "      <td>1.232980</td>\n",
       "      <td>200.496000</td>\n",
       "      <td>0.645800</td>\n",
       "      <td>0.078380</td>\n",
       "      <td>0.125000</td>\n",
       "      <td>14.752780</td>\n",
       "      <td>0.085020</td>\n",
       "      <td>14.752780</td>\n",
       "      <td>0.136000</td>\n",
       "      <td>0.000550</td>\n",
       "      <td>0.58300</td>\n",
       "    </tr>\n",
       "    <tr>\n",
       "      <th>std</th>\n",
       "      <td>448.275014</td>\n",
       "      <td>0.130460</td>\n",
       "      <td>0.130380</td>\n",
       "      <td>587.798272</td>\n",
       "      <td>110.309569</td>\n",
       "      <td>52.222611</td>\n",
       "      <td>2212.684479</td>\n",
       "      <td>1873.858474</td>\n",
       "      <td>0.221288</td>\n",
       "      <td>587.763086</td>\n",
       "      <td>5.092933</td>\n",
       "      <td>1.083844</td>\n",
       "      <td>0.950936</td>\n",
       "      <td>121.734198</td>\n",
       "      <td>1.069164</td>\n",
       "      <td>121.734198</td>\n",
       "      <td>1.238967</td>\n",
       "      <td>0.005369</td>\n",
       "      <td>5.29331</td>\n",
       "    </tr>\n",
       "    <tr>\n",
       "      <th>min</th>\n",
       "      <td>26.000000</td>\n",
       "      <td>0.090900</td>\n",
       "      <td>0.312900</td>\n",
       "      <td>26.000000</td>\n",
       "      <td>0.000000</td>\n",
       "      <td>0.000000</td>\n",
       "      <td>29.000000</td>\n",
       "      <td>29.000000</td>\n",
       "      <td>1.000000</td>\n",
       "      <td>26.000000</td>\n",
       "      <td>0.000000</td>\n",
       "      <td>0.000000</td>\n",
       "      <td>0.000000</td>\n",
       "      <td>0.000000</td>\n",
       "      <td>0.000000</td>\n",
       "      <td>0.000000</td>\n",
       "      <td>0.000000</td>\n",
       "      <td>0.000000</td>\n",
       "      <td>0.00000</td>\n",
       "    </tr>\n",
       "    <tr>\n",
       "      <th>25%</th>\n",
       "      <td>36.000000</td>\n",
       "      <td>0.484800</td>\n",
       "      <td>0.709525</td>\n",
       "      <td>42.000000</td>\n",
       "      <td>65.095000</td>\n",
       "      <td>39.935000</td>\n",
       "      <td>127.000000</td>\n",
       "      <td>113.250000</td>\n",
       "      <td>1.090000</td>\n",
       "      <td>42.000000</td>\n",
       "      <td>0.000000</td>\n",
       "      <td>0.000000</td>\n",
       "      <td>0.000000</td>\n",
       "      <td>0.000000</td>\n",
       "      <td>0.000000</td>\n",
       "      <td>0.000000</td>\n",
       "      <td>0.000000</td>\n",
       "      <td>0.000000</td>\n",
       "      <td>0.00000</td>\n",
       "    </tr>\n",
       "    <tr>\n",
       "      <th>50%</th>\n",
       "      <td>56.000000</td>\n",
       "      <td>0.569200</td>\n",
       "      <td>0.805600</td>\n",
       "      <td>69.000000</td>\n",
       "      <td>121.500000</td>\n",
       "      <td>63.170000</td>\n",
       "      <td>238.000000</td>\n",
       "      <td>209.000000</td>\n",
       "      <td>1.180000</td>\n",
       "      <td>69.000000</td>\n",
       "      <td>0.000000</td>\n",
       "      <td>0.000000</td>\n",
       "      <td>0.000000</td>\n",
       "      <td>0.000000</td>\n",
       "      <td>0.000000</td>\n",
       "      <td>0.000000</td>\n",
       "      <td>0.000000</td>\n",
       "      <td>0.000000</td>\n",
       "      <td>0.00000</td>\n",
       "    </tr>\n",
       "    <tr>\n",
       "      <th>75%</th>\n",
       "      <td>108.750000</td>\n",
       "      <td>0.652600</td>\n",
       "      <td>0.883250</td>\n",
       "      <td>137.000000</td>\n",
       "      <td>184.367500</td>\n",
       "      <td>95.690000</td>\n",
       "      <td>481.000000</td>\n",
       "      <td>418.000000</td>\n",
       "      <td>1.322500</td>\n",
       "      <td>137.000000</td>\n",
       "      <td>0.000000</td>\n",
       "      <td>0.000000</td>\n",
       "      <td>0.000000</td>\n",
       "      <td>0.000000</td>\n",
       "      <td>0.000000</td>\n",
       "      <td>0.000000</td>\n",
       "      <td>0.000000</td>\n",
       "      <td>0.000000</td>\n",
       "      <td>0.00000</td>\n",
       "    </tr>\n",
       "    <tr>\n",
       "      <th>max</th>\n",
       "      <td>6965.000000</td>\n",
       "      <td>1.000000</td>\n",
       "      <td>1.000000</td>\n",
       "      <td>9187.000000</td>\n",
       "      <td>932.920000</td>\n",
       "      <td>414.220000</td>\n",
       "      <td>31553.000000</td>\n",
       "      <td>26717.000000</td>\n",
       "      <td>3.000000</td>\n",
       "      <td>9187.000000</td>\n",
       "      <td>104.540000</td>\n",
       "      <td>32.670000</td>\n",
       "      <td>23.000000</td>\n",
       "      <td>1949.740000</td>\n",
       "      <td>21.430000</td>\n",
       "      <td>1949.740000</td>\n",
       "      <td>33.000000</td>\n",
       "      <td>0.080000</td>\n",
       "      <td>88.00000</td>\n",
       "    </tr>\n",
       "  </tbody>\n",
       "</table>\n",
       "</div>"
      ],
      "text/plain": [
       "             Users  Bounce Rate  % New Sessions     Sessions  \\\n",
       "count  1000.000000  1000.000000     1000.000000  1000.000000   \n",
       "mean    158.474000     0.568647        0.791730   200.519000   \n",
       "std     448.275014     0.130460        0.130380   587.798272   \n",
       "min      26.000000     0.090900        0.312900    26.000000   \n",
       "25%      36.000000     0.484800        0.709525    42.000000   \n",
       "50%      56.000000     0.569200        0.805600    69.000000   \n",
       "75%     108.750000     0.652600        0.883250   137.000000   \n",
       "max    6965.000000     1.000000        1.000000  9187.000000   \n",
       "\n",
       "       Avg. Session Duration  Avg. Time on Page          Hits     Pageviews  \\\n",
       "count            1000.000000        1000.000000   1000.000000   1000.000000   \n",
       "mean              142.322250          75.427380    730.796000    624.390000   \n",
       "std               110.309569          52.222611   2212.684479   1873.858474   \n",
       "min                 0.000000           0.000000     29.000000     29.000000   \n",
       "25%                65.095000          39.935000    127.000000    113.250000   \n",
       "50%               121.500000          63.170000    238.000000    209.000000   \n",
       "75%               184.367500          95.690000    481.000000    418.000000   \n",
       "max               932.920000         414.220000  31553.000000  26717.000000   \n",
       "\n",
       "       Number of Sessions per User        Exits   Avg. Price     Avg. QTY  \\\n",
       "count                  1000.000000  1000.000000  1000.000000  1000.000000   \n",
       "mean                      1.232980   200.496000     0.645800     0.078380   \n",
       "std                       0.221288   587.763086     5.092933     1.083844   \n",
       "min                       1.000000    26.000000     0.000000     0.000000   \n",
       "25%                       1.090000    42.000000     0.000000     0.000000   \n",
       "50%                       1.180000    69.000000     0.000000     0.000000   \n",
       "75%                       1.322500   137.000000     0.000000     0.000000   \n",
       "max                       3.000000  9187.000000   104.540000    32.670000   \n",
       "\n",
       "       Purchase Completed (Goal 1 Completions)  Product Revenue  \\\n",
       "count                              1000.000000      1000.000000   \n",
       "mean                                  0.125000        14.752780   \n",
       "std                                   0.950936       121.734198   \n",
       "min                                   0.000000         0.000000   \n",
       "25%                                   0.000000         0.000000   \n",
       "50%                                   0.000000         0.000000   \n",
       "75%                                   0.000000         0.000000   \n",
       "max                                  23.000000      1949.740000   \n",
       "\n",
       "       Revenue per User      Revenue  Transactions  Transactions per User  \\\n",
       "count       1000.000000  1000.000000   1000.000000            1000.000000   \n",
       "mean           0.085020    14.752780      0.136000               0.000550   \n",
       "std            1.069164   121.734198      1.238967               0.005369   \n",
       "min            0.000000     0.000000      0.000000               0.000000   \n",
       "25%            0.000000     0.000000      0.000000               0.000000   \n",
       "50%            0.000000     0.000000      0.000000               0.000000   \n",
       "75%            0.000000     0.000000      0.000000               0.000000   \n",
       "max           21.430000  1949.740000     33.000000               0.080000   \n",
       "\n",
       "       Unique Purchases  \n",
       "count        1000.00000  \n",
       "mean            0.58300  \n",
       "std             5.29331  \n",
       "min             0.00000  \n",
       "25%             0.00000  \n",
       "50%             0.00000  \n",
       "75%             0.00000  \n",
       "max            88.00000  "
      ]
     },
     "execution_count": 5,
     "metadata": {},
     "output_type": "execute_result"
    }
   ],
   "source": [
    "df.describe()"
   ]
  },
  {
   "cell_type": "code",
   "execution_count": 6,
   "id": "8551ca4a",
   "metadata": {
    "scrolled": true
   },
   "outputs": [
    {
     "data": {
      "text/html": [
       "<div>\n",
       "<style scoped>\n",
       "    .dataframe tbody tr th:only-of-type {\n",
       "        vertical-align: middle;\n",
       "    }\n",
       "\n",
       "    .dataframe tbody tr th {\n",
       "        vertical-align: top;\n",
       "    }\n",
       "\n",
       "    .dataframe thead th {\n",
       "        text-align: right;\n",
       "    }\n",
       "</style>\n",
       "<table border=\"1\" class=\"dataframe\">\n",
       "  <thead>\n",
       "    <tr style=\"text-align: right;\">\n",
       "      <th></th>\n",
       "      <th>City</th>\n",
       "      <th>Users</th>\n",
       "      <th>Bounce Rate</th>\n",
       "      <th>% New Sessions</th>\n",
       "      <th>Sessions</th>\n",
       "      <th>Avg. Session Duration</th>\n",
       "      <th>Avg. Time on Page</th>\n",
       "      <th>Hits</th>\n",
       "      <th>Pageviews</th>\n",
       "      <th>Number of Sessions per User</th>\n",
       "      <th>Exits</th>\n",
       "      <th>Avg. Price</th>\n",
       "      <th>Avg. QTY</th>\n",
       "      <th>Purchase Completed (Goal 1 Completions)</th>\n",
       "      <th>Product Revenue</th>\n",
       "      <th>Revenue per User</th>\n",
       "      <th>Revenue</th>\n",
       "      <th>Transactions</th>\n",
       "      <th>Transactions per User</th>\n",
       "      <th>Unique Purchases</th>\n",
       "    </tr>\n",
       "  </thead>\n",
       "  <tbody>\n",
       "    <tr>\n",
       "      <th>990</th>\n",
       "      <td>Viborg</td>\n",
       "      <td>26</td>\n",
       "      <td>0.5000</td>\n",
       "      <td>1.0000</td>\n",
       "      <td>26</td>\n",
       "      <td>55.54</td>\n",
       "      <td>25.79</td>\n",
       "      <td>114</td>\n",
       "      <td>82</td>\n",
       "      <td>1.00</td>\n",
       "      <td>26</td>\n",
       "      <td>0.0</td>\n",
       "      <td>0.0</td>\n",
       "      <td>0</td>\n",
       "      <td>0.0</td>\n",
       "      <td>0.0</td>\n",
       "      <td>0.0</td>\n",
       "      <td>0</td>\n",
       "      <td>0.0</td>\n",
       "      <td>0</td>\n",
       "    </tr>\n",
       "    <tr>\n",
       "      <th>991</th>\n",
       "      <td>Ceuta</td>\n",
       "      <td>26</td>\n",
       "      <td>0.3095</td>\n",
       "      <td>0.6190</td>\n",
       "      <td>42</td>\n",
       "      <td>619.40</td>\n",
       "      <td>45.69</td>\n",
       "      <td>693</td>\n",
       "      <td>611</td>\n",
       "      <td>1.62</td>\n",
       "      <td>42</td>\n",
       "      <td>0.0</td>\n",
       "      <td>0.0</td>\n",
       "      <td>0</td>\n",
       "      <td>0.0</td>\n",
       "      <td>0.0</td>\n",
       "      <td>0.0</td>\n",
       "      <td>0</td>\n",
       "      <td>0.0</td>\n",
       "      <td>0</td>\n",
       "    </tr>\n",
       "    <tr>\n",
       "      <th>992</th>\n",
       "      <td>Coslada</td>\n",
       "      <td>26</td>\n",
       "      <td>0.3611</td>\n",
       "      <td>0.6389</td>\n",
       "      <td>36</td>\n",
       "      <td>347.75</td>\n",
       "      <td>101.02</td>\n",
       "      <td>193</td>\n",
       "      <td>160</td>\n",
       "      <td>1.38</td>\n",
       "      <td>36</td>\n",
       "      <td>0.0</td>\n",
       "      <td>0.0</td>\n",
       "      <td>0</td>\n",
       "      <td>0.0</td>\n",
       "      <td>0.0</td>\n",
       "      <td>0.0</td>\n",
       "      <td>0</td>\n",
       "      <td>0.0</td>\n",
       "      <td>0</td>\n",
       "    </tr>\n",
       "    <tr>\n",
       "      <th>993</th>\n",
       "      <td>Hamina</td>\n",
       "      <td>26</td>\n",
       "      <td>0.3333</td>\n",
       "      <td>0.6667</td>\n",
       "      <td>39</td>\n",
       "      <td>156.38</td>\n",
       "      <td>58.00</td>\n",
       "      <td>186</td>\n",
       "      <td>144</td>\n",
       "      <td>1.50</td>\n",
       "      <td>39</td>\n",
       "      <td>0.0</td>\n",
       "      <td>0.0</td>\n",
       "      <td>0</td>\n",
       "      <td>0.0</td>\n",
       "      <td>0.0</td>\n",
       "      <td>0.0</td>\n",
       "      <td>0</td>\n",
       "      <td>0.0</td>\n",
       "      <td>0</td>\n",
       "    </tr>\n",
       "    <tr>\n",
       "      <th>994</th>\n",
       "      <td>Lahti</td>\n",
       "      <td>26</td>\n",
       "      <td>0.8846</td>\n",
       "      <td>1.0000</td>\n",
       "      <td>26</td>\n",
       "      <td>1.77</td>\n",
       "      <td>15.33</td>\n",
       "      <td>29</td>\n",
       "      <td>29</td>\n",
       "      <td>1.00</td>\n",
       "      <td>26</td>\n",
       "      <td>0.0</td>\n",
       "      <td>0.0</td>\n",
       "      <td>0</td>\n",
       "      <td>0.0</td>\n",
       "      <td>0.0</td>\n",
       "      <td>0.0</td>\n",
       "      <td>0</td>\n",
       "      <td>0.0</td>\n",
       "      <td>0</td>\n",
       "    </tr>\n",
       "    <tr>\n",
       "      <th>995</th>\n",
       "      <td>Aubervilliers</td>\n",
       "      <td>26</td>\n",
       "      <td>0.6667</td>\n",
       "      <td>0.6667</td>\n",
       "      <td>39</td>\n",
       "      <td>41.64</td>\n",
       "      <td>16.08</td>\n",
       "      <td>186</td>\n",
       "      <td>140</td>\n",
       "      <td>1.50</td>\n",
       "      <td>39</td>\n",
       "      <td>0.0</td>\n",
       "      <td>0.0</td>\n",
       "      <td>0</td>\n",
       "      <td>0.0</td>\n",
       "      <td>0.0</td>\n",
       "      <td>0.0</td>\n",
       "      <td>0</td>\n",
       "      <td>0.0</td>\n",
       "      <td>0</td>\n",
       "    </tr>\n",
       "    <tr>\n",
       "      <th>996</th>\n",
       "      <td>Bagneux</td>\n",
       "      <td>26</td>\n",
       "      <td>0.7931</td>\n",
       "      <td>0.7931</td>\n",
       "      <td>29</td>\n",
       "      <td>21.17</td>\n",
       "      <td>9.90</td>\n",
       "      <td>150</td>\n",
       "      <td>91</td>\n",
       "      <td>1.12</td>\n",
       "      <td>29</td>\n",
       "      <td>0.0</td>\n",
       "      <td>0.0</td>\n",
       "      <td>0</td>\n",
       "      <td>0.0</td>\n",
       "      <td>0.0</td>\n",
       "      <td>0.0</td>\n",
       "      <td>0</td>\n",
       "      <td>0.0</td>\n",
       "      <td>0</td>\n",
       "    </tr>\n",
       "    <tr>\n",
       "      <th>997</th>\n",
       "      <td>Bobigny</td>\n",
       "      <td>26</td>\n",
       "      <td>0.6897</td>\n",
       "      <td>0.8966</td>\n",
       "      <td>29</td>\n",
       "      <td>30.86</td>\n",
       "      <td>20.88</td>\n",
       "      <td>95</td>\n",
       "      <td>72</td>\n",
       "      <td>1.12</td>\n",
       "      <td>29</td>\n",
       "      <td>0.0</td>\n",
       "      <td>0.0</td>\n",
       "      <td>0</td>\n",
       "      <td>0.0</td>\n",
       "      <td>0.0</td>\n",
       "      <td>0.0</td>\n",
       "      <td>0</td>\n",
       "      <td>0.0</td>\n",
       "      <td>0</td>\n",
       "    </tr>\n",
       "    <tr>\n",
       "      <th>998</th>\n",
       "      <td>Neuilly-sur-Seine</td>\n",
       "      <td>26</td>\n",
       "      <td>0.6154</td>\n",
       "      <td>1.0000</td>\n",
       "      <td>26</td>\n",
       "      <td>63.08</td>\n",
       "      <td>11.00</td>\n",
       "      <td>284</td>\n",
       "      <td>176</td>\n",
       "      <td>1.00</td>\n",
       "      <td>26</td>\n",
       "      <td>0.0</td>\n",
       "      <td>0.0</td>\n",
       "      <td>0</td>\n",
       "      <td>0.0</td>\n",
       "      <td>0.0</td>\n",
       "      <td>0.0</td>\n",
       "      <td>0</td>\n",
       "      <td>0.0</td>\n",
       "      <td>0</td>\n",
       "    </tr>\n",
       "    <tr>\n",
       "      <th>999</th>\n",
       "      <td>Palaiseau</td>\n",
       "      <td>26</td>\n",
       "      <td>0.4483</td>\n",
       "      <td>0.8966</td>\n",
       "      <td>29</td>\n",
       "      <td>165.59</td>\n",
       "      <td>31.74</td>\n",
       "      <td>199</td>\n",
       "      <td>180</td>\n",
       "      <td>1.12</td>\n",
       "      <td>29</td>\n",
       "      <td>0.0</td>\n",
       "      <td>0.0</td>\n",
       "      <td>0</td>\n",
       "      <td>0.0</td>\n",
       "      <td>0.0</td>\n",
       "      <td>0.0</td>\n",
       "      <td>0</td>\n",
       "      <td>0.0</td>\n",
       "      <td>0</td>\n",
       "    </tr>\n",
       "  </tbody>\n",
       "</table>\n",
       "</div>"
      ],
      "text/plain": [
       "                  City  Users  Bounce Rate  % New Sessions  Sessions  \\\n",
       "990             Viborg     26       0.5000          1.0000        26   \n",
       "991              Ceuta     26       0.3095          0.6190        42   \n",
       "992            Coslada     26       0.3611          0.6389        36   \n",
       "993             Hamina     26       0.3333          0.6667        39   \n",
       "994              Lahti     26       0.8846          1.0000        26   \n",
       "995      Aubervilliers     26       0.6667          0.6667        39   \n",
       "996            Bagneux     26       0.7931          0.7931        29   \n",
       "997            Bobigny     26       0.6897          0.8966        29   \n",
       "998  Neuilly-sur-Seine     26       0.6154          1.0000        26   \n",
       "999          Palaiseau     26       0.4483          0.8966        29   \n",
       "\n",
       "     Avg. Session Duration  Avg. Time on Page  Hits  Pageviews  \\\n",
       "990                  55.54              25.79   114         82   \n",
       "991                 619.40              45.69   693        611   \n",
       "992                 347.75             101.02   193        160   \n",
       "993                 156.38              58.00   186        144   \n",
       "994                   1.77              15.33    29         29   \n",
       "995                  41.64              16.08   186        140   \n",
       "996                  21.17               9.90   150         91   \n",
       "997                  30.86              20.88    95         72   \n",
       "998                  63.08              11.00   284        176   \n",
       "999                 165.59              31.74   199        180   \n",
       "\n",
       "     Number of Sessions per User  Exits  Avg. Price  Avg. QTY  \\\n",
       "990                         1.00     26         0.0       0.0   \n",
       "991                         1.62     42         0.0       0.0   \n",
       "992                         1.38     36         0.0       0.0   \n",
       "993                         1.50     39         0.0       0.0   \n",
       "994                         1.00     26         0.0       0.0   \n",
       "995                         1.50     39         0.0       0.0   \n",
       "996                         1.12     29         0.0       0.0   \n",
       "997                         1.12     29         0.0       0.0   \n",
       "998                         1.00     26         0.0       0.0   \n",
       "999                         1.12     29         0.0       0.0   \n",
       "\n",
       "     Purchase Completed (Goal 1 Completions)  Product Revenue  \\\n",
       "990                                        0              0.0   \n",
       "991                                        0              0.0   \n",
       "992                                        0              0.0   \n",
       "993                                        0              0.0   \n",
       "994                                        0              0.0   \n",
       "995                                        0              0.0   \n",
       "996                                        0              0.0   \n",
       "997                                        0              0.0   \n",
       "998                                        0              0.0   \n",
       "999                                        0              0.0   \n",
       "\n",
       "     Revenue per User  Revenue  Transactions  Transactions per User  \\\n",
       "990               0.0      0.0             0                    0.0   \n",
       "991               0.0      0.0             0                    0.0   \n",
       "992               0.0      0.0             0                    0.0   \n",
       "993               0.0      0.0             0                    0.0   \n",
       "994               0.0      0.0             0                    0.0   \n",
       "995               0.0      0.0             0                    0.0   \n",
       "996               0.0      0.0             0                    0.0   \n",
       "997               0.0      0.0             0                    0.0   \n",
       "998               0.0      0.0             0                    0.0   \n",
       "999               0.0      0.0             0                    0.0   \n",
       "\n",
       "     Unique Purchases  \n",
       "990                 0  \n",
       "991                 0  \n",
       "992                 0  \n",
       "993                 0  \n",
       "994                 0  \n",
       "995                 0  \n",
       "996                 0  \n",
       "997                 0  \n",
       "998                 0  \n",
       "999                 0  "
      ]
     },
     "execution_count": 6,
     "metadata": {},
     "output_type": "execute_result"
    }
   ],
   "source": [
    "df.tail(10)"
   ]
  },
  {
   "cell_type": "code",
   "execution_count": 20,
   "id": "83332122",
   "metadata": {},
   "outputs": [
    {
     "data": {
      "application/vnd.plotly.v1+json": {
       "config": {
        "plotlyServerURL": "https://plot.ly"
       },
       "data": [
        {
         "alignmentgroup": "True",
         "bingroup": "x",
         "histfunc": "sum",
         "hovertemplate": "City=%{x}<br>sum of Users=%{y}<extra></extra>",
         "legendgroup": "",
         "marker": {
          "color": "#636efa",
          "pattern": {
           "shape": ""
          }
         },
         "name": "",
         "offsetgroup": "",
         "orientation": "v",
         "showlegend": false,
         "type": "histogram",
         "x": [
          "Paris",
          "Dublin",
          "Madrid",
          "Barcelona",
          "Warsaw",
          "Moscow",
          "Zurich",
          "Amsterdam",
          "Milan",
          "Berlin",
          "Edinburgh",
          "Stockholm",
          "Munich",
          "Rome",
          "Hamburg",
          "Lisbon",
          "Frankfurt",
          "Vienna",
          "Cologne",
          "Kyiv",
          "Prague",
          "Krakow",
          "Copenhagen",
          "Zagreb",
          "Bucharest",
          "Athens",
          "Budapest",
          "Saint Petersburg",
          "Birmingham",
          "Wroclaw",
          "Brussels",
          "Helsinki",
          "Rotterdam",
          "Manchester",
          "Lyon",
          "Oslo Municipality",
          "Sofia",
          "Leeds",
          "Valencia",
          "Porto",
          "Stuttgart",
          "Gothenburg",
          "Bristol",
          "Vilnius",
          "Turin",
          "Poznan",
          "Utrecht",
          "Glasgow",
          "Seville",
          "Liverpool",
          "Toulouse",
          "Bratislava",
          "Newcastle upon Tyne",
          "Bordeaux",
          "Minsk",
          "Antwerp",
          "Bilbao",
          "Riga",
          "Tallinn",
          "Bologna",
          "Belgrade",
          "Lille",
          "Naples",
          "Dusseldorf",
          "Sheffield",
          "Genoa",
          "Odense",
          "Eindhoven",
          "Malaga",
          "Thessaloniki",
          "Malmo",
          "Coventry",
          "Cork",
          "Marseille",
          "Zaragoza",
          "Cardiff",
          "Katowice",
          "Geneva",
          "Montpellier",
          "Gdansk",
          "Ghent",
          "Slough",
          "The Hague",
          "Ljubljana",
          "Pozuelo de Alarcon",
          "Nanterre",
          "Rennes",
          "Aarhus",
          "Nottingham",
          "Kharkiv",
          "Brighton",
          "Breda",
          "Lodz",
          "Cambridge",
          "Padua",
          "Southampton",
          "Reims",
          "Croydon",
          "Belfast",
          "Almere",
          "Florence",
          "Nuremberg",
          "Lviv",
          "Norwich",
          "Brno",
          "Norderstedt",
          "Yekaterinburg",
          "Prato",
          "Dortmund",
          "A Coruna",
          "Bournemouth",
          "Reading",
          "Dnipro",
          "L'Hospitalet de Llobregat",
          "Hanover",
          "Essen",
          "Nice",
          "Leipzig",
          "Palma",
          "Courbevoie",
          "Groningen",
          "Lausanne",
          "Strasbourg",
          "Nantes",
          "Graz",
          "Limerick",
          "Luxembourg",
          "Enschede",
          "Oxford",
          "Bari",
          "Novosibirsk",
          "Valladolid",
          "Haarlem",
          "Naaldwijk",
          "Basel",
          "Northampton",
          "Brescia",
          "Verona",
          "Watford",
          "Lublin",
          "Munster",
          "Krasnodar",
          "Hasselt",
          "Aalborg",
          "Palermo",
          "Dresden",
          "Pamplona",
          "Guildford",
          "Reykjavik",
          "Solna",
          "Bremen",
          "Plymouth",
          "Salford",
          "Stoke-on-Trent",
          "Kazan",
          "Kaunas",
          "Tirana",
          "Bern",
          "Karlsruhe",
          "Granada",
          "Gijon",
          "Portsmouth",
          "Mannheim",
          "Alicante",
          "Loughborough",
          "Amersfoort",
          "Szczecin",
          "Acharnes",
          "Sant Cugat del Valles",
          "Boulogne-Billancourt",
          "Zwolle",
          "Cluj-Napoca",
          "Odessa",
          "Freiburg im Breisgau",
          "Tampere",
          "Grenoble",
          "Basingstoke",
          "Luton",
          "Trondheim Municipality",
          "Dijon",
          "Bolton",
          "Kingston upon Hull",
          "Leicester",
          "York",
          "Catania",
          "Saint-Denis",
          "Vigo",
          "Mont-Saint-Aignan",
          "Crawley",
          "Derby",
          "Hemel Hempstead",
          "Aberdeen",
          "Salamanca",
          "Sunderland",
          "Bonn",
          "Donostia-San Sebastian",
          "Turku",
          "Lucerne",
          "Terrassa",
          "Rouen",
          "Modena",
          "Venice",
          "Tilburg",
          "Amstelveen",
          "Samara",
          "Rivne",
          "Alcobendas",
          "Amiens",
          "Bath",
          "Birkenhead",
          "Bradford",
          "Cheltenham",
          "Colchester",
          "Vicenza",
          "Lund",
          "Aix-en-Provence",
          "Saint-Etienne",
          "Chisinau",
          "Leeuwarden",
          "Vila Nova de Gaia",
          "Exeter",
          "Peterborough",
          "Nizhny Novgorod",
          "Alcala de Henares",
          "Epsom",
          "Farnborough",
          "Preston",
          "Athlone",
          "Monza",
          "Nijmegen",
          "Leiden",
          "Rzeszow",
          "Wiesbaden",
          "Besancon",
          "Doncaster",
          "Winchester",
          "Galway",
          "Amadora",
          "Jerez de la Frontera",
          "Trnava",
          "Kortrijk",
          "Getafe",
          "Espoo",
          "Versailles",
          "Ipswich",
          "Wolverhampton",
          "Bergamo",
          "Udine",
          "Uppsala",
          "Helsingborg",
          "Badalona",
          "Vannes",
          "Montreuil",
          "Poole",
          "Lecce",
          "Braga",
          "Almada",
          "Rostov-on-Don",
          "Presov",
          "Innsbruck",
          "Varna",
          "Mataro",
          "Dartford",
          "Southend-on-Sea",
          "Stockport",
          "Wembley",
          "Parma",
          "Arnhem",
          "Bialystok",
          "Plovdiv",
          "Sarajevo",
          "St. Gallen",
          "Cordoba",
          "Vitoria-Gasteiz",
          "Bedford",
          "Bydgoszcz",
          "Sao Domingos de Rana",
          "Hole Municipality",
          "Lugano",
          "Winterthur",
          "Bielefeld",
          "Mainz",
          "Las Rozas de Madrid",
          "Las Palmas de Gran Canaria",
          "Santander",
          "Asnieres-sur-Seine",
          "Creteil",
          "Chelmsford",
          "Walsall",
          "'s-Hertogenbosch",
          "Iasi",
          "Alhaurin de la Torre",
          "Leuven",
          "Wurzburg",
          "Ballerup",
          "Blackburn",
          "Canterbury",
          "Telford",
          "Split",
          "Reggio Emilia",
          "Hilversum",
          "Liege",
          "Kassel",
          "Sabadell",
          "Southport",
          "Delft",
          "Bergen Municipality",
          "Potsdam",
          "Kiel",
          "Tarm",
          "Girona",
          "Villeneuve-d'Ascq",
          "Villeurbanne",
          "Huddersfield",
          "Gouda",
          "Mechelen",
          "Santiago de Compostela",
          "Murcia",
          "Barnsley",
          "Basildon",
          "Gravesend",
          "St Albans",
          "Ufa",
          "Boras",
          "Novi Sad",
          "Regensburg",
          "Bad Oeynhausen",
          "Bochum",
          "Monchengladbach",
          "Wuppertal",
          "Leon",
          "Bayonne",
          "Merignac",
          "Halifax",
          "Gdynia",
          "Coimbra",
          "Brasov",
          "Timisoara",
          "Taby",
          "Schaerbeek",
          "Horgen",
          "Augsburg",
          "Duisburg",
          "Mulhouse",
          "Argenteuil",
          "Nimes",
          "Horsham",
          "Maidstone",
          "Stockton-on-Tees",
          "Woking",
          "Livingston",
          "Tralee",
          "Cesena",
          "Treviso",
          "Podgorica",
          "Baerum",
          "Valdemoro",
          "Villafranca del Castillo",
          "Peristeri",
          "Charleroi",
          "Ceske Budejovice",
          "Ulm",
          "Clermont-Ferrand",
          "Antibes",
          "Eastbourne",
          "Lincoln",
          "Rotherham",
          "Worcester",
          "Drogheda",
          "Pescara",
          "Apeldoorn",
          "Kielce",
          "Yaroslavl",
          "Viby",
          "Tres Cantos",
          "Banska Bystrica",
          "Bruges",
          "Pfyn",
          "Thalwil",
          "Brunswick",
          "Oldenburg",
          "Fredericia",
          "Lleida",
          "Bracknell",
          "Chester",
          "Oldham",
          "Osijek",
          "Como",
          "Lucca",
          "Deventer",
          "Gliwice",
          "Huddinge",
          "Sollentuna",
          "Salzburg",
          "Roeselare",
          "Oviedo",
          "Orleans",
          "Evry",
          "Noisy-le-Grand",
          "Vitry-sur-Seine",
          "Nancy",
          "Gateshead",
          "Harrogate",
          "Mansfield",
          "Redhill",
          "Sale",
          "Taunton",
          "Dundee",
          "Rimini",
          "Trento",
          "Zoetermeer",
          "Zielona Gora",
          "Bielsko-Biala",
          "Leiria",
          "Oradea",
          "Barnaul",
          "Chelyabinsk",
          "Lulea",
          "Linkoping",
          "Linz",
          "Ostrava",
          "Gottingen",
          "Roskilde",
          "Silkeborg",
          "Alcorcon",
          "Tarragona",
          "Valence",
          "St Helier",
          "Ashford",
          "Hastings",
          "Rugby",
          "Shrewsbury",
          "St Helens",
          "Stevenage",
          "Worthing",
          "Faro",
          "Voronezh",
          "Drammen Municipality",
          "Villaviciosa de Odon",
          "Tartu",
          "Zilina",
          "Namur",
          "Renens",
          "Heidelberg",
          "Pforzheim",
          "Koblenz",
          "Trier",
          "Lubeck",
          "Chemnitz",
          "Burgos",
          "Brest",
          "Saint-Maur-des-Fosses",
          "Montauban",
          "Cannes",
          "Annecy",
          "Chambery",
          "Aylesbury",
          "Milton Keynes",
          "Rochdale",
          "Stourbridge",
          "Rijeka",
          "Bolzano",
          "Cagliari",
          "Foggia",
          "Helmond",
          "Hoofddorp",
          "Purmerend",
          "Krasnoyarsk",
          "Khimki",
          "Vasteras",
          "Vinnytsia",
          "Bar-le-Duc",
          "Nitra",
          "Alimos",
          "Zug",
          "Dubendorf",
          "Benidorm",
          "Caceres?",
          "Crewe",
          "Durham",
          "Harlow",
          "Maidenhead",
          "Nuneaton",
          "Wakefield",
          "Londonderry",
          "Pontypridd",
          "Caserta",
          "Nieuwegein",
          "Sintra",
          "Zaporizhzhia",
          "Patras",
          "Pireas",
          "Aachen",
          "Recklinghausen",
          "Rodovre",
          "Almeria",
          "Logrono",
          "Mostoles",
          "Jyvaskyla sub-region",
          "Maisons-Alfort",
          "Beeston",
          "Blackpool",
          "Middlesbrough",
          "Rickmansworth",
          "Sutton-in-Ashfield",
          "Tamworth",
          "Weston-super-Mare",
          "Wigan",
          "Falkirk",
          "Stirling",
          "Wrexham",
          "Pisa",
          "Aveiro",
          "Irkutsk",
          "Vladivostok",
          "Nis",
          "Uccle",
          "Fribourg",
          "Kilchberg",
          "Heilbronn",
          "Erlangen",
          "Ingolstadt",
          "Halle (Saale)",
          "Magdeburg",
          "Mollet del Valles",
          "Oulu",
          "Banbury",
          "Carlisle",
          "Ellesmere Port",
          "Kettering",
          "Macclesfield",
          "Runcorn",
          "Sittingbourne",
          "Sutton",
          "Douglas",
          "Glengormley",
          "Barry",
          "Vigevano",
          "Taranto",
          "Doetinchem",
          "Oosterhout",
          "Alkmaar",
          "Dordrecht",
          "Zabrze",
          "Evora",
          "Omsk",
          "Tomsk",
          "Vaxjo",
          "Kristiansand Municipality",
          "Cakovec",
          "Grodno",
          "Adliswil",
          "Osnabruck",
          "Santa Cruz de Tenerife",
          "Castellon de la Plana",
          "Vantaa",
          "Saint-Germain-en-Laye",
          "Limoges",
          "La Rochelle",
          "Bletchley",
          "Castleford",
          "Gloucester",
          "Haywards Heath",
          "Solihull",
          "Hamilton",
          "Perth",
          "Cwmbran",
          "Naas",
          "Cinisello Balsamo",
          "Pesaro",
          "Hengelo",
          "Funchal",
          "Ploiesti",
          "Kaliningrad",
          "Ivano-Frankivsk",
          "Hagen",
          "Mykolaiv",
          "Stavanger Municipality",
          "Mairena del Aljarafe",
          "Zaandam",
          "Kirchheim unter Teck",
          "Konstanz",
          "Aschaffenburg",
          "Kempten",
          "Darmstadt",
          "Wolfsburg",
          "Gelsenkirchen",
          "Ludwigshafen",
          "Las Arenas",
          "Tours",
          "Massy",
          "Caen",
          "Cannock",
          "Chesterfield",
          "Didcot",
          "Folkestone",
          "High Wycombe",
          "Hinckley",
          "Lowestoft",
          "Royal Tunbridge Wells",
          "Stafford",
          "Torquay",
          "Bridgend",
          "Newport",
          "Szeged",
          "Swords",
          "Mullingar",
          "Perugia",
          "Ede",
          "Veenendaal",
          "Alphen aan den Rijn",
          "Matosinhos",
          "Perm",
          "Penza",
          "Tyreso",
          "Lutsk",
          "Pristina",
          "Asker Municipality",
          "Gieres",
          "Mons",
          "Olomouc",
          "Erding",
          "Krefeld",
          "Jena",
          "Hvidovre",
          "El Prat de Llobregat",
          "Igualada",
          "Toledo",
          "Vilafranca del Penedes",
          "Lappeenranta",
          "Corbeil-Essonnes",
          "Rueil-Malmaison",
          "Roubaix",
          "Tourcoing",
          "Bridgwater",
          "Burnley",
          "Corby",
          "Glossop",
          "Grimsby",
          "Hove",
          "Long Eaton",
          "Marlow",
          "Northwich",
          "Royal Leamington Spa",
          "Salisbury",
          "Trowbridge",
          "Coleraine",
          "Dunfermline",
          "Pecs",
          "Kilkenny",
          "Forli",
          "Legnano",
          "Giugliano in Campania",
          "Trieste",
          "Busto Arsizio",
          "Assen",
          "Sosnowiec",
          "Alverca do Ribatejo",
          "Estoril",
          "Oeiras",
          "Constanta",
          "Saratov",
          "Tula",
          "Izhevsk",
          "Karlstad",
          "Cherkasy",
          "Grafing",
          "Reus",
          "Pessac",
          "Sartrouville",
          "Molesey",
          "Banja Luka",
          "Aarschot",
          "Chur",
          "Pilsen",
          "Villingen-Schwenningen",
          "Flensburg",
          "Kastrup",
          "Helsingor",
          "Guadalajara",
          "Granollers",
          "Colombes",
          "Perpignan",
          "Metz",
          "Vandoeuvre-les-Nancy",
          "Toulon",
          "Bron",
          "Chesham",
          "Cheshunt",
          "Darlington",
          "Hereford",
          "Kidderminster",
          "Newbury",
          "Penrith",
          "The Royal Town of Sutton Coldfield",
          "Desio",
          "Moncalieri",
          "Lelystad",
          "Roosendaal",
          "Houten",
          "Maarssen",
          "Soest",
          "Torun",
          "Plock",
          "Olsztyn",
          "Pila",
          "Guimaraes",
          "Cascais",
          "Paco de Arcos",
          "Setubal",
          "Targu Mures",
          "Sochi",
          "Khabarovsk",
          "Kirov",
          "Ryazan",
          "Umea",
          "Jonkoping",
          "Kalmar",
          "Gavle",
          "Kremenchuk",
          "Rapperswil-Jona",
          "Saint-Ghislain",
          "Nevers",
          "Kosice",
          "Halle",
          "Tervuren",
          "Morges",
          "Hanau",
          "Hurth",
          "Kaiserslautern",
          "Jaen",
          "Albacete",
          "Torrejon de Ardoz",
          "Guyancourt",
          "Issy-les-Moulineaux",
          "Orvault",
          "Borehamwood",
          "Bury",
          "Camberley",
          "Chorley",
          "East Grinstead",
          "Eastleigh",
          "Havant",
          "Lancaster",
          "Margate",
          "Pontefract",
          "Redditch",
          "Rochester",
          "Scarborough",
          "Sevenoaks",
          "Winsford",
          "Witham",
          "Witney",
          "East Kilbride",
          "Kirkcaldy",
          "Caerphilly",
          "Neath",
          "Swansea",
          "Debrecen",
          "Nyiregyhaza",
          "Cosenza",
          "Livorno",
          "Novara",
          "Pordenone",
          "Wageningen",
          "Maastricht",
          "Schijndel",
          "Wassenaar",
          "Czestochowa",
          "Dabrowa Gornicza",
          "Tyumen",
          "Volgograd",
          "Norrkoping",
          "Orebro",
          "Greystones",
          "Reutov",
          "Biberach",
          "Molins de Rei",
          "Sao Cosme",
          "Klaipeda",
          "Hatfield",
          "Anderlecht",
          "Lokeren",
          "Wetteren",
          "Braine-l'Alleud",
          "Gomel",
          "Freienbach",
          "Wadenswil",
          "Filderstadt",
          "Offenburg",
          "Tubingen",
          "Bayreuth",
          "Freising",
          "Rostock",
          "Hamm",
          "Leverkusen",
          "Neuss",
          "Oberhausen",
          "Solingen",
          "Erfurt",
          "Holbaek",
          "Kolding",
          "Skive",
          "Marbella",
          "Rubi",
          "Badajoz",
          "Raisio",
          "Clamart",
          "Ivry-sur-Seine",
          "Melun",
          "Marcq-en-Baroeul",
          "Valenciennes",
          "Saint-Raphael",
          "Burton upon Trent",
          "Clacton-on-Sea",
          "Hitchin",
          "Huntingdon",
          "Leighton Buzzard",
          "Reigate",
          "Yeovil",
          "Bangor",
          "Lurgan",
          "Bangor",
          "Szekesfehervar",
          "Letterkenny",
          "Chieti",
          "Cremona",
          "Messina",
          "Montesilvano",
          "Pavia",
          "Terni",
          "Mogliano Veneto",
          "Gallarate",
          "Veldhoven",
          "Hoorn",
          "Bilthoven",
          "Leusden",
          "Vlaardingen",
          "Opole",
          "Sopot",
          "Espinho",
          "Povoa de Varzim",
          "Montijo",
          "Craiova",
          "Ulyanovsk",
          "Kragujevac",
          "Varazdin",
          "Botkyrka",
          "Alcoi",
          "Fuenlabrada",
          "Naron",
          "Rivas-Vaciamadrid",
          "Torrent",
          "Aulnay-sous-Bois",
          "Plouzane",
          "Thiais",
          "Castellammare di Stabia",
          "Trencin",
          "Brest",
          "Nikaia",
          "Worsley",
          4488,
          "Klagenfurt am Worthersee",
          "Heist-op-den-Berg",
          "Zaventem",
          "Genk",
          "Aalst",
          "Oudenaarde",
          "Ostend",
          "Ottignies-Louvain-la-Neuve",
          "Burgas",
          "Crissier",
          "Jihlava",
          "Zlin",
          "Ludwigsburg",
          "Bamberg",
          "Olching",
          "Pfaffenhofen an der Ilm",
          "Bad Kreuznach",
          "Landau",
          "Saarbrucken",
          "Sonderborg",
          "Esbjerg",
          "Vejle",
          "Holstebro",
          "Ourense",
          "Pontevedra",
          "Aviles",
          "Ibiza",
          "Segovia",
          "Lorient",
          "Troyes",
          "Belfort",
          "Champs-sur-Marne",
          "Fontenay-sous-Bois",
          "Gif-sur-Yvette",
          "Serris",
          "Le Havre",
          "Compiegne",
          "Hyeres",
          "Andover",
          "Biggleswade",
          "Burgess Hill",
          "Bury St Edmunds",
          "Cramlington",
          "Ely",
          "Evesham",
          "Great Yarmouth",
          "Haverhill",
          "Hucknall",
          "Ilkley",
          "Malmesbury",
          "Rayleigh",
          "Scunthorpe",
          "Spalding",
          "Lytham St Annes",
          "St Austell",
          "Stroud",
          "Wymondham",
          "Lisburn",
          "Newry",
          "Cumbernauld",
          "Paisley",
          "Dundalk",
          "Wicklow",
          "Senigallia",
          "Alba",
          "Rho",
          "Pistoia",
          "Ravenna",
          "Reggio Calabria",
          "Hoogeveen",
          "Harderwijk",
          "Aalsmeer",
          "Diemen",
          "Spijkenisse",
          "Piaseczno",
          "Jastrzebie-Zdroj",
          "Albufeira",
          "Santo Tirso",
          "Kaluga",
          "Tver",
          "Piestany",
          "Akersberga",
          "Upplands Vasby",
          "Vallentuna",
          "Halmstad",
          "Molndal",
          "Skovde",
          "Uddevalla",
          "Kropyvnytskyi",
          "Poltava",
          "Chernihiv",
          "Pula",
          "Lagos",
          "Lede",
          "Sint-Jans-Molenbeek",
          "Lucan",
          "Mytishchi",
          "Basauri",
          "Parla",
          "Puerto Real",
          "Annemasse",
          "Chelles",
          "Berkel en Rodenrijs",
          "Katwijk aan Zee",
          "Daugavpils",
          "Andorra la Vella",
          "Lier",
          "Overijse",
          "Dendermonde",
          "Viciebsk",
          "Aarau",
          "Neuchatel",
          "Sion",
          "Wallisellen",
          "Wetzikon",
          "Esslingen",
          "Friedrichshafen",
          "Ravensburg",
          "Reutlingen",
          "Bensheim",
          "Emden",
          "Arnsberg",
          "Gutersloh",
          "Meerbusch",
          "Paderborn",
          "Siegen",
          "Herning",
          "Randers",
          "Viborg",
          "Ceuta",
          "Coslada",
          "Hamina",
          "Lahti",
          "Aubervilliers",
          "Bagneux",
          "Bobigny",
          "Neuilly-sur-Seine",
          "Palaiseau"
         ],
         "xaxis": "x",
         "y": [
          6965,
          5776,
          4953,
          3603,
          3012,
          2725,
          2679,
          2633,
          2587,
          2454,
          2231,
          2159,
          1954,
          1781,
          1584,
          1565,
          1473,
          1349,
          1274,
          1238,
          1212,
          1209,
          1196,
          1088,
          1029,
          993,
          938,
          898,
          889,
          882,
          876,
          872,
          862,
          846,
          833,
          827,
          810,
          709,
          702,
          699,
          696,
          673,
          637,
          621,
          611,
          601,
          588,
          572,
          562,
          555,
          533,
          529,
          513,
          510,
          506,
          467,
          464,
          454,
          448,
          444,
          441,
          438,
          431,
          425,
          421,
          421,
          415,
          412,
          395,
          386,
          382,
          372,
          369,
          366,
          363,
          356,
          356,
          353,
          350,
          340,
          337,
          337,
          337,
          333,
          330,
          327,
          314,
          310,
          310,
          307,
          287,
          284,
          284,
          278,
          258,
          252,
          248,
          248,
          248,
          248,
          245,
          242,
          242,
          238,
          235,
          235,
          235,
          232,
          229,
          225,
          219,
          219,
          219,
          212,
          209,
          209,
          209,
          206,
          206,
          206,
          206,
          203,
          203,
          203,
          199,
          199,
          199,
          193,
          189,
          189,
          189,
          186,
          186,
          186,
          180,
          180,
          180,
          180,
          176,
          176,
          173,
          173,
          170,
          170,
          170,
          167,
          167,
          167,
          167,
          167,
          163,
          163,
          163,
          163,
          163,
          163,
          160,
          160,
          160,
          160,
          160,
          160,
          157,
          157,
          157,
          157,
          157,
          157,
          154,
          154,
          150,
          150,
          150,
          147,
          147,
          147,
          147,
          147,
          147,
          144,
          144,
          144,
          144,
          144,
          144,
          144,
          140,
          140,
          140,
          140,
          140,
          140,
          137,
          137,
          134,
          134,
          134,
          131,
          131,
          131,
          131,
          131,
          131,
          131,
          131,
          131,
          127,
          127,
          127,
          127,
          127,
          127,
          127,
          127,
          127,
          124,
          124,
          124,
          124,
          124,
          121,
          121,
          121,
          118,
          118,
          118,
          118,
          118,
          118,
          118,
          118,
          118,
          114,
          114,
          114,
          114,
          114,
          114,
          114,
          114,
          111,
          111,
          111,
          111,
          111,
          111,
          111,
          111,
          111,
          111,
          108,
          108,
          108,
          108,
          108,
          108,
          108,
          108,
          108,
          105,
          105,
          105,
          105,
          105,
          105,
          105,
          105,
          105,
          105,
          101,
          101,
          101,
          101,
          101,
          101,
          101,
          101,
          101,
          98,
          98,
          98,
          98,
          98,
          98,
          98,
          98,
          98,
          98,
          98,
          98,
          98,
          98,
          95,
          95,
          95,
          95,
          95,
          95,
          95,
          95,
          95,
          91,
          91,
          91,
          91,
          91,
          91,
          88,
          88,
          88,
          88,
          88,
          88,
          88,
          88,
          85,
          85,
          85,
          85,
          85,
          85,
          85,
          85,
          85,
          85,
          82,
          82,
          82,
          82,
          82,
          82,
          82,
          82,
          82,
          82,
          82,
          82,
          82,
          82,
          78,
          78,
          78,
          78,
          78,
          78,
          78,
          78,
          78,
          78,
          78,
          78,
          78,
          78,
          78,
          78,
          78,
          78,
          78,
          78,
          75,
          75,
          75,
          75,
          75,
          75,
          75,
          75,
          75,
          75,
          75,
          75,
          75,
          75,
          75,
          75,
          75,
          72,
          72,
          72,
          72,
          72,
          72,
          72,
          72,
          72,
          72,
          72,
          72,
          72,
          72,
          72,
          72,
          72,
          69,
          69,
          69,
          69,
          69,
          69,
          69,
          69,
          69,
          69,
          69,
          69,
          69,
          69,
          69,
          69,
          69,
          69,
          69,
          69,
          69,
          69,
          69,
          69,
          69,
          69,
          65,
          65,
          65,
          65,
          65,
          65,
          65,
          65,
          65,
          65,
          65,
          65,
          65,
          65,
          65,
          65,
          65,
          65,
          65,
          65,
          65,
          65,
          62,
          62,
          62,
          62,
          62,
          62,
          62,
          62,
          62,
          62,
          62,
          62,
          62,
          62,
          62,
          62,
          62,
          62,
          62,
          62,
          62,
          62,
          62,
          62,
          62,
          62,
          62,
          62,
          62,
          62,
          62,
          62,
          62,
          59,
          59,
          59,
          59,
          59,
          59,
          59,
          59,
          59,
          59,
          59,
          59,
          59,
          59,
          59,
          59,
          59,
          59,
          56,
          56,
          56,
          56,
          56,
          56,
          56,
          56,
          56,
          56,
          56,
          56,
          56,
          56,
          56,
          56,
          56,
          56,
          56,
          56,
          56,
          56,
          56,
          56,
          52,
          52,
          52,
          52,
          52,
          52,
          52,
          52,
          52,
          52,
          52,
          52,
          52,
          52,
          52,
          52,
          52,
          52,
          52,
          52,
          52,
          52,
          52,
          52,
          52,
          52,
          52,
          52,
          52,
          52,
          52,
          52,
          52,
          52,
          52,
          49,
          49,
          49,
          49,
          49,
          49,
          49,
          49,
          49,
          49,
          49,
          49,
          49,
          49,
          49,
          49,
          49,
          49,
          49,
          49,
          49,
          49,
          49,
          49,
          49,
          49,
          49,
          49,
          49,
          46,
          46,
          46,
          46,
          46,
          46,
          46,
          46,
          46,
          46,
          46,
          46,
          46,
          46,
          46,
          46,
          46,
          46,
          46,
          46,
          46,
          46,
          46,
          46,
          46,
          46,
          46,
          46,
          46,
          46,
          46,
          46,
          46,
          46,
          46,
          46,
          46,
          46,
          46,
          42,
          42,
          42,
          42,
          42,
          42,
          42,
          42,
          42,
          42,
          42,
          42,
          42,
          42,
          42,
          42,
          42,
          42,
          42,
          42,
          42,
          42,
          42,
          42,
          42,
          42,
          42,
          42,
          42,
          42,
          42,
          42,
          42,
          42,
          42,
          42,
          42,
          42,
          42,
          42,
          42,
          42,
          42,
          42,
          42,
          42,
          42,
          42,
          42,
          42,
          42,
          42,
          42,
          39,
          39,
          39,
          39,
          39,
          39,
          39,
          39,
          39,
          39,
          39,
          39,
          39,
          39,
          39,
          39,
          39,
          39,
          39,
          39,
          39,
          39,
          39,
          39,
          39,
          39,
          39,
          39,
          39,
          39,
          39,
          39,
          39,
          39,
          39,
          39,
          39,
          39,
          39,
          39,
          39,
          39,
          39,
          39,
          39,
          39,
          39,
          39,
          39,
          39,
          39,
          39,
          36,
          36,
          36,
          36,
          36,
          36,
          36,
          36,
          36,
          36,
          36,
          36,
          36,
          36,
          36,
          36,
          36,
          36,
          36,
          36,
          36,
          36,
          36,
          36,
          36,
          36,
          36,
          36,
          36,
          36,
          36,
          36,
          36,
          36,
          36,
          36,
          36,
          36,
          36,
          36,
          36,
          36,
          36,
          36,
          36,
          36,
          36,
          36,
          36,
          36,
          36,
          36,
          36,
          36,
          36,
          36,
          36,
          33,
          33,
          33,
          33,
          33,
          33,
          33,
          33,
          33,
          33,
          33,
          33,
          33,
          33,
          33,
          33,
          33,
          33,
          33,
          33,
          33,
          33,
          33,
          33,
          33,
          33,
          33,
          33,
          33,
          33,
          33,
          33,
          33,
          33,
          33,
          33,
          33,
          33,
          33,
          33,
          33,
          33,
          33,
          33,
          33,
          33,
          33,
          33,
          33,
          33,
          33,
          33,
          33,
          33,
          33,
          33,
          33,
          33,
          33,
          33,
          33,
          33,
          33,
          33,
          33,
          33,
          33,
          33,
          33,
          33,
          33,
          33,
          33,
          33,
          33,
          33,
          33,
          33,
          33,
          33,
          33,
          29,
          29,
          29,
          29,
          29,
          29,
          29,
          29,
          29,
          29,
          29,
          29,
          29,
          29,
          29,
          29,
          29,
          29,
          29,
          29,
          29,
          29,
          29,
          29,
          29,
          29,
          29,
          29,
          29,
          29,
          29,
          29,
          29,
          29,
          29,
          29,
          29,
          29,
          29,
          29,
          29,
          29,
          29,
          29,
          29,
          29,
          29,
          29,
          29,
          29,
          29,
          29,
          29,
          29,
          29,
          29,
          29,
          29,
          29,
          29,
          29,
          29,
          29,
          29,
          29,
          29,
          29,
          29,
          29,
          29,
          29,
          29,
          29,
          29,
          29,
          29,
          29,
          29,
          29,
          29,
          29,
          29,
          29,
          29,
          29,
          29,
          29,
          29,
          29,
          29,
          29,
          29,
          29,
          29,
          29,
          29,
          29,
          29,
          29,
          29,
          29,
          29,
          29,
          29,
          29,
          26,
          26,
          26,
          26,
          26,
          26,
          26,
          26,
          26,
          26,
          26,
          26,
          26,
          26,
          26,
          26,
          26,
          26,
          26,
          26,
          26,
          26,
          26,
          26,
          26,
          26,
          26,
          26,
          26,
          26,
          26,
          26,
          26
         ],
         "yaxis": "y"
        }
       ],
       "layout": {
        "barmode": "relative",
        "legend": {
         "tracegroupgap": 0
        },
        "margin": {
         "t": 60
        },
        "template": {
         "data": {
          "bar": [
           {
            "error_x": {
             "color": "#2a3f5f"
            },
            "error_y": {
             "color": "#2a3f5f"
            },
            "marker": {
             "line": {
              "color": "#E5ECF6",
              "width": 0.5
             },
             "pattern": {
              "fillmode": "overlay",
              "size": 10,
              "solidity": 0.2
             }
            },
            "type": "bar"
           }
          ],
          "barpolar": [
           {
            "marker": {
             "line": {
              "color": "#E5ECF6",
              "width": 0.5
             },
             "pattern": {
              "fillmode": "overlay",
              "size": 10,
              "solidity": 0.2
             }
            },
            "type": "barpolar"
           }
          ],
          "carpet": [
           {
            "aaxis": {
             "endlinecolor": "#2a3f5f",
             "gridcolor": "white",
             "linecolor": "white",
             "minorgridcolor": "white",
             "startlinecolor": "#2a3f5f"
            },
            "baxis": {
             "endlinecolor": "#2a3f5f",
             "gridcolor": "white",
             "linecolor": "white",
             "minorgridcolor": "white",
             "startlinecolor": "#2a3f5f"
            },
            "type": "carpet"
           }
          ],
          "choropleth": [
           {
            "colorbar": {
             "outlinewidth": 0,
             "ticks": ""
            },
            "type": "choropleth"
           }
          ],
          "contour": [
           {
            "colorbar": {
             "outlinewidth": 0,
             "ticks": ""
            },
            "colorscale": [
             [
              0,
              "#0d0887"
             ],
             [
              0.1111111111111111,
              "#46039f"
             ],
             [
              0.2222222222222222,
              "#7201a8"
             ],
             [
              0.3333333333333333,
              "#9c179e"
             ],
             [
              0.4444444444444444,
              "#bd3786"
             ],
             [
              0.5555555555555556,
              "#d8576b"
             ],
             [
              0.6666666666666666,
              "#ed7953"
             ],
             [
              0.7777777777777778,
              "#fb9f3a"
             ],
             [
              0.8888888888888888,
              "#fdca26"
             ],
             [
              1,
              "#f0f921"
             ]
            ],
            "type": "contour"
           }
          ],
          "contourcarpet": [
           {
            "colorbar": {
             "outlinewidth": 0,
             "ticks": ""
            },
            "type": "contourcarpet"
           }
          ],
          "heatmap": [
           {
            "colorbar": {
             "outlinewidth": 0,
             "ticks": ""
            },
            "colorscale": [
             [
              0,
              "#0d0887"
             ],
             [
              0.1111111111111111,
              "#46039f"
             ],
             [
              0.2222222222222222,
              "#7201a8"
             ],
             [
              0.3333333333333333,
              "#9c179e"
             ],
             [
              0.4444444444444444,
              "#bd3786"
             ],
             [
              0.5555555555555556,
              "#d8576b"
             ],
             [
              0.6666666666666666,
              "#ed7953"
             ],
             [
              0.7777777777777778,
              "#fb9f3a"
             ],
             [
              0.8888888888888888,
              "#fdca26"
             ],
             [
              1,
              "#f0f921"
             ]
            ],
            "type": "heatmap"
           }
          ],
          "heatmapgl": [
           {
            "colorbar": {
             "outlinewidth": 0,
             "ticks": ""
            },
            "colorscale": [
             [
              0,
              "#0d0887"
             ],
             [
              0.1111111111111111,
              "#46039f"
             ],
             [
              0.2222222222222222,
              "#7201a8"
             ],
             [
              0.3333333333333333,
              "#9c179e"
             ],
             [
              0.4444444444444444,
              "#bd3786"
             ],
             [
              0.5555555555555556,
              "#d8576b"
             ],
             [
              0.6666666666666666,
              "#ed7953"
             ],
             [
              0.7777777777777778,
              "#fb9f3a"
             ],
             [
              0.8888888888888888,
              "#fdca26"
             ],
             [
              1,
              "#f0f921"
             ]
            ],
            "type": "heatmapgl"
           }
          ],
          "histogram": [
           {
            "marker": {
             "pattern": {
              "fillmode": "overlay",
              "size": 10,
              "solidity": 0.2
             }
            },
            "type": "histogram"
           }
          ],
          "histogram2d": [
           {
            "colorbar": {
             "outlinewidth": 0,
             "ticks": ""
            },
            "colorscale": [
             [
              0,
              "#0d0887"
             ],
             [
              0.1111111111111111,
              "#46039f"
             ],
             [
              0.2222222222222222,
              "#7201a8"
             ],
             [
              0.3333333333333333,
              "#9c179e"
             ],
             [
              0.4444444444444444,
              "#bd3786"
             ],
             [
              0.5555555555555556,
              "#d8576b"
             ],
             [
              0.6666666666666666,
              "#ed7953"
             ],
             [
              0.7777777777777778,
              "#fb9f3a"
             ],
             [
              0.8888888888888888,
              "#fdca26"
             ],
             [
              1,
              "#f0f921"
             ]
            ],
            "type": "histogram2d"
           }
          ],
          "histogram2dcontour": [
           {
            "colorbar": {
             "outlinewidth": 0,
             "ticks": ""
            },
            "colorscale": [
             [
              0,
              "#0d0887"
             ],
             [
              0.1111111111111111,
              "#46039f"
             ],
             [
              0.2222222222222222,
              "#7201a8"
             ],
             [
              0.3333333333333333,
              "#9c179e"
             ],
             [
              0.4444444444444444,
              "#bd3786"
             ],
             [
              0.5555555555555556,
              "#d8576b"
             ],
             [
              0.6666666666666666,
              "#ed7953"
             ],
             [
              0.7777777777777778,
              "#fb9f3a"
             ],
             [
              0.8888888888888888,
              "#fdca26"
             ],
             [
              1,
              "#f0f921"
             ]
            ],
            "type": "histogram2dcontour"
           }
          ],
          "mesh3d": [
           {
            "colorbar": {
             "outlinewidth": 0,
             "ticks": ""
            },
            "type": "mesh3d"
           }
          ],
          "parcoords": [
           {
            "line": {
             "colorbar": {
              "outlinewidth": 0,
              "ticks": ""
             }
            },
            "type": "parcoords"
           }
          ],
          "pie": [
           {
            "automargin": true,
            "type": "pie"
           }
          ],
          "scatter": [
           {
            "fillpattern": {
             "fillmode": "overlay",
             "size": 10,
             "solidity": 0.2
            },
            "type": "scatter"
           }
          ],
          "scatter3d": [
           {
            "line": {
             "colorbar": {
              "outlinewidth": 0,
              "ticks": ""
             }
            },
            "marker": {
             "colorbar": {
              "outlinewidth": 0,
              "ticks": ""
             }
            },
            "type": "scatter3d"
           }
          ],
          "scattercarpet": [
           {
            "marker": {
             "colorbar": {
              "outlinewidth": 0,
              "ticks": ""
             }
            },
            "type": "scattercarpet"
           }
          ],
          "scattergeo": [
           {
            "marker": {
             "colorbar": {
              "outlinewidth": 0,
              "ticks": ""
             }
            },
            "type": "scattergeo"
           }
          ],
          "scattergl": [
           {
            "marker": {
             "colorbar": {
              "outlinewidth": 0,
              "ticks": ""
             }
            },
            "type": "scattergl"
           }
          ],
          "scattermapbox": [
           {
            "marker": {
             "colorbar": {
              "outlinewidth": 0,
              "ticks": ""
             }
            },
            "type": "scattermapbox"
           }
          ],
          "scatterpolar": [
           {
            "marker": {
             "colorbar": {
              "outlinewidth": 0,
              "ticks": ""
             }
            },
            "type": "scatterpolar"
           }
          ],
          "scatterpolargl": [
           {
            "marker": {
             "colorbar": {
              "outlinewidth": 0,
              "ticks": ""
             }
            },
            "type": "scatterpolargl"
           }
          ],
          "scatterternary": [
           {
            "marker": {
             "colorbar": {
              "outlinewidth": 0,
              "ticks": ""
             }
            },
            "type": "scatterternary"
           }
          ],
          "surface": [
           {
            "colorbar": {
             "outlinewidth": 0,
             "ticks": ""
            },
            "colorscale": [
             [
              0,
              "#0d0887"
             ],
             [
              0.1111111111111111,
              "#46039f"
             ],
             [
              0.2222222222222222,
              "#7201a8"
             ],
             [
              0.3333333333333333,
              "#9c179e"
             ],
             [
              0.4444444444444444,
              "#bd3786"
             ],
             [
              0.5555555555555556,
              "#d8576b"
             ],
             [
              0.6666666666666666,
              "#ed7953"
             ],
             [
              0.7777777777777778,
              "#fb9f3a"
             ],
             [
              0.8888888888888888,
              "#fdca26"
             ],
             [
              1,
              "#f0f921"
             ]
            ],
            "type": "surface"
           }
          ],
          "table": [
           {
            "cells": {
             "fill": {
              "color": "#EBF0F8"
             },
             "line": {
              "color": "white"
             }
            },
            "header": {
             "fill": {
              "color": "#C8D4E3"
             },
             "line": {
              "color": "white"
             }
            },
            "type": "table"
           }
          ]
         },
         "layout": {
          "annotationdefaults": {
           "arrowcolor": "#2a3f5f",
           "arrowhead": 0,
           "arrowwidth": 1
          },
          "autotypenumbers": "strict",
          "coloraxis": {
           "colorbar": {
            "outlinewidth": 0,
            "ticks": ""
           }
          },
          "colorscale": {
           "diverging": [
            [
             0,
             "#8e0152"
            ],
            [
             0.1,
             "#c51b7d"
            ],
            [
             0.2,
             "#de77ae"
            ],
            [
             0.3,
             "#f1b6da"
            ],
            [
             0.4,
             "#fde0ef"
            ],
            [
             0.5,
             "#f7f7f7"
            ],
            [
             0.6,
             "#e6f5d0"
            ],
            [
             0.7,
             "#b8e186"
            ],
            [
             0.8,
             "#7fbc41"
            ],
            [
             0.9,
             "#4d9221"
            ],
            [
             1,
             "#276419"
            ]
           ],
           "sequential": [
            [
             0,
             "#0d0887"
            ],
            [
             0.1111111111111111,
             "#46039f"
            ],
            [
             0.2222222222222222,
             "#7201a8"
            ],
            [
             0.3333333333333333,
             "#9c179e"
            ],
            [
             0.4444444444444444,
             "#bd3786"
            ],
            [
             0.5555555555555556,
             "#d8576b"
            ],
            [
             0.6666666666666666,
             "#ed7953"
            ],
            [
             0.7777777777777778,
             "#fb9f3a"
            ],
            [
             0.8888888888888888,
             "#fdca26"
            ],
            [
             1,
             "#f0f921"
            ]
           ],
           "sequentialminus": [
            [
             0,
             "#0d0887"
            ],
            [
             0.1111111111111111,
             "#46039f"
            ],
            [
             0.2222222222222222,
             "#7201a8"
            ],
            [
             0.3333333333333333,
             "#9c179e"
            ],
            [
             0.4444444444444444,
             "#bd3786"
            ],
            [
             0.5555555555555556,
             "#d8576b"
            ],
            [
             0.6666666666666666,
             "#ed7953"
            ],
            [
             0.7777777777777778,
             "#fb9f3a"
            ],
            [
             0.8888888888888888,
             "#fdca26"
            ],
            [
             1,
             "#f0f921"
            ]
           ]
          },
          "colorway": [
           "#636efa",
           "#EF553B",
           "#00cc96",
           "#ab63fa",
           "#FFA15A",
           "#19d3f3",
           "#FF6692",
           "#B6E880",
           "#FF97FF",
           "#FECB52"
          ],
          "font": {
           "color": "#2a3f5f"
          },
          "geo": {
           "bgcolor": "white",
           "lakecolor": "white",
           "landcolor": "#E5ECF6",
           "showlakes": true,
           "showland": true,
           "subunitcolor": "white"
          },
          "hoverlabel": {
           "align": "left"
          },
          "hovermode": "closest",
          "mapbox": {
           "style": "light"
          },
          "paper_bgcolor": "white",
          "plot_bgcolor": "#E5ECF6",
          "polar": {
           "angularaxis": {
            "gridcolor": "white",
            "linecolor": "white",
            "ticks": ""
           },
           "bgcolor": "#E5ECF6",
           "radialaxis": {
            "gridcolor": "white",
            "linecolor": "white",
            "ticks": ""
           }
          },
          "scene": {
           "xaxis": {
            "backgroundcolor": "#E5ECF6",
            "gridcolor": "white",
            "gridwidth": 2,
            "linecolor": "white",
            "showbackground": true,
            "ticks": "",
            "zerolinecolor": "white"
           },
           "yaxis": {
            "backgroundcolor": "#E5ECF6",
            "gridcolor": "white",
            "gridwidth": 2,
            "linecolor": "white",
            "showbackground": true,
            "ticks": "",
            "zerolinecolor": "white"
           },
           "zaxis": {
            "backgroundcolor": "#E5ECF6",
            "gridcolor": "white",
            "gridwidth": 2,
            "linecolor": "white",
            "showbackground": true,
            "ticks": "",
            "zerolinecolor": "white"
           }
          },
          "shapedefaults": {
           "line": {
            "color": "#2a3f5f"
           }
          },
          "ternary": {
           "aaxis": {
            "gridcolor": "white",
            "linecolor": "white",
            "ticks": ""
           },
           "baxis": {
            "gridcolor": "white",
            "linecolor": "white",
            "ticks": ""
           },
           "bgcolor": "#E5ECF6",
           "caxis": {
            "gridcolor": "white",
            "linecolor": "white",
            "ticks": ""
           }
          },
          "title": {
           "x": 0.05
          },
          "xaxis": {
           "automargin": true,
           "gridcolor": "white",
           "linecolor": "white",
           "ticks": "",
           "title": {
            "standoff": 15
           },
           "zerolinecolor": "white",
           "zerolinewidth": 2
          },
          "yaxis": {
           "automargin": true,
           "gridcolor": "white",
           "linecolor": "white",
           "ticks": "",
           "title": {
            "standoff": 15
           },
           "zerolinecolor": "white",
           "zerolinewidth": 2
          }
         }
        },
        "xaxis": {
         "anchor": "y",
         "domain": [
          0,
          1
         ],
         "title": {
          "text": "City"
         }
        },
        "yaxis": {
         "anchor": "x",
         "domain": [
          0,
          1
         ],
         "title": {
          "text": "sum of Users"
         }
        }
       }
      },
      "text/html": [
       "<div>                            <div id=\"b3224712-3292-44c6-845b-a0070d43badc\" class=\"plotly-graph-div\" style=\"height:525px; width:100%;\"></div>            <script type=\"text/javascript\">                require([\"plotly\"], function(Plotly) {                    window.PLOTLYENV=window.PLOTLYENV || {};                                    if (document.getElementById(\"b3224712-3292-44c6-845b-a0070d43badc\")) {                    Plotly.newPlot(                        \"b3224712-3292-44c6-845b-a0070d43badc\",                        [{\"alignmentgroup\":\"True\",\"bingroup\":\"x\",\"histfunc\":\"sum\",\"hovertemplate\":\"City=%{x}<br>sum of Users=%{y}<extra></extra>\",\"legendgroup\":\"\",\"marker\":{\"color\":\"#636efa\",\"pattern\":{\"shape\":\"\"}},\"name\":\"\",\"offsetgroup\":\"\",\"orientation\":\"v\",\"showlegend\":false,\"x\":[\"Paris\",\"Dublin\",\"Madrid\",\"Barcelona\",\"Warsaw\",\"Moscow\",\"Zurich\",\"Amsterdam\",\"Milan\",\"Berlin\",\"Edinburgh\",\"Stockholm\",\"Munich\",\"Rome\",\"Hamburg\",\"Lisbon\",\"Frankfurt\",\"Vienna\",\"Cologne\",\"Kyiv\",\"Prague\",\"Krakow\",\"Copenhagen\",\"Zagreb\",\"Bucharest\",\"Athens\",\"Budapest\",\"Saint Petersburg\",\"Birmingham\",\"Wroclaw\",\"Brussels\",\"Helsinki\",\"Rotterdam\",\"Manchester\",\"Lyon\",\"Oslo Municipality\",\"Sofia\",\"Leeds\",\"Valencia\",\"Porto\",\"Stuttgart\",\"Gothenburg\",\"Bristol\",\"Vilnius\",\"Turin\",\"Poznan\",\"Utrecht\",\"Glasgow\",\"Seville\",\"Liverpool\",\"Toulouse\",\"Bratislava\",\"Newcastle upon Tyne\",\"Bordeaux\",\"Minsk\",\"Antwerp\",\"Bilbao\",\"Riga\",\"Tallinn\",\"Bologna\",\"Belgrade\",\"Lille\",\"Naples\",\"Dusseldorf\",\"Sheffield\",\"Genoa\",\"Odense\",\"Eindhoven\",\"Malaga\",\"Thessaloniki\",\"Malmo\",\"Coventry\",\"Cork\",\"Marseille\",\"Zaragoza\",\"Cardiff\",\"Katowice\",\"Geneva\",\"Montpellier\",\"Gdansk\",\"Ghent\",\"Slough\",\"The Hague\",\"Ljubljana\",\"Pozuelo de Alarcon\",\"Nanterre\",\"Rennes\",\"Aarhus\",\"Nottingham\",\"Kharkiv\",\"Brighton\",\"Breda\",\"Lodz\",\"Cambridge\",\"Padua\",\"Southampton\",\"Reims\",\"Croydon\",\"Belfast\",\"Almere\",\"Florence\",\"Nuremberg\",\"Lviv\",\"Norwich\",\"Brno\",\"Norderstedt\",\"Yekaterinburg\",\"Prato\",\"Dortmund\",\"A Coruna\",\"Bournemouth\",\"Reading\",\"Dnipro\",\"L'Hospitalet de Llobregat\",\"Hanover\",\"Essen\",\"Nice\",\"Leipzig\",\"Palma\",\"Courbevoie\",\"Groningen\",\"Lausanne\",\"Strasbourg\",\"Nantes\",\"Graz\",\"Limerick\",\"Luxembourg\",\"Enschede\",\"Oxford\",\"Bari\",\"Novosibirsk\",\"Valladolid\",\"Haarlem\",\"Naaldwijk\",\"Basel\",\"Northampton\",\"Brescia\",\"Verona\",\"Watford\",\"Lublin\",\"Munster\",\"Krasnodar\",\"Hasselt\",\"Aalborg\",\"Palermo\",\"Dresden\",\"Pamplona\",\"Guildford\",\"Reykjavik\",\"Solna\",\"Bremen\",\"Plymouth\",\"Salford\",\"Stoke-on-Trent\",\"Kazan\",\"Kaunas\",\"Tirana\",\"Bern\",\"Karlsruhe\",\"Granada\",\"Gijon\",\"Portsmouth\",\"Mannheim\",\"Alicante\",\"Loughborough\",\"Amersfoort\",\"Szczecin\",\"Acharnes\",\"Sant Cugat del Valles\",\"Boulogne-Billancourt\",\"Zwolle\",\"Cluj-Napoca\",\"Odessa\",\"Freiburg im Breisgau\",\"Tampere\",\"Grenoble\",\"Basingstoke\",\"Luton\",\"Trondheim Municipality\",\"Dijon\",\"Bolton\",\"Kingston upon Hull\",\"Leicester\",\"York\",\"Catania\",\"Saint-Denis\",\"Vigo\",\"Mont-Saint-Aignan\",\"Crawley\",\"Derby\",\"Hemel Hempstead\",\"Aberdeen\",\"Salamanca\",\"Sunderland\",\"Bonn\",\"Donostia-San Sebastian\",\"Turku\",\"Lucerne\",\"Terrassa\",\"Rouen\",\"Modena\",\"Venice\",\"Tilburg\",\"Amstelveen\",\"Samara\",\"Rivne\",\"Alcobendas\",\"Amiens\",\"Bath\",\"Birkenhead\",\"Bradford\",\"Cheltenham\",\"Colchester\",\"Vicenza\",\"Lund\",\"Aix-en-Provence\",\"Saint-Etienne\",\"Chisinau\",\"Leeuwarden\",\"Vila Nova de Gaia\",\"Exeter\",\"Peterborough\",\"Nizhny Novgorod\",\"Alcala de Henares\",\"Epsom\",\"Farnborough\",\"Preston\",\"Athlone\",\"Monza\",\"Nijmegen\",\"Leiden\",\"Rzeszow\",\"Wiesbaden\",\"Besancon\",\"Doncaster\",\"Winchester\",\"Galway\",\"Amadora\",\"Jerez de la Frontera\",\"Trnava\",\"Kortrijk\",\"Getafe\",\"Espoo\",\"Versailles\",\"Ipswich\",\"Wolverhampton\",\"Bergamo\",\"Udine\",\"Uppsala\",\"Helsingborg\",\"Badalona\",\"Vannes\",\"Montreuil\",\"Poole\",\"Lecce\",\"Braga\",\"Almada\",\"Rostov-on-Don\",\"Presov\",\"Innsbruck\",\"Varna\",\"Mataro\",\"Dartford\",\"Southend-on-Sea\",\"Stockport\",\"Wembley\",\"Parma\",\"Arnhem\",\"Bialystok\",\"Plovdiv\",\"Sarajevo\",\"St. Gallen\",\"Cordoba\",\"Vitoria-Gasteiz\",\"Bedford\",\"Bydgoszcz\",\"Sao Domingos de Rana\",\"Hole Municipality\",\"Lugano\",\"Winterthur\",\"Bielefeld\",\"Mainz\",\"Las Rozas de Madrid\",\"Las Palmas de Gran Canaria\",\"Santander\",\"Asnieres-sur-Seine\",\"Creteil\",\"Chelmsford\",\"Walsall\",\"'s-Hertogenbosch\",\"Iasi\",\"Alhaurin de la Torre\",\"Leuven\",\"Wurzburg\",\"Ballerup\",\"Blackburn\",\"Canterbury\",\"Telford\",\"Split\",\"Reggio Emilia\",\"Hilversum\",\"Liege\",\"Kassel\",\"Sabadell\",\"Southport\",\"Delft\",\"Bergen Municipality\",\"Potsdam\",\"Kiel\",\"Tarm\",\"Girona\",\"Villeneuve-d'Ascq\",\"Villeurbanne\",\"Huddersfield\",\"Gouda\",\"Mechelen\",\"Santiago de Compostela\",\"Murcia\",\"Barnsley\",\"Basildon\",\"Gravesend\",\"St Albans\",\"Ufa\",\"Boras\",\"Novi Sad\",\"Regensburg\",\"Bad Oeynhausen\",\"Bochum\",\"Monchengladbach\",\"Wuppertal\",\"Leon\",\"Bayonne\",\"Merignac\",\"Halifax\",\"Gdynia\",\"Coimbra\",\"Brasov\",\"Timisoara\",\"Taby\",\"Schaerbeek\",\"Horgen\",\"Augsburg\",\"Duisburg\",\"Mulhouse\",\"Argenteuil\",\"Nimes\",\"Horsham\",\"Maidstone\",\"Stockton-on-Tees\",\"Woking\",\"Livingston\",\"Tralee\",\"Cesena\",\"Treviso\",\"Podgorica\",\"Baerum\",\"Valdemoro\",\"Villafranca del Castillo\",\"Peristeri\",\"Charleroi\",\"Ceske Budejovice\",\"Ulm\",\"Clermont-Ferrand\",\"Antibes\",\"Eastbourne\",\"Lincoln\",\"Rotherham\",\"Worcester\",\"Drogheda\",\"Pescara\",\"Apeldoorn\",\"Kielce\",\"Yaroslavl\",\"Viby\",\"Tres Cantos\",\"Banska Bystrica\",\"Bruges\",\"Pfyn\",\"Thalwil\",\"Brunswick\",\"Oldenburg\",\"Fredericia\",\"Lleida\",\"Bracknell\",\"Chester\",\"Oldham\",\"Osijek\",\"Como\",\"Lucca\",\"Deventer\",\"Gliwice\",\"Huddinge\",\"Sollentuna\",\"Salzburg\",\"Roeselare\",\"Oviedo\",\"Orleans\",\"Evry\",\"Noisy-le-Grand\",\"Vitry-sur-Seine\",\"Nancy\",\"Gateshead\",\"Harrogate\",\"Mansfield\",\"Redhill\",\"Sale\",\"Taunton\",\"Dundee\",\"Rimini\",\"Trento\",\"Zoetermeer\",\"Zielona Gora\",\"Bielsko-Biala\",\"Leiria\",\"Oradea\",\"Barnaul\",\"Chelyabinsk\",\"Lulea\",\"Linkoping\",\"Linz\",\"Ostrava\",\"Gottingen\",\"Roskilde\",\"Silkeborg\",\"Alcorcon\",\"Tarragona\",\"Valence\",\"St Helier\",\"Ashford\",\"Hastings\",\"Rugby\",\"Shrewsbury\",\"St Helens\",\"Stevenage\",\"Worthing\",\"Faro\",\"Voronezh\",\"Drammen Municipality\",\"Villaviciosa de Odon\",\"Tartu\",\"Zilina\",\"Namur\",\"Renens\",\"Heidelberg\",\"Pforzheim\",\"Koblenz\",\"Trier\",\"Lubeck\",\"Chemnitz\",\"Burgos\",\"Brest\",\"Saint-Maur-des-Fosses\",\"Montauban\",\"Cannes\",\"Annecy\",\"Chambery\",\"Aylesbury\",\"Milton Keynes\",\"Rochdale\",\"Stourbridge\",\"Rijeka\",\"Bolzano\",\"Cagliari\",\"Foggia\",\"Helmond\",\"Hoofddorp\",\"Purmerend\",\"Krasnoyarsk\",\"Khimki\",\"Vasteras\",\"Vinnytsia\",\"Bar-le-Duc\",\"Nitra\",\"Alimos\",\"Zug\",\"Dubendorf\",\"Benidorm\",\"Caceres?\",\"Crewe\",\"Durham\",\"Harlow\",\"Maidenhead\",\"Nuneaton\",\"Wakefield\",\"Londonderry\",\"Pontypridd\",\"Caserta\",\"Nieuwegein\",\"Sintra\",\"Zaporizhzhia\",\"Patras\",\"Pireas\",\"Aachen\",\"Recklinghausen\",\"Rodovre\",\"Almeria\",\"Logrono\",\"Mostoles\",\"Jyvaskyla sub-region\",\"Maisons-Alfort\",\"Beeston\",\"Blackpool\",\"Middlesbrough\",\"Rickmansworth\",\"Sutton-in-Ashfield\",\"Tamworth\",\"Weston-super-Mare\",\"Wigan\",\"Falkirk\",\"Stirling\",\"Wrexham\",\"Pisa\",\"Aveiro\",\"Irkutsk\",\"Vladivostok\",\"Nis\",\"Uccle\",\"Fribourg\",\"Kilchberg\",\"Heilbronn\",\"Erlangen\",\"Ingolstadt\",\"Halle (Saale)\",\"Magdeburg\",\"Mollet del Valles\",\"Oulu\",\"Banbury\",\"Carlisle\",\"Ellesmere Port\",\"Kettering\",\"Macclesfield\",\"Runcorn\",\"Sittingbourne\",\"Sutton\",\"Douglas\",\"Glengormley\",\"Barry\",\"Vigevano\",\"Taranto\",\"Doetinchem\",\"Oosterhout\",\"Alkmaar\",\"Dordrecht\",\"Zabrze\",\"Evora\",\"Omsk\",\"Tomsk\",\"Vaxjo\",\"Kristiansand Municipality\",\"Cakovec\",\"Grodno\",\"Adliswil\",\"Osnabruck\",\"Santa Cruz de Tenerife\",\"Castellon de la Plana\",\"Vantaa\",\"Saint-Germain-en-Laye\",\"Limoges\",\"La Rochelle\",\"Bletchley\",\"Castleford\",\"Gloucester\",\"Haywards Heath\",\"Solihull\",\"Hamilton\",\"Perth\",\"Cwmbran\",\"Naas\",\"Cinisello Balsamo\",\"Pesaro\",\"Hengelo\",\"Funchal\",\"Ploiesti\",\"Kaliningrad\",\"Ivano-Frankivsk\",\"Hagen\",\"Mykolaiv\",\"Stavanger Municipality\",\"Mairena del Aljarafe\",\"Zaandam\",\"Kirchheim unter Teck\",\"Konstanz\",\"Aschaffenburg\",\"Kempten\",\"Darmstadt\",\"Wolfsburg\",\"Gelsenkirchen\",\"Ludwigshafen\",\"Las Arenas\",\"Tours\",\"Massy\",\"Caen\",\"Cannock\",\"Chesterfield\",\"Didcot\",\"Folkestone\",\"High Wycombe\",\"Hinckley\",\"Lowestoft\",\"Royal Tunbridge Wells\",\"Stafford\",\"Torquay\",\"Bridgend\",\"Newport\",\"Szeged\",\"Swords\",\"Mullingar\",\"Perugia\",\"Ede\",\"Veenendaal\",\"Alphen aan den Rijn\",\"Matosinhos\",\"Perm\",\"Penza\",\"Tyreso\",\"Lutsk\",\"Pristina\",\"Asker Municipality\",\"Gieres\",\"Mons\",\"Olomouc\",\"Erding\",\"Krefeld\",\"Jena\",\"Hvidovre\",\"El Prat de Llobregat\",\"Igualada\",\"Toledo\",\"Vilafranca del Penedes\",\"Lappeenranta\",\"Corbeil-Essonnes\",\"Rueil-Malmaison\",\"Roubaix\",\"Tourcoing\",\"Bridgwater\",\"Burnley\",\"Corby\",\"Glossop\",\"Grimsby\",\"Hove\",\"Long Eaton\",\"Marlow\",\"Northwich\",\"Royal Leamington Spa\",\"Salisbury\",\"Trowbridge\",\"Coleraine\",\"Dunfermline\",\"Pecs\",\"Kilkenny\",\"Forli\",\"Legnano\",\"Giugliano in Campania\",\"Trieste\",\"Busto Arsizio\",\"Assen\",\"Sosnowiec\",\"Alverca do Ribatejo\",\"Estoril\",\"Oeiras\",\"Constanta\",\"Saratov\",\"Tula\",\"Izhevsk\",\"Karlstad\",\"Cherkasy\",\"Grafing\",\"Reus\",\"Pessac\",\"Sartrouville\",\"Molesey\",\"Banja Luka\",\"Aarschot\",\"Chur\",\"Pilsen\",\"Villingen-Schwenningen\",\"Flensburg\",\"Kastrup\",\"Helsingor\",\"Guadalajara\",\"Granollers\",\"Colombes\",\"Perpignan\",\"Metz\",\"Vandoeuvre-les-Nancy\",\"Toulon\",\"Bron\",\"Chesham\",\"Cheshunt\",\"Darlington\",\"Hereford\",\"Kidderminster\",\"Newbury\",\"Penrith\",\"The Royal Town of Sutton Coldfield\",\"Desio\",\"Moncalieri\",\"Lelystad\",\"Roosendaal\",\"Houten\",\"Maarssen\",\"Soest\",\"Torun\",\"Plock\",\"Olsztyn\",\"Pila\",\"Guimaraes\",\"Cascais\",\"Paco de Arcos\",\"Setubal\",\"Targu Mures\",\"Sochi\",\"Khabarovsk\",\"Kirov\",\"Ryazan\",\"Umea\",\"Jonkoping\",\"Kalmar\",\"Gavle\",\"Kremenchuk\",\"Rapperswil-Jona\",\"Saint-Ghislain\",\"Nevers\",\"Kosice\",\"Halle\",\"Tervuren\",\"Morges\",\"Hanau\",\"Hurth\",\"Kaiserslautern\",\"Jaen\",\"Albacete\",\"Torrejon de Ardoz\",\"Guyancourt\",\"Issy-les-Moulineaux\",\"Orvault\",\"Borehamwood\",\"Bury\",\"Camberley\",\"Chorley\",\"East Grinstead\",\"Eastleigh\",\"Havant\",\"Lancaster\",\"Margate\",\"Pontefract\",\"Redditch\",\"Rochester\",\"Scarborough\",\"Sevenoaks\",\"Winsford\",\"Witham\",\"Witney\",\"East Kilbride\",\"Kirkcaldy\",\"Caerphilly\",\"Neath\",\"Swansea\",\"Debrecen\",\"Nyiregyhaza\",\"Cosenza\",\"Livorno\",\"Novara\",\"Pordenone\",\"Wageningen\",\"Maastricht\",\"Schijndel\",\"Wassenaar\",\"Czestochowa\",\"Dabrowa Gornicza\",\"Tyumen\",\"Volgograd\",\"Norrkoping\",\"Orebro\",\"Greystones\",\"Reutov\",\"Biberach\",\"Molins de Rei\",\"Sao Cosme\",\"Klaipeda\",\"Hatfield\",\"Anderlecht\",\"Lokeren\",\"Wetteren\",\"Braine-l'Alleud\",\"Gomel\",\"Freienbach\",\"Wadenswil\",\"Filderstadt\",\"Offenburg\",\"Tubingen\",\"Bayreuth\",\"Freising\",\"Rostock\",\"Hamm\",\"Leverkusen\",\"Neuss\",\"Oberhausen\",\"Solingen\",\"Erfurt\",\"Holbaek\",\"Kolding\",\"Skive\",\"Marbella\",\"Rubi\",\"Badajoz\",\"Raisio\",\"Clamart\",\"Ivry-sur-Seine\",\"Melun\",\"Marcq-en-Baroeul\",\"Valenciennes\",\"Saint-Raphael\",\"Burton upon Trent\",\"Clacton-on-Sea\",\"Hitchin\",\"Huntingdon\",\"Leighton Buzzard\",\"Reigate\",\"Yeovil\",\"Bangor\",\"Lurgan\",\"Bangor\",\"Szekesfehervar\",\"Letterkenny\",\"Chieti\",\"Cremona\",\"Messina\",\"Montesilvano\",\"Pavia\",\"Terni\",\"Mogliano Veneto\",\"Gallarate\",\"Veldhoven\",\"Hoorn\",\"Bilthoven\",\"Leusden\",\"Vlaardingen\",\"Opole\",\"Sopot\",\"Espinho\",\"Povoa de Varzim\",\"Montijo\",\"Craiova\",\"Ulyanovsk\",\"Kragujevac\",\"Varazdin\",\"Botkyrka\",\"Alcoi\",\"Fuenlabrada\",\"Naron\",\"Rivas-Vaciamadrid\",\"Torrent\",\"Aulnay-sous-Bois\",\"Plouzane\",\"Thiais\",\"Castellammare di Stabia\",\"Trencin\",\"Brest\",\"Nikaia\",\"Worsley\",4488,\"Klagenfurt am Worthersee\",\"Heist-op-den-Berg\",\"Zaventem\",\"Genk\",\"Aalst\",\"Oudenaarde\",\"Ostend\",\"Ottignies-Louvain-la-Neuve\",\"Burgas\",\"Crissier\",\"Jihlava\",\"Zlin\",\"Ludwigsburg\",\"Bamberg\",\"Olching\",\"Pfaffenhofen an der Ilm\",\"Bad Kreuznach\",\"Landau\",\"Saarbrucken\",\"Sonderborg\",\"Esbjerg\",\"Vejle\",\"Holstebro\",\"Ourense\",\"Pontevedra\",\"Aviles\",\"Ibiza\",\"Segovia\",\"Lorient\",\"Troyes\",\"Belfort\",\"Champs-sur-Marne\",\"Fontenay-sous-Bois\",\"Gif-sur-Yvette\",\"Serris\",\"Le Havre\",\"Compiegne\",\"Hyeres\",\"Andover\",\"Biggleswade\",\"Burgess Hill\",\"Bury St Edmunds\",\"Cramlington\",\"Ely\",\"Evesham\",\"Great Yarmouth\",\"Haverhill\",\"Hucknall\",\"Ilkley\",\"Malmesbury\",\"Rayleigh\",\"Scunthorpe\",\"Spalding\",\"Lytham St Annes\",\"St Austell\",\"Stroud\",\"Wymondham\",\"Lisburn\",\"Newry\",\"Cumbernauld\",\"Paisley\",\"Dundalk\",\"Wicklow\",\"Senigallia\",\"Alba\",\"Rho\",\"Pistoia\",\"Ravenna\",\"Reggio Calabria\",\"Hoogeveen\",\"Harderwijk\",\"Aalsmeer\",\"Diemen\",\"Spijkenisse\",\"Piaseczno\",\"Jastrzebie-Zdroj\",\"Albufeira\",\"Santo Tirso\",\"Kaluga\",\"Tver\",\"Piestany\",\"Akersberga\",\"Upplands Vasby\",\"Vallentuna\",\"Halmstad\",\"Molndal\",\"Skovde\",\"Uddevalla\",\"Kropyvnytskyi\",\"Poltava\",\"Chernihiv\",\"Pula\",\"Lagos\",\"Lede\",\"Sint-Jans-Molenbeek\",\"Lucan\",\"Mytishchi\",\"Basauri\",\"Parla\",\"Puerto Real\",\"Annemasse\",\"Chelles\",\"Berkel en Rodenrijs\",\"Katwijk aan Zee\",\"Daugavpils\",\"Andorra la Vella\",\"Lier\",\"Overijse\",\"Dendermonde\",\"Viciebsk\",\"Aarau\",\"Neuchatel\",\"Sion\",\"Wallisellen\",\"Wetzikon\",\"Esslingen\",\"Friedrichshafen\",\"Ravensburg\",\"Reutlingen\",\"Bensheim\",\"Emden\",\"Arnsberg\",\"Gutersloh\",\"Meerbusch\",\"Paderborn\",\"Siegen\",\"Herning\",\"Randers\",\"Viborg\",\"Ceuta\",\"Coslada\",\"Hamina\",\"Lahti\",\"Aubervilliers\",\"Bagneux\",\"Bobigny\",\"Neuilly-sur-Seine\",\"Palaiseau\"],\"xaxis\":\"x\",\"y\":[6965,5776,4953,3603,3012,2725,2679,2633,2587,2454,2231,2159,1954,1781,1584,1565,1473,1349,1274,1238,1212,1209,1196,1088,1029,993,938,898,889,882,876,872,862,846,833,827,810,709,702,699,696,673,637,621,611,601,588,572,562,555,533,529,513,510,506,467,464,454,448,444,441,438,431,425,421,421,415,412,395,386,382,372,369,366,363,356,356,353,350,340,337,337,337,333,330,327,314,310,310,307,287,284,284,278,258,252,248,248,248,248,245,242,242,238,235,235,235,232,229,225,219,219,219,212,209,209,209,206,206,206,206,203,203,203,199,199,199,193,189,189,189,186,186,186,180,180,180,180,176,176,173,173,170,170,170,167,167,167,167,167,163,163,163,163,163,163,160,160,160,160,160,160,157,157,157,157,157,157,154,154,150,150,150,147,147,147,147,147,147,144,144,144,144,144,144,144,140,140,140,140,140,140,137,137,134,134,134,131,131,131,131,131,131,131,131,131,127,127,127,127,127,127,127,127,127,124,124,124,124,124,121,121,121,118,118,118,118,118,118,118,118,118,114,114,114,114,114,114,114,114,111,111,111,111,111,111,111,111,111,111,108,108,108,108,108,108,108,108,108,105,105,105,105,105,105,105,105,105,105,101,101,101,101,101,101,101,101,101,98,98,98,98,98,98,98,98,98,98,98,98,98,98,95,95,95,95,95,95,95,95,95,91,91,91,91,91,91,88,88,88,88,88,88,88,88,85,85,85,85,85,85,85,85,85,85,82,82,82,82,82,82,82,82,82,82,82,82,82,82,78,78,78,78,78,78,78,78,78,78,78,78,78,78,78,78,78,78,78,78,75,75,75,75,75,75,75,75,75,75,75,75,75,75,75,75,75,72,72,72,72,72,72,72,72,72,72,72,72,72,72,72,72,72,69,69,69,69,69,69,69,69,69,69,69,69,69,69,69,69,69,69,69,69,69,69,69,69,69,69,65,65,65,65,65,65,65,65,65,65,65,65,65,65,65,65,65,65,65,65,65,65,62,62,62,62,62,62,62,62,62,62,62,62,62,62,62,62,62,62,62,62,62,62,62,62,62,62,62,62,62,62,62,62,62,59,59,59,59,59,59,59,59,59,59,59,59,59,59,59,59,59,59,56,56,56,56,56,56,56,56,56,56,56,56,56,56,56,56,56,56,56,56,56,56,56,56,52,52,52,52,52,52,52,52,52,52,52,52,52,52,52,52,52,52,52,52,52,52,52,52,52,52,52,52,52,52,52,52,52,52,52,49,49,49,49,49,49,49,49,49,49,49,49,49,49,49,49,49,49,49,49,49,49,49,49,49,49,49,49,49,46,46,46,46,46,46,46,46,46,46,46,46,46,46,46,46,46,46,46,46,46,46,46,46,46,46,46,46,46,46,46,46,46,46,46,46,46,46,46,42,42,42,42,42,42,42,42,42,42,42,42,42,42,42,42,42,42,42,42,42,42,42,42,42,42,42,42,42,42,42,42,42,42,42,42,42,42,42,42,42,42,42,42,42,42,42,42,42,42,42,42,42,39,39,39,39,39,39,39,39,39,39,39,39,39,39,39,39,39,39,39,39,39,39,39,39,39,39,39,39,39,39,39,39,39,39,39,39,39,39,39,39,39,39,39,39,39,39,39,39,39,39,39,39,36,36,36,36,36,36,36,36,36,36,36,36,36,36,36,36,36,36,36,36,36,36,36,36,36,36,36,36,36,36,36,36,36,36,36,36,36,36,36,36,36,36,36,36,36,36,36,36,36,36,36,36,36,36,36,36,36,33,33,33,33,33,33,33,33,33,33,33,33,33,33,33,33,33,33,33,33,33,33,33,33,33,33,33,33,33,33,33,33,33,33,33,33,33,33,33,33,33,33,33,33,33,33,33,33,33,33,33,33,33,33,33,33,33,33,33,33,33,33,33,33,33,33,33,33,33,33,33,33,33,33,33,33,33,33,33,33,33,29,29,29,29,29,29,29,29,29,29,29,29,29,29,29,29,29,29,29,29,29,29,29,29,29,29,29,29,29,29,29,29,29,29,29,29,29,29,29,29,29,29,29,29,29,29,29,29,29,29,29,29,29,29,29,29,29,29,29,29,29,29,29,29,29,29,29,29,29,29,29,29,29,29,29,29,29,29,29,29,29,29,29,29,29,29,29,29,29,29,29,29,29,29,29,29,29,29,29,29,29,29,29,29,29,26,26,26,26,26,26,26,26,26,26,26,26,26,26,26,26,26,26,26,26,26,26,26,26,26,26,26,26,26,26,26,26,26],\"yaxis\":\"y\",\"type\":\"histogram\"}],                        {\"template\":{\"data\":{\"histogram2dcontour\":[{\"type\":\"histogram2dcontour\",\"colorbar\":{\"outlinewidth\":0,\"ticks\":\"\"},\"colorscale\":[[0.0,\"#0d0887\"],[0.1111111111111111,\"#46039f\"],[0.2222222222222222,\"#7201a8\"],[0.3333333333333333,\"#9c179e\"],[0.4444444444444444,\"#bd3786\"],[0.5555555555555556,\"#d8576b\"],[0.6666666666666666,\"#ed7953\"],[0.7777777777777778,\"#fb9f3a\"],[0.8888888888888888,\"#fdca26\"],[1.0,\"#f0f921\"]]}],\"choropleth\":[{\"type\":\"choropleth\",\"colorbar\":{\"outlinewidth\":0,\"ticks\":\"\"}}],\"histogram2d\":[{\"type\":\"histogram2d\",\"colorbar\":{\"outlinewidth\":0,\"ticks\":\"\"},\"colorscale\":[[0.0,\"#0d0887\"],[0.1111111111111111,\"#46039f\"],[0.2222222222222222,\"#7201a8\"],[0.3333333333333333,\"#9c179e\"],[0.4444444444444444,\"#bd3786\"],[0.5555555555555556,\"#d8576b\"],[0.6666666666666666,\"#ed7953\"],[0.7777777777777778,\"#fb9f3a\"],[0.8888888888888888,\"#fdca26\"],[1.0,\"#f0f921\"]]}],\"heatmap\":[{\"type\":\"heatmap\",\"colorbar\":{\"outlinewidth\":0,\"ticks\":\"\"},\"colorscale\":[[0.0,\"#0d0887\"],[0.1111111111111111,\"#46039f\"],[0.2222222222222222,\"#7201a8\"],[0.3333333333333333,\"#9c179e\"],[0.4444444444444444,\"#bd3786\"],[0.5555555555555556,\"#d8576b\"],[0.6666666666666666,\"#ed7953\"],[0.7777777777777778,\"#fb9f3a\"],[0.8888888888888888,\"#fdca26\"],[1.0,\"#f0f921\"]]}],\"heatmapgl\":[{\"type\":\"heatmapgl\",\"colorbar\":{\"outlinewidth\":0,\"ticks\":\"\"},\"colorscale\":[[0.0,\"#0d0887\"],[0.1111111111111111,\"#46039f\"],[0.2222222222222222,\"#7201a8\"],[0.3333333333333333,\"#9c179e\"],[0.4444444444444444,\"#bd3786\"],[0.5555555555555556,\"#d8576b\"],[0.6666666666666666,\"#ed7953\"],[0.7777777777777778,\"#fb9f3a\"],[0.8888888888888888,\"#fdca26\"],[1.0,\"#f0f921\"]]}],\"contourcarpet\":[{\"type\":\"contourcarpet\",\"colorbar\":{\"outlinewidth\":0,\"ticks\":\"\"}}],\"contour\":[{\"type\":\"contour\",\"colorbar\":{\"outlinewidth\":0,\"ticks\":\"\"},\"colorscale\":[[0.0,\"#0d0887\"],[0.1111111111111111,\"#46039f\"],[0.2222222222222222,\"#7201a8\"],[0.3333333333333333,\"#9c179e\"],[0.4444444444444444,\"#bd3786\"],[0.5555555555555556,\"#d8576b\"],[0.6666666666666666,\"#ed7953\"],[0.7777777777777778,\"#fb9f3a\"],[0.8888888888888888,\"#fdca26\"],[1.0,\"#f0f921\"]]}],\"surface\":[{\"type\":\"surface\",\"colorbar\":{\"outlinewidth\":0,\"ticks\":\"\"},\"colorscale\":[[0.0,\"#0d0887\"],[0.1111111111111111,\"#46039f\"],[0.2222222222222222,\"#7201a8\"],[0.3333333333333333,\"#9c179e\"],[0.4444444444444444,\"#bd3786\"],[0.5555555555555556,\"#d8576b\"],[0.6666666666666666,\"#ed7953\"],[0.7777777777777778,\"#fb9f3a\"],[0.8888888888888888,\"#fdca26\"],[1.0,\"#f0f921\"]]}],\"mesh3d\":[{\"type\":\"mesh3d\",\"colorbar\":{\"outlinewidth\":0,\"ticks\":\"\"}}],\"scatter\":[{\"fillpattern\":{\"fillmode\":\"overlay\",\"size\":10,\"solidity\":0.2},\"type\":\"scatter\"}],\"parcoords\":[{\"type\":\"parcoords\",\"line\":{\"colorbar\":{\"outlinewidth\":0,\"ticks\":\"\"}}}],\"scatterpolargl\":[{\"type\":\"scatterpolargl\",\"marker\":{\"colorbar\":{\"outlinewidth\":0,\"ticks\":\"\"}}}],\"bar\":[{\"error_x\":{\"color\":\"#2a3f5f\"},\"error_y\":{\"color\":\"#2a3f5f\"},\"marker\":{\"line\":{\"color\":\"#E5ECF6\",\"width\":0.5},\"pattern\":{\"fillmode\":\"overlay\",\"size\":10,\"solidity\":0.2}},\"type\":\"bar\"}],\"scattergeo\":[{\"type\":\"scattergeo\",\"marker\":{\"colorbar\":{\"outlinewidth\":0,\"ticks\":\"\"}}}],\"scatterpolar\":[{\"type\":\"scatterpolar\",\"marker\":{\"colorbar\":{\"outlinewidth\":0,\"ticks\":\"\"}}}],\"histogram\":[{\"marker\":{\"pattern\":{\"fillmode\":\"overlay\",\"size\":10,\"solidity\":0.2}},\"type\":\"histogram\"}],\"scattergl\":[{\"type\":\"scattergl\",\"marker\":{\"colorbar\":{\"outlinewidth\":0,\"ticks\":\"\"}}}],\"scatter3d\":[{\"type\":\"scatter3d\",\"line\":{\"colorbar\":{\"outlinewidth\":0,\"ticks\":\"\"}},\"marker\":{\"colorbar\":{\"outlinewidth\":0,\"ticks\":\"\"}}}],\"scattermapbox\":[{\"type\":\"scattermapbox\",\"marker\":{\"colorbar\":{\"outlinewidth\":0,\"ticks\":\"\"}}}],\"scatterternary\":[{\"type\":\"scatterternary\",\"marker\":{\"colorbar\":{\"outlinewidth\":0,\"ticks\":\"\"}}}],\"scattercarpet\":[{\"type\":\"scattercarpet\",\"marker\":{\"colorbar\":{\"outlinewidth\":0,\"ticks\":\"\"}}}],\"carpet\":[{\"aaxis\":{\"endlinecolor\":\"#2a3f5f\",\"gridcolor\":\"white\",\"linecolor\":\"white\",\"minorgridcolor\":\"white\",\"startlinecolor\":\"#2a3f5f\"},\"baxis\":{\"endlinecolor\":\"#2a3f5f\",\"gridcolor\":\"white\",\"linecolor\":\"white\",\"minorgridcolor\":\"white\",\"startlinecolor\":\"#2a3f5f\"},\"type\":\"carpet\"}],\"table\":[{\"cells\":{\"fill\":{\"color\":\"#EBF0F8\"},\"line\":{\"color\":\"white\"}},\"header\":{\"fill\":{\"color\":\"#C8D4E3\"},\"line\":{\"color\":\"white\"}},\"type\":\"table\"}],\"barpolar\":[{\"marker\":{\"line\":{\"color\":\"#E5ECF6\",\"width\":0.5},\"pattern\":{\"fillmode\":\"overlay\",\"size\":10,\"solidity\":0.2}},\"type\":\"barpolar\"}],\"pie\":[{\"automargin\":true,\"type\":\"pie\"}]},\"layout\":{\"autotypenumbers\":\"strict\",\"colorway\":[\"#636efa\",\"#EF553B\",\"#00cc96\",\"#ab63fa\",\"#FFA15A\",\"#19d3f3\",\"#FF6692\",\"#B6E880\",\"#FF97FF\",\"#FECB52\"],\"font\":{\"color\":\"#2a3f5f\"},\"hovermode\":\"closest\",\"hoverlabel\":{\"align\":\"left\"},\"paper_bgcolor\":\"white\",\"plot_bgcolor\":\"#E5ECF6\",\"polar\":{\"bgcolor\":\"#E5ECF6\",\"angularaxis\":{\"gridcolor\":\"white\",\"linecolor\":\"white\",\"ticks\":\"\"},\"radialaxis\":{\"gridcolor\":\"white\",\"linecolor\":\"white\",\"ticks\":\"\"}},\"ternary\":{\"bgcolor\":\"#E5ECF6\",\"aaxis\":{\"gridcolor\":\"white\",\"linecolor\":\"white\",\"ticks\":\"\"},\"baxis\":{\"gridcolor\":\"white\",\"linecolor\":\"white\",\"ticks\":\"\"},\"caxis\":{\"gridcolor\":\"white\",\"linecolor\":\"white\",\"ticks\":\"\"}},\"coloraxis\":{\"colorbar\":{\"outlinewidth\":0,\"ticks\":\"\"}},\"colorscale\":{\"sequential\":[[0.0,\"#0d0887\"],[0.1111111111111111,\"#46039f\"],[0.2222222222222222,\"#7201a8\"],[0.3333333333333333,\"#9c179e\"],[0.4444444444444444,\"#bd3786\"],[0.5555555555555556,\"#d8576b\"],[0.6666666666666666,\"#ed7953\"],[0.7777777777777778,\"#fb9f3a\"],[0.8888888888888888,\"#fdca26\"],[1.0,\"#f0f921\"]],\"sequentialminus\":[[0.0,\"#0d0887\"],[0.1111111111111111,\"#46039f\"],[0.2222222222222222,\"#7201a8\"],[0.3333333333333333,\"#9c179e\"],[0.4444444444444444,\"#bd3786\"],[0.5555555555555556,\"#d8576b\"],[0.6666666666666666,\"#ed7953\"],[0.7777777777777778,\"#fb9f3a\"],[0.8888888888888888,\"#fdca26\"],[1.0,\"#f0f921\"]],\"diverging\":[[0,\"#8e0152\"],[0.1,\"#c51b7d\"],[0.2,\"#de77ae\"],[0.3,\"#f1b6da\"],[0.4,\"#fde0ef\"],[0.5,\"#f7f7f7\"],[0.6,\"#e6f5d0\"],[0.7,\"#b8e186\"],[0.8,\"#7fbc41\"],[0.9,\"#4d9221\"],[1,\"#276419\"]]},\"xaxis\":{\"gridcolor\":\"white\",\"linecolor\":\"white\",\"ticks\":\"\",\"title\":{\"standoff\":15},\"zerolinecolor\":\"white\",\"automargin\":true,\"zerolinewidth\":2},\"yaxis\":{\"gridcolor\":\"white\",\"linecolor\":\"white\",\"ticks\":\"\",\"title\":{\"standoff\":15},\"zerolinecolor\":\"white\",\"automargin\":true,\"zerolinewidth\":2},\"scene\":{\"xaxis\":{\"backgroundcolor\":\"#E5ECF6\",\"gridcolor\":\"white\",\"linecolor\":\"white\",\"showbackground\":true,\"ticks\":\"\",\"zerolinecolor\":\"white\",\"gridwidth\":2},\"yaxis\":{\"backgroundcolor\":\"#E5ECF6\",\"gridcolor\":\"white\",\"linecolor\":\"white\",\"showbackground\":true,\"ticks\":\"\",\"zerolinecolor\":\"white\",\"gridwidth\":2},\"zaxis\":{\"backgroundcolor\":\"#E5ECF6\",\"gridcolor\":\"white\",\"linecolor\":\"white\",\"showbackground\":true,\"ticks\":\"\",\"zerolinecolor\":\"white\",\"gridwidth\":2}},\"shapedefaults\":{\"line\":{\"color\":\"#2a3f5f\"}},\"annotationdefaults\":{\"arrowcolor\":\"#2a3f5f\",\"arrowhead\":0,\"arrowwidth\":1},\"geo\":{\"bgcolor\":\"white\",\"landcolor\":\"#E5ECF6\",\"subunitcolor\":\"white\",\"showland\":true,\"showlakes\":true,\"lakecolor\":\"white\"},\"title\":{\"x\":0.05},\"mapbox\":{\"style\":\"light\"}}},\"xaxis\":{\"anchor\":\"y\",\"domain\":[0.0,1.0],\"title\":{\"text\":\"City\"}},\"yaxis\":{\"anchor\":\"x\",\"domain\":[0.0,1.0],\"title\":{\"text\":\"sum of Users\"}},\"legend\":{\"tracegroupgap\":0},\"margin\":{\"t\":60},\"barmode\":\"relative\"},                        {\"responsive\": true}                    ).then(function(){\n",
       "                            \n",
       "var gd = document.getElementById('b3224712-3292-44c6-845b-a0070d43badc');\n",
       "var x = new MutationObserver(function (mutations, observer) {{\n",
       "        var display = window.getComputedStyle(gd).display;\n",
       "        if (!display || display === 'none') {{\n",
       "            console.log([gd, 'removed!']);\n",
       "            Plotly.purge(gd);\n",
       "            observer.disconnect();\n",
       "        }}\n",
       "}});\n",
       "\n",
       "// Listen for the removal of the full notebook cells\n",
       "var notebookContainer = gd.closest('#notebook-container');\n",
       "if (notebookContainer) {{\n",
       "    x.observe(notebookContainer, {childList: true});\n",
       "}}\n",
       "\n",
       "// Listen for the clearing of the current output cell\n",
       "var outputEl = gd.closest('.output');\n",
       "if (outputEl) {{\n",
       "    x.observe(outputEl, {childList: true});\n",
       "}}\n",
       "\n",
       "                        })                };                });            </script>        </div>"
      ]
     },
     "metadata": {},
     "output_type": "display_data"
    }
   ],
   "source": [
    "fig1 = px.histogram(df, x = df.City, y = df.Users)\n",
    "fig1.show()"
   ]
  },
  {
   "cell_type": "code",
   "execution_count": 19,
   "id": "cfd3e5e1",
   "metadata": {},
   "outputs": [
    {
     "data": {
      "application/vnd.plotly.v1+json": {
       "config": {
        "plotlyServerURL": "https://plot.ly"
       },
       "data": [
        {
         "alignmentgroup": "True",
         "boxpoints": "all",
         "hovertemplate": "Users=%{y}<extra></extra>",
         "legendgroup": "",
         "marker": {
          "color": "#636efa"
         },
         "name": "",
         "notched": false,
         "offsetgroup": "",
         "orientation": "v",
         "showlegend": false,
         "type": "box",
         "x0": " ",
         "xaxis": "x",
         "y": [
          6965,
          5776,
          4953,
          3603,
          3012,
          2725,
          2679,
          2633,
          2587,
          2454,
          2231,
          2159,
          1954,
          1781,
          1584,
          1565,
          1473,
          1349,
          1274,
          1238,
          1212,
          1209,
          1196,
          1088,
          1029,
          993,
          938,
          898,
          889,
          882,
          876,
          872,
          862,
          846,
          833,
          827,
          810,
          709,
          702,
          699,
          696,
          673,
          637,
          621,
          611,
          601,
          588,
          572,
          562,
          555,
          533,
          529,
          513,
          510,
          506,
          467,
          464,
          454,
          448,
          444,
          441,
          438,
          431,
          425,
          421,
          421,
          415,
          412,
          395,
          386,
          382,
          372,
          369,
          366,
          363,
          356,
          356,
          353,
          350,
          340,
          337,
          337,
          337,
          333,
          330,
          327,
          314,
          310,
          310,
          307,
          287,
          284,
          284,
          278,
          258,
          252,
          248,
          248,
          248,
          248,
          245,
          242,
          242,
          238,
          235,
          235,
          235,
          232,
          229,
          225,
          219,
          219,
          219,
          212,
          209,
          209,
          209,
          206,
          206,
          206,
          206,
          203,
          203,
          203,
          199,
          199,
          199,
          193,
          189,
          189,
          189,
          186,
          186,
          186,
          180,
          180,
          180,
          180,
          176,
          176,
          173,
          173,
          170,
          170,
          170,
          167,
          167,
          167,
          167,
          167,
          163,
          163,
          163,
          163,
          163,
          163,
          160,
          160,
          160,
          160,
          160,
          160,
          157,
          157,
          157,
          157,
          157,
          157,
          154,
          154,
          150,
          150,
          150,
          147,
          147,
          147,
          147,
          147,
          147,
          144,
          144,
          144,
          144,
          144,
          144,
          144,
          140,
          140,
          140,
          140,
          140,
          140,
          137,
          137,
          134,
          134,
          134,
          131,
          131,
          131,
          131,
          131,
          131,
          131,
          131,
          131,
          127,
          127,
          127,
          127,
          127,
          127,
          127,
          127,
          127,
          124,
          124,
          124,
          124,
          124,
          121,
          121,
          121,
          118,
          118,
          118,
          118,
          118,
          118,
          118,
          118,
          118,
          114,
          114,
          114,
          114,
          114,
          114,
          114,
          114,
          111,
          111,
          111,
          111,
          111,
          111,
          111,
          111,
          111,
          111,
          108,
          108,
          108,
          108,
          108,
          108,
          108,
          108,
          108,
          105,
          105,
          105,
          105,
          105,
          105,
          105,
          105,
          105,
          105,
          101,
          101,
          101,
          101,
          101,
          101,
          101,
          101,
          101,
          98,
          98,
          98,
          98,
          98,
          98,
          98,
          98,
          98,
          98,
          98,
          98,
          98,
          98,
          95,
          95,
          95,
          95,
          95,
          95,
          95,
          95,
          95,
          91,
          91,
          91,
          91,
          91,
          91,
          88,
          88,
          88,
          88,
          88,
          88,
          88,
          88,
          85,
          85,
          85,
          85,
          85,
          85,
          85,
          85,
          85,
          85,
          82,
          82,
          82,
          82,
          82,
          82,
          82,
          82,
          82,
          82,
          82,
          82,
          82,
          82,
          78,
          78,
          78,
          78,
          78,
          78,
          78,
          78,
          78,
          78,
          78,
          78,
          78,
          78,
          78,
          78,
          78,
          78,
          78,
          78,
          75,
          75,
          75,
          75,
          75,
          75,
          75,
          75,
          75,
          75,
          75,
          75,
          75,
          75,
          75,
          75,
          75,
          72,
          72,
          72,
          72,
          72,
          72,
          72,
          72,
          72,
          72,
          72,
          72,
          72,
          72,
          72,
          72,
          72,
          69,
          69,
          69,
          69,
          69,
          69,
          69,
          69,
          69,
          69,
          69,
          69,
          69,
          69,
          69,
          69,
          69,
          69,
          69,
          69,
          69,
          69,
          69,
          69,
          69,
          69,
          65,
          65,
          65,
          65,
          65,
          65,
          65,
          65,
          65,
          65,
          65,
          65,
          65,
          65,
          65,
          65,
          65,
          65,
          65,
          65,
          65,
          65,
          62,
          62,
          62,
          62,
          62,
          62,
          62,
          62,
          62,
          62,
          62,
          62,
          62,
          62,
          62,
          62,
          62,
          62,
          62,
          62,
          62,
          62,
          62,
          62,
          62,
          62,
          62,
          62,
          62,
          62,
          62,
          62,
          62,
          59,
          59,
          59,
          59,
          59,
          59,
          59,
          59,
          59,
          59,
          59,
          59,
          59,
          59,
          59,
          59,
          59,
          59,
          56,
          56,
          56,
          56,
          56,
          56,
          56,
          56,
          56,
          56,
          56,
          56,
          56,
          56,
          56,
          56,
          56,
          56,
          56,
          56,
          56,
          56,
          56,
          56,
          52,
          52,
          52,
          52,
          52,
          52,
          52,
          52,
          52,
          52,
          52,
          52,
          52,
          52,
          52,
          52,
          52,
          52,
          52,
          52,
          52,
          52,
          52,
          52,
          52,
          52,
          52,
          52,
          52,
          52,
          52,
          52,
          52,
          52,
          52,
          49,
          49,
          49,
          49,
          49,
          49,
          49,
          49,
          49,
          49,
          49,
          49,
          49,
          49,
          49,
          49,
          49,
          49,
          49,
          49,
          49,
          49,
          49,
          49,
          49,
          49,
          49,
          49,
          49,
          46,
          46,
          46,
          46,
          46,
          46,
          46,
          46,
          46,
          46,
          46,
          46,
          46,
          46,
          46,
          46,
          46,
          46,
          46,
          46,
          46,
          46,
          46,
          46,
          46,
          46,
          46,
          46,
          46,
          46,
          46,
          46,
          46,
          46,
          46,
          46,
          46,
          46,
          46,
          42,
          42,
          42,
          42,
          42,
          42,
          42,
          42,
          42,
          42,
          42,
          42,
          42,
          42,
          42,
          42,
          42,
          42,
          42,
          42,
          42,
          42,
          42,
          42,
          42,
          42,
          42,
          42,
          42,
          42,
          42,
          42,
          42,
          42,
          42,
          42,
          42,
          42,
          42,
          42,
          42,
          42,
          42,
          42,
          42,
          42,
          42,
          42,
          42,
          42,
          42,
          42,
          42,
          39,
          39,
          39,
          39,
          39,
          39,
          39,
          39,
          39,
          39,
          39,
          39,
          39,
          39,
          39,
          39,
          39,
          39,
          39,
          39,
          39,
          39,
          39,
          39,
          39,
          39,
          39,
          39,
          39,
          39,
          39,
          39,
          39,
          39,
          39,
          39,
          39,
          39,
          39,
          39,
          39,
          39,
          39,
          39,
          39,
          39,
          39,
          39,
          39,
          39,
          39,
          39,
          36,
          36,
          36,
          36,
          36,
          36,
          36,
          36,
          36,
          36,
          36,
          36,
          36,
          36,
          36,
          36,
          36,
          36,
          36,
          36,
          36,
          36,
          36,
          36,
          36,
          36,
          36,
          36,
          36,
          36,
          36,
          36,
          36,
          36,
          36,
          36,
          36,
          36,
          36,
          36,
          36,
          36,
          36,
          36,
          36,
          36,
          36,
          36,
          36,
          36,
          36,
          36,
          36,
          36,
          36,
          36,
          36,
          33,
          33,
          33,
          33,
          33,
          33,
          33,
          33,
          33,
          33,
          33,
          33,
          33,
          33,
          33,
          33,
          33,
          33,
          33,
          33,
          33,
          33,
          33,
          33,
          33,
          33,
          33,
          33,
          33,
          33,
          33,
          33,
          33,
          33,
          33,
          33,
          33,
          33,
          33,
          33,
          33,
          33,
          33,
          33,
          33,
          33,
          33,
          33,
          33,
          33,
          33,
          33,
          33,
          33,
          33,
          33,
          33,
          33,
          33,
          33,
          33,
          33,
          33,
          33,
          33,
          33,
          33,
          33,
          33,
          33,
          33,
          33,
          33,
          33,
          33,
          33,
          33,
          33,
          33,
          33,
          33,
          29,
          29,
          29,
          29,
          29,
          29,
          29,
          29,
          29,
          29,
          29,
          29,
          29,
          29,
          29,
          29,
          29,
          29,
          29,
          29,
          29,
          29,
          29,
          29,
          29,
          29,
          29,
          29,
          29,
          29,
          29,
          29,
          29,
          29,
          29,
          29,
          29,
          29,
          29,
          29,
          29,
          29,
          29,
          29,
          29,
          29,
          29,
          29,
          29,
          29,
          29,
          29,
          29,
          29,
          29,
          29,
          29,
          29,
          29,
          29,
          29,
          29,
          29,
          29,
          29,
          29,
          29,
          29,
          29,
          29,
          29,
          29,
          29,
          29,
          29,
          29,
          29,
          29,
          29,
          29,
          29,
          29,
          29,
          29,
          29,
          29,
          29,
          29,
          29,
          29,
          29,
          29,
          29,
          29,
          29,
          29,
          29,
          29,
          29,
          29,
          29,
          29,
          29,
          29,
          29,
          26,
          26,
          26,
          26,
          26,
          26,
          26,
          26,
          26,
          26,
          26,
          26,
          26,
          26,
          26,
          26,
          26,
          26,
          26,
          26,
          26,
          26,
          26,
          26,
          26,
          26,
          26,
          26,
          26,
          26,
          26,
          26,
          26
         ],
         "y0": " ",
         "yaxis": "y"
        }
       ],
       "layout": {
        "boxmode": "group",
        "legend": {
         "tracegroupgap": 0
        },
        "margin": {
         "t": 60
        },
        "template": {
         "data": {
          "bar": [
           {
            "error_x": {
             "color": "#2a3f5f"
            },
            "error_y": {
             "color": "#2a3f5f"
            },
            "marker": {
             "line": {
              "color": "#E5ECF6",
              "width": 0.5
             },
             "pattern": {
              "fillmode": "overlay",
              "size": 10,
              "solidity": 0.2
             }
            },
            "type": "bar"
           }
          ],
          "barpolar": [
           {
            "marker": {
             "line": {
              "color": "#E5ECF6",
              "width": 0.5
             },
             "pattern": {
              "fillmode": "overlay",
              "size": 10,
              "solidity": 0.2
             }
            },
            "type": "barpolar"
           }
          ],
          "carpet": [
           {
            "aaxis": {
             "endlinecolor": "#2a3f5f",
             "gridcolor": "white",
             "linecolor": "white",
             "minorgridcolor": "white",
             "startlinecolor": "#2a3f5f"
            },
            "baxis": {
             "endlinecolor": "#2a3f5f",
             "gridcolor": "white",
             "linecolor": "white",
             "minorgridcolor": "white",
             "startlinecolor": "#2a3f5f"
            },
            "type": "carpet"
           }
          ],
          "choropleth": [
           {
            "colorbar": {
             "outlinewidth": 0,
             "ticks": ""
            },
            "type": "choropleth"
           }
          ],
          "contour": [
           {
            "colorbar": {
             "outlinewidth": 0,
             "ticks": ""
            },
            "colorscale": [
             [
              0,
              "#0d0887"
             ],
             [
              0.1111111111111111,
              "#46039f"
             ],
             [
              0.2222222222222222,
              "#7201a8"
             ],
             [
              0.3333333333333333,
              "#9c179e"
             ],
             [
              0.4444444444444444,
              "#bd3786"
             ],
             [
              0.5555555555555556,
              "#d8576b"
             ],
             [
              0.6666666666666666,
              "#ed7953"
             ],
             [
              0.7777777777777778,
              "#fb9f3a"
             ],
             [
              0.8888888888888888,
              "#fdca26"
             ],
             [
              1,
              "#f0f921"
             ]
            ],
            "type": "contour"
           }
          ],
          "contourcarpet": [
           {
            "colorbar": {
             "outlinewidth": 0,
             "ticks": ""
            },
            "type": "contourcarpet"
           }
          ],
          "heatmap": [
           {
            "colorbar": {
             "outlinewidth": 0,
             "ticks": ""
            },
            "colorscale": [
             [
              0,
              "#0d0887"
             ],
             [
              0.1111111111111111,
              "#46039f"
             ],
             [
              0.2222222222222222,
              "#7201a8"
             ],
             [
              0.3333333333333333,
              "#9c179e"
             ],
             [
              0.4444444444444444,
              "#bd3786"
             ],
             [
              0.5555555555555556,
              "#d8576b"
             ],
             [
              0.6666666666666666,
              "#ed7953"
             ],
             [
              0.7777777777777778,
              "#fb9f3a"
             ],
             [
              0.8888888888888888,
              "#fdca26"
             ],
             [
              1,
              "#f0f921"
             ]
            ],
            "type": "heatmap"
           }
          ],
          "heatmapgl": [
           {
            "colorbar": {
             "outlinewidth": 0,
             "ticks": ""
            },
            "colorscale": [
             [
              0,
              "#0d0887"
             ],
             [
              0.1111111111111111,
              "#46039f"
             ],
             [
              0.2222222222222222,
              "#7201a8"
             ],
             [
              0.3333333333333333,
              "#9c179e"
             ],
             [
              0.4444444444444444,
              "#bd3786"
             ],
             [
              0.5555555555555556,
              "#d8576b"
             ],
             [
              0.6666666666666666,
              "#ed7953"
             ],
             [
              0.7777777777777778,
              "#fb9f3a"
             ],
             [
              0.8888888888888888,
              "#fdca26"
             ],
             [
              1,
              "#f0f921"
             ]
            ],
            "type": "heatmapgl"
           }
          ],
          "histogram": [
           {
            "marker": {
             "pattern": {
              "fillmode": "overlay",
              "size": 10,
              "solidity": 0.2
             }
            },
            "type": "histogram"
           }
          ],
          "histogram2d": [
           {
            "colorbar": {
             "outlinewidth": 0,
             "ticks": ""
            },
            "colorscale": [
             [
              0,
              "#0d0887"
             ],
             [
              0.1111111111111111,
              "#46039f"
             ],
             [
              0.2222222222222222,
              "#7201a8"
             ],
             [
              0.3333333333333333,
              "#9c179e"
             ],
             [
              0.4444444444444444,
              "#bd3786"
             ],
             [
              0.5555555555555556,
              "#d8576b"
             ],
             [
              0.6666666666666666,
              "#ed7953"
             ],
             [
              0.7777777777777778,
              "#fb9f3a"
             ],
             [
              0.8888888888888888,
              "#fdca26"
             ],
             [
              1,
              "#f0f921"
             ]
            ],
            "type": "histogram2d"
           }
          ],
          "histogram2dcontour": [
           {
            "colorbar": {
             "outlinewidth": 0,
             "ticks": ""
            },
            "colorscale": [
             [
              0,
              "#0d0887"
             ],
             [
              0.1111111111111111,
              "#46039f"
             ],
             [
              0.2222222222222222,
              "#7201a8"
             ],
             [
              0.3333333333333333,
              "#9c179e"
             ],
             [
              0.4444444444444444,
              "#bd3786"
             ],
             [
              0.5555555555555556,
              "#d8576b"
             ],
             [
              0.6666666666666666,
              "#ed7953"
             ],
             [
              0.7777777777777778,
              "#fb9f3a"
             ],
             [
              0.8888888888888888,
              "#fdca26"
             ],
             [
              1,
              "#f0f921"
             ]
            ],
            "type": "histogram2dcontour"
           }
          ],
          "mesh3d": [
           {
            "colorbar": {
             "outlinewidth": 0,
             "ticks": ""
            },
            "type": "mesh3d"
           }
          ],
          "parcoords": [
           {
            "line": {
             "colorbar": {
              "outlinewidth": 0,
              "ticks": ""
             }
            },
            "type": "parcoords"
           }
          ],
          "pie": [
           {
            "automargin": true,
            "type": "pie"
           }
          ],
          "scatter": [
           {
            "fillpattern": {
             "fillmode": "overlay",
             "size": 10,
             "solidity": 0.2
            },
            "type": "scatter"
           }
          ],
          "scatter3d": [
           {
            "line": {
             "colorbar": {
              "outlinewidth": 0,
              "ticks": ""
             }
            },
            "marker": {
             "colorbar": {
              "outlinewidth": 0,
              "ticks": ""
             }
            },
            "type": "scatter3d"
           }
          ],
          "scattercarpet": [
           {
            "marker": {
             "colorbar": {
              "outlinewidth": 0,
              "ticks": ""
             }
            },
            "type": "scattercarpet"
           }
          ],
          "scattergeo": [
           {
            "marker": {
             "colorbar": {
              "outlinewidth": 0,
              "ticks": ""
             }
            },
            "type": "scattergeo"
           }
          ],
          "scattergl": [
           {
            "marker": {
             "colorbar": {
              "outlinewidth": 0,
              "ticks": ""
             }
            },
            "type": "scattergl"
           }
          ],
          "scattermapbox": [
           {
            "marker": {
             "colorbar": {
              "outlinewidth": 0,
              "ticks": ""
             }
            },
            "type": "scattermapbox"
           }
          ],
          "scatterpolar": [
           {
            "marker": {
             "colorbar": {
              "outlinewidth": 0,
              "ticks": ""
             }
            },
            "type": "scatterpolar"
           }
          ],
          "scatterpolargl": [
           {
            "marker": {
             "colorbar": {
              "outlinewidth": 0,
              "ticks": ""
             }
            },
            "type": "scatterpolargl"
           }
          ],
          "scatterternary": [
           {
            "marker": {
             "colorbar": {
              "outlinewidth": 0,
              "ticks": ""
             }
            },
            "type": "scatterternary"
           }
          ],
          "surface": [
           {
            "colorbar": {
             "outlinewidth": 0,
             "ticks": ""
            },
            "colorscale": [
             [
              0,
              "#0d0887"
             ],
             [
              0.1111111111111111,
              "#46039f"
             ],
             [
              0.2222222222222222,
              "#7201a8"
             ],
             [
              0.3333333333333333,
              "#9c179e"
             ],
             [
              0.4444444444444444,
              "#bd3786"
             ],
             [
              0.5555555555555556,
              "#d8576b"
             ],
             [
              0.6666666666666666,
              "#ed7953"
             ],
             [
              0.7777777777777778,
              "#fb9f3a"
             ],
             [
              0.8888888888888888,
              "#fdca26"
             ],
             [
              1,
              "#f0f921"
             ]
            ],
            "type": "surface"
           }
          ],
          "table": [
           {
            "cells": {
             "fill": {
              "color": "#EBF0F8"
             },
             "line": {
              "color": "white"
             }
            },
            "header": {
             "fill": {
              "color": "#C8D4E3"
             },
             "line": {
              "color": "white"
             }
            },
            "type": "table"
           }
          ]
         },
         "layout": {
          "annotationdefaults": {
           "arrowcolor": "#2a3f5f",
           "arrowhead": 0,
           "arrowwidth": 1
          },
          "autotypenumbers": "strict",
          "coloraxis": {
           "colorbar": {
            "outlinewidth": 0,
            "ticks": ""
           }
          },
          "colorscale": {
           "diverging": [
            [
             0,
             "#8e0152"
            ],
            [
             0.1,
             "#c51b7d"
            ],
            [
             0.2,
             "#de77ae"
            ],
            [
             0.3,
             "#f1b6da"
            ],
            [
             0.4,
             "#fde0ef"
            ],
            [
             0.5,
             "#f7f7f7"
            ],
            [
             0.6,
             "#e6f5d0"
            ],
            [
             0.7,
             "#b8e186"
            ],
            [
             0.8,
             "#7fbc41"
            ],
            [
             0.9,
             "#4d9221"
            ],
            [
             1,
             "#276419"
            ]
           ],
           "sequential": [
            [
             0,
             "#0d0887"
            ],
            [
             0.1111111111111111,
             "#46039f"
            ],
            [
             0.2222222222222222,
             "#7201a8"
            ],
            [
             0.3333333333333333,
             "#9c179e"
            ],
            [
             0.4444444444444444,
             "#bd3786"
            ],
            [
             0.5555555555555556,
             "#d8576b"
            ],
            [
             0.6666666666666666,
             "#ed7953"
            ],
            [
             0.7777777777777778,
             "#fb9f3a"
            ],
            [
             0.8888888888888888,
             "#fdca26"
            ],
            [
             1,
             "#f0f921"
            ]
           ],
           "sequentialminus": [
            [
             0,
             "#0d0887"
            ],
            [
             0.1111111111111111,
             "#46039f"
            ],
            [
             0.2222222222222222,
             "#7201a8"
            ],
            [
             0.3333333333333333,
             "#9c179e"
            ],
            [
             0.4444444444444444,
             "#bd3786"
            ],
            [
             0.5555555555555556,
             "#d8576b"
            ],
            [
             0.6666666666666666,
             "#ed7953"
            ],
            [
             0.7777777777777778,
             "#fb9f3a"
            ],
            [
             0.8888888888888888,
             "#fdca26"
            ],
            [
             1,
             "#f0f921"
            ]
           ]
          },
          "colorway": [
           "#636efa",
           "#EF553B",
           "#00cc96",
           "#ab63fa",
           "#FFA15A",
           "#19d3f3",
           "#FF6692",
           "#B6E880",
           "#FF97FF",
           "#FECB52"
          ],
          "font": {
           "color": "#2a3f5f"
          },
          "geo": {
           "bgcolor": "white",
           "lakecolor": "white",
           "landcolor": "#E5ECF6",
           "showlakes": true,
           "showland": true,
           "subunitcolor": "white"
          },
          "hoverlabel": {
           "align": "left"
          },
          "hovermode": "closest",
          "mapbox": {
           "style": "light"
          },
          "paper_bgcolor": "white",
          "plot_bgcolor": "#E5ECF6",
          "polar": {
           "angularaxis": {
            "gridcolor": "white",
            "linecolor": "white",
            "ticks": ""
           },
           "bgcolor": "#E5ECF6",
           "radialaxis": {
            "gridcolor": "white",
            "linecolor": "white",
            "ticks": ""
           }
          },
          "scene": {
           "xaxis": {
            "backgroundcolor": "#E5ECF6",
            "gridcolor": "white",
            "gridwidth": 2,
            "linecolor": "white",
            "showbackground": true,
            "ticks": "",
            "zerolinecolor": "white"
           },
           "yaxis": {
            "backgroundcolor": "#E5ECF6",
            "gridcolor": "white",
            "gridwidth": 2,
            "linecolor": "white",
            "showbackground": true,
            "ticks": "",
            "zerolinecolor": "white"
           },
           "zaxis": {
            "backgroundcolor": "#E5ECF6",
            "gridcolor": "white",
            "gridwidth": 2,
            "linecolor": "white",
            "showbackground": true,
            "ticks": "",
            "zerolinecolor": "white"
           }
          },
          "shapedefaults": {
           "line": {
            "color": "#2a3f5f"
           }
          },
          "ternary": {
           "aaxis": {
            "gridcolor": "white",
            "linecolor": "white",
            "ticks": ""
           },
           "baxis": {
            "gridcolor": "white",
            "linecolor": "white",
            "ticks": ""
           },
           "bgcolor": "#E5ECF6",
           "caxis": {
            "gridcolor": "white",
            "linecolor": "white",
            "ticks": ""
           }
          },
          "title": {
           "x": 0.05
          },
          "xaxis": {
           "automargin": true,
           "gridcolor": "white",
           "linecolor": "white",
           "ticks": "",
           "title": {
            "standoff": 15
           },
           "zerolinecolor": "white",
           "zerolinewidth": 2
          },
          "yaxis": {
           "automargin": true,
           "gridcolor": "white",
           "linecolor": "white",
           "ticks": "",
           "title": {
            "standoff": 15
           },
           "zerolinecolor": "white",
           "zerolinewidth": 2
          }
         }
        },
        "xaxis": {
         "anchor": "y",
         "domain": [
          0,
          1
         ]
        },
        "yaxis": {
         "anchor": "x",
         "domain": [
          0,
          1
         ],
         "title": {
          "text": "Users"
         }
        }
       }
      },
      "text/html": [
       "<div>                            <div id=\"5de84b0c-8a98-45b7-9bce-a17850267c70\" class=\"plotly-graph-div\" style=\"height:525px; width:100%;\"></div>            <script type=\"text/javascript\">                require([\"plotly\"], function(Plotly) {                    window.PLOTLYENV=window.PLOTLYENV || {};                                    if (document.getElementById(\"5de84b0c-8a98-45b7-9bce-a17850267c70\")) {                    Plotly.newPlot(                        \"5de84b0c-8a98-45b7-9bce-a17850267c70\",                        [{\"alignmentgroup\":\"True\",\"boxpoints\":\"all\",\"hovertemplate\":\"Users=%{y}<extra></extra>\",\"legendgroup\":\"\",\"marker\":{\"color\":\"#636efa\"},\"name\":\"\",\"notched\":false,\"offsetgroup\":\"\",\"orientation\":\"v\",\"showlegend\":false,\"x0\":\" \",\"xaxis\":\"x\",\"y\":[6965,5776,4953,3603,3012,2725,2679,2633,2587,2454,2231,2159,1954,1781,1584,1565,1473,1349,1274,1238,1212,1209,1196,1088,1029,993,938,898,889,882,876,872,862,846,833,827,810,709,702,699,696,673,637,621,611,601,588,572,562,555,533,529,513,510,506,467,464,454,448,444,441,438,431,425,421,421,415,412,395,386,382,372,369,366,363,356,356,353,350,340,337,337,337,333,330,327,314,310,310,307,287,284,284,278,258,252,248,248,248,248,245,242,242,238,235,235,235,232,229,225,219,219,219,212,209,209,209,206,206,206,206,203,203,203,199,199,199,193,189,189,189,186,186,186,180,180,180,180,176,176,173,173,170,170,170,167,167,167,167,167,163,163,163,163,163,163,160,160,160,160,160,160,157,157,157,157,157,157,154,154,150,150,150,147,147,147,147,147,147,144,144,144,144,144,144,144,140,140,140,140,140,140,137,137,134,134,134,131,131,131,131,131,131,131,131,131,127,127,127,127,127,127,127,127,127,124,124,124,124,124,121,121,121,118,118,118,118,118,118,118,118,118,114,114,114,114,114,114,114,114,111,111,111,111,111,111,111,111,111,111,108,108,108,108,108,108,108,108,108,105,105,105,105,105,105,105,105,105,105,101,101,101,101,101,101,101,101,101,98,98,98,98,98,98,98,98,98,98,98,98,98,98,95,95,95,95,95,95,95,95,95,91,91,91,91,91,91,88,88,88,88,88,88,88,88,85,85,85,85,85,85,85,85,85,85,82,82,82,82,82,82,82,82,82,82,82,82,82,82,78,78,78,78,78,78,78,78,78,78,78,78,78,78,78,78,78,78,78,78,75,75,75,75,75,75,75,75,75,75,75,75,75,75,75,75,75,72,72,72,72,72,72,72,72,72,72,72,72,72,72,72,72,72,69,69,69,69,69,69,69,69,69,69,69,69,69,69,69,69,69,69,69,69,69,69,69,69,69,69,65,65,65,65,65,65,65,65,65,65,65,65,65,65,65,65,65,65,65,65,65,65,62,62,62,62,62,62,62,62,62,62,62,62,62,62,62,62,62,62,62,62,62,62,62,62,62,62,62,62,62,62,62,62,62,59,59,59,59,59,59,59,59,59,59,59,59,59,59,59,59,59,59,56,56,56,56,56,56,56,56,56,56,56,56,56,56,56,56,56,56,56,56,56,56,56,56,52,52,52,52,52,52,52,52,52,52,52,52,52,52,52,52,52,52,52,52,52,52,52,52,52,52,52,52,52,52,52,52,52,52,52,49,49,49,49,49,49,49,49,49,49,49,49,49,49,49,49,49,49,49,49,49,49,49,49,49,49,49,49,49,46,46,46,46,46,46,46,46,46,46,46,46,46,46,46,46,46,46,46,46,46,46,46,46,46,46,46,46,46,46,46,46,46,46,46,46,46,46,46,42,42,42,42,42,42,42,42,42,42,42,42,42,42,42,42,42,42,42,42,42,42,42,42,42,42,42,42,42,42,42,42,42,42,42,42,42,42,42,42,42,42,42,42,42,42,42,42,42,42,42,42,42,39,39,39,39,39,39,39,39,39,39,39,39,39,39,39,39,39,39,39,39,39,39,39,39,39,39,39,39,39,39,39,39,39,39,39,39,39,39,39,39,39,39,39,39,39,39,39,39,39,39,39,39,36,36,36,36,36,36,36,36,36,36,36,36,36,36,36,36,36,36,36,36,36,36,36,36,36,36,36,36,36,36,36,36,36,36,36,36,36,36,36,36,36,36,36,36,36,36,36,36,36,36,36,36,36,36,36,36,36,33,33,33,33,33,33,33,33,33,33,33,33,33,33,33,33,33,33,33,33,33,33,33,33,33,33,33,33,33,33,33,33,33,33,33,33,33,33,33,33,33,33,33,33,33,33,33,33,33,33,33,33,33,33,33,33,33,33,33,33,33,33,33,33,33,33,33,33,33,33,33,33,33,33,33,33,33,33,33,33,33,29,29,29,29,29,29,29,29,29,29,29,29,29,29,29,29,29,29,29,29,29,29,29,29,29,29,29,29,29,29,29,29,29,29,29,29,29,29,29,29,29,29,29,29,29,29,29,29,29,29,29,29,29,29,29,29,29,29,29,29,29,29,29,29,29,29,29,29,29,29,29,29,29,29,29,29,29,29,29,29,29,29,29,29,29,29,29,29,29,29,29,29,29,29,29,29,29,29,29,29,29,29,29,29,29,26,26,26,26,26,26,26,26,26,26,26,26,26,26,26,26,26,26,26,26,26,26,26,26,26,26,26,26,26,26,26,26,26],\"y0\":\" \",\"yaxis\":\"y\",\"type\":\"box\"}],                        {\"template\":{\"data\":{\"histogram2dcontour\":[{\"type\":\"histogram2dcontour\",\"colorbar\":{\"outlinewidth\":0,\"ticks\":\"\"},\"colorscale\":[[0.0,\"#0d0887\"],[0.1111111111111111,\"#46039f\"],[0.2222222222222222,\"#7201a8\"],[0.3333333333333333,\"#9c179e\"],[0.4444444444444444,\"#bd3786\"],[0.5555555555555556,\"#d8576b\"],[0.6666666666666666,\"#ed7953\"],[0.7777777777777778,\"#fb9f3a\"],[0.8888888888888888,\"#fdca26\"],[1.0,\"#f0f921\"]]}],\"choropleth\":[{\"type\":\"choropleth\",\"colorbar\":{\"outlinewidth\":0,\"ticks\":\"\"}}],\"histogram2d\":[{\"type\":\"histogram2d\",\"colorbar\":{\"outlinewidth\":0,\"ticks\":\"\"},\"colorscale\":[[0.0,\"#0d0887\"],[0.1111111111111111,\"#46039f\"],[0.2222222222222222,\"#7201a8\"],[0.3333333333333333,\"#9c179e\"],[0.4444444444444444,\"#bd3786\"],[0.5555555555555556,\"#d8576b\"],[0.6666666666666666,\"#ed7953\"],[0.7777777777777778,\"#fb9f3a\"],[0.8888888888888888,\"#fdca26\"],[1.0,\"#f0f921\"]]}],\"heatmap\":[{\"type\":\"heatmap\",\"colorbar\":{\"outlinewidth\":0,\"ticks\":\"\"},\"colorscale\":[[0.0,\"#0d0887\"],[0.1111111111111111,\"#46039f\"],[0.2222222222222222,\"#7201a8\"],[0.3333333333333333,\"#9c179e\"],[0.4444444444444444,\"#bd3786\"],[0.5555555555555556,\"#d8576b\"],[0.6666666666666666,\"#ed7953\"],[0.7777777777777778,\"#fb9f3a\"],[0.8888888888888888,\"#fdca26\"],[1.0,\"#f0f921\"]]}],\"heatmapgl\":[{\"type\":\"heatmapgl\",\"colorbar\":{\"outlinewidth\":0,\"ticks\":\"\"},\"colorscale\":[[0.0,\"#0d0887\"],[0.1111111111111111,\"#46039f\"],[0.2222222222222222,\"#7201a8\"],[0.3333333333333333,\"#9c179e\"],[0.4444444444444444,\"#bd3786\"],[0.5555555555555556,\"#d8576b\"],[0.6666666666666666,\"#ed7953\"],[0.7777777777777778,\"#fb9f3a\"],[0.8888888888888888,\"#fdca26\"],[1.0,\"#f0f921\"]]}],\"contourcarpet\":[{\"type\":\"contourcarpet\",\"colorbar\":{\"outlinewidth\":0,\"ticks\":\"\"}}],\"contour\":[{\"type\":\"contour\",\"colorbar\":{\"outlinewidth\":0,\"ticks\":\"\"},\"colorscale\":[[0.0,\"#0d0887\"],[0.1111111111111111,\"#46039f\"],[0.2222222222222222,\"#7201a8\"],[0.3333333333333333,\"#9c179e\"],[0.4444444444444444,\"#bd3786\"],[0.5555555555555556,\"#d8576b\"],[0.6666666666666666,\"#ed7953\"],[0.7777777777777778,\"#fb9f3a\"],[0.8888888888888888,\"#fdca26\"],[1.0,\"#f0f921\"]]}],\"surface\":[{\"type\":\"surface\",\"colorbar\":{\"outlinewidth\":0,\"ticks\":\"\"},\"colorscale\":[[0.0,\"#0d0887\"],[0.1111111111111111,\"#46039f\"],[0.2222222222222222,\"#7201a8\"],[0.3333333333333333,\"#9c179e\"],[0.4444444444444444,\"#bd3786\"],[0.5555555555555556,\"#d8576b\"],[0.6666666666666666,\"#ed7953\"],[0.7777777777777778,\"#fb9f3a\"],[0.8888888888888888,\"#fdca26\"],[1.0,\"#f0f921\"]]}],\"mesh3d\":[{\"type\":\"mesh3d\",\"colorbar\":{\"outlinewidth\":0,\"ticks\":\"\"}}],\"scatter\":[{\"fillpattern\":{\"fillmode\":\"overlay\",\"size\":10,\"solidity\":0.2},\"type\":\"scatter\"}],\"parcoords\":[{\"type\":\"parcoords\",\"line\":{\"colorbar\":{\"outlinewidth\":0,\"ticks\":\"\"}}}],\"scatterpolargl\":[{\"type\":\"scatterpolargl\",\"marker\":{\"colorbar\":{\"outlinewidth\":0,\"ticks\":\"\"}}}],\"bar\":[{\"error_x\":{\"color\":\"#2a3f5f\"},\"error_y\":{\"color\":\"#2a3f5f\"},\"marker\":{\"line\":{\"color\":\"#E5ECF6\",\"width\":0.5},\"pattern\":{\"fillmode\":\"overlay\",\"size\":10,\"solidity\":0.2}},\"type\":\"bar\"}],\"scattergeo\":[{\"type\":\"scattergeo\",\"marker\":{\"colorbar\":{\"outlinewidth\":0,\"ticks\":\"\"}}}],\"scatterpolar\":[{\"type\":\"scatterpolar\",\"marker\":{\"colorbar\":{\"outlinewidth\":0,\"ticks\":\"\"}}}],\"histogram\":[{\"marker\":{\"pattern\":{\"fillmode\":\"overlay\",\"size\":10,\"solidity\":0.2}},\"type\":\"histogram\"}],\"scattergl\":[{\"type\":\"scattergl\",\"marker\":{\"colorbar\":{\"outlinewidth\":0,\"ticks\":\"\"}}}],\"scatter3d\":[{\"type\":\"scatter3d\",\"line\":{\"colorbar\":{\"outlinewidth\":0,\"ticks\":\"\"}},\"marker\":{\"colorbar\":{\"outlinewidth\":0,\"ticks\":\"\"}}}],\"scattermapbox\":[{\"type\":\"scattermapbox\",\"marker\":{\"colorbar\":{\"outlinewidth\":0,\"ticks\":\"\"}}}],\"scatterternary\":[{\"type\":\"scatterternary\",\"marker\":{\"colorbar\":{\"outlinewidth\":0,\"ticks\":\"\"}}}],\"scattercarpet\":[{\"type\":\"scattercarpet\",\"marker\":{\"colorbar\":{\"outlinewidth\":0,\"ticks\":\"\"}}}],\"carpet\":[{\"aaxis\":{\"endlinecolor\":\"#2a3f5f\",\"gridcolor\":\"white\",\"linecolor\":\"white\",\"minorgridcolor\":\"white\",\"startlinecolor\":\"#2a3f5f\"},\"baxis\":{\"endlinecolor\":\"#2a3f5f\",\"gridcolor\":\"white\",\"linecolor\":\"white\",\"minorgridcolor\":\"white\",\"startlinecolor\":\"#2a3f5f\"},\"type\":\"carpet\"}],\"table\":[{\"cells\":{\"fill\":{\"color\":\"#EBF0F8\"},\"line\":{\"color\":\"white\"}},\"header\":{\"fill\":{\"color\":\"#C8D4E3\"},\"line\":{\"color\":\"white\"}},\"type\":\"table\"}],\"barpolar\":[{\"marker\":{\"line\":{\"color\":\"#E5ECF6\",\"width\":0.5},\"pattern\":{\"fillmode\":\"overlay\",\"size\":10,\"solidity\":0.2}},\"type\":\"barpolar\"}],\"pie\":[{\"automargin\":true,\"type\":\"pie\"}]},\"layout\":{\"autotypenumbers\":\"strict\",\"colorway\":[\"#636efa\",\"#EF553B\",\"#00cc96\",\"#ab63fa\",\"#FFA15A\",\"#19d3f3\",\"#FF6692\",\"#B6E880\",\"#FF97FF\",\"#FECB52\"],\"font\":{\"color\":\"#2a3f5f\"},\"hovermode\":\"closest\",\"hoverlabel\":{\"align\":\"left\"},\"paper_bgcolor\":\"white\",\"plot_bgcolor\":\"#E5ECF6\",\"polar\":{\"bgcolor\":\"#E5ECF6\",\"angularaxis\":{\"gridcolor\":\"white\",\"linecolor\":\"white\",\"ticks\":\"\"},\"radialaxis\":{\"gridcolor\":\"white\",\"linecolor\":\"white\",\"ticks\":\"\"}},\"ternary\":{\"bgcolor\":\"#E5ECF6\",\"aaxis\":{\"gridcolor\":\"white\",\"linecolor\":\"white\",\"ticks\":\"\"},\"baxis\":{\"gridcolor\":\"white\",\"linecolor\":\"white\",\"ticks\":\"\"},\"caxis\":{\"gridcolor\":\"white\",\"linecolor\":\"white\",\"ticks\":\"\"}},\"coloraxis\":{\"colorbar\":{\"outlinewidth\":0,\"ticks\":\"\"}},\"colorscale\":{\"sequential\":[[0.0,\"#0d0887\"],[0.1111111111111111,\"#46039f\"],[0.2222222222222222,\"#7201a8\"],[0.3333333333333333,\"#9c179e\"],[0.4444444444444444,\"#bd3786\"],[0.5555555555555556,\"#d8576b\"],[0.6666666666666666,\"#ed7953\"],[0.7777777777777778,\"#fb9f3a\"],[0.8888888888888888,\"#fdca26\"],[1.0,\"#f0f921\"]],\"sequentialminus\":[[0.0,\"#0d0887\"],[0.1111111111111111,\"#46039f\"],[0.2222222222222222,\"#7201a8\"],[0.3333333333333333,\"#9c179e\"],[0.4444444444444444,\"#bd3786\"],[0.5555555555555556,\"#d8576b\"],[0.6666666666666666,\"#ed7953\"],[0.7777777777777778,\"#fb9f3a\"],[0.8888888888888888,\"#fdca26\"],[1.0,\"#f0f921\"]],\"diverging\":[[0,\"#8e0152\"],[0.1,\"#c51b7d\"],[0.2,\"#de77ae\"],[0.3,\"#f1b6da\"],[0.4,\"#fde0ef\"],[0.5,\"#f7f7f7\"],[0.6,\"#e6f5d0\"],[0.7,\"#b8e186\"],[0.8,\"#7fbc41\"],[0.9,\"#4d9221\"],[1,\"#276419\"]]},\"xaxis\":{\"gridcolor\":\"white\",\"linecolor\":\"white\",\"ticks\":\"\",\"title\":{\"standoff\":15},\"zerolinecolor\":\"white\",\"automargin\":true,\"zerolinewidth\":2},\"yaxis\":{\"gridcolor\":\"white\",\"linecolor\":\"white\",\"ticks\":\"\",\"title\":{\"standoff\":15},\"zerolinecolor\":\"white\",\"automargin\":true,\"zerolinewidth\":2},\"scene\":{\"xaxis\":{\"backgroundcolor\":\"#E5ECF6\",\"gridcolor\":\"white\",\"linecolor\":\"white\",\"showbackground\":true,\"ticks\":\"\",\"zerolinecolor\":\"white\",\"gridwidth\":2},\"yaxis\":{\"backgroundcolor\":\"#E5ECF6\",\"gridcolor\":\"white\",\"linecolor\":\"white\",\"showbackground\":true,\"ticks\":\"\",\"zerolinecolor\":\"white\",\"gridwidth\":2},\"zaxis\":{\"backgroundcolor\":\"#E5ECF6\",\"gridcolor\":\"white\",\"linecolor\":\"white\",\"showbackground\":true,\"ticks\":\"\",\"zerolinecolor\":\"white\",\"gridwidth\":2}},\"shapedefaults\":{\"line\":{\"color\":\"#2a3f5f\"}},\"annotationdefaults\":{\"arrowcolor\":\"#2a3f5f\",\"arrowhead\":0,\"arrowwidth\":1},\"geo\":{\"bgcolor\":\"white\",\"landcolor\":\"#E5ECF6\",\"subunitcolor\":\"white\",\"showland\":true,\"showlakes\":true,\"lakecolor\":\"white\"},\"title\":{\"x\":0.05},\"mapbox\":{\"style\":\"light\"}}},\"xaxis\":{\"anchor\":\"y\",\"domain\":[0.0,1.0]},\"yaxis\":{\"anchor\":\"x\",\"domain\":[0.0,1.0],\"title\":{\"text\":\"Users\"}},\"legend\":{\"tracegroupgap\":0},\"margin\":{\"t\":60},\"boxmode\":\"group\"},                        {\"responsive\": true}                    ).then(function(){\n",
       "                            \n",
       "var gd = document.getElementById('5de84b0c-8a98-45b7-9bce-a17850267c70');\n",
       "var x = new MutationObserver(function (mutations, observer) {{\n",
       "        var display = window.getComputedStyle(gd).display;\n",
       "        if (!display || display === 'none') {{\n",
       "            console.log([gd, 'removed!']);\n",
       "            Plotly.purge(gd);\n",
       "            observer.disconnect();\n",
       "        }}\n",
       "}});\n",
       "\n",
       "// Listen for the removal of the full notebook cells\n",
       "var notebookContainer = gd.closest('#notebook-container');\n",
       "if (notebookContainer) {{\n",
       "    x.observe(notebookContainer, {childList: true});\n",
       "}}\n",
       "\n",
       "// Listen for the clearing of the current output cell\n",
       "var outputEl = gd.closest('.output');\n",
       "if (outputEl) {{\n",
       "    x.observe(outputEl, {childList: true});\n",
       "}}\n",
       "\n",
       "                        })                };                });            </script>        </div>"
      ]
     },
     "metadata": {},
     "output_type": "display_data"
    }
   ],
   "source": [
    "fig2 = px.box(df, y = df.Users, points = \"all\")\n",
    "fig2.show()"
   ]
  },
  {
   "cell_type": "code",
   "execution_count": 9,
   "id": "82f67e9b",
   "metadata": {},
   "outputs": [
    {
     "data": {
      "application/vnd.plotly.v1+json": {
       "config": {
        "plotlyServerURL": "https://plot.ly"
       },
       "data": [
        {
         "alignmentgroup": "True",
         "bingroup": "x",
         "histfunc": "sum",
         "hovertemplate": "City=%{x}<br>sum of Users=%{y}<extra></extra>",
         "legendgroup": "",
         "marker": {
          "color": "#636efa",
          "pattern": {
           "shape": ""
          }
         },
         "name": "",
         "offsetgroup": "",
         "orientation": "v",
         "showlegend": false,
         "type": "histogram",
         "x": [
          "Dublin",
          "Madrid",
          "Barcelona",
          "Warsaw",
          "Moscow",
          "Zurich",
          "Amsterdam",
          "Milan",
          "Berlin",
          "Edinburgh"
         ],
         "xaxis": "x",
         "y": [
          5776,
          4953,
          3603,
          3012,
          2725,
          2679,
          2633,
          2587,
          2454,
          2231
         ],
         "yaxis": "y"
        }
       ],
       "layout": {
        "barmode": "relative",
        "legend": {
         "tracegroupgap": 0
        },
        "margin": {
         "t": 60
        },
        "template": {
         "data": {
          "bar": [
           {
            "error_x": {
             "color": "#2a3f5f"
            },
            "error_y": {
             "color": "#2a3f5f"
            },
            "marker": {
             "line": {
              "color": "#E5ECF6",
              "width": 0.5
             },
             "pattern": {
              "fillmode": "overlay",
              "size": 10,
              "solidity": 0.2
             }
            },
            "type": "bar"
           }
          ],
          "barpolar": [
           {
            "marker": {
             "line": {
              "color": "#E5ECF6",
              "width": 0.5
             },
             "pattern": {
              "fillmode": "overlay",
              "size": 10,
              "solidity": 0.2
             }
            },
            "type": "barpolar"
           }
          ],
          "carpet": [
           {
            "aaxis": {
             "endlinecolor": "#2a3f5f",
             "gridcolor": "white",
             "linecolor": "white",
             "minorgridcolor": "white",
             "startlinecolor": "#2a3f5f"
            },
            "baxis": {
             "endlinecolor": "#2a3f5f",
             "gridcolor": "white",
             "linecolor": "white",
             "minorgridcolor": "white",
             "startlinecolor": "#2a3f5f"
            },
            "type": "carpet"
           }
          ],
          "choropleth": [
           {
            "colorbar": {
             "outlinewidth": 0,
             "ticks": ""
            },
            "type": "choropleth"
           }
          ],
          "contour": [
           {
            "colorbar": {
             "outlinewidth": 0,
             "ticks": ""
            },
            "colorscale": [
             [
              0,
              "#0d0887"
             ],
             [
              0.1111111111111111,
              "#46039f"
             ],
             [
              0.2222222222222222,
              "#7201a8"
             ],
             [
              0.3333333333333333,
              "#9c179e"
             ],
             [
              0.4444444444444444,
              "#bd3786"
             ],
             [
              0.5555555555555556,
              "#d8576b"
             ],
             [
              0.6666666666666666,
              "#ed7953"
             ],
             [
              0.7777777777777778,
              "#fb9f3a"
             ],
             [
              0.8888888888888888,
              "#fdca26"
             ],
             [
              1,
              "#f0f921"
             ]
            ],
            "type": "contour"
           }
          ],
          "contourcarpet": [
           {
            "colorbar": {
             "outlinewidth": 0,
             "ticks": ""
            },
            "type": "contourcarpet"
           }
          ],
          "heatmap": [
           {
            "colorbar": {
             "outlinewidth": 0,
             "ticks": ""
            },
            "colorscale": [
             [
              0,
              "#0d0887"
             ],
             [
              0.1111111111111111,
              "#46039f"
             ],
             [
              0.2222222222222222,
              "#7201a8"
             ],
             [
              0.3333333333333333,
              "#9c179e"
             ],
             [
              0.4444444444444444,
              "#bd3786"
             ],
             [
              0.5555555555555556,
              "#d8576b"
             ],
             [
              0.6666666666666666,
              "#ed7953"
             ],
             [
              0.7777777777777778,
              "#fb9f3a"
             ],
             [
              0.8888888888888888,
              "#fdca26"
             ],
             [
              1,
              "#f0f921"
             ]
            ],
            "type": "heatmap"
           }
          ],
          "heatmapgl": [
           {
            "colorbar": {
             "outlinewidth": 0,
             "ticks": ""
            },
            "colorscale": [
             [
              0,
              "#0d0887"
             ],
             [
              0.1111111111111111,
              "#46039f"
             ],
             [
              0.2222222222222222,
              "#7201a8"
             ],
             [
              0.3333333333333333,
              "#9c179e"
             ],
             [
              0.4444444444444444,
              "#bd3786"
             ],
             [
              0.5555555555555556,
              "#d8576b"
             ],
             [
              0.6666666666666666,
              "#ed7953"
             ],
             [
              0.7777777777777778,
              "#fb9f3a"
             ],
             [
              0.8888888888888888,
              "#fdca26"
             ],
             [
              1,
              "#f0f921"
             ]
            ],
            "type": "heatmapgl"
           }
          ],
          "histogram": [
           {
            "marker": {
             "pattern": {
              "fillmode": "overlay",
              "size": 10,
              "solidity": 0.2
             }
            },
            "type": "histogram"
           }
          ],
          "histogram2d": [
           {
            "colorbar": {
             "outlinewidth": 0,
             "ticks": ""
            },
            "colorscale": [
             [
              0,
              "#0d0887"
             ],
             [
              0.1111111111111111,
              "#46039f"
             ],
             [
              0.2222222222222222,
              "#7201a8"
             ],
             [
              0.3333333333333333,
              "#9c179e"
             ],
             [
              0.4444444444444444,
              "#bd3786"
             ],
             [
              0.5555555555555556,
              "#d8576b"
             ],
             [
              0.6666666666666666,
              "#ed7953"
             ],
             [
              0.7777777777777778,
              "#fb9f3a"
             ],
             [
              0.8888888888888888,
              "#fdca26"
             ],
             [
              1,
              "#f0f921"
             ]
            ],
            "type": "histogram2d"
           }
          ],
          "histogram2dcontour": [
           {
            "colorbar": {
             "outlinewidth": 0,
             "ticks": ""
            },
            "colorscale": [
             [
              0,
              "#0d0887"
             ],
             [
              0.1111111111111111,
              "#46039f"
             ],
             [
              0.2222222222222222,
              "#7201a8"
             ],
             [
              0.3333333333333333,
              "#9c179e"
             ],
             [
              0.4444444444444444,
              "#bd3786"
             ],
             [
              0.5555555555555556,
              "#d8576b"
             ],
             [
              0.6666666666666666,
              "#ed7953"
             ],
             [
              0.7777777777777778,
              "#fb9f3a"
             ],
             [
              0.8888888888888888,
              "#fdca26"
             ],
             [
              1,
              "#f0f921"
             ]
            ],
            "type": "histogram2dcontour"
           }
          ],
          "mesh3d": [
           {
            "colorbar": {
             "outlinewidth": 0,
             "ticks": ""
            },
            "type": "mesh3d"
           }
          ],
          "parcoords": [
           {
            "line": {
             "colorbar": {
              "outlinewidth": 0,
              "ticks": ""
             }
            },
            "type": "parcoords"
           }
          ],
          "pie": [
           {
            "automargin": true,
            "type": "pie"
           }
          ],
          "scatter": [
           {
            "fillpattern": {
             "fillmode": "overlay",
             "size": 10,
             "solidity": 0.2
            },
            "type": "scatter"
           }
          ],
          "scatter3d": [
           {
            "line": {
             "colorbar": {
              "outlinewidth": 0,
              "ticks": ""
             }
            },
            "marker": {
             "colorbar": {
              "outlinewidth": 0,
              "ticks": ""
             }
            },
            "type": "scatter3d"
           }
          ],
          "scattercarpet": [
           {
            "marker": {
             "colorbar": {
              "outlinewidth": 0,
              "ticks": ""
             }
            },
            "type": "scattercarpet"
           }
          ],
          "scattergeo": [
           {
            "marker": {
             "colorbar": {
              "outlinewidth": 0,
              "ticks": ""
             }
            },
            "type": "scattergeo"
           }
          ],
          "scattergl": [
           {
            "marker": {
             "colorbar": {
              "outlinewidth": 0,
              "ticks": ""
             }
            },
            "type": "scattergl"
           }
          ],
          "scattermapbox": [
           {
            "marker": {
             "colorbar": {
              "outlinewidth": 0,
              "ticks": ""
             }
            },
            "type": "scattermapbox"
           }
          ],
          "scatterpolar": [
           {
            "marker": {
             "colorbar": {
              "outlinewidth": 0,
              "ticks": ""
             }
            },
            "type": "scatterpolar"
           }
          ],
          "scatterpolargl": [
           {
            "marker": {
             "colorbar": {
              "outlinewidth": 0,
              "ticks": ""
             }
            },
            "type": "scatterpolargl"
           }
          ],
          "scatterternary": [
           {
            "marker": {
             "colorbar": {
              "outlinewidth": 0,
              "ticks": ""
             }
            },
            "type": "scatterternary"
           }
          ],
          "surface": [
           {
            "colorbar": {
             "outlinewidth": 0,
             "ticks": ""
            },
            "colorscale": [
             [
              0,
              "#0d0887"
             ],
             [
              0.1111111111111111,
              "#46039f"
             ],
             [
              0.2222222222222222,
              "#7201a8"
             ],
             [
              0.3333333333333333,
              "#9c179e"
             ],
             [
              0.4444444444444444,
              "#bd3786"
             ],
             [
              0.5555555555555556,
              "#d8576b"
             ],
             [
              0.6666666666666666,
              "#ed7953"
             ],
             [
              0.7777777777777778,
              "#fb9f3a"
             ],
             [
              0.8888888888888888,
              "#fdca26"
             ],
             [
              1,
              "#f0f921"
             ]
            ],
            "type": "surface"
           }
          ],
          "table": [
           {
            "cells": {
             "fill": {
              "color": "#EBF0F8"
             },
             "line": {
              "color": "white"
             }
            },
            "header": {
             "fill": {
              "color": "#C8D4E3"
             },
             "line": {
              "color": "white"
             }
            },
            "type": "table"
           }
          ]
         },
         "layout": {
          "annotationdefaults": {
           "arrowcolor": "#2a3f5f",
           "arrowhead": 0,
           "arrowwidth": 1
          },
          "autotypenumbers": "strict",
          "coloraxis": {
           "colorbar": {
            "outlinewidth": 0,
            "ticks": ""
           }
          },
          "colorscale": {
           "diverging": [
            [
             0,
             "#8e0152"
            ],
            [
             0.1,
             "#c51b7d"
            ],
            [
             0.2,
             "#de77ae"
            ],
            [
             0.3,
             "#f1b6da"
            ],
            [
             0.4,
             "#fde0ef"
            ],
            [
             0.5,
             "#f7f7f7"
            ],
            [
             0.6,
             "#e6f5d0"
            ],
            [
             0.7,
             "#b8e186"
            ],
            [
             0.8,
             "#7fbc41"
            ],
            [
             0.9,
             "#4d9221"
            ],
            [
             1,
             "#276419"
            ]
           ],
           "sequential": [
            [
             0,
             "#0d0887"
            ],
            [
             0.1111111111111111,
             "#46039f"
            ],
            [
             0.2222222222222222,
             "#7201a8"
            ],
            [
             0.3333333333333333,
             "#9c179e"
            ],
            [
             0.4444444444444444,
             "#bd3786"
            ],
            [
             0.5555555555555556,
             "#d8576b"
            ],
            [
             0.6666666666666666,
             "#ed7953"
            ],
            [
             0.7777777777777778,
             "#fb9f3a"
            ],
            [
             0.8888888888888888,
             "#fdca26"
            ],
            [
             1,
             "#f0f921"
            ]
           ],
           "sequentialminus": [
            [
             0,
             "#0d0887"
            ],
            [
             0.1111111111111111,
             "#46039f"
            ],
            [
             0.2222222222222222,
             "#7201a8"
            ],
            [
             0.3333333333333333,
             "#9c179e"
            ],
            [
             0.4444444444444444,
             "#bd3786"
            ],
            [
             0.5555555555555556,
             "#d8576b"
            ],
            [
             0.6666666666666666,
             "#ed7953"
            ],
            [
             0.7777777777777778,
             "#fb9f3a"
            ],
            [
             0.8888888888888888,
             "#fdca26"
            ],
            [
             1,
             "#f0f921"
            ]
           ]
          },
          "colorway": [
           "#636efa",
           "#EF553B",
           "#00cc96",
           "#ab63fa",
           "#FFA15A",
           "#19d3f3",
           "#FF6692",
           "#B6E880",
           "#FF97FF",
           "#FECB52"
          ],
          "font": {
           "color": "#2a3f5f"
          },
          "geo": {
           "bgcolor": "white",
           "lakecolor": "white",
           "landcolor": "#E5ECF6",
           "showlakes": true,
           "showland": true,
           "subunitcolor": "white"
          },
          "hoverlabel": {
           "align": "left"
          },
          "hovermode": "closest",
          "mapbox": {
           "style": "light"
          },
          "paper_bgcolor": "white",
          "plot_bgcolor": "#E5ECF6",
          "polar": {
           "angularaxis": {
            "gridcolor": "white",
            "linecolor": "white",
            "ticks": ""
           },
           "bgcolor": "#E5ECF6",
           "radialaxis": {
            "gridcolor": "white",
            "linecolor": "white",
            "ticks": ""
           }
          },
          "scene": {
           "xaxis": {
            "backgroundcolor": "#E5ECF6",
            "gridcolor": "white",
            "gridwidth": 2,
            "linecolor": "white",
            "showbackground": true,
            "ticks": "",
            "zerolinecolor": "white"
           },
           "yaxis": {
            "backgroundcolor": "#E5ECF6",
            "gridcolor": "white",
            "gridwidth": 2,
            "linecolor": "white",
            "showbackground": true,
            "ticks": "",
            "zerolinecolor": "white"
           },
           "zaxis": {
            "backgroundcolor": "#E5ECF6",
            "gridcolor": "white",
            "gridwidth": 2,
            "linecolor": "white",
            "showbackground": true,
            "ticks": "",
            "zerolinecolor": "white"
           }
          },
          "shapedefaults": {
           "line": {
            "color": "#2a3f5f"
           }
          },
          "ternary": {
           "aaxis": {
            "gridcolor": "white",
            "linecolor": "white",
            "ticks": ""
           },
           "baxis": {
            "gridcolor": "white",
            "linecolor": "white",
            "ticks": ""
           },
           "bgcolor": "#E5ECF6",
           "caxis": {
            "gridcolor": "white",
            "linecolor": "white",
            "ticks": ""
           }
          },
          "title": {
           "x": 0.05
          },
          "xaxis": {
           "automargin": true,
           "gridcolor": "white",
           "linecolor": "white",
           "ticks": "",
           "title": {
            "standoff": 15
           },
           "zerolinecolor": "white",
           "zerolinewidth": 2
          },
          "yaxis": {
           "automargin": true,
           "gridcolor": "white",
           "linecolor": "white",
           "ticks": "",
           "title": {
            "standoff": 15
           },
           "zerolinecolor": "white",
           "zerolinewidth": 2
          }
         }
        },
        "xaxis": {
         "anchor": "y",
         "domain": [
          0,
          1
         ],
         "title": {
          "text": "City"
         }
        },
        "yaxis": {
         "anchor": "x",
         "domain": [
          0,
          1
         ],
         "title": {
          "text": "sum of Users"
         }
        }
       }
      },
      "text/html": [
       "<div>                            <div id=\"82e069ba-877c-4c90-8f71-1ca9b2067677\" class=\"plotly-graph-div\" style=\"height:525px; width:100%;\"></div>            <script type=\"text/javascript\">                require([\"plotly\"], function(Plotly) {                    window.PLOTLYENV=window.PLOTLYENV || {};                                    if (document.getElementById(\"82e069ba-877c-4c90-8f71-1ca9b2067677\")) {                    Plotly.newPlot(                        \"82e069ba-877c-4c90-8f71-1ca9b2067677\",                        [{\"alignmentgroup\":\"True\",\"bingroup\":\"x\",\"histfunc\":\"sum\",\"hovertemplate\":\"City=%{x}<br>sum of Users=%{y}<extra></extra>\",\"legendgroup\":\"\",\"marker\":{\"color\":\"#636efa\",\"pattern\":{\"shape\":\"\"}},\"name\":\"\",\"offsetgroup\":\"\",\"orientation\":\"v\",\"showlegend\":false,\"x\":[\"Dublin\",\"Madrid\",\"Barcelona\",\"Warsaw\",\"Moscow\",\"Zurich\",\"Amsterdam\",\"Milan\",\"Berlin\",\"Edinburgh\"],\"xaxis\":\"x\",\"y\":[5776,4953,3603,3012,2725,2679,2633,2587,2454,2231],\"yaxis\":\"y\",\"type\":\"histogram\"}],                        {\"template\":{\"data\":{\"histogram2dcontour\":[{\"type\":\"histogram2dcontour\",\"colorbar\":{\"outlinewidth\":0,\"ticks\":\"\"},\"colorscale\":[[0.0,\"#0d0887\"],[0.1111111111111111,\"#46039f\"],[0.2222222222222222,\"#7201a8\"],[0.3333333333333333,\"#9c179e\"],[0.4444444444444444,\"#bd3786\"],[0.5555555555555556,\"#d8576b\"],[0.6666666666666666,\"#ed7953\"],[0.7777777777777778,\"#fb9f3a\"],[0.8888888888888888,\"#fdca26\"],[1.0,\"#f0f921\"]]}],\"choropleth\":[{\"type\":\"choropleth\",\"colorbar\":{\"outlinewidth\":0,\"ticks\":\"\"}}],\"histogram2d\":[{\"type\":\"histogram2d\",\"colorbar\":{\"outlinewidth\":0,\"ticks\":\"\"},\"colorscale\":[[0.0,\"#0d0887\"],[0.1111111111111111,\"#46039f\"],[0.2222222222222222,\"#7201a8\"],[0.3333333333333333,\"#9c179e\"],[0.4444444444444444,\"#bd3786\"],[0.5555555555555556,\"#d8576b\"],[0.6666666666666666,\"#ed7953\"],[0.7777777777777778,\"#fb9f3a\"],[0.8888888888888888,\"#fdca26\"],[1.0,\"#f0f921\"]]}],\"heatmap\":[{\"type\":\"heatmap\",\"colorbar\":{\"outlinewidth\":0,\"ticks\":\"\"},\"colorscale\":[[0.0,\"#0d0887\"],[0.1111111111111111,\"#46039f\"],[0.2222222222222222,\"#7201a8\"],[0.3333333333333333,\"#9c179e\"],[0.4444444444444444,\"#bd3786\"],[0.5555555555555556,\"#d8576b\"],[0.6666666666666666,\"#ed7953\"],[0.7777777777777778,\"#fb9f3a\"],[0.8888888888888888,\"#fdca26\"],[1.0,\"#f0f921\"]]}],\"heatmapgl\":[{\"type\":\"heatmapgl\",\"colorbar\":{\"outlinewidth\":0,\"ticks\":\"\"},\"colorscale\":[[0.0,\"#0d0887\"],[0.1111111111111111,\"#46039f\"],[0.2222222222222222,\"#7201a8\"],[0.3333333333333333,\"#9c179e\"],[0.4444444444444444,\"#bd3786\"],[0.5555555555555556,\"#d8576b\"],[0.6666666666666666,\"#ed7953\"],[0.7777777777777778,\"#fb9f3a\"],[0.8888888888888888,\"#fdca26\"],[1.0,\"#f0f921\"]]}],\"contourcarpet\":[{\"type\":\"contourcarpet\",\"colorbar\":{\"outlinewidth\":0,\"ticks\":\"\"}}],\"contour\":[{\"type\":\"contour\",\"colorbar\":{\"outlinewidth\":0,\"ticks\":\"\"},\"colorscale\":[[0.0,\"#0d0887\"],[0.1111111111111111,\"#46039f\"],[0.2222222222222222,\"#7201a8\"],[0.3333333333333333,\"#9c179e\"],[0.4444444444444444,\"#bd3786\"],[0.5555555555555556,\"#d8576b\"],[0.6666666666666666,\"#ed7953\"],[0.7777777777777778,\"#fb9f3a\"],[0.8888888888888888,\"#fdca26\"],[1.0,\"#f0f921\"]]}],\"surface\":[{\"type\":\"surface\",\"colorbar\":{\"outlinewidth\":0,\"ticks\":\"\"},\"colorscale\":[[0.0,\"#0d0887\"],[0.1111111111111111,\"#46039f\"],[0.2222222222222222,\"#7201a8\"],[0.3333333333333333,\"#9c179e\"],[0.4444444444444444,\"#bd3786\"],[0.5555555555555556,\"#d8576b\"],[0.6666666666666666,\"#ed7953\"],[0.7777777777777778,\"#fb9f3a\"],[0.8888888888888888,\"#fdca26\"],[1.0,\"#f0f921\"]]}],\"mesh3d\":[{\"type\":\"mesh3d\",\"colorbar\":{\"outlinewidth\":0,\"ticks\":\"\"}}],\"scatter\":[{\"fillpattern\":{\"fillmode\":\"overlay\",\"size\":10,\"solidity\":0.2},\"type\":\"scatter\"}],\"parcoords\":[{\"type\":\"parcoords\",\"line\":{\"colorbar\":{\"outlinewidth\":0,\"ticks\":\"\"}}}],\"scatterpolargl\":[{\"type\":\"scatterpolargl\",\"marker\":{\"colorbar\":{\"outlinewidth\":0,\"ticks\":\"\"}}}],\"bar\":[{\"error_x\":{\"color\":\"#2a3f5f\"},\"error_y\":{\"color\":\"#2a3f5f\"},\"marker\":{\"line\":{\"color\":\"#E5ECF6\",\"width\":0.5},\"pattern\":{\"fillmode\":\"overlay\",\"size\":10,\"solidity\":0.2}},\"type\":\"bar\"}],\"scattergeo\":[{\"type\":\"scattergeo\",\"marker\":{\"colorbar\":{\"outlinewidth\":0,\"ticks\":\"\"}}}],\"scatterpolar\":[{\"type\":\"scatterpolar\",\"marker\":{\"colorbar\":{\"outlinewidth\":0,\"ticks\":\"\"}}}],\"histogram\":[{\"marker\":{\"pattern\":{\"fillmode\":\"overlay\",\"size\":10,\"solidity\":0.2}},\"type\":\"histogram\"}],\"scattergl\":[{\"type\":\"scattergl\",\"marker\":{\"colorbar\":{\"outlinewidth\":0,\"ticks\":\"\"}}}],\"scatter3d\":[{\"type\":\"scatter3d\",\"line\":{\"colorbar\":{\"outlinewidth\":0,\"ticks\":\"\"}},\"marker\":{\"colorbar\":{\"outlinewidth\":0,\"ticks\":\"\"}}}],\"scattermapbox\":[{\"type\":\"scattermapbox\",\"marker\":{\"colorbar\":{\"outlinewidth\":0,\"ticks\":\"\"}}}],\"scatterternary\":[{\"type\":\"scatterternary\",\"marker\":{\"colorbar\":{\"outlinewidth\":0,\"ticks\":\"\"}}}],\"scattercarpet\":[{\"type\":\"scattercarpet\",\"marker\":{\"colorbar\":{\"outlinewidth\":0,\"ticks\":\"\"}}}],\"carpet\":[{\"aaxis\":{\"endlinecolor\":\"#2a3f5f\",\"gridcolor\":\"white\",\"linecolor\":\"white\",\"minorgridcolor\":\"white\",\"startlinecolor\":\"#2a3f5f\"},\"baxis\":{\"endlinecolor\":\"#2a3f5f\",\"gridcolor\":\"white\",\"linecolor\":\"white\",\"minorgridcolor\":\"white\",\"startlinecolor\":\"#2a3f5f\"},\"type\":\"carpet\"}],\"table\":[{\"cells\":{\"fill\":{\"color\":\"#EBF0F8\"},\"line\":{\"color\":\"white\"}},\"header\":{\"fill\":{\"color\":\"#C8D4E3\"},\"line\":{\"color\":\"white\"}},\"type\":\"table\"}],\"barpolar\":[{\"marker\":{\"line\":{\"color\":\"#E5ECF6\",\"width\":0.5},\"pattern\":{\"fillmode\":\"overlay\",\"size\":10,\"solidity\":0.2}},\"type\":\"barpolar\"}],\"pie\":[{\"automargin\":true,\"type\":\"pie\"}]},\"layout\":{\"autotypenumbers\":\"strict\",\"colorway\":[\"#636efa\",\"#EF553B\",\"#00cc96\",\"#ab63fa\",\"#FFA15A\",\"#19d3f3\",\"#FF6692\",\"#B6E880\",\"#FF97FF\",\"#FECB52\"],\"font\":{\"color\":\"#2a3f5f\"},\"hovermode\":\"closest\",\"hoverlabel\":{\"align\":\"left\"},\"paper_bgcolor\":\"white\",\"plot_bgcolor\":\"#E5ECF6\",\"polar\":{\"bgcolor\":\"#E5ECF6\",\"angularaxis\":{\"gridcolor\":\"white\",\"linecolor\":\"white\",\"ticks\":\"\"},\"radialaxis\":{\"gridcolor\":\"white\",\"linecolor\":\"white\",\"ticks\":\"\"}},\"ternary\":{\"bgcolor\":\"#E5ECF6\",\"aaxis\":{\"gridcolor\":\"white\",\"linecolor\":\"white\",\"ticks\":\"\"},\"baxis\":{\"gridcolor\":\"white\",\"linecolor\":\"white\",\"ticks\":\"\"},\"caxis\":{\"gridcolor\":\"white\",\"linecolor\":\"white\",\"ticks\":\"\"}},\"coloraxis\":{\"colorbar\":{\"outlinewidth\":0,\"ticks\":\"\"}},\"colorscale\":{\"sequential\":[[0.0,\"#0d0887\"],[0.1111111111111111,\"#46039f\"],[0.2222222222222222,\"#7201a8\"],[0.3333333333333333,\"#9c179e\"],[0.4444444444444444,\"#bd3786\"],[0.5555555555555556,\"#d8576b\"],[0.6666666666666666,\"#ed7953\"],[0.7777777777777778,\"#fb9f3a\"],[0.8888888888888888,\"#fdca26\"],[1.0,\"#f0f921\"]],\"sequentialminus\":[[0.0,\"#0d0887\"],[0.1111111111111111,\"#46039f\"],[0.2222222222222222,\"#7201a8\"],[0.3333333333333333,\"#9c179e\"],[0.4444444444444444,\"#bd3786\"],[0.5555555555555556,\"#d8576b\"],[0.6666666666666666,\"#ed7953\"],[0.7777777777777778,\"#fb9f3a\"],[0.8888888888888888,\"#fdca26\"],[1.0,\"#f0f921\"]],\"diverging\":[[0,\"#8e0152\"],[0.1,\"#c51b7d\"],[0.2,\"#de77ae\"],[0.3,\"#f1b6da\"],[0.4,\"#fde0ef\"],[0.5,\"#f7f7f7\"],[0.6,\"#e6f5d0\"],[0.7,\"#b8e186\"],[0.8,\"#7fbc41\"],[0.9,\"#4d9221\"],[1,\"#276419\"]]},\"xaxis\":{\"gridcolor\":\"white\",\"linecolor\":\"white\",\"ticks\":\"\",\"title\":{\"standoff\":15},\"zerolinecolor\":\"white\",\"automargin\":true,\"zerolinewidth\":2},\"yaxis\":{\"gridcolor\":\"white\",\"linecolor\":\"white\",\"ticks\":\"\",\"title\":{\"standoff\":15},\"zerolinecolor\":\"white\",\"automargin\":true,\"zerolinewidth\":2},\"scene\":{\"xaxis\":{\"backgroundcolor\":\"#E5ECF6\",\"gridcolor\":\"white\",\"linecolor\":\"white\",\"showbackground\":true,\"ticks\":\"\",\"zerolinecolor\":\"white\",\"gridwidth\":2},\"yaxis\":{\"backgroundcolor\":\"#E5ECF6\",\"gridcolor\":\"white\",\"linecolor\":\"white\",\"showbackground\":true,\"ticks\":\"\",\"zerolinecolor\":\"white\",\"gridwidth\":2},\"zaxis\":{\"backgroundcolor\":\"#E5ECF6\",\"gridcolor\":\"white\",\"linecolor\":\"white\",\"showbackground\":true,\"ticks\":\"\",\"zerolinecolor\":\"white\",\"gridwidth\":2}},\"shapedefaults\":{\"line\":{\"color\":\"#2a3f5f\"}},\"annotationdefaults\":{\"arrowcolor\":\"#2a3f5f\",\"arrowhead\":0,\"arrowwidth\":1},\"geo\":{\"bgcolor\":\"white\",\"landcolor\":\"#E5ECF6\",\"subunitcolor\":\"white\",\"showland\":true,\"showlakes\":true,\"lakecolor\":\"white\"},\"title\":{\"x\":0.05},\"mapbox\":{\"style\":\"light\"}}},\"xaxis\":{\"anchor\":\"y\",\"domain\":[0.0,1.0],\"title\":{\"text\":\"City\"}},\"yaxis\":{\"anchor\":\"x\",\"domain\":[0.0,1.0],\"title\":{\"text\":\"sum of Users\"}},\"legend\":{\"tracegroupgap\":0},\"margin\":{\"t\":60},\"barmode\":\"relative\"},                        {\"responsive\": true}                    ).then(function(){\n",
       "                            \n",
       "var gd = document.getElementById('82e069ba-877c-4c90-8f71-1ca9b2067677');\n",
       "var x = new MutationObserver(function (mutations, observer) {{\n",
       "        var display = window.getComputedStyle(gd).display;\n",
       "        if (!display || display === 'none') {{\n",
       "            console.log([gd, 'removed!']);\n",
       "            Plotly.purge(gd);\n",
       "            observer.disconnect();\n",
       "        }}\n",
       "}});\n",
       "\n",
       "// Listen for the removal of the full notebook cells\n",
       "var notebookContainer = gd.closest('#notebook-container');\n",
       "if (notebookContainer) {{\n",
       "    x.observe(notebookContainer, {childList: true});\n",
       "}}\n",
       "\n",
       "// Listen for the clearing of the current output cell\n",
       "var outputEl = gd.closest('.output');\n",
       "if (outputEl) {{\n",
       "    x.observe(outputEl, {childList: true});\n",
       "}}\n",
       "\n",
       "                        })                };                });            </script>        </div>"
      ]
     },
     "metadata": {},
     "output_type": "display_data"
    }
   ],
   "source": [
    "## aqui vemos que eliminando a Paris podemos obtener una ciudad con una mejor renta. \n",
    "df_top = df.iloc[1:11]\n",
    "fig_top = px.histogram(df_top, x = df_top.City, y = df_top.Users)\n",
    "fig_top.show()"
   ]
  },
  {
   "cell_type": "code",
   "execution_count": 10,
   "id": "52595fa9",
   "metadata": {},
   "outputs": [
    {
     "data": {
      "application/vnd.plotly.v1+json": {
       "config": {
        "plotlyServerURL": "https://plot.ly"
       },
       "data": [
        {
         "alignmentgroup": "True",
         "bingroup": "x",
         "histfunc": "sum",
         "hovertemplate": "City=%{x}<br>sum of Revenue=%{y}<extra></extra>",
         "legendgroup": "",
         "marker": {
          "color": "#636efa",
          "pattern": {
           "shape": ""
          }
         },
         "name": "",
         "offsetgroup": "",
         "orientation": "v",
         "showlegend": false,
         "type": "histogram",
         "x": [
          "Dublin",
          "Madrid",
          "Barcelona",
          "Warsaw",
          "Moscow",
          "Zurich",
          "Amsterdam",
          "Milan",
          "Berlin",
          "Edinburgh"
         ],
         "xaxis": "x",
         "y": [
          1949.74,
          0,
          769.18,
          222.16,
          0,
          628.57,
          1251.91,
          245.02,
          512.26,
          0
         ],
         "yaxis": "y"
        }
       ],
       "layout": {
        "barmode": "relative",
        "height": 350,
        "legend": {
         "tracegroupgap": 0
        },
        "margin": {
         "t": 60
        },
        "template": {
         "data": {
          "bar": [
           {
            "error_x": {
             "color": "#2a3f5f"
            },
            "error_y": {
             "color": "#2a3f5f"
            },
            "marker": {
             "line": {
              "color": "#E5ECF6",
              "width": 0.5
             },
             "pattern": {
              "fillmode": "overlay",
              "size": 10,
              "solidity": 0.2
             }
            },
            "type": "bar"
           }
          ],
          "barpolar": [
           {
            "marker": {
             "line": {
              "color": "#E5ECF6",
              "width": 0.5
             },
             "pattern": {
              "fillmode": "overlay",
              "size": 10,
              "solidity": 0.2
             }
            },
            "type": "barpolar"
           }
          ],
          "carpet": [
           {
            "aaxis": {
             "endlinecolor": "#2a3f5f",
             "gridcolor": "white",
             "linecolor": "white",
             "minorgridcolor": "white",
             "startlinecolor": "#2a3f5f"
            },
            "baxis": {
             "endlinecolor": "#2a3f5f",
             "gridcolor": "white",
             "linecolor": "white",
             "minorgridcolor": "white",
             "startlinecolor": "#2a3f5f"
            },
            "type": "carpet"
           }
          ],
          "choropleth": [
           {
            "colorbar": {
             "outlinewidth": 0,
             "ticks": ""
            },
            "type": "choropleth"
           }
          ],
          "contour": [
           {
            "colorbar": {
             "outlinewidth": 0,
             "ticks": ""
            },
            "colorscale": [
             [
              0,
              "#0d0887"
             ],
             [
              0.1111111111111111,
              "#46039f"
             ],
             [
              0.2222222222222222,
              "#7201a8"
             ],
             [
              0.3333333333333333,
              "#9c179e"
             ],
             [
              0.4444444444444444,
              "#bd3786"
             ],
             [
              0.5555555555555556,
              "#d8576b"
             ],
             [
              0.6666666666666666,
              "#ed7953"
             ],
             [
              0.7777777777777778,
              "#fb9f3a"
             ],
             [
              0.8888888888888888,
              "#fdca26"
             ],
             [
              1,
              "#f0f921"
             ]
            ],
            "type": "contour"
           }
          ],
          "contourcarpet": [
           {
            "colorbar": {
             "outlinewidth": 0,
             "ticks": ""
            },
            "type": "contourcarpet"
           }
          ],
          "heatmap": [
           {
            "colorbar": {
             "outlinewidth": 0,
             "ticks": ""
            },
            "colorscale": [
             [
              0,
              "#0d0887"
             ],
             [
              0.1111111111111111,
              "#46039f"
             ],
             [
              0.2222222222222222,
              "#7201a8"
             ],
             [
              0.3333333333333333,
              "#9c179e"
             ],
             [
              0.4444444444444444,
              "#bd3786"
             ],
             [
              0.5555555555555556,
              "#d8576b"
             ],
             [
              0.6666666666666666,
              "#ed7953"
             ],
             [
              0.7777777777777778,
              "#fb9f3a"
             ],
             [
              0.8888888888888888,
              "#fdca26"
             ],
             [
              1,
              "#f0f921"
             ]
            ],
            "type": "heatmap"
           }
          ],
          "heatmapgl": [
           {
            "colorbar": {
             "outlinewidth": 0,
             "ticks": ""
            },
            "colorscale": [
             [
              0,
              "#0d0887"
             ],
             [
              0.1111111111111111,
              "#46039f"
             ],
             [
              0.2222222222222222,
              "#7201a8"
             ],
             [
              0.3333333333333333,
              "#9c179e"
             ],
             [
              0.4444444444444444,
              "#bd3786"
             ],
             [
              0.5555555555555556,
              "#d8576b"
             ],
             [
              0.6666666666666666,
              "#ed7953"
             ],
             [
              0.7777777777777778,
              "#fb9f3a"
             ],
             [
              0.8888888888888888,
              "#fdca26"
             ],
             [
              1,
              "#f0f921"
             ]
            ],
            "type": "heatmapgl"
           }
          ],
          "histogram": [
           {
            "marker": {
             "pattern": {
              "fillmode": "overlay",
              "size": 10,
              "solidity": 0.2
             }
            },
            "type": "histogram"
           }
          ],
          "histogram2d": [
           {
            "colorbar": {
             "outlinewidth": 0,
             "ticks": ""
            },
            "colorscale": [
             [
              0,
              "#0d0887"
             ],
             [
              0.1111111111111111,
              "#46039f"
             ],
             [
              0.2222222222222222,
              "#7201a8"
             ],
             [
              0.3333333333333333,
              "#9c179e"
             ],
             [
              0.4444444444444444,
              "#bd3786"
             ],
             [
              0.5555555555555556,
              "#d8576b"
             ],
             [
              0.6666666666666666,
              "#ed7953"
             ],
             [
              0.7777777777777778,
              "#fb9f3a"
             ],
             [
              0.8888888888888888,
              "#fdca26"
             ],
             [
              1,
              "#f0f921"
             ]
            ],
            "type": "histogram2d"
           }
          ],
          "histogram2dcontour": [
           {
            "colorbar": {
             "outlinewidth": 0,
             "ticks": ""
            },
            "colorscale": [
             [
              0,
              "#0d0887"
             ],
             [
              0.1111111111111111,
              "#46039f"
             ],
             [
              0.2222222222222222,
              "#7201a8"
             ],
             [
              0.3333333333333333,
              "#9c179e"
             ],
             [
              0.4444444444444444,
              "#bd3786"
             ],
             [
              0.5555555555555556,
              "#d8576b"
             ],
             [
              0.6666666666666666,
              "#ed7953"
             ],
             [
              0.7777777777777778,
              "#fb9f3a"
             ],
             [
              0.8888888888888888,
              "#fdca26"
             ],
             [
              1,
              "#f0f921"
             ]
            ],
            "type": "histogram2dcontour"
           }
          ],
          "mesh3d": [
           {
            "colorbar": {
             "outlinewidth": 0,
             "ticks": ""
            },
            "type": "mesh3d"
           }
          ],
          "parcoords": [
           {
            "line": {
             "colorbar": {
              "outlinewidth": 0,
              "ticks": ""
             }
            },
            "type": "parcoords"
           }
          ],
          "pie": [
           {
            "automargin": true,
            "type": "pie"
           }
          ],
          "scatter": [
           {
            "fillpattern": {
             "fillmode": "overlay",
             "size": 10,
             "solidity": 0.2
            },
            "type": "scatter"
           }
          ],
          "scatter3d": [
           {
            "line": {
             "colorbar": {
              "outlinewidth": 0,
              "ticks": ""
             }
            },
            "marker": {
             "colorbar": {
              "outlinewidth": 0,
              "ticks": ""
             }
            },
            "type": "scatter3d"
           }
          ],
          "scattercarpet": [
           {
            "marker": {
             "colorbar": {
              "outlinewidth": 0,
              "ticks": ""
             }
            },
            "type": "scattercarpet"
           }
          ],
          "scattergeo": [
           {
            "marker": {
             "colorbar": {
              "outlinewidth": 0,
              "ticks": ""
             }
            },
            "type": "scattergeo"
           }
          ],
          "scattergl": [
           {
            "marker": {
             "colorbar": {
              "outlinewidth": 0,
              "ticks": ""
             }
            },
            "type": "scattergl"
           }
          ],
          "scattermapbox": [
           {
            "marker": {
             "colorbar": {
              "outlinewidth": 0,
              "ticks": ""
             }
            },
            "type": "scattermapbox"
           }
          ],
          "scatterpolar": [
           {
            "marker": {
             "colorbar": {
              "outlinewidth": 0,
              "ticks": ""
             }
            },
            "type": "scatterpolar"
           }
          ],
          "scatterpolargl": [
           {
            "marker": {
             "colorbar": {
              "outlinewidth": 0,
              "ticks": ""
             }
            },
            "type": "scatterpolargl"
           }
          ],
          "scatterternary": [
           {
            "marker": {
             "colorbar": {
              "outlinewidth": 0,
              "ticks": ""
             }
            },
            "type": "scatterternary"
           }
          ],
          "surface": [
           {
            "colorbar": {
             "outlinewidth": 0,
             "ticks": ""
            },
            "colorscale": [
             [
              0,
              "#0d0887"
             ],
             [
              0.1111111111111111,
              "#46039f"
             ],
             [
              0.2222222222222222,
              "#7201a8"
             ],
             [
              0.3333333333333333,
              "#9c179e"
             ],
             [
              0.4444444444444444,
              "#bd3786"
             ],
             [
              0.5555555555555556,
              "#d8576b"
             ],
             [
              0.6666666666666666,
              "#ed7953"
             ],
             [
              0.7777777777777778,
              "#fb9f3a"
             ],
             [
              0.8888888888888888,
              "#fdca26"
             ],
             [
              1,
              "#f0f921"
             ]
            ],
            "type": "surface"
           }
          ],
          "table": [
           {
            "cells": {
             "fill": {
              "color": "#EBF0F8"
             },
             "line": {
              "color": "white"
             }
            },
            "header": {
             "fill": {
              "color": "#C8D4E3"
             },
             "line": {
              "color": "white"
             }
            },
            "type": "table"
           }
          ]
         },
         "layout": {
          "annotationdefaults": {
           "arrowcolor": "#2a3f5f",
           "arrowhead": 0,
           "arrowwidth": 1
          },
          "autotypenumbers": "strict",
          "coloraxis": {
           "colorbar": {
            "outlinewidth": 0,
            "ticks": ""
           }
          },
          "colorscale": {
           "diverging": [
            [
             0,
             "#8e0152"
            ],
            [
             0.1,
             "#c51b7d"
            ],
            [
             0.2,
             "#de77ae"
            ],
            [
             0.3,
             "#f1b6da"
            ],
            [
             0.4,
             "#fde0ef"
            ],
            [
             0.5,
             "#f7f7f7"
            ],
            [
             0.6,
             "#e6f5d0"
            ],
            [
             0.7,
             "#b8e186"
            ],
            [
             0.8,
             "#7fbc41"
            ],
            [
             0.9,
             "#4d9221"
            ],
            [
             1,
             "#276419"
            ]
           ],
           "sequential": [
            [
             0,
             "#0d0887"
            ],
            [
             0.1111111111111111,
             "#46039f"
            ],
            [
             0.2222222222222222,
             "#7201a8"
            ],
            [
             0.3333333333333333,
             "#9c179e"
            ],
            [
             0.4444444444444444,
             "#bd3786"
            ],
            [
             0.5555555555555556,
             "#d8576b"
            ],
            [
             0.6666666666666666,
             "#ed7953"
            ],
            [
             0.7777777777777778,
             "#fb9f3a"
            ],
            [
             0.8888888888888888,
             "#fdca26"
            ],
            [
             1,
             "#f0f921"
            ]
           ],
           "sequentialminus": [
            [
             0,
             "#0d0887"
            ],
            [
             0.1111111111111111,
             "#46039f"
            ],
            [
             0.2222222222222222,
             "#7201a8"
            ],
            [
             0.3333333333333333,
             "#9c179e"
            ],
            [
             0.4444444444444444,
             "#bd3786"
            ],
            [
             0.5555555555555556,
             "#d8576b"
            ],
            [
             0.6666666666666666,
             "#ed7953"
            ],
            [
             0.7777777777777778,
             "#fb9f3a"
            ],
            [
             0.8888888888888888,
             "#fdca26"
            ],
            [
             1,
             "#f0f921"
            ]
           ]
          },
          "colorway": [
           "#636efa",
           "#EF553B",
           "#00cc96",
           "#ab63fa",
           "#FFA15A",
           "#19d3f3",
           "#FF6692",
           "#B6E880",
           "#FF97FF",
           "#FECB52"
          ],
          "font": {
           "color": "#2a3f5f"
          },
          "geo": {
           "bgcolor": "white",
           "lakecolor": "white",
           "landcolor": "#E5ECF6",
           "showlakes": true,
           "showland": true,
           "subunitcolor": "white"
          },
          "hoverlabel": {
           "align": "left"
          },
          "hovermode": "closest",
          "mapbox": {
           "style": "light"
          },
          "paper_bgcolor": "white",
          "plot_bgcolor": "#E5ECF6",
          "polar": {
           "angularaxis": {
            "gridcolor": "white",
            "linecolor": "white",
            "ticks": ""
           },
           "bgcolor": "#E5ECF6",
           "radialaxis": {
            "gridcolor": "white",
            "linecolor": "white",
            "ticks": ""
           }
          },
          "scene": {
           "xaxis": {
            "backgroundcolor": "#E5ECF6",
            "gridcolor": "white",
            "gridwidth": 2,
            "linecolor": "white",
            "showbackground": true,
            "ticks": "",
            "zerolinecolor": "white"
           },
           "yaxis": {
            "backgroundcolor": "#E5ECF6",
            "gridcolor": "white",
            "gridwidth": 2,
            "linecolor": "white",
            "showbackground": true,
            "ticks": "",
            "zerolinecolor": "white"
           },
           "zaxis": {
            "backgroundcolor": "#E5ECF6",
            "gridcolor": "white",
            "gridwidth": 2,
            "linecolor": "white",
            "showbackground": true,
            "ticks": "",
            "zerolinecolor": "white"
           }
          },
          "shapedefaults": {
           "line": {
            "color": "#2a3f5f"
           }
          },
          "ternary": {
           "aaxis": {
            "gridcolor": "white",
            "linecolor": "white",
            "ticks": ""
           },
           "baxis": {
            "gridcolor": "white",
            "linecolor": "white",
            "ticks": ""
           },
           "bgcolor": "#E5ECF6",
           "caxis": {
            "gridcolor": "white",
            "linecolor": "white",
            "ticks": ""
           }
          },
          "title": {
           "x": 0.05
          },
          "xaxis": {
           "automargin": true,
           "gridcolor": "white",
           "linecolor": "white",
           "ticks": "",
           "title": {
            "standoff": 15
           },
           "zerolinecolor": "white",
           "zerolinewidth": 2
          },
          "yaxis": {
           "automargin": true,
           "gridcolor": "white",
           "linecolor": "white",
           "ticks": "",
           "title": {
            "standoff": 15
           },
           "zerolinecolor": "white",
           "zerolinewidth": 2
          }
         }
        },
        "xaxis": {
         "anchor": "y",
         "categoryorder": "total descending",
         "domain": [
          0,
          1
         ],
         "title": {
          "text": "City"
         }
        },
        "yaxis": {
         "anchor": "x",
         "domain": [
          0,
          1
         ],
         "title": {
          "text": "sum of Revenue"
         }
        }
       }
      },
      "text/html": [
       "<div>                            <div id=\"360a86c7-4a5c-4518-840c-883a857fe6c1\" class=\"plotly-graph-div\" style=\"height:350px; width:100%;\"></div>            <script type=\"text/javascript\">                require([\"plotly\"], function(Plotly) {                    window.PLOTLYENV=window.PLOTLYENV || {};                                    if (document.getElementById(\"360a86c7-4a5c-4518-840c-883a857fe6c1\")) {                    Plotly.newPlot(                        \"360a86c7-4a5c-4518-840c-883a857fe6c1\",                        [{\"alignmentgroup\":\"True\",\"bingroup\":\"x\",\"histfunc\":\"sum\",\"hovertemplate\":\"City=%{x}<br>sum of Revenue=%{y}<extra></extra>\",\"legendgroup\":\"\",\"marker\":{\"color\":\"#636efa\",\"pattern\":{\"shape\":\"\"}},\"name\":\"\",\"offsetgroup\":\"\",\"orientation\":\"v\",\"showlegend\":false,\"x\":[\"Dublin\",\"Madrid\",\"Barcelona\",\"Warsaw\",\"Moscow\",\"Zurich\",\"Amsterdam\",\"Milan\",\"Berlin\",\"Edinburgh\"],\"xaxis\":\"x\",\"y\":[1949.74,0.0,769.18,222.16,0.0,628.57,1251.91,245.02,512.26,0.0],\"yaxis\":\"y\",\"type\":\"histogram\"}],                        {\"template\":{\"data\":{\"histogram2dcontour\":[{\"type\":\"histogram2dcontour\",\"colorbar\":{\"outlinewidth\":0,\"ticks\":\"\"},\"colorscale\":[[0.0,\"#0d0887\"],[0.1111111111111111,\"#46039f\"],[0.2222222222222222,\"#7201a8\"],[0.3333333333333333,\"#9c179e\"],[0.4444444444444444,\"#bd3786\"],[0.5555555555555556,\"#d8576b\"],[0.6666666666666666,\"#ed7953\"],[0.7777777777777778,\"#fb9f3a\"],[0.8888888888888888,\"#fdca26\"],[1.0,\"#f0f921\"]]}],\"choropleth\":[{\"type\":\"choropleth\",\"colorbar\":{\"outlinewidth\":0,\"ticks\":\"\"}}],\"histogram2d\":[{\"type\":\"histogram2d\",\"colorbar\":{\"outlinewidth\":0,\"ticks\":\"\"},\"colorscale\":[[0.0,\"#0d0887\"],[0.1111111111111111,\"#46039f\"],[0.2222222222222222,\"#7201a8\"],[0.3333333333333333,\"#9c179e\"],[0.4444444444444444,\"#bd3786\"],[0.5555555555555556,\"#d8576b\"],[0.6666666666666666,\"#ed7953\"],[0.7777777777777778,\"#fb9f3a\"],[0.8888888888888888,\"#fdca26\"],[1.0,\"#f0f921\"]]}],\"heatmap\":[{\"type\":\"heatmap\",\"colorbar\":{\"outlinewidth\":0,\"ticks\":\"\"},\"colorscale\":[[0.0,\"#0d0887\"],[0.1111111111111111,\"#46039f\"],[0.2222222222222222,\"#7201a8\"],[0.3333333333333333,\"#9c179e\"],[0.4444444444444444,\"#bd3786\"],[0.5555555555555556,\"#d8576b\"],[0.6666666666666666,\"#ed7953\"],[0.7777777777777778,\"#fb9f3a\"],[0.8888888888888888,\"#fdca26\"],[1.0,\"#f0f921\"]]}],\"heatmapgl\":[{\"type\":\"heatmapgl\",\"colorbar\":{\"outlinewidth\":0,\"ticks\":\"\"},\"colorscale\":[[0.0,\"#0d0887\"],[0.1111111111111111,\"#46039f\"],[0.2222222222222222,\"#7201a8\"],[0.3333333333333333,\"#9c179e\"],[0.4444444444444444,\"#bd3786\"],[0.5555555555555556,\"#d8576b\"],[0.6666666666666666,\"#ed7953\"],[0.7777777777777778,\"#fb9f3a\"],[0.8888888888888888,\"#fdca26\"],[1.0,\"#f0f921\"]]}],\"contourcarpet\":[{\"type\":\"contourcarpet\",\"colorbar\":{\"outlinewidth\":0,\"ticks\":\"\"}}],\"contour\":[{\"type\":\"contour\",\"colorbar\":{\"outlinewidth\":0,\"ticks\":\"\"},\"colorscale\":[[0.0,\"#0d0887\"],[0.1111111111111111,\"#46039f\"],[0.2222222222222222,\"#7201a8\"],[0.3333333333333333,\"#9c179e\"],[0.4444444444444444,\"#bd3786\"],[0.5555555555555556,\"#d8576b\"],[0.6666666666666666,\"#ed7953\"],[0.7777777777777778,\"#fb9f3a\"],[0.8888888888888888,\"#fdca26\"],[1.0,\"#f0f921\"]]}],\"surface\":[{\"type\":\"surface\",\"colorbar\":{\"outlinewidth\":0,\"ticks\":\"\"},\"colorscale\":[[0.0,\"#0d0887\"],[0.1111111111111111,\"#46039f\"],[0.2222222222222222,\"#7201a8\"],[0.3333333333333333,\"#9c179e\"],[0.4444444444444444,\"#bd3786\"],[0.5555555555555556,\"#d8576b\"],[0.6666666666666666,\"#ed7953\"],[0.7777777777777778,\"#fb9f3a\"],[0.8888888888888888,\"#fdca26\"],[1.0,\"#f0f921\"]]}],\"mesh3d\":[{\"type\":\"mesh3d\",\"colorbar\":{\"outlinewidth\":0,\"ticks\":\"\"}}],\"scatter\":[{\"fillpattern\":{\"fillmode\":\"overlay\",\"size\":10,\"solidity\":0.2},\"type\":\"scatter\"}],\"parcoords\":[{\"type\":\"parcoords\",\"line\":{\"colorbar\":{\"outlinewidth\":0,\"ticks\":\"\"}}}],\"scatterpolargl\":[{\"type\":\"scatterpolargl\",\"marker\":{\"colorbar\":{\"outlinewidth\":0,\"ticks\":\"\"}}}],\"bar\":[{\"error_x\":{\"color\":\"#2a3f5f\"},\"error_y\":{\"color\":\"#2a3f5f\"},\"marker\":{\"line\":{\"color\":\"#E5ECF6\",\"width\":0.5},\"pattern\":{\"fillmode\":\"overlay\",\"size\":10,\"solidity\":0.2}},\"type\":\"bar\"}],\"scattergeo\":[{\"type\":\"scattergeo\",\"marker\":{\"colorbar\":{\"outlinewidth\":0,\"ticks\":\"\"}}}],\"scatterpolar\":[{\"type\":\"scatterpolar\",\"marker\":{\"colorbar\":{\"outlinewidth\":0,\"ticks\":\"\"}}}],\"histogram\":[{\"marker\":{\"pattern\":{\"fillmode\":\"overlay\",\"size\":10,\"solidity\":0.2}},\"type\":\"histogram\"}],\"scattergl\":[{\"type\":\"scattergl\",\"marker\":{\"colorbar\":{\"outlinewidth\":0,\"ticks\":\"\"}}}],\"scatter3d\":[{\"type\":\"scatter3d\",\"line\":{\"colorbar\":{\"outlinewidth\":0,\"ticks\":\"\"}},\"marker\":{\"colorbar\":{\"outlinewidth\":0,\"ticks\":\"\"}}}],\"scattermapbox\":[{\"type\":\"scattermapbox\",\"marker\":{\"colorbar\":{\"outlinewidth\":0,\"ticks\":\"\"}}}],\"scatterternary\":[{\"type\":\"scatterternary\",\"marker\":{\"colorbar\":{\"outlinewidth\":0,\"ticks\":\"\"}}}],\"scattercarpet\":[{\"type\":\"scattercarpet\",\"marker\":{\"colorbar\":{\"outlinewidth\":0,\"ticks\":\"\"}}}],\"carpet\":[{\"aaxis\":{\"endlinecolor\":\"#2a3f5f\",\"gridcolor\":\"white\",\"linecolor\":\"white\",\"minorgridcolor\":\"white\",\"startlinecolor\":\"#2a3f5f\"},\"baxis\":{\"endlinecolor\":\"#2a3f5f\",\"gridcolor\":\"white\",\"linecolor\":\"white\",\"minorgridcolor\":\"white\",\"startlinecolor\":\"#2a3f5f\"},\"type\":\"carpet\"}],\"table\":[{\"cells\":{\"fill\":{\"color\":\"#EBF0F8\"},\"line\":{\"color\":\"white\"}},\"header\":{\"fill\":{\"color\":\"#C8D4E3\"},\"line\":{\"color\":\"white\"}},\"type\":\"table\"}],\"barpolar\":[{\"marker\":{\"line\":{\"color\":\"#E5ECF6\",\"width\":0.5},\"pattern\":{\"fillmode\":\"overlay\",\"size\":10,\"solidity\":0.2}},\"type\":\"barpolar\"}],\"pie\":[{\"automargin\":true,\"type\":\"pie\"}]},\"layout\":{\"autotypenumbers\":\"strict\",\"colorway\":[\"#636efa\",\"#EF553B\",\"#00cc96\",\"#ab63fa\",\"#FFA15A\",\"#19d3f3\",\"#FF6692\",\"#B6E880\",\"#FF97FF\",\"#FECB52\"],\"font\":{\"color\":\"#2a3f5f\"},\"hovermode\":\"closest\",\"hoverlabel\":{\"align\":\"left\"},\"paper_bgcolor\":\"white\",\"plot_bgcolor\":\"#E5ECF6\",\"polar\":{\"bgcolor\":\"#E5ECF6\",\"angularaxis\":{\"gridcolor\":\"white\",\"linecolor\":\"white\",\"ticks\":\"\"},\"radialaxis\":{\"gridcolor\":\"white\",\"linecolor\":\"white\",\"ticks\":\"\"}},\"ternary\":{\"bgcolor\":\"#E5ECF6\",\"aaxis\":{\"gridcolor\":\"white\",\"linecolor\":\"white\",\"ticks\":\"\"},\"baxis\":{\"gridcolor\":\"white\",\"linecolor\":\"white\",\"ticks\":\"\"},\"caxis\":{\"gridcolor\":\"white\",\"linecolor\":\"white\",\"ticks\":\"\"}},\"coloraxis\":{\"colorbar\":{\"outlinewidth\":0,\"ticks\":\"\"}},\"colorscale\":{\"sequential\":[[0.0,\"#0d0887\"],[0.1111111111111111,\"#46039f\"],[0.2222222222222222,\"#7201a8\"],[0.3333333333333333,\"#9c179e\"],[0.4444444444444444,\"#bd3786\"],[0.5555555555555556,\"#d8576b\"],[0.6666666666666666,\"#ed7953\"],[0.7777777777777778,\"#fb9f3a\"],[0.8888888888888888,\"#fdca26\"],[1.0,\"#f0f921\"]],\"sequentialminus\":[[0.0,\"#0d0887\"],[0.1111111111111111,\"#46039f\"],[0.2222222222222222,\"#7201a8\"],[0.3333333333333333,\"#9c179e\"],[0.4444444444444444,\"#bd3786\"],[0.5555555555555556,\"#d8576b\"],[0.6666666666666666,\"#ed7953\"],[0.7777777777777778,\"#fb9f3a\"],[0.8888888888888888,\"#fdca26\"],[1.0,\"#f0f921\"]],\"diverging\":[[0,\"#8e0152\"],[0.1,\"#c51b7d\"],[0.2,\"#de77ae\"],[0.3,\"#f1b6da\"],[0.4,\"#fde0ef\"],[0.5,\"#f7f7f7\"],[0.6,\"#e6f5d0\"],[0.7,\"#b8e186\"],[0.8,\"#7fbc41\"],[0.9,\"#4d9221\"],[1,\"#276419\"]]},\"xaxis\":{\"gridcolor\":\"white\",\"linecolor\":\"white\",\"ticks\":\"\",\"title\":{\"standoff\":15},\"zerolinecolor\":\"white\",\"automargin\":true,\"zerolinewidth\":2},\"yaxis\":{\"gridcolor\":\"white\",\"linecolor\":\"white\",\"ticks\":\"\",\"title\":{\"standoff\":15},\"zerolinecolor\":\"white\",\"automargin\":true,\"zerolinewidth\":2},\"scene\":{\"xaxis\":{\"backgroundcolor\":\"#E5ECF6\",\"gridcolor\":\"white\",\"linecolor\":\"white\",\"showbackground\":true,\"ticks\":\"\",\"zerolinecolor\":\"white\",\"gridwidth\":2},\"yaxis\":{\"backgroundcolor\":\"#E5ECF6\",\"gridcolor\":\"white\",\"linecolor\":\"white\",\"showbackground\":true,\"ticks\":\"\",\"zerolinecolor\":\"white\",\"gridwidth\":2},\"zaxis\":{\"backgroundcolor\":\"#E5ECF6\",\"gridcolor\":\"white\",\"linecolor\":\"white\",\"showbackground\":true,\"ticks\":\"\",\"zerolinecolor\":\"white\",\"gridwidth\":2}},\"shapedefaults\":{\"line\":{\"color\":\"#2a3f5f\"}},\"annotationdefaults\":{\"arrowcolor\":\"#2a3f5f\",\"arrowhead\":0,\"arrowwidth\":1},\"geo\":{\"bgcolor\":\"white\",\"landcolor\":\"#E5ECF6\",\"subunitcolor\":\"white\",\"showland\":true,\"showlakes\":true,\"lakecolor\":\"white\"},\"title\":{\"x\":0.05},\"mapbox\":{\"style\":\"light\"}}},\"xaxis\":{\"anchor\":\"y\",\"domain\":[0.0,1.0],\"title\":{\"text\":\"City\"},\"categoryorder\":\"total descending\"},\"yaxis\":{\"anchor\":\"x\",\"domain\":[0.0,1.0],\"title\":{\"text\":\"sum of Revenue\"}},\"legend\":{\"tracegroupgap\":0},\"margin\":{\"t\":60},\"barmode\":\"relative\",\"height\":350},                        {\"responsive\": true}                    ).then(function(){\n",
       "                            \n",
       "var gd = document.getElementById('360a86c7-4a5c-4518-840c-883a857fe6c1');\n",
       "var x = new MutationObserver(function (mutations, observer) {{\n",
       "        var display = window.getComputedStyle(gd).display;\n",
       "        if (!display || display === 'none') {{\n",
       "            console.log([gd, 'removed!']);\n",
       "            Plotly.purge(gd);\n",
       "            observer.disconnect();\n",
       "        }}\n",
       "}});\n",
       "\n",
       "// Listen for the removal of the full notebook cells\n",
       "var notebookContainer = gd.closest('#notebook-container');\n",
       "if (notebookContainer) {{\n",
       "    x.observe(notebookContainer, {childList: true});\n",
       "}}\n",
       "\n",
       "// Listen for the clearing of the current output cell\n",
       "var outputEl = gd.closest('.output');\n",
       "if (outputEl) {{\n",
       "    x.observe(outputEl, {childList: true});\n",
       "}}\n",
       "\n",
       "                        })                };                });            </script>        </div>"
      ]
     },
     "metadata": {},
     "output_type": "display_data"
    }
   ],
   "source": [
    "fig_rev = px.histogram(df_top, x = df_top.City, y = df_top.Revenue, height = 350)\n",
    "fig_rev.update_xaxes(categoryorder = \"total descending\")\n",
    "fig_rev.show()"
   ]
  },
  {
   "cell_type": "code",
   "execution_count": 11,
   "id": "73e5a075",
   "metadata": {},
   "outputs": [
    {
     "data": {
      "text/html": [
       "<div>\n",
       "<style scoped>\n",
       "    .dataframe tbody tr th:only-of-type {\n",
       "        vertical-align: middle;\n",
       "    }\n",
       "\n",
       "    .dataframe tbody tr th {\n",
       "        vertical-align: top;\n",
       "    }\n",
       "\n",
       "    .dataframe thead th {\n",
       "        text-align: right;\n",
       "    }\n",
       "</style>\n",
       "<table border=\"1\" class=\"dataframe\">\n",
       "  <thead>\n",
       "    <tr style=\"text-align: right;\">\n",
       "      <th></th>\n",
       "      <th>City</th>\n",
       "      <th>Users</th>\n",
       "      <th>Bounce Rate</th>\n",
       "      <th>% New Sessions</th>\n",
       "      <th>Sessions</th>\n",
       "      <th>Avg. Session Duration</th>\n",
       "      <th>Avg. Time on Page</th>\n",
       "      <th>Hits</th>\n",
       "      <th>Pageviews</th>\n",
       "      <th>Number of Sessions per User</th>\n",
       "      <th>Exits</th>\n",
       "      <th>Avg. Price</th>\n",
       "      <th>Avg. QTY</th>\n",
       "      <th>Purchase Completed (Goal 1 Completions)</th>\n",
       "      <th>Product Revenue</th>\n",
       "      <th>Revenue per User</th>\n",
       "      <th>Revenue</th>\n",
       "      <th>Transactions</th>\n",
       "      <th>Transactions per User</th>\n",
       "      <th>Unique Purchases</th>\n",
       "    </tr>\n",
       "  </thead>\n",
       "  <tbody>\n",
       "    <tr>\n",
       "      <th>1</th>\n",
       "      <td>Dublin</td>\n",
       "      <td>5776</td>\n",
       "      <td>0.5500</td>\n",
       "      <td>0.7136</td>\n",
       "      <td>7805</td>\n",
       "      <td>136.33</td>\n",
       "      <td>57.22</td>\n",
       "      <td>31553</td>\n",
       "      <td>26401</td>\n",
       "      <td>1.35</td>\n",
       "      <td>7805</td>\n",
       "      <td>26.00</td>\n",
       "      <td>1.00</td>\n",
       "      <td>23</td>\n",
       "      <td>1949.74</td>\n",
       "      <td>0.34</td>\n",
       "      <td>1949.74</td>\n",
       "      <td>33</td>\n",
       "      <td>0.01</td>\n",
       "      <td>75</td>\n",
       "    </tr>\n",
       "    <tr>\n",
       "      <th>2</th>\n",
       "      <td>Madrid</td>\n",
       "      <td>4953</td>\n",
       "      <td>0.5715</td>\n",
       "      <td>0.7000</td>\n",
       "      <td>6609</td>\n",
       "      <td>174.39</td>\n",
       "      <td>100.56</td>\n",
       "      <td>20151</td>\n",
       "      <td>18070</td>\n",
       "      <td>1.33</td>\n",
       "      <td>6609</td>\n",
       "      <td>0.00</td>\n",
       "      <td>0.00</td>\n",
       "      <td>0</td>\n",
       "      <td>0.00</td>\n",
       "      <td>0.00</td>\n",
       "      <td>0.00</td>\n",
       "      <td>0</td>\n",
       "      <td>0.00</td>\n",
       "      <td>0</td>\n",
       "    </tr>\n",
       "    <tr>\n",
       "      <th>3</th>\n",
       "      <td>Barcelona</td>\n",
       "      <td>3603</td>\n",
       "      <td>0.5613</td>\n",
       "      <td>0.7075</td>\n",
       "      <td>4848</td>\n",
       "      <td>221.52</td>\n",
       "      <td>96.31</td>\n",
       "      <td>18994</td>\n",
       "      <td>15998</td>\n",
       "      <td>1.35</td>\n",
       "      <td>4848</td>\n",
       "      <td>48.07</td>\n",
       "      <td>1.00</td>\n",
       "      <td>3</td>\n",
       "      <td>769.18</td>\n",
       "      <td>0.21</td>\n",
       "      <td>769.18</td>\n",
       "      <td>3</td>\n",
       "      <td>0.00</td>\n",
       "      <td>16</td>\n",
       "    </tr>\n",
       "    <tr>\n",
       "      <th>4</th>\n",
       "      <td>Warsaw</td>\n",
       "      <td>3012</td>\n",
       "      <td>0.5531</td>\n",
       "      <td>0.7979</td>\n",
       "      <td>3656</td>\n",
       "      <td>124.19</td>\n",
       "      <td>50.11</td>\n",
       "      <td>15848</td>\n",
       "      <td>12715</td>\n",
       "      <td>1.21</td>\n",
       "      <td>3656</td>\n",
       "      <td>17.09</td>\n",
       "      <td>1.00</td>\n",
       "      <td>3</td>\n",
       "      <td>222.16</td>\n",
       "      <td>0.07</td>\n",
       "      <td>222.16</td>\n",
       "      <td>3</td>\n",
       "      <td>0.00</td>\n",
       "      <td>13</td>\n",
       "    </tr>\n",
       "    <tr>\n",
       "      <th>5</th>\n",
       "      <td>Moscow</td>\n",
       "      <td>2725</td>\n",
       "      <td>0.5766</td>\n",
       "      <td>0.7070</td>\n",
       "      <td>3734</td>\n",
       "      <td>206.95</td>\n",
       "      <td>92.09</td>\n",
       "      <td>15002</td>\n",
       "      <td>12124</td>\n",
       "      <td>1.37</td>\n",
       "      <td>3734</td>\n",
       "      <td>0.00</td>\n",
       "      <td>0.00</td>\n",
       "      <td>0</td>\n",
       "      <td>0.00</td>\n",
       "      <td>0.00</td>\n",
       "      <td>0.00</td>\n",
       "      <td>0</td>\n",
       "      <td>0.00</td>\n",
       "      <td>0</td>\n",
       "    </tr>\n",
       "    <tr>\n",
       "      <th>6</th>\n",
       "      <td>Zurich</td>\n",
       "      <td>2679</td>\n",
       "      <td>0.5191</td>\n",
       "      <td>0.7907</td>\n",
       "      <td>3215</td>\n",
       "      <td>137.84</td>\n",
       "      <td>52.84</td>\n",
       "      <td>13705</td>\n",
       "      <td>11601</td>\n",
       "      <td>1.20</td>\n",
       "      <td>3215</td>\n",
       "      <td>48.35</td>\n",
       "      <td>1.00</td>\n",
       "      <td>7</td>\n",
       "      <td>628.57</td>\n",
       "      <td>0.23</td>\n",
       "      <td>628.57</td>\n",
       "      <td>7</td>\n",
       "      <td>0.00</td>\n",
       "      <td>13</td>\n",
       "    </tr>\n",
       "    <tr>\n",
       "      <th>7</th>\n",
       "      <td>Amsterdam</td>\n",
       "      <td>2633</td>\n",
       "      <td>0.5722</td>\n",
       "      <td>0.6911</td>\n",
       "      <td>3574</td>\n",
       "      <td>182.59</td>\n",
       "      <td>76.09</td>\n",
       "      <td>14764</td>\n",
       "      <td>12150</td>\n",
       "      <td>1.36</td>\n",
       "      <td>3574</td>\n",
       "      <td>17.39</td>\n",
       "      <td>2.77</td>\n",
       "      <td>7</td>\n",
       "      <td>1251.91</td>\n",
       "      <td>0.48</td>\n",
       "      <td>1251.91</td>\n",
       "      <td>7</td>\n",
       "      <td>0.00</td>\n",
       "      <td>26</td>\n",
       "    </tr>\n",
       "    <tr>\n",
       "      <th>8</th>\n",
       "      <td>Milan</td>\n",
       "      <td>2587</td>\n",
       "      <td>0.6148</td>\n",
       "      <td>0.7984</td>\n",
       "      <td>3061</td>\n",
       "      <td>141.32</td>\n",
       "      <td>76.49</td>\n",
       "      <td>10020</td>\n",
       "      <td>8716</td>\n",
       "      <td>1.18</td>\n",
       "      <td>3061</td>\n",
       "      <td>24.50</td>\n",
       "      <td>3.33</td>\n",
       "      <td>3</td>\n",
       "      <td>245.02</td>\n",
       "      <td>0.09</td>\n",
       "      <td>245.02</td>\n",
       "      <td>3</td>\n",
       "      <td>0.00</td>\n",
       "      <td>3</td>\n",
       "    </tr>\n",
       "    <tr>\n",
       "      <th>9</th>\n",
       "      <td>Berlin</td>\n",
       "      <td>2454</td>\n",
       "      <td>0.5717</td>\n",
       "      <td>0.7674</td>\n",
       "      <td>3091</td>\n",
       "      <td>124.38</td>\n",
       "      <td>57.90</td>\n",
       "      <td>11405</td>\n",
       "      <td>9732</td>\n",
       "      <td>1.26</td>\n",
       "      <td>3091</td>\n",
       "      <td>32.02</td>\n",
       "      <td>1.00</td>\n",
       "      <td>7</td>\n",
       "      <td>512.26</td>\n",
       "      <td>0.21</td>\n",
       "      <td>512.26</td>\n",
       "      <td>10</td>\n",
       "      <td>0.00</td>\n",
       "      <td>16</td>\n",
       "    </tr>\n",
       "    <tr>\n",
       "      <th>10</th>\n",
       "      <td>Edinburgh</td>\n",
       "      <td>2231</td>\n",
       "      <td>0.4962</td>\n",
       "      <td>0.8225</td>\n",
       "      <td>2614</td>\n",
       "      <td>124.88</td>\n",
       "      <td>57.83</td>\n",
       "      <td>9216</td>\n",
       "      <td>8259</td>\n",
       "      <td>1.17</td>\n",
       "      <td>2614</td>\n",
       "      <td>0.00</td>\n",
       "      <td>0.00</td>\n",
       "      <td>0</td>\n",
       "      <td>0.00</td>\n",
       "      <td>0.00</td>\n",
       "      <td>0.00</td>\n",
       "      <td>0</td>\n",
       "      <td>0.00</td>\n",
       "      <td>0</td>\n",
       "    </tr>\n",
       "  </tbody>\n",
       "</table>\n",
       "</div>"
      ],
      "text/plain": [
       "         City  Users  Bounce Rate  % New Sessions  Sessions  \\\n",
       "1      Dublin   5776       0.5500          0.7136      7805   \n",
       "2      Madrid   4953       0.5715          0.7000      6609   \n",
       "3   Barcelona   3603       0.5613          0.7075      4848   \n",
       "4      Warsaw   3012       0.5531          0.7979      3656   \n",
       "5      Moscow   2725       0.5766          0.7070      3734   \n",
       "6      Zurich   2679       0.5191          0.7907      3215   \n",
       "7   Amsterdam   2633       0.5722          0.6911      3574   \n",
       "8       Milan   2587       0.6148          0.7984      3061   \n",
       "9      Berlin   2454       0.5717          0.7674      3091   \n",
       "10  Edinburgh   2231       0.4962          0.8225      2614   \n",
       "\n",
       "    Avg. Session Duration  Avg. Time on Page   Hits  Pageviews  \\\n",
       "1                  136.33              57.22  31553      26401   \n",
       "2                  174.39             100.56  20151      18070   \n",
       "3                  221.52              96.31  18994      15998   \n",
       "4                  124.19              50.11  15848      12715   \n",
       "5                  206.95              92.09  15002      12124   \n",
       "6                  137.84              52.84  13705      11601   \n",
       "7                  182.59              76.09  14764      12150   \n",
       "8                  141.32              76.49  10020       8716   \n",
       "9                  124.38              57.90  11405       9732   \n",
       "10                 124.88              57.83   9216       8259   \n",
       "\n",
       "    Number of Sessions per User  Exits  Avg. Price  Avg. QTY  \\\n",
       "1                          1.35   7805       26.00      1.00   \n",
       "2                          1.33   6609        0.00      0.00   \n",
       "3                          1.35   4848       48.07      1.00   \n",
       "4                          1.21   3656       17.09      1.00   \n",
       "5                          1.37   3734        0.00      0.00   \n",
       "6                          1.20   3215       48.35      1.00   \n",
       "7                          1.36   3574       17.39      2.77   \n",
       "8                          1.18   3061       24.50      3.33   \n",
       "9                          1.26   3091       32.02      1.00   \n",
       "10                         1.17   2614        0.00      0.00   \n",
       "\n",
       "    Purchase Completed (Goal 1 Completions)  Product Revenue  \\\n",
       "1                                        23          1949.74   \n",
       "2                                         0             0.00   \n",
       "3                                         3           769.18   \n",
       "4                                         3           222.16   \n",
       "5                                         0             0.00   \n",
       "6                                         7           628.57   \n",
       "7                                         7          1251.91   \n",
       "8                                         3           245.02   \n",
       "9                                         7           512.26   \n",
       "10                                        0             0.00   \n",
       "\n",
       "    Revenue per User  Revenue  Transactions  Transactions per User  \\\n",
       "1               0.34  1949.74            33                   0.01   \n",
       "2               0.00     0.00             0                   0.00   \n",
       "3               0.21   769.18             3                   0.00   \n",
       "4               0.07   222.16             3                   0.00   \n",
       "5               0.00     0.00             0                   0.00   \n",
       "6               0.23   628.57             7                   0.00   \n",
       "7               0.48  1251.91             7                   0.00   \n",
       "8               0.09   245.02             3                   0.00   \n",
       "9               0.21   512.26            10                   0.00   \n",
       "10              0.00     0.00             0                   0.00   \n",
       "\n",
       "    Unique Purchases  \n",
       "1                 75  \n",
       "2                  0  \n",
       "3                 16  \n",
       "4                 13  \n",
       "5                  0  \n",
       "6                 13  \n",
       "7                 26  \n",
       "8                  3  \n",
       "9                 16  \n",
       "10                 0  "
      ]
     },
     "execution_count": 11,
     "metadata": {},
     "output_type": "execute_result"
    }
   ],
   "source": [
    "df_top"
   ]
  },
  {
   "cell_type": "code",
   "execution_count": 12,
   "id": "58b271d4",
   "metadata": {},
   "outputs": [
    {
     "data": {
      "application/vnd.plotly.v1+json": {
       "config": {
        "plotlyServerURL": "https://plot.ly"
       },
       "data": [
        {
         "alignmentgroup": "True",
         "bingroup": "x",
         "histfunc": "sum",
         "hovertemplate": "City=%{x}<br>sum of Sessions=%{y}<extra></extra>",
         "legendgroup": "",
         "marker": {
          "color": "#636efa",
          "pattern": {
           "shape": ""
          }
         },
         "name": "",
         "offsetgroup": "",
         "orientation": "v",
         "showlegend": false,
         "type": "histogram",
         "x": [
          "Dublin",
          "Madrid",
          "Barcelona",
          "Warsaw",
          "Moscow",
          "Zurich",
          "Amsterdam",
          "Milan",
          "Berlin",
          "Edinburgh"
         ],
         "xaxis": "x",
         "y": [
          7805,
          6609,
          4848,
          3656,
          3734,
          3215,
          3574,
          3061,
          3091,
          2614
         ],
         "yaxis": "y"
        }
       ],
       "layout": {
        "barmode": "relative",
        "height": 350,
        "legend": {
         "tracegroupgap": 0
        },
        "margin": {
         "t": 60
        },
        "template": {
         "data": {
          "bar": [
           {
            "error_x": {
             "color": "#2a3f5f"
            },
            "error_y": {
             "color": "#2a3f5f"
            },
            "marker": {
             "line": {
              "color": "#E5ECF6",
              "width": 0.5
             },
             "pattern": {
              "fillmode": "overlay",
              "size": 10,
              "solidity": 0.2
             }
            },
            "type": "bar"
           }
          ],
          "barpolar": [
           {
            "marker": {
             "line": {
              "color": "#E5ECF6",
              "width": 0.5
             },
             "pattern": {
              "fillmode": "overlay",
              "size": 10,
              "solidity": 0.2
             }
            },
            "type": "barpolar"
           }
          ],
          "carpet": [
           {
            "aaxis": {
             "endlinecolor": "#2a3f5f",
             "gridcolor": "white",
             "linecolor": "white",
             "minorgridcolor": "white",
             "startlinecolor": "#2a3f5f"
            },
            "baxis": {
             "endlinecolor": "#2a3f5f",
             "gridcolor": "white",
             "linecolor": "white",
             "minorgridcolor": "white",
             "startlinecolor": "#2a3f5f"
            },
            "type": "carpet"
           }
          ],
          "choropleth": [
           {
            "colorbar": {
             "outlinewidth": 0,
             "ticks": ""
            },
            "type": "choropleth"
           }
          ],
          "contour": [
           {
            "colorbar": {
             "outlinewidth": 0,
             "ticks": ""
            },
            "colorscale": [
             [
              0,
              "#0d0887"
             ],
             [
              0.1111111111111111,
              "#46039f"
             ],
             [
              0.2222222222222222,
              "#7201a8"
             ],
             [
              0.3333333333333333,
              "#9c179e"
             ],
             [
              0.4444444444444444,
              "#bd3786"
             ],
             [
              0.5555555555555556,
              "#d8576b"
             ],
             [
              0.6666666666666666,
              "#ed7953"
             ],
             [
              0.7777777777777778,
              "#fb9f3a"
             ],
             [
              0.8888888888888888,
              "#fdca26"
             ],
             [
              1,
              "#f0f921"
             ]
            ],
            "type": "contour"
           }
          ],
          "contourcarpet": [
           {
            "colorbar": {
             "outlinewidth": 0,
             "ticks": ""
            },
            "type": "contourcarpet"
           }
          ],
          "heatmap": [
           {
            "colorbar": {
             "outlinewidth": 0,
             "ticks": ""
            },
            "colorscale": [
             [
              0,
              "#0d0887"
             ],
             [
              0.1111111111111111,
              "#46039f"
             ],
             [
              0.2222222222222222,
              "#7201a8"
             ],
             [
              0.3333333333333333,
              "#9c179e"
             ],
             [
              0.4444444444444444,
              "#bd3786"
             ],
             [
              0.5555555555555556,
              "#d8576b"
             ],
             [
              0.6666666666666666,
              "#ed7953"
             ],
             [
              0.7777777777777778,
              "#fb9f3a"
             ],
             [
              0.8888888888888888,
              "#fdca26"
             ],
             [
              1,
              "#f0f921"
             ]
            ],
            "type": "heatmap"
           }
          ],
          "heatmapgl": [
           {
            "colorbar": {
             "outlinewidth": 0,
             "ticks": ""
            },
            "colorscale": [
             [
              0,
              "#0d0887"
             ],
             [
              0.1111111111111111,
              "#46039f"
             ],
             [
              0.2222222222222222,
              "#7201a8"
             ],
             [
              0.3333333333333333,
              "#9c179e"
             ],
             [
              0.4444444444444444,
              "#bd3786"
             ],
             [
              0.5555555555555556,
              "#d8576b"
             ],
             [
              0.6666666666666666,
              "#ed7953"
             ],
             [
              0.7777777777777778,
              "#fb9f3a"
             ],
             [
              0.8888888888888888,
              "#fdca26"
             ],
             [
              1,
              "#f0f921"
             ]
            ],
            "type": "heatmapgl"
           }
          ],
          "histogram": [
           {
            "marker": {
             "pattern": {
              "fillmode": "overlay",
              "size": 10,
              "solidity": 0.2
             }
            },
            "type": "histogram"
           }
          ],
          "histogram2d": [
           {
            "colorbar": {
             "outlinewidth": 0,
             "ticks": ""
            },
            "colorscale": [
             [
              0,
              "#0d0887"
             ],
             [
              0.1111111111111111,
              "#46039f"
             ],
             [
              0.2222222222222222,
              "#7201a8"
             ],
             [
              0.3333333333333333,
              "#9c179e"
             ],
             [
              0.4444444444444444,
              "#bd3786"
             ],
             [
              0.5555555555555556,
              "#d8576b"
             ],
             [
              0.6666666666666666,
              "#ed7953"
             ],
             [
              0.7777777777777778,
              "#fb9f3a"
             ],
             [
              0.8888888888888888,
              "#fdca26"
             ],
             [
              1,
              "#f0f921"
             ]
            ],
            "type": "histogram2d"
           }
          ],
          "histogram2dcontour": [
           {
            "colorbar": {
             "outlinewidth": 0,
             "ticks": ""
            },
            "colorscale": [
             [
              0,
              "#0d0887"
             ],
             [
              0.1111111111111111,
              "#46039f"
             ],
             [
              0.2222222222222222,
              "#7201a8"
             ],
             [
              0.3333333333333333,
              "#9c179e"
             ],
             [
              0.4444444444444444,
              "#bd3786"
             ],
             [
              0.5555555555555556,
              "#d8576b"
             ],
             [
              0.6666666666666666,
              "#ed7953"
             ],
             [
              0.7777777777777778,
              "#fb9f3a"
             ],
             [
              0.8888888888888888,
              "#fdca26"
             ],
             [
              1,
              "#f0f921"
             ]
            ],
            "type": "histogram2dcontour"
           }
          ],
          "mesh3d": [
           {
            "colorbar": {
             "outlinewidth": 0,
             "ticks": ""
            },
            "type": "mesh3d"
           }
          ],
          "parcoords": [
           {
            "line": {
             "colorbar": {
              "outlinewidth": 0,
              "ticks": ""
             }
            },
            "type": "parcoords"
           }
          ],
          "pie": [
           {
            "automargin": true,
            "type": "pie"
           }
          ],
          "scatter": [
           {
            "fillpattern": {
             "fillmode": "overlay",
             "size": 10,
             "solidity": 0.2
            },
            "type": "scatter"
           }
          ],
          "scatter3d": [
           {
            "line": {
             "colorbar": {
              "outlinewidth": 0,
              "ticks": ""
             }
            },
            "marker": {
             "colorbar": {
              "outlinewidth": 0,
              "ticks": ""
             }
            },
            "type": "scatter3d"
           }
          ],
          "scattercarpet": [
           {
            "marker": {
             "colorbar": {
              "outlinewidth": 0,
              "ticks": ""
             }
            },
            "type": "scattercarpet"
           }
          ],
          "scattergeo": [
           {
            "marker": {
             "colorbar": {
              "outlinewidth": 0,
              "ticks": ""
             }
            },
            "type": "scattergeo"
           }
          ],
          "scattergl": [
           {
            "marker": {
             "colorbar": {
              "outlinewidth": 0,
              "ticks": ""
             }
            },
            "type": "scattergl"
           }
          ],
          "scattermapbox": [
           {
            "marker": {
             "colorbar": {
              "outlinewidth": 0,
              "ticks": ""
             }
            },
            "type": "scattermapbox"
           }
          ],
          "scatterpolar": [
           {
            "marker": {
             "colorbar": {
              "outlinewidth": 0,
              "ticks": ""
             }
            },
            "type": "scatterpolar"
           }
          ],
          "scatterpolargl": [
           {
            "marker": {
             "colorbar": {
              "outlinewidth": 0,
              "ticks": ""
             }
            },
            "type": "scatterpolargl"
           }
          ],
          "scatterternary": [
           {
            "marker": {
             "colorbar": {
              "outlinewidth": 0,
              "ticks": ""
             }
            },
            "type": "scatterternary"
           }
          ],
          "surface": [
           {
            "colorbar": {
             "outlinewidth": 0,
             "ticks": ""
            },
            "colorscale": [
             [
              0,
              "#0d0887"
             ],
             [
              0.1111111111111111,
              "#46039f"
             ],
             [
              0.2222222222222222,
              "#7201a8"
             ],
             [
              0.3333333333333333,
              "#9c179e"
             ],
             [
              0.4444444444444444,
              "#bd3786"
             ],
             [
              0.5555555555555556,
              "#d8576b"
             ],
             [
              0.6666666666666666,
              "#ed7953"
             ],
             [
              0.7777777777777778,
              "#fb9f3a"
             ],
             [
              0.8888888888888888,
              "#fdca26"
             ],
             [
              1,
              "#f0f921"
             ]
            ],
            "type": "surface"
           }
          ],
          "table": [
           {
            "cells": {
             "fill": {
              "color": "#EBF0F8"
             },
             "line": {
              "color": "white"
             }
            },
            "header": {
             "fill": {
              "color": "#C8D4E3"
             },
             "line": {
              "color": "white"
             }
            },
            "type": "table"
           }
          ]
         },
         "layout": {
          "annotationdefaults": {
           "arrowcolor": "#2a3f5f",
           "arrowhead": 0,
           "arrowwidth": 1
          },
          "autotypenumbers": "strict",
          "coloraxis": {
           "colorbar": {
            "outlinewidth": 0,
            "ticks": ""
           }
          },
          "colorscale": {
           "diverging": [
            [
             0,
             "#8e0152"
            ],
            [
             0.1,
             "#c51b7d"
            ],
            [
             0.2,
             "#de77ae"
            ],
            [
             0.3,
             "#f1b6da"
            ],
            [
             0.4,
             "#fde0ef"
            ],
            [
             0.5,
             "#f7f7f7"
            ],
            [
             0.6,
             "#e6f5d0"
            ],
            [
             0.7,
             "#b8e186"
            ],
            [
             0.8,
             "#7fbc41"
            ],
            [
             0.9,
             "#4d9221"
            ],
            [
             1,
             "#276419"
            ]
           ],
           "sequential": [
            [
             0,
             "#0d0887"
            ],
            [
             0.1111111111111111,
             "#46039f"
            ],
            [
             0.2222222222222222,
             "#7201a8"
            ],
            [
             0.3333333333333333,
             "#9c179e"
            ],
            [
             0.4444444444444444,
             "#bd3786"
            ],
            [
             0.5555555555555556,
             "#d8576b"
            ],
            [
             0.6666666666666666,
             "#ed7953"
            ],
            [
             0.7777777777777778,
             "#fb9f3a"
            ],
            [
             0.8888888888888888,
             "#fdca26"
            ],
            [
             1,
             "#f0f921"
            ]
           ],
           "sequentialminus": [
            [
             0,
             "#0d0887"
            ],
            [
             0.1111111111111111,
             "#46039f"
            ],
            [
             0.2222222222222222,
             "#7201a8"
            ],
            [
             0.3333333333333333,
             "#9c179e"
            ],
            [
             0.4444444444444444,
             "#bd3786"
            ],
            [
             0.5555555555555556,
             "#d8576b"
            ],
            [
             0.6666666666666666,
             "#ed7953"
            ],
            [
             0.7777777777777778,
             "#fb9f3a"
            ],
            [
             0.8888888888888888,
             "#fdca26"
            ],
            [
             1,
             "#f0f921"
            ]
           ]
          },
          "colorway": [
           "#636efa",
           "#EF553B",
           "#00cc96",
           "#ab63fa",
           "#FFA15A",
           "#19d3f3",
           "#FF6692",
           "#B6E880",
           "#FF97FF",
           "#FECB52"
          ],
          "font": {
           "color": "#2a3f5f"
          },
          "geo": {
           "bgcolor": "white",
           "lakecolor": "white",
           "landcolor": "#E5ECF6",
           "showlakes": true,
           "showland": true,
           "subunitcolor": "white"
          },
          "hoverlabel": {
           "align": "left"
          },
          "hovermode": "closest",
          "mapbox": {
           "style": "light"
          },
          "paper_bgcolor": "white",
          "plot_bgcolor": "#E5ECF6",
          "polar": {
           "angularaxis": {
            "gridcolor": "white",
            "linecolor": "white",
            "ticks": ""
           },
           "bgcolor": "#E5ECF6",
           "radialaxis": {
            "gridcolor": "white",
            "linecolor": "white",
            "ticks": ""
           }
          },
          "scene": {
           "xaxis": {
            "backgroundcolor": "#E5ECF6",
            "gridcolor": "white",
            "gridwidth": 2,
            "linecolor": "white",
            "showbackground": true,
            "ticks": "",
            "zerolinecolor": "white"
           },
           "yaxis": {
            "backgroundcolor": "#E5ECF6",
            "gridcolor": "white",
            "gridwidth": 2,
            "linecolor": "white",
            "showbackground": true,
            "ticks": "",
            "zerolinecolor": "white"
           },
           "zaxis": {
            "backgroundcolor": "#E5ECF6",
            "gridcolor": "white",
            "gridwidth": 2,
            "linecolor": "white",
            "showbackground": true,
            "ticks": "",
            "zerolinecolor": "white"
           }
          },
          "shapedefaults": {
           "line": {
            "color": "#2a3f5f"
           }
          },
          "ternary": {
           "aaxis": {
            "gridcolor": "white",
            "linecolor": "white",
            "ticks": ""
           },
           "baxis": {
            "gridcolor": "white",
            "linecolor": "white",
            "ticks": ""
           },
           "bgcolor": "#E5ECF6",
           "caxis": {
            "gridcolor": "white",
            "linecolor": "white",
            "ticks": ""
           }
          },
          "title": {
           "x": 0.05
          },
          "xaxis": {
           "automargin": true,
           "gridcolor": "white",
           "linecolor": "white",
           "ticks": "",
           "title": {
            "standoff": 15
           },
           "zerolinecolor": "white",
           "zerolinewidth": 2
          },
          "yaxis": {
           "automargin": true,
           "gridcolor": "white",
           "linecolor": "white",
           "ticks": "",
           "title": {
            "standoff": 15
           },
           "zerolinecolor": "white",
           "zerolinewidth": 2
          }
         }
        },
        "xaxis": {
         "anchor": "y",
         "categoryorder": "total descending",
         "domain": [
          0,
          1
         ],
         "title": {
          "text": "City"
         }
        },
        "yaxis": {
         "anchor": "x",
         "domain": [
          0,
          1
         ],
         "title": {
          "text": "sum of Sessions"
         }
        }
       }
      },
      "text/html": [
       "<div>                            <div id=\"e5cb5435-e057-47af-b6f6-36023514c87e\" class=\"plotly-graph-div\" style=\"height:350px; width:100%;\"></div>            <script type=\"text/javascript\">                require([\"plotly\"], function(Plotly) {                    window.PLOTLYENV=window.PLOTLYENV || {};                                    if (document.getElementById(\"e5cb5435-e057-47af-b6f6-36023514c87e\")) {                    Plotly.newPlot(                        \"e5cb5435-e057-47af-b6f6-36023514c87e\",                        [{\"alignmentgroup\":\"True\",\"bingroup\":\"x\",\"histfunc\":\"sum\",\"hovertemplate\":\"City=%{x}<br>sum of Sessions=%{y}<extra></extra>\",\"legendgroup\":\"\",\"marker\":{\"color\":\"#636efa\",\"pattern\":{\"shape\":\"\"}},\"name\":\"\",\"offsetgroup\":\"\",\"orientation\":\"v\",\"showlegend\":false,\"x\":[\"Dublin\",\"Madrid\",\"Barcelona\",\"Warsaw\",\"Moscow\",\"Zurich\",\"Amsterdam\",\"Milan\",\"Berlin\",\"Edinburgh\"],\"xaxis\":\"x\",\"y\":[7805,6609,4848,3656,3734,3215,3574,3061,3091,2614],\"yaxis\":\"y\",\"type\":\"histogram\"}],                        {\"template\":{\"data\":{\"histogram2dcontour\":[{\"type\":\"histogram2dcontour\",\"colorbar\":{\"outlinewidth\":0,\"ticks\":\"\"},\"colorscale\":[[0.0,\"#0d0887\"],[0.1111111111111111,\"#46039f\"],[0.2222222222222222,\"#7201a8\"],[0.3333333333333333,\"#9c179e\"],[0.4444444444444444,\"#bd3786\"],[0.5555555555555556,\"#d8576b\"],[0.6666666666666666,\"#ed7953\"],[0.7777777777777778,\"#fb9f3a\"],[0.8888888888888888,\"#fdca26\"],[1.0,\"#f0f921\"]]}],\"choropleth\":[{\"type\":\"choropleth\",\"colorbar\":{\"outlinewidth\":0,\"ticks\":\"\"}}],\"histogram2d\":[{\"type\":\"histogram2d\",\"colorbar\":{\"outlinewidth\":0,\"ticks\":\"\"},\"colorscale\":[[0.0,\"#0d0887\"],[0.1111111111111111,\"#46039f\"],[0.2222222222222222,\"#7201a8\"],[0.3333333333333333,\"#9c179e\"],[0.4444444444444444,\"#bd3786\"],[0.5555555555555556,\"#d8576b\"],[0.6666666666666666,\"#ed7953\"],[0.7777777777777778,\"#fb9f3a\"],[0.8888888888888888,\"#fdca26\"],[1.0,\"#f0f921\"]]}],\"heatmap\":[{\"type\":\"heatmap\",\"colorbar\":{\"outlinewidth\":0,\"ticks\":\"\"},\"colorscale\":[[0.0,\"#0d0887\"],[0.1111111111111111,\"#46039f\"],[0.2222222222222222,\"#7201a8\"],[0.3333333333333333,\"#9c179e\"],[0.4444444444444444,\"#bd3786\"],[0.5555555555555556,\"#d8576b\"],[0.6666666666666666,\"#ed7953\"],[0.7777777777777778,\"#fb9f3a\"],[0.8888888888888888,\"#fdca26\"],[1.0,\"#f0f921\"]]}],\"heatmapgl\":[{\"type\":\"heatmapgl\",\"colorbar\":{\"outlinewidth\":0,\"ticks\":\"\"},\"colorscale\":[[0.0,\"#0d0887\"],[0.1111111111111111,\"#46039f\"],[0.2222222222222222,\"#7201a8\"],[0.3333333333333333,\"#9c179e\"],[0.4444444444444444,\"#bd3786\"],[0.5555555555555556,\"#d8576b\"],[0.6666666666666666,\"#ed7953\"],[0.7777777777777778,\"#fb9f3a\"],[0.8888888888888888,\"#fdca26\"],[1.0,\"#f0f921\"]]}],\"contourcarpet\":[{\"type\":\"contourcarpet\",\"colorbar\":{\"outlinewidth\":0,\"ticks\":\"\"}}],\"contour\":[{\"type\":\"contour\",\"colorbar\":{\"outlinewidth\":0,\"ticks\":\"\"},\"colorscale\":[[0.0,\"#0d0887\"],[0.1111111111111111,\"#46039f\"],[0.2222222222222222,\"#7201a8\"],[0.3333333333333333,\"#9c179e\"],[0.4444444444444444,\"#bd3786\"],[0.5555555555555556,\"#d8576b\"],[0.6666666666666666,\"#ed7953\"],[0.7777777777777778,\"#fb9f3a\"],[0.8888888888888888,\"#fdca26\"],[1.0,\"#f0f921\"]]}],\"surface\":[{\"type\":\"surface\",\"colorbar\":{\"outlinewidth\":0,\"ticks\":\"\"},\"colorscale\":[[0.0,\"#0d0887\"],[0.1111111111111111,\"#46039f\"],[0.2222222222222222,\"#7201a8\"],[0.3333333333333333,\"#9c179e\"],[0.4444444444444444,\"#bd3786\"],[0.5555555555555556,\"#d8576b\"],[0.6666666666666666,\"#ed7953\"],[0.7777777777777778,\"#fb9f3a\"],[0.8888888888888888,\"#fdca26\"],[1.0,\"#f0f921\"]]}],\"mesh3d\":[{\"type\":\"mesh3d\",\"colorbar\":{\"outlinewidth\":0,\"ticks\":\"\"}}],\"scatter\":[{\"fillpattern\":{\"fillmode\":\"overlay\",\"size\":10,\"solidity\":0.2},\"type\":\"scatter\"}],\"parcoords\":[{\"type\":\"parcoords\",\"line\":{\"colorbar\":{\"outlinewidth\":0,\"ticks\":\"\"}}}],\"scatterpolargl\":[{\"type\":\"scatterpolargl\",\"marker\":{\"colorbar\":{\"outlinewidth\":0,\"ticks\":\"\"}}}],\"bar\":[{\"error_x\":{\"color\":\"#2a3f5f\"},\"error_y\":{\"color\":\"#2a3f5f\"},\"marker\":{\"line\":{\"color\":\"#E5ECF6\",\"width\":0.5},\"pattern\":{\"fillmode\":\"overlay\",\"size\":10,\"solidity\":0.2}},\"type\":\"bar\"}],\"scattergeo\":[{\"type\":\"scattergeo\",\"marker\":{\"colorbar\":{\"outlinewidth\":0,\"ticks\":\"\"}}}],\"scatterpolar\":[{\"type\":\"scatterpolar\",\"marker\":{\"colorbar\":{\"outlinewidth\":0,\"ticks\":\"\"}}}],\"histogram\":[{\"marker\":{\"pattern\":{\"fillmode\":\"overlay\",\"size\":10,\"solidity\":0.2}},\"type\":\"histogram\"}],\"scattergl\":[{\"type\":\"scattergl\",\"marker\":{\"colorbar\":{\"outlinewidth\":0,\"ticks\":\"\"}}}],\"scatter3d\":[{\"type\":\"scatter3d\",\"line\":{\"colorbar\":{\"outlinewidth\":0,\"ticks\":\"\"}},\"marker\":{\"colorbar\":{\"outlinewidth\":0,\"ticks\":\"\"}}}],\"scattermapbox\":[{\"type\":\"scattermapbox\",\"marker\":{\"colorbar\":{\"outlinewidth\":0,\"ticks\":\"\"}}}],\"scatterternary\":[{\"type\":\"scatterternary\",\"marker\":{\"colorbar\":{\"outlinewidth\":0,\"ticks\":\"\"}}}],\"scattercarpet\":[{\"type\":\"scattercarpet\",\"marker\":{\"colorbar\":{\"outlinewidth\":0,\"ticks\":\"\"}}}],\"carpet\":[{\"aaxis\":{\"endlinecolor\":\"#2a3f5f\",\"gridcolor\":\"white\",\"linecolor\":\"white\",\"minorgridcolor\":\"white\",\"startlinecolor\":\"#2a3f5f\"},\"baxis\":{\"endlinecolor\":\"#2a3f5f\",\"gridcolor\":\"white\",\"linecolor\":\"white\",\"minorgridcolor\":\"white\",\"startlinecolor\":\"#2a3f5f\"},\"type\":\"carpet\"}],\"table\":[{\"cells\":{\"fill\":{\"color\":\"#EBF0F8\"},\"line\":{\"color\":\"white\"}},\"header\":{\"fill\":{\"color\":\"#C8D4E3\"},\"line\":{\"color\":\"white\"}},\"type\":\"table\"}],\"barpolar\":[{\"marker\":{\"line\":{\"color\":\"#E5ECF6\",\"width\":0.5},\"pattern\":{\"fillmode\":\"overlay\",\"size\":10,\"solidity\":0.2}},\"type\":\"barpolar\"}],\"pie\":[{\"automargin\":true,\"type\":\"pie\"}]},\"layout\":{\"autotypenumbers\":\"strict\",\"colorway\":[\"#636efa\",\"#EF553B\",\"#00cc96\",\"#ab63fa\",\"#FFA15A\",\"#19d3f3\",\"#FF6692\",\"#B6E880\",\"#FF97FF\",\"#FECB52\"],\"font\":{\"color\":\"#2a3f5f\"},\"hovermode\":\"closest\",\"hoverlabel\":{\"align\":\"left\"},\"paper_bgcolor\":\"white\",\"plot_bgcolor\":\"#E5ECF6\",\"polar\":{\"bgcolor\":\"#E5ECF6\",\"angularaxis\":{\"gridcolor\":\"white\",\"linecolor\":\"white\",\"ticks\":\"\"},\"radialaxis\":{\"gridcolor\":\"white\",\"linecolor\":\"white\",\"ticks\":\"\"}},\"ternary\":{\"bgcolor\":\"#E5ECF6\",\"aaxis\":{\"gridcolor\":\"white\",\"linecolor\":\"white\",\"ticks\":\"\"},\"baxis\":{\"gridcolor\":\"white\",\"linecolor\":\"white\",\"ticks\":\"\"},\"caxis\":{\"gridcolor\":\"white\",\"linecolor\":\"white\",\"ticks\":\"\"}},\"coloraxis\":{\"colorbar\":{\"outlinewidth\":0,\"ticks\":\"\"}},\"colorscale\":{\"sequential\":[[0.0,\"#0d0887\"],[0.1111111111111111,\"#46039f\"],[0.2222222222222222,\"#7201a8\"],[0.3333333333333333,\"#9c179e\"],[0.4444444444444444,\"#bd3786\"],[0.5555555555555556,\"#d8576b\"],[0.6666666666666666,\"#ed7953\"],[0.7777777777777778,\"#fb9f3a\"],[0.8888888888888888,\"#fdca26\"],[1.0,\"#f0f921\"]],\"sequentialminus\":[[0.0,\"#0d0887\"],[0.1111111111111111,\"#46039f\"],[0.2222222222222222,\"#7201a8\"],[0.3333333333333333,\"#9c179e\"],[0.4444444444444444,\"#bd3786\"],[0.5555555555555556,\"#d8576b\"],[0.6666666666666666,\"#ed7953\"],[0.7777777777777778,\"#fb9f3a\"],[0.8888888888888888,\"#fdca26\"],[1.0,\"#f0f921\"]],\"diverging\":[[0,\"#8e0152\"],[0.1,\"#c51b7d\"],[0.2,\"#de77ae\"],[0.3,\"#f1b6da\"],[0.4,\"#fde0ef\"],[0.5,\"#f7f7f7\"],[0.6,\"#e6f5d0\"],[0.7,\"#b8e186\"],[0.8,\"#7fbc41\"],[0.9,\"#4d9221\"],[1,\"#276419\"]]},\"xaxis\":{\"gridcolor\":\"white\",\"linecolor\":\"white\",\"ticks\":\"\",\"title\":{\"standoff\":15},\"zerolinecolor\":\"white\",\"automargin\":true,\"zerolinewidth\":2},\"yaxis\":{\"gridcolor\":\"white\",\"linecolor\":\"white\",\"ticks\":\"\",\"title\":{\"standoff\":15},\"zerolinecolor\":\"white\",\"automargin\":true,\"zerolinewidth\":2},\"scene\":{\"xaxis\":{\"backgroundcolor\":\"#E5ECF6\",\"gridcolor\":\"white\",\"linecolor\":\"white\",\"showbackground\":true,\"ticks\":\"\",\"zerolinecolor\":\"white\",\"gridwidth\":2},\"yaxis\":{\"backgroundcolor\":\"#E5ECF6\",\"gridcolor\":\"white\",\"linecolor\":\"white\",\"showbackground\":true,\"ticks\":\"\",\"zerolinecolor\":\"white\",\"gridwidth\":2},\"zaxis\":{\"backgroundcolor\":\"#E5ECF6\",\"gridcolor\":\"white\",\"linecolor\":\"white\",\"showbackground\":true,\"ticks\":\"\",\"zerolinecolor\":\"white\",\"gridwidth\":2}},\"shapedefaults\":{\"line\":{\"color\":\"#2a3f5f\"}},\"annotationdefaults\":{\"arrowcolor\":\"#2a3f5f\",\"arrowhead\":0,\"arrowwidth\":1},\"geo\":{\"bgcolor\":\"white\",\"landcolor\":\"#E5ECF6\",\"subunitcolor\":\"white\",\"showland\":true,\"showlakes\":true,\"lakecolor\":\"white\"},\"title\":{\"x\":0.05},\"mapbox\":{\"style\":\"light\"}}},\"xaxis\":{\"anchor\":\"y\",\"domain\":[0.0,1.0],\"title\":{\"text\":\"City\"},\"categoryorder\":\"total descending\"},\"yaxis\":{\"anchor\":\"x\",\"domain\":[0.0,1.0],\"title\":{\"text\":\"sum of Sessions\"}},\"legend\":{\"tracegroupgap\":0},\"margin\":{\"t\":60},\"barmode\":\"relative\",\"height\":350},                        {\"responsive\": true}                    ).then(function(){\n",
       "                            \n",
       "var gd = document.getElementById('e5cb5435-e057-47af-b6f6-36023514c87e');\n",
       "var x = new MutationObserver(function (mutations, observer) {{\n",
       "        var display = window.getComputedStyle(gd).display;\n",
       "        if (!display || display === 'none') {{\n",
       "            console.log([gd, 'removed!']);\n",
       "            Plotly.purge(gd);\n",
       "            observer.disconnect();\n",
       "        }}\n",
       "}});\n",
       "\n",
       "// Listen for the removal of the full notebook cells\n",
       "var notebookContainer = gd.closest('#notebook-container');\n",
       "if (notebookContainer) {{\n",
       "    x.observe(notebookContainer, {childList: true});\n",
       "}}\n",
       "\n",
       "// Listen for the clearing of the current output cell\n",
       "var outputEl = gd.closest('.output');\n",
       "if (outputEl) {{\n",
       "    x.observe(outputEl, {childList: true});\n",
       "}}\n",
       "\n",
       "                        })                };                });            </script>        </div>"
      ]
     },
     "metadata": {},
     "output_type": "display_data"
    }
   ],
   "source": [
    "fig_sessions = px.histogram(df_top, x = df_top.City, y = df_top.Sessions, height = 350)\n",
    "fig_sessions.update_xaxes(categoryorder = \"total descending\")\n",
    "fig_sessions.show()"
   ]
  },
  {
   "cell_type": "code",
   "execution_count": 13,
   "id": "ed54c47a",
   "metadata": {},
   "outputs": [],
   "source": [
    "## I'm dropping: Transactions per User, Hits, Bounce Rate and Exits since these don't give us additional value to the analysis. \n",
    "## After getting a final data set I will add information in case it's needed. \n",
    "\n",
    "df_top_2 = df_top.drop([\"Transactions per User\", \"Hits\", \"Exits\", \"Bounce Rate\" , \"% New Sessions\", \"Product Revenue\"], axis = 1)"
   ]
  },
  {
   "cell_type": "code",
   "execution_count": 14,
   "id": "b4463a56",
   "metadata": {},
   "outputs": [
    {
     "data": {
      "text/html": [
       "<div>\n",
       "<style scoped>\n",
       "    .dataframe tbody tr th:only-of-type {\n",
       "        vertical-align: middle;\n",
       "    }\n",
       "\n",
       "    .dataframe tbody tr th {\n",
       "        vertical-align: top;\n",
       "    }\n",
       "\n",
       "    .dataframe thead th {\n",
       "        text-align: right;\n",
       "    }\n",
       "</style>\n",
       "<table border=\"1\" class=\"dataframe\">\n",
       "  <thead>\n",
       "    <tr style=\"text-align: right;\">\n",
       "      <th></th>\n",
       "      <th>City</th>\n",
       "      <th>Users</th>\n",
       "      <th>Sessions</th>\n",
       "      <th>Avg. Session Duration</th>\n",
       "      <th>Avg. Time on Page</th>\n",
       "      <th>Pageviews</th>\n",
       "      <th>Number of Sessions per User</th>\n",
       "      <th>Avg. Price</th>\n",
       "      <th>Avg. QTY</th>\n",
       "      <th>Purchase Completed (Goal 1 Completions)</th>\n",
       "      <th>Revenue per User</th>\n",
       "      <th>Revenue</th>\n",
       "      <th>Transactions</th>\n",
       "      <th>Unique Purchases</th>\n",
       "    </tr>\n",
       "  </thead>\n",
       "  <tbody>\n",
       "    <tr>\n",
       "      <th>1</th>\n",
       "      <td>Dublin</td>\n",
       "      <td>5776</td>\n",
       "      <td>7805</td>\n",
       "      <td>136.33</td>\n",
       "      <td>57.22</td>\n",
       "      <td>26401</td>\n",
       "      <td>1.35</td>\n",
       "      <td>26.00</td>\n",
       "      <td>1.00</td>\n",
       "      <td>23</td>\n",
       "      <td>0.34</td>\n",
       "      <td>1949.74</td>\n",
       "      <td>33</td>\n",
       "      <td>75</td>\n",
       "    </tr>\n",
       "    <tr>\n",
       "      <th>2</th>\n",
       "      <td>Madrid</td>\n",
       "      <td>4953</td>\n",
       "      <td>6609</td>\n",
       "      <td>174.39</td>\n",
       "      <td>100.56</td>\n",
       "      <td>18070</td>\n",
       "      <td>1.33</td>\n",
       "      <td>0.00</td>\n",
       "      <td>0.00</td>\n",
       "      <td>0</td>\n",
       "      <td>0.00</td>\n",
       "      <td>0.00</td>\n",
       "      <td>0</td>\n",
       "      <td>0</td>\n",
       "    </tr>\n",
       "    <tr>\n",
       "      <th>3</th>\n",
       "      <td>Barcelona</td>\n",
       "      <td>3603</td>\n",
       "      <td>4848</td>\n",
       "      <td>221.52</td>\n",
       "      <td>96.31</td>\n",
       "      <td>15998</td>\n",
       "      <td>1.35</td>\n",
       "      <td>48.07</td>\n",
       "      <td>1.00</td>\n",
       "      <td>3</td>\n",
       "      <td>0.21</td>\n",
       "      <td>769.18</td>\n",
       "      <td>3</td>\n",
       "      <td>16</td>\n",
       "    </tr>\n",
       "    <tr>\n",
       "      <th>4</th>\n",
       "      <td>Warsaw</td>\n",
       "      <td>3012</td>\n",
       "      <td>3656</td>\n",
       "      <td>124.19</td>\n",
       "      <td>50.11</td>\n",
       "      <td>12715</td>\n",
       "      <td>1.21</td>\n",
       "      <td>17.09</td>\n",
       "      <td>1.00</td>\n",
       "      <td>3</td>\n",
       "      <td>0.07</td>\n",
       "      <td>222.16</td>\n",
       "      <td>3</td>\n",
       "      <td>13</td>\n",
       "    </tr>\n",
       "    <tr>\n",
       "      <th>5</th>\n",
       "      <td>Moscow</td>\n",
       "      <td>2725</td>\n",
       "      <td>3734</td>\n",
       "      <td>206.95</td>\n",
       "      <td>92.09</td>\n",
       "      <td>12124</td>\n",
       "      <td>1.37</td>\n",
       "      <td>0.00</td>\n",
       "      <td>0.00</td>\n",
       "      <td>0</td>\n",
       "      <td>0.00</td>\n",
       "      <td>0.00</td>\n",
       "      <td>0</td>\n",
       "      <td>0</td>\n",
       "    </tr>\n",
       "    <tr>\n",
       "      <th>6</th>\n",
       "      <td>Zurich</td>\n",
       "      <td>2679</td>\n",
       "      <td>3215</td>\n",
       "      <td>137.84</td>\n",
       "      <td>52.84</td>\n",
       "      <td>11601</td>\n",
       "      <td>1.20</td>\n",
       "      <td>48.35</td>\n",
       "      <td>1.00</td>\n",
       "      <td>7</td>\n",
       "      <td>0.23</td>\n",
       "      <td>628.57</td>\n",
       "      <td>7</td>\n",
       "      <td>13</td>\n",
       "    </tr>\n",
       "    <tr>\n",
       "      <th>7</th>\n",
       "      <td>Amsterdam</td>\n",
       "      <td>2633</td>\n",
       "      <td>3574</td>\n",
       "      <td>182.59</td>\n",
       "      <td>76.09</td>\n",
       "      <td>12150</td>\n",
       "      <td>1.36</td>\n",
       "      <td>17.39</td>\n",
       "      <td>2.77</td>\n",
       "      <td>7</td>\n",
       "      <td>0.48</td>\n",
       "      <td>1251.91</td>\n",
       "      <td>7</td>\n",
       "      <td>26</td>\n",
       "    </tr>\n",
       "    <tr>\n",
       "      <th>8</th>\n",
       "      <td>Milan</td>\n",
       "      <td>2587</td>\n",
       "      <td>3061</td>\n",
       "      <td>141.32</td>\n",
       "      <td>76.49</td>\n",
       "      <td>8716</td>\n",
       "      <td>1.18</td>\n",
       "      <td>24.50</td>\n",
       "      <td>3.33</td>\n",
       "      <td>3</td>\n",
       "      <td>0.09</td>\n",
       "      <td>245.02</td>\n",
       "      <td>3</td>\n",
       "      <td>3</td>\n",
       "    </tr>\n",
       "    <tr>\n",
       "      <th>9</th>\n",
       "      <td>Berlin</td>\n",
       "      <td>2454</td>\n",
       "      <td>3091</td>\n",
       "      <td>124.38</td>\n",
       "      <td>57.90</td>\n",
       "      <td>9732</td>\n",
       "      <td>1.26</td>\n",
       "      <td>32.02</td>\n",
       "      <td>1.00</td>\n",
       "      <td>7</td>\n",
       "      <td>0.21</td>\n",
       "      <td>512.26</td>\n",
       "      <td>10</td>\n",
       "      <td>16</td>\n",
       "    </tr>\n",
       "    <tr>\n",
       "      <th>10</th>\n",
       "      <td>Edinburgh</td>\n",
       "      <td>2231</td>\n",
       "      <td>2614</td>\n",
       "      <td>124.88</td>\n",
       "      <td>57.83</td>\n",
       "      <td>8259</td>\n",
       "      <td>1.17</td>\n",
       "      <td>0.00</td>\n",
       "      <td>0.00</td>\n",
       "      <td>0</td>\n",
       "      <td>0.00</td>\n",
       "      <td>0.00</td>\n",
       "      <td>0</td>\n",
       "      <td>0</td>\n",
       "    </tr>\n",
       "  </tbody>\n",
       "</table>\n",
       "</div>"
      ],
      "text/plain": [
       "         City  Users  Sessions  Avg. Session Duration  Avg. Time on Page  \\\n",
       "1      Dublin   5776      7805                 136.33              57.22   \n",
       "2      Madrid   4953      6609                 174.39             100.56   \n",
       "3   Barcelona   3603      4848                 221.52              96.31   \n",
       "4      Warsaw   3012      3656                 124.19              50.11   \n",
       "5      Moscow   2725      3734                 206.95              92.09   \n",
       "6      Zurich   2679      3215                 137.84              52.84   \n",
       "7   Amsterdam   2633      3574                 182.59              76.09   \n",
       "8       Milan   2587      3061                 141.32              76.49   \n",
       "9      Berlin   2454      3091                 124.38              57.90   \n",
       "10  Edinburgh   2231      2614                 124.88              57.83   \n",
       "\n",
       "    Pageviews  Number of Sessions per User  Avg. Price  Avg. QTY  \\\n",
       "1       26401                         1.35       26.00      1.00   \n",
       "2       18070                         1.33        0.00      0.00   \n",
       "3       15998                         1.35       48.07      1.00   \n",
       "4       12715                         1.21       17.09      1.00   \n",
       "5       12124                         1.37        0.00      0.00   \n",
       "6       11601                         1.20       48.35      1.00   \n",
       "7       12150                         1.36       17.39      2.77   \n",
       "8        8716                         1.18       24.50      3.33   \n",
       "9        9732                         1.26       32.02      1.00   \n",
       "10       8259                         1.17        0.00      0.00   \n",
       "\n",
       "    Purchase Completed (Goal 1 Completions)  Revenue per User  Revenue  \\\n",
       "1                                        23              0.34  1949.74   \n",
       "2                                         0              0.00     0.00   \n",
       "3                                         3              0.21   769.18   \n",
       "4                                         3              0.07   222.16   \n",
       "5                                         0              0.00     0.00   \n",
       "6                                         7              0.23   628.57   \n",
       "7                                         7              0.48  1251.91   \n",
       "8                                         3              0.09   245.02   \n",
       "9                                         7              0.21   512.26   \n",
       "10                                        0              0.00     0.00   \n",
       "\n",
       "    Transactions  Unique Purchases  \n",
       "1             33                75  \n",
       "2              0                 0  \n",
       "3              3                16  \n",
       "4              3                13  \n",
       "5              0                 0  \n",
       "6              7                13  \n",
       "7              7                26  \n",
       "8              3                 3  \n",
       "9             10                16  \n",
       "10             0                 0  "
      ]
     },
     "execution_count": 14,
     "metadata": {},
     "output_type": "execute_result"
    }
   ],
   "source": [
    "df_top_2"
   ]
  },
  {
   "attachments": {
    "rankings.jpg": {
     "image/jpeg": "[encoded data removed]"
    }
   },
   "cell_type": "markdown",
   "id": "16e2daae",
   "metadata": {},
   "source": [
    "#### After finishing data cleaning and getting a more compact dataset, we can see that Dublin is the best option so far\n",
    "\n",
    "![rankings.jpg](attachment:rankings.jpg)"
   ]
  },
  {
   "cell_type": "code",
   "execution_count": 15,
   "id": "4723979b",
   "metadata": {},
   "outputs": [
    {
     "data": {
      "text/html": [
       "<div>\n",
       "<style scoped>\n",
       "    .dataframe tbody tr th:only-of-type {\n",
       "        vertical-align: middle;\n",
       "    }\n",
       "\n",
       "    .dataframe tbody tr th {\n",
       "        vertical-align: top;\n",
       "    }\n",
       "\n",
       "    .dataframe thead th {\n",
       "        text-align: right;\n",
       "    }\n",
       "</style>\n",
       "<table border=\"1\" class=\"dataframe\">\n",
       "  <thead>\n",
       "    <tr style=\"text-align: right;\">\n",
       "      <th></th>\n",
       "      <th>City</th>\n",
       "      <th>Users</th>\n",
       "      <th>Sessions</th>\n",
       "      <th>Avg. Session Duration</th>\n",
       "      <th>Avg. Time on Page</th>\n",
       "      <th>Pageviews</th>\n",
       "      <th>Number of Sessions per User</th>\n",
       "      <th>Avg. Price</th>\n",
       "      <th>Avg. QTY</th>\n",
       "      <th>Purchase Completed (Goal 1 Completions)</th>\n",
       "      <th>Revenue per User</th>\n",
       "      <th>Revenue</th>\n",
       "      <th>Transactions</th>\n",
       "      <th>Unique Purchases</th>\n",
       "    </tr>\n",
       "  </thead>\n",
       "  <tbody>\n",
       "    <tr>\n",
       "      <th>1</th>\n",
       "      <td>Dublin</td>\n",
       "      <td>5776</td>\n",
       "      <td>7805</td>\n",
       "      <td>136.33</td>\n",
       "      <td>57.22</td>\n",
       "      <td>26401</td>\n",
       "      <td>1.35</td>\n",
       "      <td>26.00</td>\n",
       "      <td>1.00</td>\n",
       "      <td>23</td>\n",
       "      <td>0.34</td>\n",
       "      <td>1949.74</td>\n",
       "      <td>33</td>\n",
       "      <td>75</td>\n",
       "    </tr>\n",
       "    <tr>\n",
       "      <th>7</th>\n",
       "      <td>Amsterdam</td>\n",
       "      <td>2633</td>\n",
       "      <td>3574</td>\n",
       "      <td>182.59</td>\n",
       "      <td>76.09</td>\n",
       "      <td>12150</td>\n",
       "      <td>1.36</td>\n",
       "      <td>17.39</td>\n",
       "      <td>2.77</td>\n",
       "      <td>7</td>\n",
       "      <td>0.48</td>\n",
       "      <td>1251.91</td>\n",
       "      <td>7</td>\n",
       "      <td>26</td>\n",
       "    </tr>\n",
       "  </tbody>\n",
       "</table>\n",
       "</div>"
      ],
      "text/plain": [
       "        City  Users  Sessions  Avg. Session Duration  Avg. Time on Page  \\\n",
       "1     Dublin   5776      7805                 136.33              57.22   \n",
       "7  Amsterdam   2633      3574                 182.59              76.09   \n",
       "\n",
       "   Pageviews  Number of Sessions per User  Avg. Price  Avg. QTY  \\\n",
       "1      26401                         1.35       26.00      1.00   \n",
       "7      12150                         1.36       17.39      2.77   \n",
       "\n",
       "   Purchase Completed (Goal 1 Completions)  Revenue per User  Revenue  \\\n",
       "1                                       23              0.34  1949.74   \n",
       "7                                        7              0.48  1251.91   \n",
       "\n",
       "   Transactions  Unique Purchases  \n",
       "1            33                75  \n",
       "7             7                26  "
      ]
     },
     "execution_count": 15,
     "metadata": {},
     "output_type": "execute_result"
    }
   ],
   "source": [
    "df_decision = df_top_2.iloc[[0,6]]\n",
    "df_decision"
   ]
  },
  {
   "attachments": {
    "gcpi.jpg": {
     "image/jpeg": "[encoded data removed]"
    }
   },
   "cell_type": "markdown",
   "id": "1f2bb99e",
   "metadata": {},
   "source": [
    "### As an additional input, we use the Global Power City index that explains in 6 dimensions how attractive a city is nowadays\n",
    "\n",
    "### Because we are taking the economical aspect as key feature, we confirm that Dublin has a better rank than Amsterdam. \n",
    "\n",
    "![gcpi.jpg](attachment:gcpi.jpg)\n",
    "\n",
    "\n",
    "this is the link to the report:https://www.mori-m-foundation.or.jp/pdf/GPCI2021_summary.pdf"
   ]
  },
  {
   "attachments": {
    "demos.jpg": {
     "image/jpeg": "[encoded data removed]"
    }
   },
   "cell_type": "markdown",
   "id": "86b84fa9",
   "metadata": {},
   "source": [
    "### Age is relevant also in terms of demographics but in this case, I've decided not to use it becuase the distribution is the same for both cities.\n",
    "\n",
    "![demos.jpg](attachment:demos.jpg)"
   ]
  },
  {
   "cell_type": "markdown",
   "id": "e9641a96",
   "metadata": {},
   "source": [
    "## We now that our store is going to be located in Dublin but... what are we selling? \n",
    "\n",
    "### For this question, we take a look to our products dataset extracted from  our google analytics platform"
   ]
  },
  {
   "cell_type": "code",
   "execution_count": 16,
   "id": "63726d82",
   "metadata": {},
   "outputs": [
    {
     "data": {
      "text/html": [
       "<div>\n",
       "<style scoped>\n",
       "    .dataframe tbody tr th:only-of-type {\n",
       "        vertical-align: middle;\n",
       "    }\n",
       "\n",
       "    .dataframe tbody tr th {\n",
       "        vertical-align: top;\n",
       "    }\n",
       "\n",
       "    .dataframe thead th {\n",
       "        text-align: right;\n",
       "    }\n",
       "</style>\n",
       "<table border=\"1\" class=\"dataframe\">\n",
       "  <thead>\n",
       "    <tr style=\"text-align: right;\">\n",
       "      <th></th>\n",
       "      <th>Product</th>\n",
       "      <th>Product Revenue</th>\n",
       "      <th>Unique Purchases</th>\n",
       "      <th>Quantity</th>\n",
       "      <th>Avg. Price</th>\n",
       "      <th>Avg. QTY</th>\n",
       "      <th>Product Refund Amount</th>\n",
       "      <th>Cart-to-Detail Rate</th>\n",
       "      <th>Buy-to-Detail Rate</th>\n",
       "    </tr>\n",
       "  </thead>\n",
       "  <tbody>\n",
       "    <tr>\n",
       "      <th>0</th>\n",
       "      <td>Google Camp Fleece Snap Pullover</td>\n",
       "      <td>961.803157</td>\n",
       "      <td>13</td>\n",
       "      <td>13</td>\n",
       "      <td>73.984858</td>\n",
       "      <td>1.000000</td>\n",
       "      <td>0</td>\n",
       "      <td>0</td>\n",
       "      <td>0.000000</td>\n",
       "    </tr>\n",
       "    <tr>\n",
       "      <th>1</th>\n",
       "      <td>Google Land &amp; Sea Nalgene Water Bottle</td>\n",
       "      <td>490.049163</td>\n",
       "      <td>3</td>\n",
       "      <td>20</td>\n",
       "      <td>24.502458</td>\n",
       "      <td>6.666667</td>\n",
       "      <td>0</td>\n",
       "      <td>0</td>\n",
       "      <td>0.428571</td>\n",
       "    </tr>\n",
       "    <tr>\n",
       "      <th>2</th>\n",
       "      <td>Google Knit Blanket</td>\n",
       "      <td>459.992814</td>\n",
       "      <td>3</td>\n",
       "      <td>7</td>\n",
       "      <td>65.713259</td>\n",
       "      <td>2.333333</td>\n",
       "      <td>0</td>\n",
       "      <td>0</td>\n",
       "      <td>0.300000</td>\n",
       "    </tr>\n",
       "    <tr>\n",
       "      <th>3</th>\n",
       "      <td>YouTube Black Zip Hoodie</td>\n",
       "      <td>360.676184</td>\n",
       "      <td>7</td>\n",
       "      <td>7</td>\n",
       "      <td>51.525169</td>\n",
       "      <td>1.000000</td>\n",
       "      <td>0</td>\n",
       "      <td>0</td>\n",
       "      <td>0.000000</td>\n",
       "    </tr>\n",
       "    <tr>\n",
       "      <th>4</th>\n",
       "      <td>Google Women's Eco Tee Black</td>\n",
       "      <td>297.949891</td>\n",
       "      <td>10</td>\n",
       "      <td>16</td>\n",
       "      <td>18.621868</td>\n",
       "      <td>1.600000</td>\n",
       "      <td>0</td>\n",
       "      <td>0</td>\n",
       "      <td>3.333333</td>\n",
       "    </tr>\n",
       "    <tr>\n",
       "      <th>5</th>\n",
       "      <td>Google Ultralight Gray Sweatshirt</td>\n",
       "      <td>261.359553</td>\n",
       "      <td>7</td>\n",
       "      <td>7</td>\n",
       "      <td>37.337079</td>\n",
       "      <td>1.000000</td>\n",
       "      <td>0</td>\n",
       "      <td>0</td>\n",
       "      <td>0.000000</td>\n",
       "    </tr>\n",
       "    <tr>\n",
       "      <th>6</th>\n",
       "      <td>Google Women's Essential Jacket</td>\n",
       "      <td>256.132362</td>\n",
       "      <td>3</td>\n",
       "      <td>3</td>\n",
       "      <td>85.377454</td>\n",
       "      <td>1.000000</td>\n",
       "      <td>0</td>\n",
       "      <td>0</td>\n",
       "      <td>0.000000</td>\n",
       "    </tr>\n",
       "    <tr>\n",
       "      <th>7</th>\n",
       "      <td>Google F/C Longsleeve Ash</td>\n",
       "      <td>235.223598</td>\n",
       "      <td>10</td>\n",
       "      <td>10</td>\n",
       "      <td>23.522360</td>\n",
       "      <td>1.000000</td>\n",
       "      <td>0</td>\n",
       "      <td>0</td>\n",
       "      <td>0.000000</td>\n",
       "    </tr>\n",
       "    <tr>\n",
       "      <th>8</th>\n",
       "      <td>Google Charcoal Unisex Badge Tee</td>\n",
       "      <td>233.263401</td>\n",
       "      <td>10</td>\n",
       "      <td>13</td>\n",
       "      <td>17.943339</td>\n",
       "      <td>1.300000</td>\n",
       "      <td>0</td>\n",
       "      <td>0</td>\n",
       "      <td>1.428571</td>\n",
       "    </tr>\n",
       "    <tr>\n",
       "      <th>9</th>\n",
       "      <td>Google Ladies Expedition Half Zip</td>\n",
       "      <td>229.996407</td>\n",
       "      <td>3</td>\n",
       "      <td>3</td>\n",
       "      <td>76.665469</td>\n",
       "      <td>1.000000</td>\n",
       "      <td>0</td>\n",
       "      <td>0</td>\n",
       "      <td>0.000000</td>\n",
       "    </tr>\n",
       "    <tr>\n",
       "      <th>10</th>\n",
       "      <td>Google Sunglasses</td>\n",
       "      <td>228.689609</td>\n",
       "      <td>3</td>\n",
       "      <td>82</td>\n",
       "      <td>2.788898</td>\n",
       "      <td>27.333333</td>\n",
       "      <td>0</td>\n",
       "      <td>0</td>\n",
       "      <td>0.187500</td>\n",
       "    </tr>\n",
       "    <tr>\n",
       "      <th>11</th>\n",
       "      <td>Google Women's Puffer Vest</td>\n",
       "      <td>219.542025</td>\n",
       "      <td>3</td>\n",
       "      <td>3</td>\n",
       "      <td>73.180675</td>\n",
       "      <td>1.000000</td>\n",
       "      <td>0</td>\n",
       "      <td>0</td>\n",
       "      <td>0.000000</td>\n",
       "    </tr>\n",
       "    <tr>\n",
       "      <th>12</th>\n",
       "      <td>Google Cloud Journal</td>\n",
       "      <td>188.178879</td>\n",
       "      <td>13</td>\n",
       "      <td>13</td>\n",
       "      <td>14.475298</td>\n",
       "      <td>1.000000</td>\n",
       "      <td>0</td>\n",
       "      <td>0</td>\n",
       "      <td>0.000000</td>\n",
       "    </tr>\n",
       "    <tr>\n",
       "      <th>13</th>\n",
       "      <td>Google Black Cloud Zip Hoodie</td>\n",
       "      <td>180.338092</td>\n",
       "      <td>3</td>\n",
       "      <td>3</td>\n",
       "      <td>60.112697</td>\n",
       "      <td>1.000000</td>\n",
       "      <td>0</td>\n",
       "      <td>0</td>\n",
       "      <td>0.000000</td>\n",
       "    </tr>\n",
       "    <tr>\n",
       "      <th>14</th>\n",
       "      <td>Google Cloud Unisex Onyx Zip Hoodie</td>\n",
       "      <td>180.338092</td>\n",
       "      <td>3</td>\n",
       "      <td>3</td>\n",
       "      <td>60.112697</td>\n",
       "      <td>1.000000</td>\n",
       "      <td>0</td>\n",
       "      <td>0</td>\n",
       "      <td>0.000000</td>\n",
       "    </tr>\n",
       "    <tr>\n",
       "      <th>15</th>\n",
       "      <td>Google Crew Socks</td>\n",
       "      <td>167.270114</td>\n",
       "      <td>13</td>\n",
       "      <td>13</td>\n",
       "      <td>12.866932</td>\n",
       "      <td>1.000000</td>\n",
       "      <td>0</td>\n",
       "      <td>0</td>\n",
       "      <td>0.000000</td>\n",
       "    </tr>\n",
       "    <tr>\n",
       "      <th>16</th>\n",
       "      <td>Google Etched Tumbler Sand</td>\n",
       "      <td>167.270114</td>\n",
       "      <td>3</td>\n",
       "      <td>7</td>\n",
       "      <td>23.895731</td>\n",
       "      <td>2.333333</td>\n",
       "      <td>0</td>\n",
       "      <td>0</td>\n",
       "      <td>0.000000</td>\n",
       "    </tr>\n",
       "    <tr>\n",
       "      <th>17</th>\n",
       "      <td>Google Tonal Blue Eco Tee</td>\n",
       "      <td>158.775929</td>\n",
       "      <td>7</td>\n",
       "      <td>7</td>\n",
       "      <td>22.682276</td>\n",
       "      <td>1.000000</td>\n",
       "      <td>0</td>\n",
       "      <td>0</td>\n",
       "      <td>1.000000</td>\n",
       "    </tr>\n",
       "    <tr>\n",
       "      <th>18</th>\n",
       "      <td>Google Vintage Pullover Olive</td>\n",
       "      <td>156.815732</td>\n",
       "      <td>3</td>\n",
       "      <td>3</td>\n",
       "      <td>52.271911</td>\n",
       "      <td>1.000000</td>\n",
       "      <td>0</td>\n",
       "      <td>0</td>\n",
       "      <td>0.000000</td>\n",
       "    </tr>\n",
       "    <tr>\n",
       "      <th>19</th>\n",
       "      <td>Google Badge Heavyweight Pullover Black</td>\n",
       "      <td>151.588541</td>\n",
       "      <td>3</td>\n",
       "      <td>3</td>\n",
       "      <td>50.529514</td>\n",
       "      <td>1.000000</td>\n",
       "      <td>0</td>\n",
       "      <td>0</td>\n",
       "      <td>0.000000</td>\n",
       "    </tr>\n",
       "    <tr>\n",
       "      <th>20</th>\n",
       "      <td>Google Black Cloud Polo</td>\n",
       "      <td>150.281743</td>\n",
       "      <td>3</td>\n",
       "      <td>3</td>\n",
       "      <td>50.093914</td>\n",
       "      <td>1.000000</td>\n",
       "      <td>0</td>\n",
       "      <td>0</td>\n",
       "      <td>0.000000</td>\n",
       "    </tr>\n",
       "    <tr>\n",
       "      <th>21</th>\n",
       "      <td>Google Gray French Terry Zip Hoodie</td>\n",
       "      <td>143.747754</td>\n",
       "      <td>3</td>\n",
       "      <td>3</td>\n",
       "      <td>47.915918</td>\n",
       "      <td>1.000000</td>\n",
       "      <td>0</td>\n",
       "      <td>0</td>\n",
       "      <td>0.000000</td>\n",
       "    </tr>\n",
       "    <tr>\n",
       "      <th>22</th>\n",
       "      <td>Google Navy French Terry Zip Hoodie</td>\n",
       "      <td>143.747754</td>\n",
       "      <td>3</td>\n",
       "      <td>3</td>\n",
       "      <td>47.915918</td>\n",
       "      <td>1.000000</td>\n",
       "      <td>0</td>\n",
       "      <td>0</td>\n",
       "      <td>0.065217</td>\n",
       "    </tr>\n",
       "    <tr>\n",
       "      <th>23</th>\n",
       "      <td>Google Perk Thermal Tumbler</td>\n",
       "      <td>128.066181</td>\n",
       "      <td>7</td>\n",
       "      <td>7</td>\n",
       "      <td>18.295169</td>\n",
       "      <td>1.000000</td>\n",
       "      <td>0</td>\n",
       "      <td>0</td>\n",
       "      <td>1.000000</td>\n",
       "    </tr>\n",
       "    <tr>\n",
       "      <th>24</th>\n",
       "      <td>Google Navy Polo</td>\n",
       "      <td>125.452586</td>\n",
       "      <td>3</td>\n",
       "      <td>3</td>\n",
       "      <td>41.817529</td>\n",
       "      <td>1.000000</td>\n",
       "      <td>0</td>\n",
       "      <td>0</td>\n",
       "      <td>1.000000</td>\n",
       "    </tr>\n",
       "    <tr>\n",
       "      <th>25</th>\n",
       "      <td>Google TYCTWD Blue Tee</td>\n",
       "      <td>111.077810</td>\n",
       "      <td>3</td>\n",
       "      <td>7</td>\n",
       "      <td>15.868259</td>\n",
       "      <td>2.333333</td>\n",
       "      <td>0</td>\n",
       "      <td>0</td>\n",
       "      <td>0.000000</td>\n",
       "    </tr>\n",
       "    <tr>\n",
       "      <th>26</th>\n",
       "      <td>Google Unisex 3/4 Raglan Red</td>\n",
       "      <td>109.771012</td>\n",
       "      <td>7</td>\n",
       "      <td>7</td>\n",
       "      <td>15.681573</td>\n",
       "      <td>1.000000</td>\n",
       "      <td>0</td>\n",
       "      <td>0</td>\n",
       "      <td>0.000000</td>\n",
       "    </tr>\n",
       "    <tr>\n",
       "      <th>27</th>\n",
       "      <td>Google Campus Bike</td>\n",
       "      <td>104.543821</td>\n",
       "      <td>3</td>\n",
       "      <td>3</td>\n",
       "      <td>34.847940</td>\n",
       "      <td>1.000000</td>\n",
       "      <td>0</td>\n",
       "      <td>0</td>\n",
       "      <td>0.115385</td>\n",
       "    </tr>\n",
       "    <tr>\n",
       "      <th>28</th>\n",
       "      <td>Google Youth F/C Pullover Hoodie</td>\n",
       "      <td>104.543821</td>\n",
       "      <td>3</td>\n",
       "      <td>3</td>\n",
       "      <td>34.847940</td>\n",
       "      <td>1.000000</td>\n",
       "      <td>0</td>\n",
       "      <td>0</td>\n",
       "      <td>0.230769</td>\n",
       "    </tr>\n",
       "    <tr>\n",
       "      <th>29</th>\n",
       "      <td>Google Large Tote White</td>\n",
       "      <td>101.930226</td>\n",
       "      <td>3</td>\n",
       "      <td>10</td>\n",
       "      <td>10.193023</td>\n",
       "      <td>3.333333</td>\n",
       "      <td>0</td>\n",
       "      <td>0</td>\n",
       "      <td>1.000000</td>\n",
       "    </tr>\n",
       "    <tr>\n",
       "      <th>30</th>\n",
       "      <td>Google Bike Food Container</td>\n",
       "      <td>99.316630</td>\n",
       "      <td>3</td>\n",
       "      <td>3</td>\n",
       "      <td>33.105543</td>\n",
       "      <td>1.000000</td>\n",
       "      <td>0</td>\n",
       "      <td>0</td>\n",
       "      <td>0.000000</td>\n",
       "    </tr>\n",
       "    <tr>\n",
       "      <th>31</th>\n",
       "      <td>Super G Unisex Joggers</td>\n",
       "      <td>96.703035</td>\n",
       "      <td>3</td>\n",
       "      <td>3</td>\n",
       "      <td>32.234345</td>\n",
       "      <td>1.000000</td>\n",
       "      <td>0</td>\n",
       "      <td>0</td>\n",
       "      <td>0.000000</td>\n",
       "    </tr>\n",
       "    <tr>\n",
       "      <th>32</th>\n",
       "      <td>Google Vintage Navy Tee</td>\n",
       "      <td>88.208849</td>\n",
       "      <td>3</td>\n",
       "      <td>3</td>\n",
       "      <td>29.402950</td>\n",
       "      <td>1.000000</td>\n",
       "      <td>0</td>\n",
       "      <td>0</td>\n",
       "      <td>0.428571</td>\n",
       "    </tr>\n",
       "    <tr>\n",
       "      <th>33</th>\n",
       "      <td>Google Toddler Hero Tee Black</td>\n",
       "      <td>87.816810</td>\n",
       "      <td>7</td>\n",
       "      <td>7</td>\n",
       "      <td>12.545259</td>\n",
       "      <td>1.000000</td>\n",
       "      <td>0</td>\n",
       "      <td>0</td>\n",
       "      <td>2.333333</td>\n",
       "    </tr>\n",
       "    <tr>\n",
       "      <th>34</th>\n",
       "      <td>Android Large Trace Journal Black</td>\n",
       "      <td>83.635057</td>\n",
       "      <td>3</td>\n",
       "      <td>13</td>\n",
       "      <td>6.433466</td>\n",
       "      <td>4.333333</td>\n",
       "      <td>0</td>\n",
       "      <td>0</td>\n",
       "      <td>0.000000</td>\n",
       "    </tr>\n",
       "    <tr>\n",
       "      <th>35</th>\n",
       "      <td>Google Blue Stojo Cup</td>\n",
       "      <td>81.674860</td>\n",
       "      <td>3</td>\n",
       "      <td>3</td>\n",
       "      <td>27.224953</td>\n",
       "      <td>1.000000</td>\n",
       "      <td>0</td>\n",
       "      <td>0</td>\n",
       "      <td>0.000000</td>\n",
       "    </tr>\n",
       "    <tr>\n",
       "      <th>36</th>\n",
       "      <td>Google Felt Luggage Tag</td>\n",
       "      <td>80.498742</td>\n",
       "      <td>13</td>\n",
       "      <td>13</td>\n",
       "      <td>6.192211</td>\n",
       "      <td>1.000000</td>\n",
       "      <td>0</td>\n",
       "      <td>0</td>\n",
       "      <td>0.000000</td>\n",
       "    </tr>\n",
       "    <tr>\n",
       "      <th>37</th>\n",
       "      <td>Chrome Dino Dark Mode Collectible</td>\n",
       "      <td>78.407866</td>\n",
       "      <td>3</td>\n",
       "      <td>3</td>\n",
       "      <td>26.135955</td>\n",
       "      <td>1.000000</td>\n",
       "      <td>0</td>\n",
       "      <td>0</td>\n",
       "      <td>0.130435</td>\n",
       "    </tr>\n",
       "    <tr>\n",
       "      <th>38</th>\n",
       "      <td>Google Campus Puzzle</td>\n",
       "      <td>78.407866</td>\n",
       "      <td>3</td>\n",
       "      <td>3</td>\n",
       "      <td>26.135955</td>\n",
       "      <td>1.000000</td>\n",
       "      <td>0</td>\n",
       "      <td>0</td>\n",
       "      <td>0.000000</td>\n",
       "    </tr>\n",
       "    <tr>\n",
       "      <th>39</th>\n",
       "      <td>Google Camp Mug Ivory</td>\n",
       "      <td>76.447669</td>\n",
       "      <td>7</td>\n",
       "      <td>7</td>\n",
       "      <td>10.921096</td>\n",
       "      <td>1.000000</td>\n",
       "      <td>0</td>\n",
       "      <td>0</td>\n",
       "      <td>0.350000</td>\n",
       "    </tr>\n",
       "    <tr>\n",
       "      <th>40</th>\n",
       "      <td>Google Campus Bike Bottle</td>\n",
       "      <td>70.567079</td>\n",
       "      <td>3</td>\n",
       "      <td>3</td>\n",
       "      <td>23.522360</td>\n",
       "      <td>1.000000</td>\n",
       "      <td>0</td>\n",
       "      <td>0</td>\n",
       "      <td>1.000000</td>\n",
       "    </tr>\n",
       "    <tr>\n",
       "      <th>41</th>\n",
       "      <td>Google Sea Glass Bottle</td>\n",
       "      <td>70.567079</td>\n",
       "      <td>3</td>\n",
       "      <td>3</td>\n",
       "      <td>23.522360</td>\n",
       "      <td>1.000000</td>\n",
       "      <td>0</td>\n",
       "      <td>0</td>\n",
       "      <td>1.000000</td>\n",
       "    </tr>\n",
       "    <tr>\n",
       "      <th>42</th>\n",
       "      <td>Google Unisex V-neck Tee</td>\n",
       "      <td>70.567079</td>\n",
       "      <td>3</td>\n",
       "      <td>3</td>\n",
       "      <td>23.522360</td>\n",
       "      <td>1.000000</td>\n",
       "      <td>0</td>\n",
       "      <td>0</td>\n",
       "      <td>0.428571</td>\n",
       "    </tr>\n",
       "    <tr>\n",
       "      <th>43</th>\n",
       "      <td>Google Green Corkbase Mug</td>\n",
       "      <td>67.953484</td>\n",
       "      <td>3</td>\n",
       "      <td>3</td>\n",
       "      <td>22.651161</td>\n",
       "      <td>1.000000</td>\n",
       "      <td>0</td>\n",
       "      <td>0</td>\n",
       "      <td>0.000000</td>\n",
       "    </tr>\n",
       "    <tr>\n",
       "      <th>44</th>\n",
       "      <td>YouTube Twill Sandwich Cap Black</td>\n",
       "      <td>67.953484</td>\n",
       "      <td>3</td>\n",
       "      <td>7</td>\n",
       "      <td>9.707641</td>\n",
       "      <td>2.333333</td>\n",
       "      <td>0</td>\n",
       "      <td>0</td>\n",
       "      <td>0.230769</td>\n",
       "    </tr>\n",
       "    <tr>\n",
       "      <th>45</th>\n",
       "      <td>Google Bear Baby Blanket Beige</td>\n",
       "      <td>65.339888</td>\n",
       "      <td>3</td>\n",
       "      <td>3</td>\n",
       "      <td>21.779963</td>\n",
       "      <td>1.000000</td>\n",
       "      <td>0</td>\n",
       "      <td>0</td>\n",
       "      <td>0.300000</td>\n",
       "    </tr>\n",
       "    <tr>\n",
       "      <th>46</th>\n",
       "      <td>Google Canteen Bottle Black</td>\n",
       "      <td>62.726293</td>\n",
       "      <td>3</td>\n",
       "      <td>3</td>\n",
       "      <td>20.908764</td>\n",
       "      <td>1.000000</td>\n",
       "      <td>0</td>\n",
       "      <td>0</td>\n",
       "      <td>0.300000</td>\n",
       "    </tr>\n",
       "    <tr>\n",
       "      <th>47</th>\n",
       "      <td>Google Classic White Onesie</td>\n",
       "      <td>62.726293</td>\n",
       "      <td>3</td>\n",
       "      <td>3</td>\n",
       "      <td>20.908764</td>\n",
       "      <td>1.000000</td>\n",
       "      <td>0</td>\n",
       "      <td>0</td>\n",
       "      <td>0.000000</td>\n",
       "    </tr>\n",
       "    <tr>\n",
       "      <th>48</th>\n",
       "      <td>Google Speckled Mug</td>\n",
       "      <td>62.726293</td>\n",
       "      <td>7</td>\n",
       "      <td>7</td>\n",
       "      <td>8.960899</td>\n",
       "      <td>1.000000</td>\n",
       "      <td>0</td>\n",
       "      <td>0</td>\n",
       "      <td>0.000000</td>\n",
       "    </tr>\n",
       "    <tr>\n",
       "      <th>49</th>\n",
       "      <td>Google Bike Socks</td>\n",
       "      <td>58.805900</td>\n",
       "      <td>3</td>\n",
       "      <td>3</td>\n",
       "      <td>19.601967</td>\n",
       "      <td>1.000000</td>\n",
       "      <td>0</td>\n",
       "      <td>0</td>\n",
       "      <td>0.000000</td>\n",
       "    </tr>\n",
       "    <tr>\n",
       "      <th>50</th>\n",
       "      <td>NaN</td>\n",
       "      <td>9527.274454</td>\n",
       "      <td>387</td>\n",
       "      <td>547</td>\n",
       "      <td>17.417321</td>\n",
       "      <td>1.413437</td>\n",
       "      <td>0</td>\n",
       "      <td>0</td>\n",
       "      <td>0.204870</td>\n",
       "    </tr>\n",
       "  </tbody>\n",
       "</table>\n",
       "</div>"
      ],
      "text/plain": [
       "                                    Product  Product Revenue  \\\n",
       "0          Google Camp Fleece Snap Pullover       961.803157   \n",
       "1    Google Land & Sea Nalgene Water Bottle       490.049163   \n",
       "2                       Google Knit Blanket       459.992814   \n",
       "3                  YouTube Black Zip Hoodie       360.676184   \n",
       "4              Google Women's Eco Tee Black       297.949891   \n",
       "5         Google Ultralight Gray Sweatshirt       261.359553   \n",
       "6           Google Women's Essential Jacket       256.132362   \n",
       "7                 Google F/C Longsleeve Ash       235.223598   \n",
       "8          Google Charcoal Unisex Badge Tee       233.263401   \n",
       "9         Google Ladies Expedition Half Zip       229.996407   \n",
       "10                        Google Sunglasses       228.689609   \n",
       "11               Google Women's Puffer Vest       219.542025   \n",
       "12                     Google Cloud Journal       188.178879   \n",
       "13            Google Black Cloud Zip Hoodie       180.338092   \n",
       "14      Google Cloud Unisex Onyx Zip Hoodie       180.338092   \n",
       "15                        Google Crew Socks       167.270114   \n",
       "16               Google Etched Tumbler Sand       167.270114   \n",
       "17                Google Tonal Blue Eco Tee       158.775929   \n",
       "18            Google Vintage Pullover Olive       156.815732   \n",
       "19  Google Badge Heavyweight Pullover Black       151.588541   \n",
       "20                  Google Black Cloud Polo       150.281743   \n",
       "21      Google Gray French Terry Zip Hoodie       143.747754   \n",
       "22      Google Navy French Terry Zip Hoodie       143.747754   \n",
       "23              Google Perk Thermal Tumbler       128.066181   \n",
       "24                         Google Navy Polo       125.452586   \n",
       "25                   Google TYCTWD Blue Tee       111.077810   \n",
       "26             Google Unisex 3/4 Raglan Red       109.771012   \n",
       "27                       Google Campus Bike       104.543821   \n",
       "28         Google Youth F/C Pullover Hoodie       104.543821   \n",
       "29                  Google Large Tote White       101.930226   \n",
       "30               Google Bike Food Container        99.316630   \n",
       "31                   Super G Unisex Joggers        96.703035   \n",
       "32                  Google Vintage Navy Tee        88.208849   \n",
       "33            Google Toddler Hero Tee Black        87.816810   \n",
       "34        Android Large Trace Journal Black        83.635057   \n",
       "35                    Google Blue Stojo Cup        81.674860   \n",
       "36                  Google Felt Luggage Tag        80.498742   \n",
       "37        Chrome Dino Dark Mode Collectible        78.407866   \n",
       "38                     Google Campus Puzzle        78.407866   \n",
       "39                    Google Camp Mug Ivory        76.447669   \n",
       "40                Google Campus Bike Bottle        70.567079   \n",
       "41                  Google Sea Glass Bottle        70.567079   \n",
       "42                 Google Unisex V-neck Tee        70.567079   \n",
       "43                Google Green Corkbase Mug        67.953484   \n",
       "44         YouTube Twill Sandwich Cap Black        67.953484   \n",
       "45           Google Bear Baby Blanket Beige        65.339888   \n",
       "46              Google Canteen Bottle Black        62.726293   \n",
       "47              Google Classic White Onesie        62.726293   \n",
       "48                      Google Speckled Mug        62.726293   \n",
       "49                        Google Bike Socks        58.805900   \n",
       "50                                      NaN      9527.274454   \n",
       "\n",
       "    Unique Purchases  Quantity  Avg. Price   Avg. QTY  Product Refund Amount  \\\n",
       "0                 13        13   73.984858   1.000000                      0   \n",
       "1                  3        20   24.502458   6.666667                      0   \n",
       "2                  3         7   65.713259   2.333333                      0   \n",
       "3                  7         7   51.525169   1.000000                      0   \n",
       "4                 10        16   18.621868   1.600000                      0   \n",
       "5                  7         7   37.337079   1.000000                      0   \n",
       "6                  3         3   85.377454   1.000000                      0   \n",
       "7                 10        10   23.522360   1.000000                      0   \n",
       "8                 10        13   17.943339   1.300000                      0   \n",
       "9                  3         3   76.665469   1.000000                      0   \n",
       "10                 3        82    2.788898  27.333333                      0   \n",
       "11                 3         3   73.180675   1.000000                      0   \n",
       "12                13        13   14.475298   1.000000                      0   \n",
       "13                 3         3   60.112697   1.000000                      0   \n",
       "14                 3         3   60.112697   1.000000                      0   \n",
       "15                13        13   12.866932   1.000000                      0   \n",
       "16                 3         7   23.895731   2.333333                      0   \n",
       "17                 7         7   22.682276   1.000000                      0   \n",
       "18                 3         3   52.271911   1.000000                      0   \n",
       "19                 3         3   50.529514   1.000000                      0   \n",
       "20                 3         3   50.093914   1.000000                      0   \n",
       "21                 3         3   47.915918   1.000000                      0   \n",
       "22                 3         3   47.915918   1.000000                      0   \n",
       "23                 7         7   18.295169   1.000000                      0   \n",
       "24                 3         3   41.817529   1.000000                      0   \n",
       "25                 3         7   15.868259   2.333333                      0   \n",
       "26                 7         7   15.681573   1.000000                      0   \n",
       "27                 3         3   34.847940   1.000000                      0   \n",
       "28                 3         3   34.847940   1.000000                      0   \n",
       "29                 3        10   10.193023   3.333333                      0   \n",
       "30                 3         3   33.105543   1.000000                      0   \n",
       "31                 3         3   32.234345   1.000000                      0   \n",
       "32                 3         3   29.402950   1.000000                      0   \n",
       "33                 7         7   12.545259   1.000000                      0   \n",
       "34                 3        13    6.433466   4.333333                      0   \n",
       "35                 3         3   27.224953   1.000000                      0   \n",
       "36                13        13    6.192211   1.000000                      0   \n",
       "37                 3         3   26.135955   1.000000                      0   \n",
       "38                 3         3   26.135955   1.000000                      0   \n",
       "39                 7         7   10.921096   1.000000                      0   \n",
       "40                 3         3   23.522360   1.000000                      0   \n",
       "41                 3         3   23.522360   1.000000                      0   \n",
       "42                 3         3   23.522360   1.000000                      0   \n",
       "43                 3         3   22.651161   1.000000                      0   \n",
       "44                 3         7    9.707641   2.333333                      0   \n",
       "45                 3         3   21.779963   1.000000                      0   \n",
       "46                 3         3   20.908764   1.000000                      0   \n",
       "47                 3         3   20.908764   1.000000                      0   \n",
       "48                 7         7    8.960899   1.000000                      0   \n",
       "49                 3         3   19.601967   1.000000                      0   \n",
       "50               387       547   17.417321   1.413437                      0   \n",
       "\n",
       "    Cart-to-Detail Rate  Buy-to-Detail Rate  \n",
       "0                     0            0.000000  \n",
       "1                     0            0.428571  \n",
       "2                     0            0.300000  \n",
       "3                     0            0.000000  \n",
       "4                     0            3.333333  \n",
       "5                     0            0.000000  \n",
       "6                     0            0.000000  \n",
       "7                     0            0.000000  \n",
       "8                     0            1.428571  \n",
       "9                     0            0.000000  \n",
       "10                    0            0.187500  \n",
       "11                    0            0.000000  \n",
       "12                    0            0.000000  \n",
       "13                    0            0.000000  \n",
       "14                    0            0.000000  \n",
       "15                    0            0.000000  \n",
       "16                    0            0.000000  \n",
       "17                    0            1.000000  \n",
       "18                    0            0.000000  \n",
       "19                    0            0.000000  \n",
       "20                    0            0.000000  \n",
       "21                    0            0.000000  \n",
       "22                    0            0.065217  \n",
       "23                    0            1.000000  \n",
       "24                    0            1.000000  \n",
       "25                    0            0.000000  \n",
       "26                    0            0.000000  \n",
       "27                    0            0.115385  \n",
       "28                    0            0.230769  \n",
       "29                    0            1.000000  \n",
       "30                    0            0.000000  \n",
       "31                    0            0.000000  \n",
       "32                    0            0.428571  \n",
       "33                    0            2.333333  \n",
       "34                    0            0.000000  \n",
       "35                    0            0.000000  \n",
       "36                    0            0.000000  \n",
       "37                    0            0.130435  \n",
       "38                    0            0.000000  \n",
       "39                    0            0.350000  \n",
       "40                    0            1.000000  \n",
       "41                    0            1.000000  \n",
       "42                    0            0.428571  \n",
       "43                    0            0.000000  \n",
       "44                    0            0.230769  \n",
       "45                    0            0.300000  \n",
       "46                    0            0.300000  \n",
       "47                    0            0.000000  \n",
       "48                    0            0.000000  \n",
       "49                    0            0.000000  \n",
       "50                    0            0.204870  "
      ]
     },
     "execution_count": 16,
     "metadata": {},
     "output_type": "execute_result"
    }
   ],
   "source": [
    "df2"
   ]
  },
  {
   "cell_type": "code",
   "execution_count": 17,
   "id": "aacbada2",
   "metadata": {},
   "outputs": [
    {
     "data": {
      "text/html": [
       "<div>\n",
       "<style scoped>\n",
       "    .dataframe tbody tr th:only-of-type {\n",
       "        vertical-align: middle;\n",
       "    }\n",
       "\n",
       "    .dataframe tbody tr th {\n",
       "        vertical-align: top;\n",
       "    }\n",
       "\n",
       "    .dataframe thead th {\n",
       "        text-align: right;\n",
       "    }\n",
       "</style>\n",
       "<table border=\"1\" class=\"dataframe\">\n",
       "  <thead>\n",
       "    <tr style=\"text-align: right;\">\n",
       "      <th></th>\n",
       "      <th>Product</th>\n",
       "      <th>Product Revenue</th>\n",
       "      <th>Unique Purchases</th>\n",
       "      <th>Quantity</th>\n",
       "      <th>Avg. Price</th>\n",
       "      <th>Avg. QTY</th>\n",
       "      <th>Product Refund Amount</th>\n",
       "      <th>Cart-to-Detail Rate</th>\n",
       "      <th>Buy-to-Detail Rate</th>\n",
       "    </tr>\n",
       "  </thead>\n",
       "  <tbody>\n",
       "    <tr>\n",
       "      <th>0</th>\n",
       "      <td>Google Camp Fleece Snap Pullover</td>\n",
       "      <td>961.803157</td>\n",
       "      <td>13</td>\n",
       "      <td>13</td>\n",
       "      <td>73.984858</td>\n",
       "      <td>1.000000</td>\n",
       "      <td>0</td>\n",
       "      <td>0</td>\n",
       "      <td>0.000000</td>\n",
       "    </tr>\n",
       "    <tr>\n",
       "      <th>1</th>\n",
       "      <td>Google Land &amp; Sea Nalgene Water Bottle</td>\n",
       "      <td>490.049163</td>\n",
       "      <td>3</td>\n",
       "      <td>20</td>\n",
       "      <td>24.502458</td>\n",
       "      <td>6.666667</td>\n",
       "      <td>0</td>\n",
       "      <td>0</td>\n",
       "      <td>0.428571</td>\n",
       "    </tr>\n",
       "    <tr>\n",
       "      <th>2</th>\n",
       "      <td>Google Knit Blanket</td>\n",
       "      <td>459.992814</td>\n",
       "      <td>3</td>\n",
       "      <td>7</td>\n",
       "      <td>65.713259</td>\n",
       "      <td>2.333333</td>\n",
       "      <td>0</td>\n",
       "      <td>0</td>\n",
       "      <td>0.300000</td>\n",
       "    </tr>\n",
       "    <tr>\n",
       "      <th>3</th>\n",
       "      <td>YouTube Black Zip Hoodie</td>\n",
       "      <td>360.676184</td>\n",
       "      <td>7</td>\n",
       "      <td>7</td>\n",
       "      <td>51.525169</td>\n",
       "      <td>1.000000</td>\n",
       "      <td>0</td>\n",
       "      <td>0</td>\n",
       "      <td>0.000000</td>\n",
       "    </tr>\n",
       "    <tr>\n",
       "      <th>4</th>\n",
       "      <td>Google Women's Eco Tee Black</td>\n",
       "      <td>297.949891</td>\n",
       "      <td>10</td>\n",
       "      <td>16</td>\n",
       "      <td>18.621868</td>\n",
       "      <td>1.600000</td>\n",
       "      <td>0</td>\n",
       "      <td>0</td>\n",
       "      <td>3.333333</td>\n",
       "    </tr>\n",
       "    <tr>\n",
       "      <th>5</th>\n",
       "      <td>Google Ultralight Gray Sweatshirt</td>\n",
       "      <td>261.359553</td>\n",
       "      <td>7</td>\n",
       "      <td>7</td>\n",
       "      <td>37.337079</td>\n",
       "      <td>1.000000</td>\n",
       "      <td>0</td>\n",
       "      <td>0</td>\n",
       "      <td>0.000000</td>\n",
       "    </tr>\n",
       "    <tr>\n",
       "      <th>6</th>\n",
       "      <td>Google Women's Essential Jacket</td>\n",
       "      <td>256.132362</td>\n",
       "      <td>3</td>\n",
       "      <td>3</td>\n",
       "      <td>85.377454</td>\n",
       "      <td>1.000000</td>\n",
       "      <td>0</td>\n",
       "      <td>0</td>\n",
       "      <td>0.000000</td>\n",
       "    </tr>\n",
       "    <tr>\n",
       "      <th>7</th>\n",
       "      <td>Google F/C Longsleeve Ash</td>\n",
       "      <td>235.223598</td>\n",
       "      <td>10</td>\n",
       "      <td>10</td>\n",
       "      <td>23.522360</td>\n",
       "      <td>1.000000</td>\n",
       "      <td>0</td>\n",
       "      <td>0</td>\n",
       "      <td>0.000000</td>\n",
       "    </tr>\n",
       "    <tr>\n",
       "      <th>8</th>\n",
       "      <td>Google Charcoal Unisex Badge Tee</td>\n",
       "      <td>233.263401</td>\n",
       "      <td>10</td>\n",
       "      <td>13</td>\n",
       "      <td>17.943339</td>\n",
       "      <td>1.300000</td>\n",
       "      <td>0</td>\n",
       "      <td>0</td>\n",
       "      <td>1.428571</td>\n",
       "    </tr>\n",
       "    <tr>\n",
       "      <th>9</th>\n",
       "      <td>Google Ladies Expedition Half Zip</td>\n",
       "      <td>229.996407</td>\n",
       "      <td>3</td>\n",
       "      <td>3</td>\n",
       "      <td>76.665469</td>\n",
       "      <td>1.000000</td>\n",
       "      <td>0</td>\n",
       "      <td>0</td>\n",
       "      <td>0.000000</td>\n",
       "    </tr>\n",
       "    <tr>\n",
       "      <th>10</th>\n",
       "      <td>Google Sunglasses</td>\n",
       "      <td>228.689609</td>\n",
       "      <td>3</td>\n",
       "      <td>82</td>\n",
       "      <td>2.788898</td>\n",
       "      <td>27.333333</td>\n",
       "      <td>0</td>\n",
       "      <td>0</td>\n",
       "      <td>0.187500</td>\n",
       "    </tr>\n",
       "    <tr>\n",
       "      <th>11</th>\n",
       "      <td>Google Women's Puffer Vest</td>\n",
       "      <td>219.542025</td>\n",
       "      <td>3</td>\n",
       "      <td>3</td>\n",
       "      <td>73.180675</td>\n",
       "      <td>1.000000</td>\n",
       "      <td>0</td>\n",
       "      <td>0</td>\n",
       "      <td>0.000000</td>\n",
       "    </tr>\n",
       "    <tr>\n",
       "      <th>12</th>\n",
       "      <td>Google Cloud Journal</td>\n",
       "      <td>188.178879</td>\n",
       "      <td>13</td>\n",
       "      <td>13</td>\n",
       "      <td>14.475298</td>\n",
       "      <td>1.000000</td>\n",
       "      <td>0</td>\n",
       "      <td>0</td>\n",
       "      <td>0.000000</td>\n",
       "    </tr>\n",
       "    <tr>\n",
       "      <th>13</th>\n",
       "      <td>Google Black Cloud Zip Hoodie</td>\n",
       "      <td>180.338092</td>\n",
       "      <td>3</td>\n",
       "      <td>3</td>\n",
       "      <td>60.112697</td>\n",
       "      <td>1.000000</td>\n",
       "      <td>0</td>\n",
       "      <td>0</td>\n",
       "      <td>0.000000</td>\n",
       "    </tr>\n",
       "    <tr>\n",
       "      <th>14</th>\n",
       "      <td>Google Cloud Unisex Onyx Zip Hoodie</td>\n",
       "      <td>180.338092</td>\n",
       "      <td>3</td>\n",
       "      <td>3</td>\n",
       "      <td>60.112697</td>\n",
       "      <td>1.000000</td>\n",
       "      <td>0</td>\n",
       "      <td>0</td>\n",
       "      <td>0.000000</td>\n",
       "    </tr>\n",
       "    <tr>\n",
       "      <th>15</th>\n",
       "      <td>Google Crew Socks</td>\n",
       "      <td>167.270114</td>\n",
       "      <td>13</td>\n",
       "      <td>13</td>\n",
       "      <td>12.866932</td>\n",
       "      <td>1.000000</td>\n",
       "      <td>0</td>\n",
       "      <td>0</td>\n",
       "      <td>0.000000</td>\n",
       "    </tr>\n",
       "    <tr>\n",
       "      <th>16</th>\n",
       "      <td>Google Etched Tumbler Sand</td>\n",
       "      <td>167.270114</td>\n",
       "      <td>3</td>\n",
       "      <td>7</td>\n",
       "      <td>23.895731</td>\n",
       "      <td>2.333333</td>\n",
       "      <td>0</td>\n",
       "      <td>0</td>\n",
       "      <td>0.000000</td>\n",
       "    </tr>\n",
       "    <tr>\n",
       "      <th>17</th>\n",
       "      <td>Google Tonal Blue Eco Tee</td>\n",
       "      <td>158.775929</td>\n",
       "      <td>7</td>\n",
       "      <td>7</td>\n",
       "      <td>22.682276</td>\n",
       "      <td>1.000000</td>\n",
       "      <td>0</td>\n",
       "      <td>0</td>\n",
       "      <td>1.000000</td>\n",
       "    </tr>\n",
       "    <tr>\n",
       "      <th>18</th>\n",
       "      <td>Google Vintage Pullover Olive</td>\n",
       "      <td>156.815732</td>\n",
       "      <td>3</td>\n",
       "      <td>3</td>\n",
       "      <td>52.271911</td>\n",
       "      <td>1.000000</td>\n",
       "      <td>0</td>\n",
       "      <td>0</td>\n",
       "      <td>0.000000</td>\n",
       "    </tr>\n",
       "    <tr>\n",
       "      <th>19</th>\n",
       "      <td>Google Badge Heavyweight Pullover Black</td>\n",
       "      <td>151.588541</td>\n",
       "      <td>3</td>\n",
       "      <td>3</td>\n",
       "      <td>50.529514</td>\n",
       "      <td>1.000000</td>\n",
       "      <td>0</td>\n",
       "      <td>0</td>\n",
       "      <td>0.000000</td>\n",
       "    </tr>\n",
       "    <tr>\n",
       "      <th>20</th>\n",
       "      <td>Google Black Cloud Polo</td>\n",
       "      <td>150.281743</td>\n",
       "      <td>3</td>\n",
       "      <td>3</td>\n",
       "      <td>50.093914</td>\n",
       "      <td>1.000000</td>\n",
       "      <td>0</td>\n",
       "      <td>0</td>\n",
       "      <td>0.000000</td>\n",
       "    </tr>\n",
       "    <tr>\n",
       "      <th>21</th>\n",
       "      <td>Google Gray French Terry Zip Hoodie</td>\n",
       "      <td>143.747754</td>\n",
       "      <td>3</td>\n",
       "      <td>3</td>\n",
       "      <td>47.915918</td>\n",
       "      <td>1.000000</td>\n",
       "      <td>0</td>\n",
       "      <td>0</td>\n",
       "      <td>0.000000</td>\n",
       "    </tr>\n",
       "    <tr>\n",
       "      <th>22</th>\n",
       "      <td>Google Navy French Terry Zip Hoodie</td>\n",
       "      <td>143.747754</td>\n",
       "      <td>3</td>\n",
       "      <td>3</td>\n",
       "      <td>47.915918</td>\n",
       "      <td>1.000000</td>\n",
       "      <td>0</td>\n",
       "      <td>0</td>\n",
       "      <td>0.065217</td>\n",
       "    </tr>\n",
       "    <tr>\n",
       "      <th>23</th>\n",
       "      <td>Google Perk Thermal Tumbler</td>\n",
       "      <td>128.066181</td>\n",
       "      <td>7</td>\n",
       "      <td>7</td>\n",
       "      <td>18.295169</td>\n",
       "      <td>1.000000</td>\n",
       "      <td>0</td>\n",
       "      <td>0</td>\n",
       "      <td>1.000000</td>\n",
       "    </tr>\n",
       "    <tr>\n",
       "      <th>24</th>\n",
       "      <td>Google Navy Polo</td>\n",
       "      <td>125.452586</td>\n",
       "      <td>3</td>\n",
       "      <td>3</td>\n",
       "      <td>41.817529</td>\n",
       "      <td>1.000000</td>\n",
       "      <td>0</td>\n",
       "      <td>0</td>\n",
       "      <td>1.000000</td>\n",
       "    </tr>\n",
       "    <tr>\n",
       "      <th>25</th>\n",
       "      <td>Google TYCTWD Blue Tee</td>\n",
       "      <td>111.077810</td>\n",
       "      <td>3</td>\n",
       "      <td>7</td>\n",
       "      <td>15.868259</td>\n",
       "      <td>2.333333</td>\n",
       "      <td>0</td>\n",
       "      <td>0</td>\n",
       "      <td>0.000000</td>\n",
       "    </tr>\n",
       "    <tr>\n",
       "      <th>26</th>\n",
       "      <td>Google Unisex 3/4 Raglan Red</td>\n",
       "      <td>109.771012</td>\n",
       "      <td>7</td>\n",
       "      <td>7</td>\n",
       "      <td>15.681573</td>\n",
       "      <td>1.000000</td>\n",
       "      <td>0</td>\n",
       "      <td>0</td>\n",
       "      <td>0.000000</td>\n",
       "    </tr>\n",
       "    <tr>\n",
       "      <th>27</th>\n",
       "      <td>Google Campus Bike</td>\n",
       "      <td>104.543821</td>\n",
       "      <td>3</td>\n",
       "      <td>3</td>\n",
       "      <td>34.847940</td>\n",
       "      <td>1.000000</td>\n",
       "      <td>0</td>\n",
       "      <td>0</td>\n",
       "      <td>0.115385</td>\n",
       "    </tr>\n",
       "    <tr>\n",
       "      <th>28</th>\n",
       "      <td>Google Youth F/C Pullover Hoodie</td>\n",
       "      <td>104.543821</td>\n",
       "      <td>3</td>\n",
       "      <td>3</td>\n",
       "      <td>34.847940</td>\n",
       "      <td>1.000000</td>\n",
       "      <td>0</td>\n",
       "      <td>0</td>\n",
       "      <td>0.230769</td>\n",
       "    </tr>\n",
       "    <tr>\n",
       "      <th>29</th>\n",
       "      <td>Google Large Tote White</td>\n",
       "      <td>101.930226</td>\n",
       "      <td>3</td>\n",
       "      <td>10</td>\n",
       "      <td>10.193023</td>\n",
       "      <td>3.333333</td>\n",
       "      <td>0</td>\n",
       "      <td>0</td>\n",
       "      <td>1.000000</td>\n",
       "    </tr>\n",
       "    <tr>\n",
       "      <th>30</th>\n",
       "      <td>Google Bike Food Container</td>\n",
       "      <td>99.316630</td>\n",
       "      <td>3</td>\n",
       "      <td>3</td>\n",
       "      <td>33.105543</td>\n",
       "      <td>1.000000</td>\n",
       "      <td>0</td>\n",
       "      <td>0</td>\n",
       "      <td>0.000000</td>\n",
       "    </tr>\n",
       "    <tr>\n",
       "      <th>31</th>\n",
       "      <td>Super G Unisex Joggers</td>\n",
       "      <td>96.703035</td>\n",
       "      <td>3</td>\n",
       "      <td>3</td>\n",
       "      <td>32.234345</td>\n",
       "      <td>1.000000</td>\n",
       "      <td>0</td>\n",
       "      <td>0</td>\n",
       "      <td>0.000000</td>\n",
       "    </tr>\n",
       "    <tr>\n",
       "      <th>32</th>\n",
       "      <td>Google Vintage Navy Tee</td>\n",
       "      <td>88.208849</td>\n",
       "      <td>3</td>\n",
       "      <td>3</td>\n",
       "      <td>29.402950</td>\n",
       "      <td>1.000000</td>\n",
       "      <td>0</td>\n",
       "      <td>0</td>\n",
       "      <td>0.428571</td>\n",
       "    </tr>\n",
       "    <tr>\n",
       "      <th>33</th>\n",
       "      <td>Google Toddler Hero Tee Black</td>\n",
       "      <td>87.816810</td>\n",
       "      <td>7</td>\n",
       "      <td>7</td>\n",
       "      <td>12.545259</td>\n",
       "      <td>1.000000</td>\n",
       "      <td>0</td>\n",
       "      <td>0</td>\n",
       "      <td>2.333333</td>\n",
       "    </tr>\n",
       "    <tr>\n",
       "      <th>34</th>\n",
       "      <td>Android Large Trace Journal Black</td>\n",
       "      <td>83.635057</td>\n",
       "      <td>3</td>\n",
       "      <td>13</td>\n",
       "      <td>6.433466</td>\n",
       "      <td>4.333333</td>\n",
       "      <td>0</td>\n",
       "      <td>0</td>\n",
       "      <td>0.000000</td>\n",
       "    </tr>\n",
       "    <tr>\n",
       "      <th>35</th>\n",
       "      <td>Google Blue Stojo Cup</td>\n",
       "      <td>81.674860</td>\n",
       "      <td>3</td>\n",
       "      <td>3</td>\n",
       "      <td>27.224953</td>\n",
       "      <td>1.000000</td>\n",
       "      <td>0</td>\n",
       "      <td>0</td>\n",
       "      <td>0.000000</td>\n",
       "    </tr>\n",
       "    <tr>\n",
       "      <th>36</th>\n",
       "      <td>Google Felt Luggage Tag</td>\n",
       "      <td>80.498742</td>\n",
       "      <td>13</td>\n",
       "      <td>13</td>\n",
       "      <td>6.192211</td>\n",
       "      <td>1.000000</td>\n",
       "      <td>0</td>\n",
       "      <td>0</td>\n",
       "      <td>0.000000</td>\n",
       "    </tr>\n",
       "    <tr>\n",
       "      <th>37</th>\n",
       "      <td>Chrome Dino Dark Mode Collectible</td>\n",
       "      <td>78.407866</td>\n",
       "      <td>3</td>\n",
       "      <td>3</td>\n",
       "      <td>26.135955</td>\n",
       "      <td>1.000000</td>\n",
       "      <td>0</td>\n",
       "      <td>0</td>\n",
       "      <td>0.130435</td>\n",
       "    </tr>\n",
       "    <tr>\n",
       "      <th>38</th>\n",
       "      <td>Google Campus Puzzle</td>\n",
       "      <td>78.407866</td>\n",
       "      <td>3</td>\n",
       "      <td>3</td>\n",
       "      <td>26.135955</td>\n",
       "      <td>1.000000</td>\n",
       "      <td>0</td>\n",
       "      <td>0</td>\n",
       "      <td>0.000000</td>\n",
       "    </tr>\n",
       "    <tr>\n",
       "      <th>39</th>\n",
       "      <td>Google Camp Mug Ivory</td>\n",
       "      <td>76.447669</td>\n",
       "      <td>7</td>\n",
       "      <td>7</td>\n",
       "      <td>10.921096</td>\n",
       "      <td>1.000000</td>\n",
       "      <td>0</td>\n",
       "      <td>0</td>\n",
       "      <td>0.350000</td>\n",
       "    </tr>\n",
       "    <tr>\n",
       "      <th>40</th>\n",
       "      <td>Google Campus Bike Bottle</td>\n",
       "      <td>70.567079</td>\n",
       "      <td>3</td>\n",
       "      <td>3</td>\n",
       "      <td>23.522360</td>\n",
       "      <td>1.000000</td>\n",
       "      <td>0</td>\n",
       "      <td>0</td>\n",
       "      <td>1.000000</td>\n",
       "    </tr>\n",
       "    <tr>\n",
       "      <th>41</th>\n",
       "      <td>Google Sea Glass Bottle</td>\n",
       "      <td>70.567079</td>\n",
       "      <td>3</td>\n",
       "      <td>3</td>\n",
       "      <td>23.522360</td>\n",
       "      <td>1.000000</td>\n",
       "      <td>0</td>\n",
       "      <td>0</td>\n",
       "      <td>1.000000</td>\n",
       "    </tr>\n",
       "    <tr>\n",
       "      <th>42</th>\n",
       "      <td>Google Unisex V-neck Tee</td>\n",
       "      <td>70.567079</td>\n",
       "      <td>3</td>\n",
       "      <td>3</td>\n",
       "      <td>23.522360</td>\n",
       "      <td>1.000000</td>\n",
       "      <td>0</td>\n",
       "      <td>0</td>\n",
       "      <td>0.428571</td>\n",
       "    </tr>\n",
       "    <tr>\n",
       "      <th>43</th>\n",
       "      <td>Google Green Corkbase Mug</td>\n",
       "      <td>67.953484</td>\n",
       "      <td>3</td>\n",
       "      <td>3</td>\n",
       "      <td>22.651161</td>\n",
       "      <td>1.000000</td>\n",
       "      <td>0</td>\n",
       "      <td>0</td>\n",
       "      <td>0.000000</td>\n",
       "    </tr>\n",
       "    <tr>\n",
       "      <th>44</th>\n",
       "      <td>YouTube Twill Sandwich Cap Black</td>\n",
       "      <td>67.953484</td>\n",
       "      <td>3</td>\n",
       "      <td>7</td>\n",
       "      <td>9.707641</td>\n",
       "      <td>2.333333</td>\n",
       "      <td>0</td>\n",
       "      <td>0</td>\n",
       "      <td>0.230769</td>\n",
       "    </tr>\n",
       "    <tr>\n",
       "      <th>45</th>\n",
       "      <td>Google Bear Baby Blanket Beige</td>\n",
       "      <td>65.339888</td>\n",
       "      <td>3</td>\n",
       "      <td>3</td>\n",
       "      <td>21.779963</td>\n",
       "      <td>1.000000</td>\n",
       "      <td>0</td>\n",
       "      <td>0</td>\n",
       "      <td>0.300000</td>\n",
       "    </tr>\n",
       "    <tr>\n",
       "      <th>46</th>\n",
       "      <td>Google Canteen Bottle Black</td>\n",
       "      <td>62.726293</td>\n",
       "      <td>3</td>\n",
       "      <td>3</td>\n",
       "      <td>20.908764</td>\n",
       "      <td>1.000000</td>\n",
       "      <td>0</td>\n",
       "      <td>0</td>\n",
       "      <td>0.300000</td>\n",
       "    </tr>\n",
       "    <tr>\n",
       "      <th>47</th>\n",
       "      <td>Google Classic White Onesie</td>\n",
       "      <td>62.726293</td>\n",
       "      <td>3</td>\n",
       "      <td>3</td>\n",
       "      <td>20.908764</td>\n",
       "      <td>1.000000</td>\n",
       "      <td>0</td>\n",
       "      <td>0</td>\n",
       "      <td>0.000000</td>\n",
       "    </tr>\n",
       "    <tr>\n",
       "      <th>48</th>\n",
       "      <td>Google Speckled Mug</td>\n",
       "      <td>62.726293</td>\n",
       "      <td>7</td>\n",
       "      <td>7</td>\n",
       "      <td>8.960899</td>\n",
       "      <td>1.000000</td>\n",
       "      <td>0</td>\n",
       "      <td>0</td>\n",
       "      <td>0.000000</td>\n",
       "    </tr>\n",
       "    <tr>\n",
       "      <th>49</th>\n",
       "      <td>Google Bike Socks</td>\n",
       "      <td>58.805900</td>\n",
       "      <td>3</td>\n",
       "      <td>3</td>\n",
       "      <td>19.601967</td>\n",
       "      <td>1.000000</td>\n",
       "      <td>0</td>\n",
       "      <td>0</td>\n",
       "      <td>0.000000</td>\n",
       "    </tr>\n",
       "  </tbody>\n",
       "</table>\n",
       "</div>"
      ],
      "text/plain": [
       "                                    Product  Product Revenue  \\\n",
       "0          Google Camp Fleece Snap Pullover       961.803157   \n",
       "1    Google Land & Sea Nalgene Water Bottle       490.049163   \n",
       "2                       Google Knit Blanket       459.992814   \n",
       "3                  YouTube Black Zip Hoodie       360.676184   \n",
       "4              Google Women's Eco Tee Black       297.949891   \n",
       "5         Google Ultralight Gray Sweatshirt       261.359553   \n",
       "6           Google Women's Essential Jacket       256.132362   \n",
       "7                 Google F/C Longsleeve Ash       235.223598   \n",
       "8          Google Charcoal Unisex Badge Tee       233.263401   \n",
       "9         Google Ladies Expedition Half Zip       229.996407   \n",
       "10                        Google Sunglasses       228.689609   \n",
       "11               Google Women's Puffer Vest       219.542025   \n",
       "12                     Google Cloud Journal       188.178879   \n",
       "13            Google Black Cloud Zip Hoodie       180.338092   \n",
       "14      Google Cloud Unisex Onyx Zip Hoodie       180.338092   \n",
       "15                        Google Crew Socks       167.270114   \n",
       "16               Google Etched Tumbler Sand       167.270114   \n",
       "17                Google Tonal Blue Eco Tee       158.775929   \n",
       "18            Google Vintage Pullover Olive       156.815732   \n",
       "19  Google Badge Heavyweight Pullover Black       151.588541   \n",
       "20                  Google Black Cloud Polo       150.281743   \n",
       "21      Google Gray French Terry Zip Hoodie       143.747754   \n",
       "22      Google Navy French Terry Zip Hoodie       143.747754   \n",
       "23              Google Perk Thermal Tumbler       128.066181   \n",
       "24                         Google Navy Polo       125.452586   \n",
       "25                   Google TYCTWD Blue Tee       111.077810   \n",
       "26             Google Unisex 3/4 Raglan Red       109.771012   \n",
       "27                       Google Campus Bike       104.543821   \n",
       "28         Google Youth F/C Pullover Hoodie       104.543821   \n",
       "29                  Google Large Tote White       101.930226   \n",
       "30               Google Bike Food Container        99.316630   \n",
       "31                   Super G Unisex Joggers        96.703035   \n",
       "32                  Google Vintage Navy Tee        88.208849   \n",
       "33            Google Toddler Hero Tee Black        87.816810   \n",
       "34        Android Large Trace Journal Black        83.635057   \n",
       "35                    Google Blue Stojo Cup        81.674860   \n",
       "36                  Google Felt Luggage Tag        80.498742   \n",
       "37        Chrome Dino Dark Mode Collectible        78.407866   \n",
       "38                     Google Campus Puzzle        78.407866   \n",
       "39                    Google Camp Mug Ivory        76.447669   \n",
       "40                Google Campus Bike Bottle        70.567079   \n",
       "41                  Google Sea Glass Bottle        70.567079   \n",
       "42                 Google Unisex V-neck Tee        70.567079   \n",
       "43                Google Green Corkbase Mug        67.953484   \n",
       "44         YouTube Twill Sandwich Cap Black        67.953484   \n",
       "45           Google Bear Baby Blanket Beige        65.339888   \n",
       "46              Google Canteen Bottle Black        62.726293   \n",
       "47              Google Classic White Onesie        62.726293   \n",
       "48                      Google Speckled Mug        62.726293   \n",
       "49                        Google Bike Socks        58.805900   \n",
       "\n",
       "    Unique Purchases  Quantity  Avg. Price   Avg. QTY  Product Refund Amount  \\\n",
       "0                 13        13   73.984858   1.000000                      0   \n",
       "1                  3        20   24.502458   6.666667                      0   \n",
       "2                  3         7   65.713259   2.333333                      0   \n",
       "3                  7         7   51.525169   1.000000                      0   \n",
       "4                 10        16   18.621868   1.600000                      0   \n",
       "5                  7         7   37.337079   1.000000                      0   \n",
       "6                  3         3   85.377454   1.000000                      0   \n",
       "7                 10        10   23.522360   1.000000                      0   \n",
       "8                 10        13   17.943339   1.300000                      0   \n",
       "9                  3         3   76.665469   1.000000                      0   \n",
       "10                 3        82    2.788898  27.333333                      0   \n",
       "11                 3         3   73.180675   1.000000                      0   \n",
       "12                13        13   14.475298   1.000000                      0   \n",
       "13                 3         3   60.112697   1.000000                      0   \n",
       "14                 3         3   60.112697   1.000000                      0   \n",
       "15                13        13   12.866932   1.000000                      0   \n",
       "16                 3         7   23.895731   2.333333                      0   \n",
       "17                 7         7   22.682276   1.000000                      0   \n",
       "18                 3         3   52.271911   1.000000                      0   \n",
       "19                 3         3   50.529514   1.000000                      0   \n",
       "20                 3         3   50.093914   1.000000                      0   \n",
       "21                 3         3   47.915918   1.000000                      0   \n",
       "22                 3         3   47.915918   1.000000                      0   \n",
       "23                 7         7   18.295169   1.000000                      0   \n",
       "24                 3         3   41.817529   1.000000                      0   \n",
       "25                 3         7   15.868259   2.333333                      0   \n",
       "26                 7         7   15.681573   1.000000                      0   \n",
       "27                 3         3   34.847940   1.000000                      0   \n",
       "28                 3         3   34.847940   1.000000                      0   \n",
       "29                 3        10   10.193023   3.333333                      0   \n",
       "30                 3         3   33.105543   1.000000                      0   \n",
       "31                 3         3   32.234345   1.000000                      0   \n",
       "32                 3         3   29.402950   1.000000                      0   \n",
       "33                 7         7   12.545259   1.000000                      0   \n",
       "34                 3        13    6.433466   4.333333                      0   \n",
       "35                 3         3   27.224953   1.000000                      0   \n",
       "36                13        13    6.192211   1.000000                      0   \n",
       "37                 3         3   26.135955   1.000000                      0   \n",
       "38                 3         3   26.135955   1.000000                      0   \n",
       "39                 7         7   10.921096   1.000000                      0   \n",
       "40                 3         3   23.522360   1.000000                      0   \n",
       "41                 3         3   23.522360   1.000000                      0   \n",
       "42                 3         3   23.522360   1.000000                      0   \n",
       "43                 3         3   22.651161   1.000000                      0   \n",
       "44                 3         7    9.707641   2.333333                      0   \n",
       "45                 3         3   21.779963   1.000000                      0   \n",
       "46                 3         3   20.908764   1.000000                      0   \n",
       "47                 3         3   20.908764   1.000000                      0   \n",
       "48                 7         7    8.960899   1.000000                      0   \n",
       "49                 3         3   19.601967   1.000000                      0   \n",
       "\n",
       "    Cart-to-Detail Rate  Buy-to-Detail Rate  \n",
       "0                     0            0.000000  \n",
       "1                     0            0.428571  \n",
       "2                     0            0.300000  \n",
       "3                     0            0.000000  \n",
       "4                     0            3.333333  \n",
       "5                     0            0.000000  \n",
       "6                     0            0.000000  \n",
       "7                     0            0.000000  \n",
       "8                     0            1.428571  \n",
       "9                     0            0.000000  \n",
       "10                    0            0.187500  \n",
       "11                    0            0.000000  \n",
       "12                    0            0.000000  \n",
       "13                    0            0.000000  \n",
       "14                    0            0.000000  \n",
       "15                    0            0.000000  \n",
       "16                    0            0.000000  \n",
       "17                    0            1.000000  \n",
       "18                    0            0.000000  \n",
       "19                    0            0.000000  \n",
       "20                    0            0.000000  \n",
       "21                    0            0.000000  \n",
       "22                    0            0.065217  \n",
       "23                    0            1.000000  \n",
       "24                    0            1.000000  \n",
       "25                    0            0.000000  \n",
       "26                    0            0.000000  \n",
       "27                    0            0.115385  \n",
       "28                    0            0.230769  \n",
       "29                    0            1.000000  \n",
       "30                    0            0.000000  \n",
       "31                    0            0.000000  \n",
       "32                    0            0.428571  \n",
       "33                    0            2.333333  \n",
       "34                    0            0.000000  \n",
       "35                    0            0.000000  \n",
       "36                    0            0.000000  \n",
       "37                    0            0.130435  \n",
       "38                    0            0.000000  \n",
       "39                    0            0.350000  \n",
       "40                    0            1.000000  \n",
       "41                    0            1.000000  \n",
       "42                    0            0.428571  \n",
       "43                    0            0.000000  \n",
       "44                    0            0.230769  \n",
       "45                    0            0.300000  \n",
       "46                    0            0.300000  \n",
       "47                    0            0.000000  \n",
       "48                    0            0.000000  \n",
       "49                    0            0.000000  "
      ]
     },
     "execution_count": 17,
     "metadata": {},
     "output_type": "execute_result"
    }
   ],
   "source": [
    "## first of all, we are going to drop some columns that have no information\n",
    "\n",
    "df2_light = df2.drop([\"Product Refund Amount\", \"Cart-to-Detail Rate\", \"Buy-to-Detail Rate\"], axis = 1)\n",
    "df2_light = df2.drop([50], axis = 0)\n",
    "df2_light"
   ]
  },
  {
   "cell_type": "code",
   "execution_count": 18,
   "id": "e1e6e63f",
   "metadata": {},
   "outputs": [
    {
     "data": {
      "application/vnd.plotly.v1+json": {
       "config": {
        "plotlyServerURL": "https://plot.ly"
       },
       "data": [
        {
         "alignmentgroup": "True",
         "bingroup": "x",
         "histfunc": "sum",
         "hovertemplate": "Product=%{x}<br>sum of Product Revenue=%{y}<extra></extra>",
         "legendgroup": "",
         "marker": {
          "color": "#636efa",
          "pattern": {
           "shape": ""
          }
         },
         "name": "",
         "offsetgroup": "",
         "orientation": "v",
         "showlegend": false,
         "type": "histogram",
         "x": [
          "Google Camp Fleece Snap Pullover",
          "Google Land & Sea Nalgene Water Bottle",
          "Google Knit Blanket",
          "YouTube Black Zip Hoodie",
          "Google Women's Eco Tee Black",
          "Google Ultralight Gray Sweatshirt",
          "Google Women's Essential Jacket",
          "Google F/C Longsleeve Ash",
          "Google Charcoal Unisex Badge Tee",
          "Google Ladies Expedition Half Zip",
          "Google Sunglasses",
          "Google Women's Puffer Vest",
          "Google Cloud Journal",
          "Google Black Cloud Zip Hoodie",
          "Google Cloud Unisex Onyx Zip Hoodie",
          "Google Crew Socks",
          "Google Etched Tumbler Sand",
          "Google Tonal Blue Eco Tee",
          "Google Vintage Pullover Olive",
          "Google Badge Heavyweight Pullover Black",
          "Google Black Cloud Polo",
          "Google Gray French Terry Zip Hoodie",
          "Google Navy French Terry Zip Hoodie",
          "Google Perk Thermal Tumbler",
          "Google Navy Polo",
          "Google TYCTWD Blue Tee",
          "Google Unisex 3/4 Raglan Red",
          "Google Campus Bike",
          "Google Youth F/C Pullover Hoodie",
          "Google Large Tote White",
          "Google Bike Food Container",
          "Super G Unisex Joggers",
          "Google Vintage Navy Tee",
          "Google Toddler Hero Tee Black",
          "Android Large Trace Journal Black",
          "Google Blue Stojo Cup",
          "Google Felt Luggage Tag",
          "Chrome Dino Dark Mode Collectible",
          "Google Campus Puzzle",
          "Google Camp Mug Ivory",
          "Google Campus Bike Bottle",
          "Google Sea Glass Bottle",
          "Google Unisex V-neck Tee",
          "Google Green Corkbase Mug",
          "YouTube Twill Sandwich Cap Black",
          "Google Bear Baby Blanket Beige",
          "Google Canteen Bottle Black",
          "Google Classic White Onesie",
          "Google Speckled Mug",
          "Google Bike Socks"
         ],
         "xaxis": "x",
         "y": [
          961.803157,
          490.049163,
          459.992814,
          360.676184,
          297.949891,
          261.359553,
          256.132362,
          235.223598,
          233.263401,
          229.996407,
          228.689609,
          219.542025,
          188.178879,
          180.338092,
          180.338092,
          167.270114,
          167.270114,
          158.775929,
          156.815732,
          151.588541,
          150.281743,
          143.747754,
          143.747754,
          128.066181,
          125.452586,
          111.07781,
          109.771012,
          104.543821,
          104.543821,
          101.930226,
          99.31663,
          96.703035,
          88.208849,
          87.81681,
          83.635057,
          81.67486,
          80.498742,
          78.407866,
          78.407866,
          76.447669,
          70.567079,
          70.567079,
          70.567079,
          67.953484,
          67.953484,
          65.339888,
          62.726293,
          62.726293,
          62.726293,
          58.8059
         ],
         "yaxis": "y"
        }
       ],
       "layout": {
        "barmode": "relative",
        "legend": {
         "tracegroupgap": 0
        },
        "margin": {
         "t": 60
        },
        "template": {
         "data": {
          "bar": [
           {
            "error_x": {
             "color": "#2a3f5f"
            },
            "error_y": {
             "color": "#2a3f5f"
            },
            "marker": {
             "line": {
              "color": "#E5ECF6",
              "width": 0.5
             },
             "pattern": {
              "fillmode": "overlay",
              "size": 10,
              "solidity": 0.2
             }
            },
            "type": "bar"
           }
          ],
          "barpolar": [
           {
            "marker": {
             "line": {
              "color": "#E5ECF6",
              "width": 0.5
             },
             "pattern": {
              "fillmode": "overlay",
              "size": 10,
              "solidity": 0.2
             }
            },
            "type": "barpolar"
           }
          ],
          "carpet": [
           {
            "aaxis": {
             "endlinecolor": "#2a3f5f",
             "gridcolor": "white",
             "linecolor": "white",
             "minorgridcolor": "white",
             "startlinecolor": "#2a3f5f"
            },
            "baxis": {
             "endlinecolor": "#2a3f5f",
             "gridcolor": "white",
             "linecolor": "white",
             "minorgridcolor": "white",
             "startlinecolor": "#2a3f5f"
            },
            "type": "carpet"
           }
          ],
          "choropleth": [
           {
            "colorbar": {
             "outlinewidth": 0,
             "ticks": ""
            },
            "type": "choropleth"
           }
          ],
          "contour": [
           {
            "colorbar": {
             "outlinewidth": 0,
             "ticks": ""
            },
            "colorscale": [
             [
              0,
              "#0d0887"
             ],
             [
              0.1111111111111111,
              "#46039f"
             ],
             [
              0.2222222222222222,
              "#7201a8"
             ],
             [
              0.3333333333333333,
              "#9c179e"
             ],
             [
              0.4444444444444444,
              "#bd3786"
             ],
             [
              0.5555555555555556,
              "#d8576b"
             ],
             [
              0.6666666666666666,
              "#ed7953"
             ],
             [
              0.7777777777777778,
              "#fb9f3a"
             ],
             [
              0.8888888888888888,
              "#fdca26"
             ],
             [
              1,
              "#f0f921"
             ]
            ],
            "type": "contour"
           }
          ],
          "contourcarpet": [
           {
            "colorbar": {
             "outlinewidth": 0,
             "ticks": ""
            },
            "type": "contourcarpet"
           }
          ],
          "heatmap": [
           {
            "colorbar": {
             "outlinewidth": 0,
             "ticks": ""
            },
            "colorscale": [
             [
              0,
              "#0d0887"
             ],
             [
              0.1111111111111111,
              "#46039f"
             ],
             [
              0.2222222222222222,
              "#7201a8"
             ],
             [
              0.3333333333333333,
              "#9c179e"
             ],
             [
              0.4444444444444444,
              "#bd3786"
             ],
             [
              0.5555555555555556,
              "#d8576b"
             ],
             [
              0.6666666666666666,
              "#ed7953"
             ],
             [
              0.7777777777777778,
              "#fb9f3a"
             ],
             [
              0.8888888888888888,
              "#fdca26"
             ],
             [
              1,
              "#f0f921"
             ]
            ],
            "type": "heatmap"
           }
          ],
          "heatmapgl": [
           {
            "colorbar": {
             "outlinewidth": 0,
             "ticks": ""
            },
            "colorscale": [
             [
              0,
              "#0d0887"
             ],
             [
              0.1111111111111111,
              "#46039f"
             ],
             [
              0.2222222222222222,
              "#7201a8"
             ],
             [
              0.3333333333333333,
              "#9c179e"
             ],
             [
              0.4444444444444444,
              "#bd3786"
             ],
             [
              0.5555555555555556,
              "#d8576b"
             ],
             [
              0.6666666666666666,
              "#ed7953"
             ],
             [
              0.7777777777777778,
              "#fb9f3a"
             ],
             [
              0.8888888888888888,
              "#fdca26"
             ],
             [
              1,
              "#f0f921"
             ]
            ],
            "type": "heatmapgl"
           }
          ],
          "histogram": [
           {
            "marker": {
             "pattern": {
              "fillmode": "overlay",
              "size": 10,
              "solidity": 0.2
             }
            },
            "type": "histogram"
           }
          ],
          "histogram2d": [
           {
            "colorbar": {
             "outlinewidth": 0,
             "ticks": ""
            },
            "colorscale": [
             [
              0,
              "#0d0887"
             ],
             [
              0.1111111111111111,
              "#46039f"
             ],
             [
              0.2222222222222222,
              "#7201a8"
             ],
             [
              0.3333333333333333,
              "#9c179e"
             ],
             [
              0.4444444444444444,
              "#bd3786"
             ],
             [
              0.5555555555555556,
              "#d8576b"
             ],
             [
              0.6666666666666666,
              "#ed7953"
             ],
             [
              0.7777777777777778,
              "#fb9f3a"
             ],
             [
              0.8888888888888888,
              "#fdca26"
             ],
             [
              1,
              "#f0f921"
             ]
            ],
            "type": "histogram2d"
           }
          ],
          "histogram2dcontour": [
           {
            "colorbar": {
             "outlinewidth": 0,
             "ticks": ""
            },
            "colorscale": [
             [
              0,
              "#0d0887"
             ],
             [
              0.1111111111111111,
              "#46039f"
             ],
             [
              0.2222222222222222,
              "#7201a8"
             ],
             [
              0.3333333333333333,
              "#9c179e"
             ],
             [
              0.4444444444444444,
              "#bd3786"
             ],
             [
              0.5555555555555556,
              "#d8576b"
             ],
             [
              0.6666666666666666,
              "#ed7953"
             ],
             [
              0.7777777777777778,
              "#fb9f3a"
             ],
             [
              0.8888888888888888,
              "#fdca26"
             ],
             [
              1,
              "#f0f921"
             ]
            ],
            "type": "histogram2dcontour"
           }
          ],
          "mesh3d": [
           {
            "colorbar": {
             "outlinewidth": 0,
             "ticks": ""
            },
            "type": "mesh3d"
           }
          ],
          "parcoords": [
           {
            "line": {
             "colorbar": {
              "outlinewidth": 0,
              "ticks": ""
             }
            },
            "type": "parcoords"
           }
          ],
          "pie": [
           {
            "automargin": true,
            "type": "pie"
           }
          ],
          "scatter": [
           {
            "fillpattern": {
             "fillmode": "overlay",
             "size": 10,
             "solidity": 0.2
            },
            "type": "scatter"
           }
          ],
          "scatter3d": [
           {
            "line": {
             "colorbar": {
              "outlinewidth": 0,
              "ticks": ""
             }
            },
            "marker": {
             "colorbar": {
              "outlinewidth": 0,
              "ticks": ""
             }
            },
            "type": "scatter3d"
           }
          ],
          "scattercarpet": [
           {
            "marker": {
             "colorbar": {
              "outlinewidth": 0,
              "ticks": ""
             }
            },
            "type": "scattercarpet"
           }
          ],
          "scattergeo": [
           {
            "marker": {
             "colorbar": {
              "outlinewidth": 0,
              "ticks": ""
             }
            },
            "type": "scattergeo"
           }
          ],
          "scattergl": [
           {
            "marker": {
             "colorbar": {
              "outlinewidth": 0,
              "ticks": ""
             }
            },
            "type": "scattergl"
           }
          ],
          "scattermapbox": [
           {
            "marker": {
             "colorbar": {
              "outlinewidth": 0,
              "ticks": ""
             }
            },
            "type": "scattermapbox"
           }
          ],
          "scatterpolar": [
           {
            "marker": {
             "colorbar": {
              "outlinewidth": 0,
              "ticks": ""
             }
            },
            "type": "scatterpolar"
           }
          ],
          "scatterpolargl": [
           {
            "marker": {
             "colorbar": {
              "outlinewidth": 0,
              "ticks": ""
             }
            },
            "type": "scatterpolargl"
           }
          ],
          "scatterternary": [
           {
            "marker": {
             "colorbar": {
              "outlinewidth": 0,
              "ticks": ""
             }
            },
            "type": "scatterternary"
           }
          ],
          "surface": [
           {
            "colorbar": {
             "outlinewidth": 0,
             "ticks": ""
            },
            "colorscale": [
             [
              0,
              "#0d0887"
             ],
             [
              0.1111111111111111,
              "#46039f"
             ],
             [
              0.2222222222222222,
              "#7201a8"
             ],
             [
              0.3333333333333333,
              "#9c179e"
             ],
             [
              0.4444444444444444,
              "#bd3786"
             ],
             [
              0.5555555555555556,
              "#d8576b"
             ],
             [
              0.6666666666666666,
              "#ed7953"
             ],
             [
              0.7777777777777778,
              "#fb9f3a"
             ],
             [
              0.8888888888888888,
              "#fdca26"
             ],
             [
              1,
              "#f0f921"
             ]
            ],
            "type": "surface"
           }
          ],
          "table": [
           {
            "cells": {
             "fill": {
              "color": "#EBF0F8"
             },
             "line": {
              "color": "white"
             }
            },
            "header": {
             "fill": {
              "color": "#C8D4E3"
             },
             "line": {
              "color": "white"
             }
            },
            "type": "table"
           }
          ]
         },
         "layout": {
          "annotationdefaults": {
           "arrowcolor": "#2a3f5f",
           "arrowhead": 0,
           "arrowwidth": 1
          },
          "autotypenumbers": "strict",
          "coloraxis": {
           "colorbar": {
            "outlinewidth": 0,
            "ticks": ""
           }
          },
          "colorscale": {
           "diverging": [
            [
             0,
             "#8e0152"
            ],
            [
             0.1,
             "#c51b7d"
            ],
            [
             0.2,
             "#de77ae"
            ],
            [
             0.3,
             "#f1b6da"
            ],
            [
             0.4,
             "#fde0ef"
            ],
            [
             0.5,
             "#f7f7f7"
            ],
            [
             0.6,
             "#e6f5d0"
            ],
            [
             0.7,
             "#b8e186"
            ],
            [
             0.8,
             "#7fbc41"
            ],
            [
             0.9,
             "#4d9221"
            ],
            [
             1,
             "#276419"
            ]
           ],
           "sequential": [
            [
             0,
             "#0d0887"
            ],
            [
             0.1111111111111111,
             "#46039f"
            ],
            [
             0.2222222222222222,
             "#7201a8"
            ],
            [
             0.3333333333333333,
             "#9c179e"
            ],
            [
             0.4444444444444444,
             "#bd3786"
            ],
            [
             0.5555555555555556,
             "#d8576b"
            ],
            [
             0.6666666666666666,
             "#ed7953"
            ],
            [
             0.7777777777777778,
             "#fb9f3a"
            ],
            [
             0.8888888888888888,
             "#fdca26"
            ],
            [
             1,
             "#f0f921"
            ]
           ],
           "sequentialminus": [
            [
             0,
             "#0d0887"
            ],
            [
             0.1111111111111111,
             "#46039f"
            ],
            [
             0.2222222222222222,
             "#7201a8"
            ],
            [
             0.3333333333333333,
             "#9c179e"
            ],
            [
             0.4444444444444444,
             "#bd3786"
            ],
            [
             0.5555555555555556,
             "#d8576b"
            ],
            [
             0.6666666666666666,
             "#ed7953"
            ],
            [
             0.7777777777777778,
             "#fb9f3a"
            ],
            [
             0.8888888888888888,
             "#fdca26"
            ],
            [
             1,
             "#f0f921"
            ]
           ]
          },
          "colorway": [
           "#636efa",
           "#EF553B",
           "#00cc96",
           "#ab63fa",
           "#FFA15A",
           "#19d3f3",
           "#FF6692",
           "#B6E880",
           "#FF97FF",
           "#FECB52"
          ],
          "font": {
           "color": "#2a3f5f"
          },
          "geo": {
           "bgcolor": "white",
           "lakecolor": "white",
           "landcolor": "#E5ECF6",
           "showlakes": true,
           "showland": true,
           "subunitcolor": "white"
          },
          "hoverlabel": {
           "align": "left"
          },
          "hovermode": "closest",
          "mapbox": {
           "style": "light"
          },
          "paper_bgcolor": "white",
          "plot_bgcolor": "#E5ECF6",
          "polar": {
           "angularaxis": {
            "gridcolor": "white",
            "linecolor": "white",
            "ticks": ""
           },
           "bgcolor": "#E5ECF6",
           "radialaxis": {
            "gridcolor": "white",
            "linecolor": "white",
            "ticks": ""
           }
          },
          "scene": {
           "xaxis": {
            "backgroundcolor": "#E5ECF6",
            "gridcolor": "white",
            "gridwidth": 2,
            "linecolor": "white",
            "showbackground": true,
            "ticks": "",
            "zerolinecolor": "white"
           },
           "yaxis": {
            "backgroundcolor": "#E5ECF6",
            "gridcolor": "white",
            "gridwidth": 2,
            "linecolor": "white",
            "showbackground": true,
            "ticks": "",
            "zerolinecolor": "white"
           },
           "zaxis": {
            "backgroundcolor": "#E5ECF6",
            "gridcolor": "white",
            "gridwidth": 2,
            "linecolor": "white",
            "showbackground": true,
            "ticks": "",
            "zerolinecolor": "white"
           }
          },
          "shapedefaults": {
           "line": {
            "color": "#2a3f5f"
           }
          },
          "ternary": {
           "aaxis": {
            "gridcolor": "white",
            "linecolor": "white",
            "ticks": ""
           },
           "baxis": {
            "gridcolor": "white",
            "linecolor": "white",
            "ticks": ""
           },
           "bgcolor": "#E5ECF6",
           "caxis": {
            "gridcolor": "white",
            "linecolor": "white",
            "ticks": ""
           }
          },
          "title": {
           "x": 0.05
          },
          "xaxis": {
           "automargin": true,
           "gridcolor": "white",
           "linecolor": "white",
           "ticks": "",
           "title": {
            "standoff": 15
           },
           "zerolinecolor": "white",
           "zerolinewidth": 2
          },
          "yaxis": {
           "automargin": true,
           "gridcolor": "white",
           "linecolor": "white",
           "ticks": "",
           "title": {
            "standoff": 15
           },
           "zerolinecolor": "white",
           "zerolinewidth": 2
          }
         }
        },
        "xaxis": {
         "anchor": "y",
         "domain": [
          0,
          1
         ],
         "title": {
          "text": "Product"
         }
        },
        "yaxis": {
         "anchor": "x",
         "domain": [
          0,
          1
         ],
         "title": {
          "text": "sum of Product Revenue"
         }
        }
       }
      },
      "text/html": [
       "<div>                            <div id=\"86152f57-f081-469e-befa-01f44f35cd40\" class=\"plotly-graph-div\" style=\"height:525px; width:100%;\"></div>            <script type=\"text/javascript\">                require([\"plotly\"], function(Plotly) {                    window.PLOTLYENV=window.PLOTLYENV || {};                                    if (document.getElementById(\"86152f57-f081-469e-befa-01f44f35cd40\")) {                    Plotly.newPlot(                        \"86152f57-f081-469e-befa-01f44f35cd40\",                        [{\"alignmentgroup\":\"True\",\"bingroup\":\"x\",\"histfunc\":\"sum\",\"hovertemplate\":\"Product=%{x}<br>sum of Product Revenue=%{y}<extra></extra>\",\"legendgroup\":\"\",\"marker\":{\"color\":\"#636efa\",\"pattern\":{\"shape\":\"\"}},\"name\":\"\",\"offsetgroup\":\"\",\"orientation\":\"v\",\"showlegend\":false,\"x\":[\"Google Camp Fleece Snap Pullover\",\"Google Land & Sea Nalgene Water Bottle\",\"Google Knit Blanket\",\"YouTube Black Zip Hoodie\",\"Google Women's Eco Tee Black\",\"Google Ultralight Gray Sweatshirt\",\"Google Women's Essential Jacket\",\"Google F/C Longsleeve Ash\",\"Google Charcoal Unisex Badge Tee\",\"Google Ladies Expedition Half Zip\",\"Google Sunglasses\",\"Google Women's Puffer Vest\",\"Google Cloud Journal\",\"Google Black Cloud Zip Hoodie\",\"Google Cloud Unisex Onyx Zip Hoodie\",\"Google Crew Socks\",\"Google Etched Tumbler Sand\",\"Google Tonal Blue Eco Tee\",\"Google Vintage Pullover Olive\",\"Google Badge Heavyweight Pullover Black\",\"Google Black Cloud Polo\",\"Google Gray French Terry Zip Hoodie\",\"Google Navy French Terry Zip Hoodie\",\"Google Perk Thermal Tumbler\",\"Google Navy Polo\",\"Google TYCTWD Blue Tee\",\"Google Unisex 3/4 Raglan Red\",\"Google Campus Bike\",\"Google Youth F/C Pullover Hoodie\",\"Google Large Tote White\",\"Google Bike Food Container\",\"Super G Unisex Joggers\",\"Google Vintage Navy Tee\",\"Google Toddler Hero Tee Black\",\"Android Large Trace Journal Black\",\"Google Blue Stojo Cup\",\"Google Felt Luggage Tag\",\"Chrome Dino Dark Mode Collectible\",\"Google Campus Puzzle\",\"Google Camp Mug Ivory\",\"Google Campus Bike Bottle\",\"Google Sea Glass Bottle\",\"Google Unisex V-neck Tee\",\"Google Green Corkbase Mug\",\"YouTube Twill Sandwich Cap Black\",\"Google Bear Baby Blanket Beige\",\"Google Canteen Bottle Black\",\"Google Classic White Onesie\",\"Google Speckled Mug\",\"Google Bike Socks\"],\"xaxis\":\"x\",\"y\":[961.803157,490.049163,459.992814,360.676184,297.949891,261.359553,256.132362,235.223598,233.263401,229.996407,228.689609,219.542025,188.178879,180.338092,180.338092,167.270114,167.270114,158.775929,156.815732,151.588541,150.281743,143.747754,143.747754,128.066181,125.452586,111.07781,109.771012,104.543821,104.543821,101.930226,99.31663,96.703035,88.208849,87.81681,83.635057,81.67486,80.498742,78.407866,78.407866,76.447669,70.567079,70.567079,70.567079,67.953484,67.953484,65.339888,62.726293,62.726293,62.726293,58.8059],\"yaxis\":\"y\",\"type\":\"histogram\"}],                        {\"template\":{\"data\":{\"histogram2dcontour\":[{\"type\":\"histogram2dcontour\",\"colorbar\":{\"outlinewidth\":0,\"ticks\":\"\"},\"colorscale\":[[0.0,\"#0d0887\"],[0.1111111111111111,\"#46039f\"],[0.2222222222222222,\"#7201a8\"],[0.3333333333333333,\"#9c179e\"],[0.4444444444444444,\"#bd3786\"],[0.5555555555555556,\"#d8576b\"],[0.6666666666666666,\"#ed7953\"],[0.7777777777777778,\"#fb9f3a\"],[0.8888888888888888,\"#fdca26\"],[1.0,\"#f0f921\"]]}],\"choropleth\":[{\"type\":\"choropleth\",\"colorbar\":{\"outlinewidth\":0,\"ticks\":\"\"}}],\"histogram2d\":[{\"type\":\"histogram2d\",\"colorbar\":{\"outlinewidth\":0,\"ticks\":\"\"},\"colorscale\":[[0.0,\"#0d0887\"],[0.1111111111111111,\"#46039f\"],[0.2222222222222222,\"#7201a8\"],[0.3333333333333333,\"#9c179e\"],[0.4444444444444444,\"#bd3786\"],[0.5555555555555556,\"#d8576b\"],[0.6666666666666666,\"#ed7953\"],[0.7777777777777778,\"#fb9f3a\"],[0.8888888888888888,\"#fdca26\"],[1.0,\"#f0f921\"]]}],\"heatmap\":[{\"type\":\"heatmap\",\"colorbar\":{\"outlinewidth\":0,\"ticks\":\"\"},\"colorscale\":[[0.0,\"#0d0887\"],[0.1111111111111111,\"#46039f\"],[0.2222222222222222,\"#7201a8\"],[0.3333333333333333,\"#9c179e\"],[0.4444444444444444,\"#bd3786\"],[0.5555555555555556,\"#d8576b\"],[0.6666666666666666,\"#ed7953\"],[0.7777777777777778,\"#fb9f3a\"],[0.8888888888888888,\"#fdca26\"],[1.0,\"#f0f921\"]]}],\"heatmapgl\":[{\"type\":\"heatmapgl\",\"colorbar\":{\"outlinewidth\":0,\"ticks\":\"\"},\"colorscale\":[[0.0,\"#0d0887\"],[0.1111111111111111,\"#46039f\"],[0.2222222222222222,\"#7201a8\"],[0.3333333333333333,\"#9c179e\"],[0.4444444444444444,\"#bd3786\"],[0.5555555555555556,\"#d8576b\"],[0.6666666666666666,\"#ed7953\"],[0.7777777777777778,\"#fb9f3a\"],[0.8888888888888888,\"#fdca26\"],[1.0,\"#f0f921\"]]}],\"contourcarpet\":[{\"type\":\"contourcarpet\",\"colorbar\":{\"outlinewidth\":0,\"ticks\":\"\"}}],\"contour\":[{\"type\":\"contour\",\"colorbar\":{\"outlinewidth\":0,\"ticks\":\"\"},\"colorscale\":[[0.0,\"#0d0887\"],[0.1111111111111111,\"#46039f\"],[0.2222222222222222,\"#7201a8\"],[0.3333333333333333,\"#9c179e\"],[0.4444444444444444,\"#bd3786\"],[0.5555555555555556,\"#d8576b\"],[0.6666666666666666,\"#ed7953\"],[0.7777777777777778,\"#fb9f3a\"],[0.8888888888888888,\"#fdca26\"],[1.0,\"#f0f921\"]]}],\"surface\":[{\"type\":\"surface\",\"colorbar\":{\"outlinewidth\":0,\"ticks\":\"\"},\"colorscale\":[[0.0,\"#0d0887\"],[0.1111111111111111,\"#46039f\"],[0.2222222222222222,\"#7201a8\"],[0.3333333333333333,\"#9c179e\"],[0.4444444444444444,\"#bd3786\"],[0.5555555555555556,\"#d8576b\"],[0.6666666666666666,\"#ed7953\"],[0.7777777777777778,\"#fb9f3a\"],[0.8888888888888888,\"#fdca26\"],[1.0,\"#f0f921\"]]}],\"mesh3d\":[{\"type\":\"mesh3d\",\"colorbar\":{\"outlinewidth\":0,\"ticks\":\"\"}}],\"scatter\":[{\"fillpattern\":{\"fillmode\":\"overlay\",\"size\":10,\"solidity\":0.2},\"type\":\"scatter\"}],\"parcoords\":[{\"type\":\"parcoords\",\"line\":{\"colorbar\":{\"outlinewidth\":0,\"ticks\":\"\"}}}],\"scatterpolargl\":[{\"type\":\"scatterpolargl\",\"marker\":{\"colorbar\":{\"outlinewidth\":0,\"ticks\":\"\"}}}],\"bar\":[{\"error_x\":{\"color\":\"#2a3f5f\"},\"error_y\":{\"color\":\"#2a3f5f\"},\"marker\":{\"line\":{\"color\":\"#E5ECF6\",\"width\":0.5},\"pattern\":{\"fillmode\":\"overlay\",\"size\":10,\"solidity\":0.2}},\"type\":\"bar\"}],\"scattergeo\":[{\"type\":\"scattergeo\",\"marker\":{\"colorbar\":{\"outlinewidth\":0,\"ticks\":\"\"}}}],\"scatterpolar\":[{\"type\":\"scatterpolar\",\"marker\":{\"colorbar\":{\"outlinewidth\":0,\"ticks\":\"\"}}}],\"histogram\":[{\"marker\":{\"pattern\":{\"fillmode\":\"overlay\",\"size\":10,\"solidity\":0.2}},\"type\":\"histogram\"}],\"scattergl\":[{\"type\":\"scattergl\",\"marker\":{\"colorbar\":{\"outlinewidth\":0,\"ticks\":\"\"}}}],\"scatter3d\":[{\"type\":\"scatter3d\",\"line\":{\"colorbar\":{\"outlinewidth\":0,\"ticks\":\"\"}},\"marker\":{\"colorbar\":{\"outlinewidth\":0,\"ticks\":\"\"}}}],\"scattermapbox\":[{\"type\":\"scattermapbox\",\"marker\":{\"colorbar\":{\"outlinewidth\":0,\"ticks\":\"\"}}}],\"scatterternary\":[{\"type\":\"scatterternary\",\"marker\":{\"colorbar\":{\"outlinewidth\":0,\"ticks\":\"\"}}}],\"scattercarpet\":[{\"type\":\"scattercarpet\",\"marker\":{\"colorbar\":{\"outlinewidth\":0,\"ticks\":\"\"}}}],\"carpet\":[{\"aaxis\":{\"endlinecolor\":\"#2a3f5f\",\"gridcolor\":\"white\",\"linecolor\":\"white\",\"minorgridcolor\":\"white\",\"startlinecolor\":\"#2a3f5f\"},\"baxis\":{\"endlinecolor\":\"#2a3f5f\",\"gridcolor\":\"white\",\"linecolor\":\"white\",\"minorgridcolor\":\"white\",\"startlinecolor\":\"#2a3f5f\"},\"type\":\"carpet\"}],\"table\":[{\"cells\":{\"fill\":{\"color\":\"#EBF0F8\"},\"line\":{\"color\":\"white\"}},\"header\":{\"fill\":{\"color\":\"#C8D4E3\"},\"line\":{\"color\":\"white\"}},\"type\":\"table\"}],\"barpolar\":[{\"marker\":{\"line\":{\"color\":\"#E5ECF6\",\"width\":0.5},\"pattern\":{\"fillmode\":\"overlay\",\"size\":10,\"solidity\":0.2}},\"type\":\"barpolar\"}],\"pie\":[{\"automargin\":true,\"type\":\"pie\"}]},\"layout\":{\"autotypenumbers\":\"strict\",\"colorway\":[\"#636efa\",\"#EF553B\",\"#00cc96\",\"#ab63fa\",\"#FFA15A\",\"#19d3f3\",\"#FF6692\",\"#B6E880\",\"#FF97FF\",\"#FECB52\"],\"font\":{\"color\":\"#2a3f5f\"},\"hovermode\":\"closest\",\"hoverlabel\":{\"align\":\"left\"},\"paper_bgcolor\":\"white\",\"plot_bgcolor\":\"#E5ECF6\",\"polar\":{\"bgcolor\":\"#E5ECF6\",\"angularaxis\":{\"gridcolor\":\"white\",\"linecolor\":\"white\",\"ticks\":\"\"},\"radialaxis\":{\"gridcolor\":\"white\",\"linecolor\":\"white\",\"ticks\":\"\"}},\"ternary\":{\"bgcolor\":\"#E5ECF6\",\"aaxis\":{\"gridcolor\":\"white\",\"linecolor\":\"white\",\"ticks\":\"\"},\"baxis\":{\"gridcolor\":\"white\",\"linecolor\":\"white\",\"ticks\":\"\"},\"caxis\":{\"gridcolor\":\"white\",\"linecolor\":\"white\",\"ticks\":\"\"}},\"coloraxis\":{\"colorbar\":{\"outlinewidth\":0,\"ticks\":\"\"}},\"colorscale\":{\"sequential\":[[0.0,\"#0d0887\"],[0.1111111111111111,\"#46039f\"],[0.2222222222222222,\"#7201a8\"],[0.3333333333333333,\"#9c179e\"],[0.4444444444444444,\"#bd3786\"],[0.5555555555555556,\"#d8576b\"],[0.6666666666666666,\"#ed7953\"],[0.7777777777777778,\"#fb9f3a\"],[0.8888888888888888,\"#fdca26\"],[1.0,\"#f0f921\"]],\"sequentialminus\":[[0.0,\"#0d0887\"],[0.1111111111111111,\"#46039f\"],[0.2222222222222222,\"#7201a8\"],[0.3333333333333333,\"#9c179e\"],[0.4444444444444444,\"#bd3786\"],[0.5555555555555556,\"#d8576b\"],[0.6666666666666666,\"#ed7953\"],[0.7777777777777778,\"#fb9f3a\"],[0.8888888888888888,\"#fdca26\"],[1.0,\"#f0f921\"]],\"diverging\":[[0,\"#8e0152\"],[0.1,\"#c51b7d\"],[0.2,\"#de77ae\"],[0.3,\"#f1b6da\"],[0.4,\"#fde0ef\"],[0.5,\"#f7f7f7\"],[0.6,\"#e6f5d0\"],[0.7,\"#b8e186\"],[0.8,\"#7fbc41\"],[0.9,\"#4d9221\"],[1,\"#276419\"]]},\"xaxis\":{\"gridcolor\":\"white\",\"linecolor\":\"white\",\"ticks\":\"\",\"title\":{\"standoff\":15},\"zerolinecolor\":\"white\",\"automargin\":true,\"zerolinewidth\":2},\"yaxis\":{\"gridcolor\":\"white\",\"linecolor\":\"white\",\"ticks\":\"\",\"title\":{\"standoff\":15},\"zerolinecolor\":\"white\",\"automargin\":true,\"zerolinewidth\":2},\"scene\":{\"xaxis\":{\"backgroundcolor\":\"#E5ECF6\",\"gridcolor\":\"white\",\"linecolor\":\"white\",\"showbackground\":true,\"ticks\":\"\",\"zerolinecolor\":\"white\",\"gridwidth\":2},\"yaxis\":{\"backgroundcolor\":\"#E5ECF6\",\"gridcolor\":\"white\",\"linecolor\":\"white\",\"showbackground\":true,\"ticks\":\"\",\"zerolinecolor\":\"white\",\"gridwidth\":2},\"zaxis\":{\"backgroundcolor\":\"#E5ECF6\",\"gridcolor\":\"white\",\"linecolor\":\"white\",\"showbackground\":true,\"ticks\":\"\",\"zerolinecolor\":\"white\",\"gridwidth\":2}},\"shapedefaults\":{\"line\":{\"color\":\"#2a3f5f\"}},\"annotationdefaults\":{\"arrowcolor\":\"#2a3f5f\",\"arrowhead\":0,\"arrowwidth\":1},\"geo\":{\"bgcolor\":\"white\",\"landcolor\":\"#E5ECF6\",\"subunitcolor\":\"white\",\"showland\":true,\"showlakes\":true,\"lakecolor\":\"white\"},\"title\":{\"x\":0.05},\"mapbox\":{\"style\":\"light\"}}},\"xaxis\":{\"anchor\":\"y\",\"domain\":[0.0,1.0],\"title\":{\"text\":\"Product\"}},\"yaxis\":{\"anchor\":\"x\",\"domain\":[0.0,1.0],\"title\":{\"text\":\"sum of Product Revenue\"}},\"legend\":{\"tracegroupgap\":0},\"margin\":{\"t\":60},\"barmode\":\"relative\"},                        {\"responsive\": true}                    ).then(function(){\n",
       "                            \n",
       "var gd = document.getElementById('86152f57-f081-469e-befa-01f44f35cd40');\n",
       "var x = new MutationObserver(function (mutations, observer) {{\n",
       "        var display = window.getComputedStyle(gd).display;\n",
       "        if (!display || display === 'none') {{\n",
       "            console.log([gd, 'removed!']);\n",
       "            Plotly.purge(gd);\n",
       "            observer.disconnect();\n",
       "        }}\n",
       "}});\n",
       "\n",
       "// Listen for the removal of the full notebook cells\n",
       "var notebookContainer = gd.closest('#notebook-container');\n",
       "if (notebookContainer) {{\n",
       "    x.observe(notebookContainer, {childList: true});\n",
       "}}\n",
       "\n",
       "// Listen for the clearing of the current output cell\n",
       "var outputEl = gd.closest('.output');\n",
       "if (outputEl) {{\n",
       "    x.observe(outputEl, {childList: true});\n",
       "}}\n",
       "\n",
       "                        })                };                });            </script>        </div>"
      ]
     },
     "metadata": {},
     "output_type": "display_data"
    },
    {
     "data": {
      "application/vnd.plotly.v1+json": {
       "config": {
        "plotlyServerURL": "https://plot.ly"
       },
       "data": [
        {
         "alignmentgroup": "True",
         "bingroup": "x",
         "histfunc": "sum",
         "hovertemplate": "Product=%{x}<br>sum of Quantity=%{y}<extra></extra>",
         "legendgroup": "",
         "marker": {
          "color": "#636efa",
          "pattern": {
           "shape": ""
          }
         },
         "name": "",
         "offsetgroup": "",
         "orientation": "v",
         "showlegend": false,
         "type": "histogram",
         "x": [
          "Google Camp Fleece Snap Pullover",
          "Google Land & Sea Nalgene Water Bottle",
          "Google Knit Blanket",
          "YouTube Black Zip Hoodie",
          "Google Women's Eco Tee Black",
          "Google Ultralight Gray Sweatshirt",
          "Google Women's Essential Jacket",
          "Google F/C Longsleeve Ash",
          "Google Charcoal Unisex Badge Tee",
          "Google Ladies Expedition Half Zip",
          "Google Sunglasses",
          "Google Women's Puffer Vest",
          "Google Cloud Journal",
          "Google Black Cloud Zip Hoodie",
          "Google Cloud Unisex Onyx Zip Hoodie",
          "Google Crew Socks",
          "Google Etched Tumbler Sand",
          "Google Tonal Blue Eco Tee",
          "Google Vintage Pullover Olive",
          "Google Badge Heavyweight Pullover Black",
          "Google Black Cloud Polo",
          "Google Gray French Terry Zip Hoodie",
          "Google Navy French Terry Zip Hoodie",
          "Google Perk Thermal Tumbler",
          "Google Navy Polo",
          "Google TYCTWD Blue Tee",
          "Google Unisex 3/4 Raglan Red",
          "Google Campus Bike",
          "Google Youth F/C Pullover Hoodie",
          "Google Large Tote White",
          "Google Bike Food Container",
          "Super G Unisex Joggers",
          "Google Vintage Navy Tee",
          "Google Toddler Hero Tee Black",
          "Android Large Trace Journal Black",
          "Google Blue Stojo Cup",
          "Google Felt Luggage Tag",
          "Chrome Dino Dark Mode Collectible",
          "Google Campus Puzzle",
          "Google Camp Mug Ivory",
          "Google Campus Bike Bottle",
          "Google Sea Glass Bottle",
          "Google Unisex V-neck Tee",
          "Google Green Corkbase Mug",
          "YouTube Twill Sandwich Cap Black",
          "Google Bear Baby Blanket Beige",
          "Google Canteen Bottle Black",
          "Google Classic White Onesie",
          "Google Speckled Mug",
          "Google Bike Socks"
         ],
         "xaxis": "x",
         "y": [
          13,
          20,
          7,
          7,
          16,
          7,
          3,
          10,
          13,
          3,
          82,
          3,
          13,
          3,
          3,
          13,
          7,
          7,
          3,
          3,
          3,
          3,
          3,
          7,
          3,
          7,
          7,
          3,
          3,
          10,
          3,
          3,
          3,
          7,
          13,
          3,
          13,
          3,
          3,
          7,
          3,
          3,
          3,
          3,
          7,
          3,
          3,
          3,
          7,
          3
         ],
         "yaxis": "y"
        }
       ],
       "layout": {
        "barmode": "relative",
        "legend": {
         "tracegroupgap": 0
        },
        "margin": {
         "t": 60
        },
        "template": {
         "data": {
          "bar": [
           {
            "error_x": {
             "color": "#2a3f5f"
            },
            "error_y": {
             "color": "#2a3f5f"
            },
            "marker": {
             "line": {
              "color": "#E5ECF6",
              "width": 0.5
             },
             "pattern": {
              "fillmode": "overlay",
              "size": 10,
              "solidity": 0.2
             }
            },
            "type": "bar"
           }
          ],
          "barpolar": [
           {
            "marker": {
             "line": {
              "color": "#E5ECF6",
              "width": 0.5
             },
             "pattern": {
              "fillmode": "overlay",
              "size": 10,
              "solidity": 0.2
             }
            },
            "type": "barpolar"
           }
          ],
          "carpet": [
           {
            "aaxis": {
             "endlinecolor": "#2a3f5f",
             "gridcolor": "white",
             "linecolor": "white",
             "minorgridcolor": "white",
             "startlinecolor": "#2a3f5f"
            },
            "baxis": {
             "endlinecolor": "#2a3f5f",
             "gridcolor": "white",
             "linecolor": "white",
             "minorgridcolor": "white",
             "startlinecolor": "#2a3f5f"
            },
            "type": "carpet"
           }
          ],
          "choropleth": [
           {
            "colorbar": {
             "outlinewidth": 0,
             "ticks": ""
            },
            "type": "choropleth"
           }
          ],
          "contour": [
           {
            "colorbar": {
             "outlinewidth": 0,
             "ticks": ""
            },
            "colorscale": [
             [
              0,
              "#0d0887"
             ],
             [
              0.1111111111111111,
              "#46039f"
             ],
             [
              0.2222222222222222,
              "#7201a8"
             ],
             [
              0.3333333333333333,
              "#9c179e"
             ],
             [
              0.4444444444444444,
              "#bd3786"
             ],
             [
              0.5555555555555556,
              "#d8576b"
             ],
             [
              0.6666666666666666,
              "#ed7953"
             ],
             [
              0.7777777777777778,
              "#fb9f3a"
             ],
             [
              0.8888888888888888,
              "#fdca26"
             ],
             [
              1,
              "#f0f921"
             ]
            ],
            "type": "contour"
           }
          ],
          "contourcarpet": [
           {
            "colorbar": {
             "outlinewidth": 0,
             "ticks": ""
            },
            "type": "contourcarpet"
           }
          ],
          "heatmap": [
           {
            "colorbar": {
             "outlinewidth": 0,
             "ticks": ""
            },
            "colorscale": [
             [
              0,
              "#0d0887"
             ],
             [
              0.1111111111111111,
              "#46039f"
             ],
             [
              0.2222222222222222,
              "#7201a8"
             ],
             [
              0.3333333333333333,
              "#9c179e"
             ],
             [
              0.4444444444444444,
              "#bd3786"
             ],
             [
              0.5555555555555556,
              "#d8576b"
             ],
             [
              0.6666666666666666,
              "#ed7953"
             ],
             [
              0.7777777777777778,
              "#fb9f3a"
             ],
             [
              0.8888888888888888,
              "#fdca26"
             ],
             [
              1,
              "#f0f921"
             ]
            ],
            "type": "heatmap"
           }
          ],
          "heatmapgl": [
           {
            "colorbar": {
             "outlinewidth": 0,
             "ticks": ""
            },
            "colorscale": [
             [
              0,
              "#0d0887"
             ],
             [
              0.1111111111111111,
              "#46039f"
             ],
             [
              0.2222222222222222,
              "#7201a8"
             ],
             [
              0.3333333333333333,
              "#9c179e"
             ],
             [
              0.4444444444444444,
              "#bd3786"
             ],
             [
              0.5555555555555556,
              "#d8576b"
             ],
             [
              0.6666666666666666,
              "#ed7953"
             ],
             [
              0.7777777777777778,
              "#fb9f3a"
             ],
             [
              0.8888888888888888,
              "#fdca26"
             ],
             [
              1,
              "#f0f921"
             ]
            ],
            "type": "heatmapgl"
           }
          ],
          "histogram": [
           {
            "marker": {
             "pattern": {
              "fillmode": "overlay",
              "size": 10,
              "solidity": 0.2
             }
            },
            "type": "histogram"
           }
          ],
          "histogram2d": [
           {
            "colorbar": {
             "outlinewidth": 0,
             "ticks": ""
            },
            "colorscale": [
             [
              0,
              "#0d0887"
             ],
             [
              0.1111111111111111,
              "#46039f"
             ],
             [
              0.2222222222222222,
              "#7201a8"
             ],
             [
              0.3333333333333333,
              "#9c179e"
             ],
             [
              0.4444444444444444,
              "#bd3786"
             ],
             [
              0.5555555555555556,
              "#d8576b"
             ],
             [
              0.6666666666666666,
              "#ed7953"
             ],
             [
              0.7777777777777778,
              "#fb9f3a"
             ],
             [
              0.8888888888888888,
              "#fdca26"
             ],
             [
              1,
              "#f0f921"
             ]
            ],
            "type": "histogram2d"
           }
          ],
          "histogram2dcontour": [
           {
            "colorbar": {
             "outlinewidth": 0,
             "ticks": ""
            },
            "colorscale": [
             [
              0,
              "#0d0887"
             ],
             [
              0.1111111111111111,
              "#46039f"
             ],
             [
              0.2222222222222222,
              "#7201a8"
             ],
             [
              0.3333333333333333,
              "#9c179e"
             ],
             [
              0.4444444444444444,
              "#bd3786"
             ],
             [
              0.5555555555555556,
              "#d8576b"
             ],
             [
              0.6666666666666666,
              "#ed7953"
             ],
             [
              0.7777777777777778,
              "#fb9f3a"
             ],
             [
              0.8888888888888888,
              "#fdca26"
             ],
             [
              1,
              "#f0f921"
             ]
            ],
            "type": "histogram2dcontour"
           }
          ],
          "mesh3d": [
           {
            "colorbar": {
             "outlinewidth": 0,
             "ticks": ""
            },
            "type": "mesh3d"
           }
          ],
          "parcoords": [
           {
            "line": {
             "colorbar": {
              "outlinewidth": 0,
              "ticks": ""
             }
            },
            "type": "parcoords"
           }
          ],
          "pie": [
           {
            "automargin": true,
            "type": "pie"
           }
          ],
          "scatter": [
           {
            "fillpattern": {
             "fillmode": "overlay",
             "size": 10,
             "solidity": 0.2
            },
            "type": "scatter"
           }
          ],
          "scatter3d": [
           {
            "line": {
             "colorbar": {
              "outlinewidth": 0,
              "ticks": ""
             }
            },
            "marker": {
             "colorbar": {
              "outlinewidth": 0,
              "ticks": ""
             }
            },
            "type": "scatter3d"
           }
          ],
          "scattercarpet": [
           {
            "marker": {
             "colorbar": {
              "outlinewidth": 0,
              "ticks": ""
             }
            },
            "type": "scattercarpet"
           }
          ],
          "scattergeo": [
           {
            "marker": {
             "colorbar": {
              "outlinewidth": 0,
              "ticks": ""
             }
            },
            "type": "scattergeo"
           }
          ],
          "scattergl": [
           {
            "marker": {
             "colorbar": {
              "outlinewidth": 0,
              "ticks": ""
             }
            },
            "type": "scattergl"
           }
          ],
          "scattermapbox": [
           {
            "marker": {
             "colorbar": {
              "outlinewidth": 0,
              "ticks": ""
             }
            },
            "type": "scattermapbox"
           }
          ],
          "scatterpolar": [
           {
            "marker": {
             "colorbar": {
              "outlinewidth": 0,
              "ticks": ""
             }
            },
            "type": "scatterpolar"
           }
          ],
          "scatterpolargl": [
           {
            "marker": {
             "colorbar": {
              "outlinewidth": 0,
              "ticks": ""
             }
            },
            "type": "scatterpolargl"
           }
          ],
          "scatterternary": [
           {
            "marker": {
             "colorbar": {
              "outlinewidth": 0,
              "ticks": ""
             }
            },
            "type": "scatterternary"
           }
          ],
          "surface": [
           {
            "colorbar": {
             "outlinewidth": 0,
             "ticks": ""
            },
            "colorscale": [
             [
              0,
              "#0d0887"
             ],
             [
              0.1111111111111111,
              "#46039f"
             ],
             [
              0.2222222222222222,
              "#7201a8"
             ],
             [
              0.3333333333333333,
              "#9c179e"
             ],
             [
              0.4444444444444444,
              "#bd3786"
             ],
             [
              0.5555555555555556,
              "#d8576b"
             ],
             [
              0.6666666666666666,
              "#ed7953"
             ],
             [
              0.7777777777777778,
              "#fb9f3a"
             ],
             [
              0.8888888888888888,
              "#fdca26"
             ],
             [
              1,
              "#f0f921"
             ]
            ],
            "type": "surface"
           }
          ],
          "table": [
           {
            "cells": {
             "fill": {
              "color": "#EBF0F8"
             },
             "line": {
              "color": "white"
             }
            },
            "header": {
             "fill": {
              "color": "#C8D4E3"
             },
             "line": {
              "color": "white"
             }
            },
            "type": "table"
           }
          ]
         },
         "layout": {
          "annotationdefaults": {
           "arrowcolor": "#2a3f5f",
           "arrowhead": 0,
           "arrowwidth": 1
          },
          "autotypenumbers": "strict",
          "coloraxis": {
           "colorbar": {
            "outlinewidth": 0,
            "ticks": ""
           }
          },
          "colorscale": {
           "diverging": [
            [
             0,
             "#8e0152"
            ],
            [
             0.1,
             "#c51b7d"
            ],
            [
             0.2,
             "#de77ae"
            ],
            [
             0.3,
             "#f1b6da"
            ],
            [
             0.4,
             "#fde0ef"
            ],
            [
             0.5,
             "#f7f7f7"
            ],
            [
             0.6,
             "#e6f5d0"
            ],
            [
             0.7,
             "#b8e186"
            ],
            [
             0.8,
             "#7fbc41"
            ],
            [
             0.9,
             "#4d9221"
            ],
            [
             1,
             "#276419"
            ]
           ],
           "sequential": [
            [
             0,
             "#0d0887"
            ],
            [
             0.1111111111111111,
             "#46039f"
            ],
            [
             0.2222222222222222,
             "#7201a8"
            ],
            [
             0.3333333333333333,
             "#9c179e"
            ],
            [
             0.4444444444444444,
             "#bd3786"
            ],
            [
             0.5555555555555556,
             "#d8576b"
            ],
            [
             0.6666666666666666,
             "#ed7953"
            ],
            [
             0.7777777777777778,
             "#fb9f3a"
            ],
            [
             0.8888888888888888,
             "#fdca26"
            ],
            [
             1,
             "#f0f921"
            ]
           ],
           "sequentialminus": [
            [
             0,
             "#0d0887"
            ],
            [
             0.1111111111111111,
             "#46039f"
            ],
            [
             0.2222222222222222,
             "#7201a8"
            ],
            [
             0.3333333333333333,
             "#9c179e"
            ],
            [
             0.4444444444444444,
             "#bd3786"
            ],
            [
             0.5555555555555556,
             "#d8576b"
            ],
            [
             0.6666666666666666,
             "#ed7953"
            ],
            [
             0.7777777777777778,
             "#fb9f3a"
            ],
            [
             0.8888888888888888,
             "#fdca26"
            ],
            [
             1,
             "#f0f921"
            ]
           ]
          },
          "colorway": [
           "#636efa",
           "#EF553B",
           "#00cc96",
           "#ab63fa",
           "#FFA15A",
           "#19d3f3",
           "#FF6692",
           "#B6E880",
           "#FF97FF",
           "#FECB52"
          ],
          "font": {
           "color": "#2a3f5f"
          },
          "geo": {
           "bgcolor": "white",
           "lakecolor": "white",
           "landcolor": "#E5ECF6",
           "showlakes": true,
           "showland": true,
           "subunitcolor": "white"
          },
          "hoverlabel": {
           "align": "left"
          },
          "hovermode": "closest",
          "mapbox": {
           "style": "light"
          },
          "paper_bgcolor": "white",
          "plot_bgcolor": "#E5ECF6",
          "polar": {
           "angularaxis": {
            "gridcolor": "white",
            "linecolor": "white",
            "ticks": ""
           },
           "bgcolor": "#E5ECF6",
           "radialaxis": {
            "gridcolor": "white",
            "linecolor": "white",
            "ticks": ""
           }
          },
          "scene": {
           "xaxis": {
            "backgroundcolor": "#E5ECF6",
            "gridcolor": "white",
            "gridwidth": 2,
            "linecolor": "white",
            "showbackground": true,
            "ticks": "",
            "zerolinecolor": "white"
           },
           "yaxis": {
            "backgroundcolor": "#E5ECF6",
            "gridcolor": "white",
            "gridwidth": 2,
            "linecolor": "white",
            "showbackground": true,
            "ticks": "",
            "zerolinecolor": "white"
           },
           "zaxis": {
            "backgroundcolor": "#E5ECF6",
            "gridcolor": "white",
            "gridwidth": 2,
            "linecolor": "white",
            "showbackground": true,
            "ticks": "",
            "zerolinecolor": "white"
           }
          },
          "shapedefaults": {
           "line": {
            "color": "#2a3f5f"
           }
          },
          "ternary": {
           "aaxis": {
            "gridcolor": "white",
            "linecolor": "white",
            "ticks": ""
           },
           "baxis": {
            "gridcolor": "white",
            "linecolor": "white",
            "ticks": ""
           },
           "bgcolor": "#E5ECF6",
           "caxis": {
            "gridcolor": "white",
            "linecolor": "white",
            "ticks": ""
           }
          },
          "title": {
           "x": 0.05
          },
          "xaxis": {
           "automargin": true,
           "gridcolor": "white",
           "linecolor": "white",
           "ticks": "",
           "title": {
            "standoff": 15
           },
           "zerolinecolor": "white",
           "zerolinewidth": 2
          },
          "yaxis": {
           "automargin": true,
           "gridcolor": "white",
           "linecolor": "white",
           "ticks": "",
           "title": {
            "standoff": 15
           },
           "zerolinecolor": "white",
           "zerolinewidth": 2
          }
         }
        },
        "xaxis": {
         "anchor": "y",
         "domain": [
          0,
          1
         ],
         "title": {
          "text": "Product"
         }
        },
        "yaxis": {
         "anchor": "x",
         "domain": [
          0,
          1
         ],
         "title": {
          "text": "sum of Quantity"
         }
        }
       }
      },
      "text/html": [
       "<div>                            <div id=\"45a7136a-f665-43c2-9857-707d66370975\" class=\"plotly-graph-div\" style=\"height:525px; width:100%;\"></div>            <script type=\"text/javascript\">                require([\"plotly\"], function(Plotly) {                    window.PLOTLYENV=window.PLOTLYENV || {};                                    if (document.getElementById(\"45a7136a-f665-43c2-9857-707d66370975\")) {                    Plotly.newPlot(                        \"45a7136a-f665-43c2-9857-707d66370975\",                        [{\"alignmentgroup\":\"True\",\"bingroup\":\"x\",\"histfunc\":\"sum\",\"hovertemplate\":\"Product=%{x}<br>sum of Quantity=%{y}<extra></extra>\",\"legendgroup\":\"\",\"marker\":{\"color\":\"#636efa\",\"pattern\":{\"shape\":\"\"}},\"name\":\"\",\"offsetgroup\":\"\",\"orientation\":\"v\",\"showlegend\":false,\"x\":[\"Google Camp Fleece Snap Pullover\",\"Google Land & Sea Nalgene Water Bottle\",\"Google Knit Blanket\",\"YouTube Black Zip Hoodie\",\"Google Women's Eco Tee Black\",\"Google Ultralight Gray Sweatshirt\",\"Google Women's Essential Jacket\",\"Google F/C Longsleeve Ash\",\"Google Charcoal Unisex Badge Tee\",\"Google Ladies Expedition Half Zip\",\"Google Sunglasses\",\"Google Women's Puffer Vest\",\"Google Cloud Journal\",\"Google Black Cloud Zip Hoodie\",\"Google Cloud Unisex Onyx Zip Hoodie\",\"Google Crew Socks\",\"Google Etched Tumbler Sand\",\"Google Tonal Blue Eco Tee\",\"Google Vintage Pullover Olive\",\"Google Badge Heavyweight Pullover Black\",\"Google Black Cloud Polo\",\"Google Gray French Terry Zip Hoodie\",\"Google Navy French Terry Zip Hoodie\",\"Google Perk Thermal Tumbler\",\"Google Navy Polo\",\"Google TYCTWD Blue Tee\",\"Google Unisex 3/4 Raglan Red\",\"Google Campus Bike\",\"Google Youth F/C Pullover Hoodie\",\"Google Large Tote White\",\"Google Bike Food Container\",\"Super G Unisex Joggers\",\"Google Vintage Navy Tee\",\"Google Toddler Hero Tee Black\",\"Android Large Trace Journal Black\",\"Google Blue Stojo Cup\",\"Google Felt Luggage Tag\",\"Chrome Dino Dark Mode Collectible\",\"Google Campus Puzzle\",\"Google Camp Mug Ivory\",\"Google Campus Bike Bottle\",\"Google Sea Glass Bottle\",\"Google Unisex V-neck Tee\",\"Google Green Corkbase Mug\",\"YouTube Twill Sandwich Cap Black\",\"Google Bear Baby Blanket Beige\",\"Google Canteen Bottle Black\",\"Google Classic White Onesie\",\"Google Speckled Mug\",\"Google Bike Socks\"],\"xaxis\":\"x\",\"y\":[13,20,7,7,16,7,3,10,13,3,82,3,13,3,3,13,7,7,3,3,3,3,3,7,3,7,7,3,3,10,3,3,3,7,13,3,13,3,3,7,3,3,3,3,7,3,3,3,7,3],\"yaxis\":\"y\",\"type\":\"histogram\"}],                        {\"template\":{\"data\":{\"histogram2dcontour\":[{\"type\":\"histogram2dcontour\",\"colorbar\":{\"outlinewidth\":0,\"ticks\":\"\"},\"colorscale\":[[0.0,\"#0d0887\"],[0.1111111111111111,\"#46039f\"],[0.2222222222222222,\"#7201a8\"],[0.3333333333333333,\"#9c179e\"],[0.4444444444444444,\"#bd3786\"],[0.5555555555555556,\"#d8576b\"],[0.6666666666666666,\"#ed7953\"],[0.7777777777777778,\"#fb9f3a\"],[0.8888888888888888,\"#fdca26\"],[1.0,\"#f0f921\"]]}],\"choropleth\":[{\"type\":\"choropleth\",\"colorbar\":{\"outlinewidth\":0,\"ticks\":\"\"}}],\"histogram2d\":[{\"type\":\"histogram2d\",\"colorbar\":{\"outlinewidth\":0,\"ticks\":\"\"},\"colorscale\":[[0.0,\"#0d0887\"],[0.1111111111111111,\"#46039f\"],[0.2222222222222222,\"#7201a8\"],[0.3333333333333333,\"#9c179e\"],[0.4444444444444444,\"#bd3786\"],[0.5555555555555556,\"#d8576b\"],[0.6666666666666666,\"#ed7953\"],[0.7777777777777778,\"#fb9f3a\"],[0.8888888888888888,\"#fdca26\"],[1.0,\"#f0f921\"]]}],\"heatmap\":[{\"type\":\"heatmap\",\"colorbar\":{\"outlinewidth\":0,\"ticks\":\"\"},\"colorscale\":[[0.0,\"#0d0887\"],[0.1111111111111111,\"#46039f\"],[0.2222222222222222,\"#7201a8\"],[0.3333333333333333,\"#9c179e\"],[0.4444444444444444,\"#bd3786\"],[0.5555555555555556,\"#d8576b\"],[0.6666666666666666,\"#ed7953\"],[0.7777777777777778,\"#fb9f3a\"],[0.8888888888888888,\"#fdca26\"],[1.0,\"#f0f921\"]]}],\"heatmapgl\":[{\"type\":\"heatmapgl\",\"colorbar\":{\"outlinewidth\":0,\"ticks\":\"\"},\"colorscale\":[[0.0,\"#0d0887\"],[0.1111111111111111,\"#46039f\"],[0.2222222222222222,\"#7201a8\"],[0.3333333333333333,\"#9c179e\"],[0.4444444444444444,\"#bd3786\"],[0.5555555555555556,\"#d8576b\"],[0.6666666666666666,\"#ed7953\"],[0.7777777777777778,\"#fb9f3a\"],[0.8888888888888888,\"#fdca26\"],[1.0,\"#f0f921\"]]}],\"contourcarpet\":[{\"type\":\"contourcarpet\",\"colorbar\":{\"outlinewidth\":0,\"ticks\":\"\"}}],\"contour\":[{\"type\":\"contour\",\"colorbar\":{\"outlinewidth\":0,\"ticks\":\"\"},\"colorscale\":[[0.0,\"#0d0887\"],[0.1111111111111111,\"#46039f\"],[0.2222222222222222,\"#7201a8\"],[0.3333333333333333,\"#9c179e\"],[0.4444444444444444,\"#bd3786\"],[0.5555555555555556,\"#d8576b\"],[0.6666666666666666,\"#ed7953\"],[0.7777777777777778,\"#fb9f3a\"],[0.8888888888888888,\"#fdca26\"],[1.0,\"#f0f921\"]]}],\"surface\":[{\"type\":\"surface\",\"colorbar\":{\"outlinewidth\":0,\"ticks\":\"\"},\"colorscale\":[[0.0,\"#0d0887\"],[0.1111111111111111,\"#46039f\"],[0.2222222222222222,\"#7201a8\"],[0.3333333333333333,\"#9c179e\"],[0.4444444444444444,\"#bd3786\"],[0.5555555555555556,\"#d8576b\"],[0.6666666666666666,\"#ed7953\"],[0.7777777777777778,\"#fb9f3a\"],[0.8888888888888888,\"#fdca26\"],[1.0,\"#f0f921\"]]}],\"mesh3d\":[{\"type\":\"mesh3d\",\"colorbar\":{\"outlinewidth\":0,\"ticks\":\"\"}}],\"scatter\":[{\"fillpattern\":{\"fillmode\":\"overlay\",\"size\":10,\"solidity\":0.2},\"type\":\"scatter\"}],\"parcoords\":[{\"type\":\"parcoords\",\"line\":{\"colorbar\":{\"outlinewidth\":0,\"ticks\":\"\"}}}],\"scatterpolargl\":[{\"type\":\"scatterpolargl\",\"marker\":{\"colorbar\":{\"outlinewidth\":0,\"ticks\":\"\"}}}],\"bar\":[{\"error_x\":{\"color\":\"#2a3f5f\"},\"error_y\":{\"color\":\"#2a3f5f\"},\"marker\":{\"line\":{\"color\":\"#E5ECF6\",\"width\":0.5},\"pattern\":{\"fillmode\":\"overlay\",\"size\":10,\"solidity\":0.2}},\"type\":\"bar\"}],\"scattergeo\":[{\"type\":\"scattergeo\",\"marker\":{\"colorbar\":{\"outlinewidth\":0,\"ticks\":\"\"}}}],\"scatterpolar\":[{\"type\":\"scatterpolar\",\"marker\":{\"colorbar\":{\"outlinewidth\":0,\"ticks\":\"\"}}}],\"histogram\":[{\"marker\":{\"pattern\":{\"fillmode\":\"overlay\",\"size\":10,\"solidity\":0.2}},\"type\":\"histogram\"}],\"scattergl\":[{\"type\":\"scattergl\",\"marker\":{\"colorbar\":{\"outlinewidth\":0,\"ticks\":\"\"}}}],\"scatter3d\":[{\"type\":\"scatter3d\",\"line\":{\"colorbar\":{\"outlinewidth\":0,\"ticks\":\"\"}},\"marker\":{\"colorbar\":{\"outlinewidth\":0,\"ticks\":\"\"}}}],\"scattermapbox\":[{\"type\":\"scattermapbox\",\"marker\":{\"colorbar\":{\"outlinewidth\":0,\"ticks\":\"\"}}}],\"scatterternary\":[{\"type\":\"scatterternary\",\"marker\":{\"colorbar\":{\"outlinewidth\":0,\"ticks\":\"\"}}}],\"scattercarpet\":[{\"type\":\"scattercarpet\",\"marker\":{\"colorbar\":{\"outlinewidth\":0,\"ticks\":\"\"}}}],\"carpet\":[{\"aaxis\":{\"endlinecolor\":\"#2a3f5f\",\"gridcolor\":\"white\",\"linecolor\":\"white\",\"minorgridcolor\":\"white\",\"startlinecolor\":\"#2a3f5f\"},\"baxis\":{\"endlinecolor\":\"#2a3f5f\",\"gridcolor\":\"white\",\"linecolor\":\"white\",\"minorgridcolor\":\"white\",\"startlinecolor\":\"#2a3f5f\"},\"type\":\"carpet\"}],\"table\":[{\"cells\":{\"fill\":{\"color\":\"#EBF0F8\"},\"line\":{\"color\":\"white\"}},\"header\":{\"fill\":{\"color\":\"#C8D4E3\"},\"line\":{\"color\":\"white\"}},\"type\":\"table\"}],\"barpolar\":[{\"marker\":{\"line\":{\"color\":\"#E5ECF6\",\"width\":0.5},\"pattern\":{\"fillmode\":\"overlay\",\"size\":10,\"solidity\":0.2}},\"type\":\"barpolar\"}],\"pie\":[{\"automargin\":true,\"type\":\"pie\"}]},\"layout\":{\"autotypenumbers\":\"strict\",\"colorway\":[\"#636efa\",\"#EF553B\",\"#00cc96\",\"#ab63fa\",\"#FFA15A\",\"#19d3f3\",\"#FF6692\",\"#B6E880\",\"#FF97FF\",\"#FECB52\"],\"font\":{\"color\":\"#2a3f5f\"},\"hovermode\":\"closest\",\"hoverlabel\":{\"align\":\"left\"},\"paper_bgcolor\":\"white\",\"plot_bgcolor\":\"#E5ECF6\",\"polar\":{\"bgcolor\":\"#E5ECF6\",\"angularaxis\":{\"gridcolor\":\"white\",\"linecolor\":\"white\",\"ticks\":\"\"},\"radialaxis\":{\"gridcolor\":\"white\",\"linecolor\":\"white\",\"ticks\":\"\"}},\"ternary\":{\"bgcolor\":\"#E5ECF6\",\"aaxis\":{\"gridcolor\":\"white\",\"linecolor\":\"white\",\"ticks\":\"\"},\"baxis\":{\"gridcolor\":\"white\",\"linecolor\":\"white\",\"ticks\":\"\"},\"caxis\":{\"gridcolor\":\"white\",\"linecolor\":\"white\",\"ticks\":\"\"}},\"coloraxis\":{\"colorbar\":{\"outlinewidth\":0,\"ticks\":\"\"}},\"colorscale\":{\"sequential\":[[0.0,\"#0d0887\"],[0.1111111111111111,\"#46039f\"],[0.2222222222222222,\"#7201a8\"],[0.3333333333333333,\"#9c179e\"],[0.4444444444444444,\"#bd3786\"],[0.5555555555555556,\"#d8576b\"],[0.6666666666666666,\"#ed7953\"],[0.7777777777777778,\"#fb9f3a\"],[0.8888888888888888,\"#fdca26\"],[1.0,\"#f0f921\"]],\"sequentialminus\":[[0.0,\"#0d0887\"],[0.1111111111111111,\"#46039f\"],[0.2222222222222222,\"#7201a8\"],[0.3333333333333333,\"#9c179e\"],[0.4444444444444444,\"#bd3786\"],[0.5555555555555556,\"#d8576b\"],[0.6666666666666666,\"#ed7953\"],[0.7777777777777778,\"#fb9f3a\"],[0.8888888888888888,\"#fdca26\"],[1.0,\"#f0f921\"]],\"diverging\":[[0,\"#8e0152\"],[0.1,\"#c51b7d\"],[0.2,\"#de77ae\"],[0.3,\"#f1b6da\"],[0.4,\"#fde0ef\"],[0.5,\"#f7f7f7\"],[0.6,\"#e6f5d0\"],[0.7,\"#b8e186\"],[0.8,\"#7fbc41\"],[0.9,\"#4d9221\"],[1,\"#276419\"]]},\"xaxis\":{\"gridcolor\":\"white\",\"linecolor\":\"white\",\"ticks\":\"\",\"title\":{\"standoff\":15},\"zerolinecolor\":\"white\",\"automargin\":true,\"zerolinewidth\":2},\"yaxis\":{\"gridcolor\":\"white\",\"linecolor\":\"white\",\"ticks\":\"\",\"title\":{\"standoff\":15},\"zerolinecolor\":\"white\",\"automargin\":true,\"zerolinewidth\":2},\"scene\":{\"xaxis\":{\"backgroundcolor\":\"#E5ECF6\",\"gridcolor\":\"white\",\"linecolor\":\"white\",\"showbackground\":true,\"ticks\":\"\",\"zerolinecolor\":\"white\",\"gridwidth\":2},\"yaxis\":{\"backgroundcolor\":\"#E5ECF6\",\"gridcolor\":\"white\",\"linecolor\":\"white\",\"showbackground\":true,\"ticks\":\"\",\"zerolinecolor\":\"white\",\"gridwidth\":2},\"zaxis\":{\"backgroundcolor\":\"#E5ECF6\",\"gridcolor\":\"white\",\"linecolor\":\"white\",\"showbackground\":true,\"ticks\":\"\",\"zerolinecolor\":\"white\",\"gridwidth\":2}},\"shapedefaults\":{\"line\":{\"color\":\"#2a3f5f\"}},\"annotationdefaults\":{\"arrowcolor\":\"#2a3f5f\",\"arrowhead\":0,\"arrowwidth\":1},\"geo\":{\"bgcolor\":\"white\",\"landcolor\":\"#E5ECF6\",\"subunitcolor\":\"white\",\"showland\":true,\"showlakes\":true,\"lakecolor\":\"white\"},\"title\":{\"x\":0.05},\"mapbox\":{\"style\":\"light\"}}},\"xaxis\":{\"anchor\":\"y\",\"domain\":[0.0,1.0],\"title\":{\"text\":\"Product\"}},\"yaxis\":{\"anchor\":\"x\",\"domain\":[0.0,1.0],\"title\":{\"text\":\"sum of Quantity\"}},\"legend\":{\"tracegroupgap\":0},\"margin\":{\"t\":60},\"barmode\":\"relative\"},                        {\"responsive\": true}                    ).then(function(){\n",
       "                            \n",
       "var gd = document.getElementById('45a7136a-f665-43c2-9857-707d66370975');\n",
       "var x = new MutationObserver(function (mutations, observer) {{\n",
       "        var display = window.getComputedStyle(gd).display;\n",
       "        if (!display || display === 'none') {{\n",
       "            console.log([gd, 'removed!']);\n",
       "            Plotly.purge(gd);\n",
       "            observer.disconnect();\n",
       "        }}\n",
       "}});\n",
       "\n",
       "// Listen for the removal of the full notebook cells\n",
       "var notebookContainer = gd.closest('#notebook-container');\n",
       "if (notebookContainer) {{\n",
       "    x.observe(notebookContainer, {childList: true});\n",
       "}}\n",
       "\n",
       "// Listen for the clearing of the current output cell\n",
       "var outputEl = gd.closest('.output');\n",
       "if (outputEl) {{\n",
       "    x.observe(outputEl, {childList: true});\n",
       "}}\n",
       "\n",
       "                        })                };                });            </script>        </div>"
      ]
     },
     "metadata": {},
     "output_type": "display_data"
    }
   ],
   "source": [
    "## Now we plot our values to see how many of our products are really making a difference\n",
    "fig_products_rev = px.histogram(df2_light, x = df2_light[\"Product\"], y = df2_light[\"Product Revenue\"])\n",
    "fig_products_rev.show()\n",
    "fig_products_quant = px.histogram(df2_light, x = df2_light[\"Product\"], y = df2_light[\"Quantity\"])\n",
    "fig_products_quant.show()"
   ]
  },
  {
   "cell_type": "code",
   "execution_count": null,
   "id": "32d48255",
   "metadata": {},
   "outputs": [],
   "source": []
  }
 ],
 "metadata": {
  "kernelspec": {
   "display_name": "Python 3 (ipykernel)",
   "language": "python",
   "name": "python3"
  },
  "language_info": {
   "codemirror_mode": {
    "name": "ipython",
    "version": 3
   },
   "file_extension": ".py",
   "mimetype": "text/x-python",
   "name": "python",
   "nbconvert_exporter": "python",
   "pygments_lexer": "ipython3",
   "version": "3.9.7"
  }
 },
 "nbformat": 4,
 "nbformat_minor": 5
}
